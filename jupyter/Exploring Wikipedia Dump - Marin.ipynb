{
 "cells": [
  {
   "cell_type": "code",
   "execution_count": 1,
   "metadata": {},
   "outputs": [],
   "source": [
    "import os\n",
    "os.chdir(\"..\")"
   ]
  },
  {
   "cell_type": "code",
   "execution_count": 2,
   "metadata": {},
   "outputs": [],
   "source": [
    "from collections import Counter\n",
    "from os import listdir\n",
    "from classes.wiki_article import WikiArticle\n",
    "from util.wiki_util import *\n",
    "from classes.constants import wiki_dump_folder_path"
   ]
  },
  {
   "cell_type": "code",
   "execution_count": null,
   "metadata": {},
   "outputs": [],
   "source": []
  },
  {
   "cell_type": "code",
   "execution_count": 3,
   "metadata": {},
   "outputs": [
    {
     "name": "stderr",
     "output_type": "stream",
     "text": [
      "100%|██████████| 109/109 [13:33<00:00,  8.12s/it]\n"
     ]
    }
   ],
   "source": [
    "pickle_wiki_dump()"
   ]
  },
  {
   "cell_type": "code",
   "execution_count": null,
   "metadata": {},
   "outputs": [],
   "source": []
  },
  {
   "cell_type": "code",
   "execution_count": 3,
   "metadata": {},
   "outputs": [
    {
     "data": {
      "text/plain": [
       "109"
      ]
     },
     "execution_count": 3,
     "metadata": {},
     "output_type": "execute_result"
    }
   ],
   "source": [
    "len(listdir(wiki_dump_folder_path))"
   ]
  },
  {
   "cell_type": "code",
   "execution_count": 3,
   "metadata": {},
   "outputs": [],
   "source": [
    "messi = find_wiki_article(\"Keanu_Reeves\")"
   ]
  },
  {
   "cell_type": "code",
   "execution_count": 4,
   "metadata": {},
   "outputs": [
    {
     "data": {
      "text/plain": [
       "Wiki article: Keanu Reeves"
      ]
     },
     "execution_count": 4,
     "metadata": {},
     "output_type": "execute_result"
    }
   ],
   "source": [
    "messi"
   ]
  },
  {
   "cell_type": "code",
   "execution_count": 5,
   "metadata": {},
   "outputs": [
    {
     "data": {
      "text/plain": [
       "{0: 'Keanu Charles Reeves ( [ kiːˈɑːnuː ] ; born September 2 , 1964 ) is a Canadian actor , director , producer , and musician .',\n",
       " 3: 'Reeves is best known for his acting career , beginning in 1985 and spanning more than three decades .',\n",
       " 4: \"He gained fame for his starring role performances in several blockbuster films including comedies from the Bill and Ted franchise ( 1989 -- 1991 ) ; action thrillers Point Break ( 1991 ) , Speed ( 1994 ) , and the John Wick franchise ; psychological thriller The Devil 's Advocate ( 1997 ) ; supernatural thriller Constantine ( 2005 ) ; and science fiction/action series The Matrix ( 1999 -- 2003 ) .\",\n",
       " 5: \"He has also appeared in dramatic films such as Dangerous Liaisons ( 1988 ) , My Own Private Idaho ( 1991 ) , and Little Buddha ( 1993 ) , as well as the romantic horror Bram Stoker 's Dracula ( 1992 ) .\",\n",
       " 8: 'Since becoming active in the film industry , Reeves has earned critical acclaim .',\n",
       " 9: \"One New York Times critic praised Reeves ' versatility , saying that he `` displays considerable discipline and range ... he moves easily between the buttoned-down demeanor that suits a police procedural story and the loose-jointed manner of his comic roles '' .\",\n",
       " 10: 'However , Reeves has spent much of his later career being typecast .',\n",
       " 11: 'A recurring character arc in many roles he has portrayed is one of saving the world , as can be seen in the characters of Ted Logan , Buddha , Neo , Johnny Mnemonic , John Constantine , and Klaatu .',\n",
       " 12: 'His acting has garnered several awards , including a star on the Hollywood Walk of Fame .',\n",
       " 15: 'During his film career , Reeves has engaged in several forms of artistic expression .',\n",
       " 16: 'Active as a musician for over a decade , he played bass guitar for the bands Dogstar and Becky .',\n",
       " 17: \"Acting onstage , he performed as Prince Hamlet for the Manitoba Theatre Centre 's production of Hamlet .\",\n",
       " 18: 'He wrote the text for a picture book , Ode to Happiness , illustrated by Alexandra Grant .',\n",
       " 19: 'He has also produced a documentary , Side by Side , and directed the martial arts film Man of Tai Chi .'}"
      ]
     },
     "execution_count": 5,
     "metadata": {},
     "output_type": "execute_result"
    }
   ],
   "source": [
    "messi.lines_dict"
   ]
  },
  {
   "cell_type": "code",
   "execution_count": 6,
   "metadata": {},
   "outputs": [],
   "source": [
    "wiki = pickle_load(\"data/wiki-pickle/wiki-001.pkl\")"
   ]
  },
  {
   "cell_type": "code",
   "execution_count": 7,
   "metadata": {},
   "outputs": [
    {
     "data": {
      "text/plain": [
       "Wiki article: 1928 in association football"
      ]
     },
     "execution_count": 7,
     "metadata": {},
     "output_type": "execute_result"
    }
   ],
   "source": [
    "wiki[0]"
   ]
  }
 ],
 "metadata": {
  "kernelspec": {
   "display_name": "Python 3",
   "language": "python",
   "name": "python3"
  },
  "language_info": {
   "codemirror_mode": {
    "name": "ipython",
    "version": 3
   },
   "file_extension": ".py",
   "mimetype": "text/x-python",
   "name": "python",
   "nbconvert_exporter": "python",
   "pygments_lexer": "ipython3",
   "version": "3.7.2"
  }
 },
 "nbformat": 4,
 "nbformat_minor": 2
}
