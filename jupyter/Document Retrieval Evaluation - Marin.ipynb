{
 "cells": [
  {
   "cell_type": "code",
   "execution_count": 1,
   "metadata": {},
   "outputs": [],
   "source": [
    "import os\n",
    "os.chdir(\"..\")"
   ]
  },
  {
   "cell_type": "code",
   "execution_count": 2,
   "metadata": {},
   "outputs": [],
   "source": [
    "from classes.constants import *\n",
    "from classes.claim import Claim\n",
    "from util.claim_util import *\n",
    "from util.undefined_util import *\n",
    "from util.evaluate_util import *"
   ]
  },
  {
   "cell_type": "code",
   "execution_count": 3,
   "metadata": {},
   "outputs": [],
   "source": [
    "train = load_claims_train()"
   ]
  },
  {
   "cell_type": "code",
   "execution_count": 4,
   "metadata": {},
   "outputs": [],
   "source": [
    "t = train[0]"
   ]
  },
  {
   "cell_type": "code",
   "execution_count": 5,
   "metadata": {},
   "outputs": [
    {
     "data": {
      "text/plain": [
       "SUPPORTS: Nikolaj Coster-Waldau worked with the Fox Broadcasting Company."
      ]
     },
     "execution_count": 5,
     "metadata": {},
     "output_type": "execute_result"
    }
   ],
   "source": [
    "t"
   ]
  },
  {
   "cell_type": "code",
   "execution_count": 6,
   "metadata": {},
   "outputs": [],
   "source": [
    "claim = t.claim"
   ]
  },
  {
   "cell_type": "code",
   "execution_count": 7,
   "metadata": {},
   "outputs": [
    {
     "data": {
      "text/plain": [
       "{'Fox_Broadcasting_Company', 'Nikolaj_Coster-Waldau'}"
      ]
     },
     "execution_count": 7,
     "metadata": {},
     "output_type": "execute_result"
    }
   ],
   "source": [
    "t.all_evidence_documents()"
   ]
  },
  {
   "cell_type": "code",
   "execution_count": 8,
   "metadata": {},
   "outputs": [
    {
     "data": {
      "text/plain": [
       "[{'Fox_Broadcasting_Company', 'Nikolaj_Coster-Waldau'}]"
      ]
     },
     "execution_count": 8,
     "metadata": {},
     "output_type": "execute_result"
    }
   ],
   "source": [
    "t.evidence_document_sets()"
   ]
  },
  {
   "cell_type": "code",
   "execution_count": 9,
   "metadata": {},
   "outputs": [
    {
     "data": {
      "text/plain": [
       "{'precision': 1.0,\n",
       " 'recall': 0.5,\n",
       " 'f1_score': 0.6666666666666666,\n",
       " 'f2_score': 0.5555555555555556,\n",
       " 'true_positives': 1,\n",
       " 'false_positives': 0,\n",
       " 'false_negatives': 1,\n",
       " 'oracle_accuracy': 0}"
      ]
     },
     "execution_count": 9,
     "metadata": {},
     "output_type": "execute_result"
    }
   ],
   "source": [
    "evaluate_document_retrieval_full(t.evidence_document_sets(), {'Fox_Broadcasting_Company'})"
   ]
  },
  {
   "cell_type": "code",
   "execution_count": 10,
   "metadata": {},
   "outputs": [
    {
     "data": {
      "text/plain": [
       "{'precision': 1.0,\n",
       " 'recall': 1.0,\n",
       " 'f1_score': 1.0,\n",
       " 'f2_score': 1.0,\n",
       " 'true_positives': 2,\n",
       " 'false_positives': 0,\n",
       " 'false_negatives': 0,\n",
       " 'oracle_accuracy': 1}"
      ]
     },
     "execution_count": 10,
     "metadata": {},
     "output_type": "execute_result"
    }
   ],
   "source": [
    "evaluate_document_retrieval_full(t.evidence_document_sets(), {'Fox_Broadcasting_Company', 'Nikolaj_Coster-Waldau'})"
   ]
  },
  {
   "cell_type": "code",
   "execution_count": 11,
   "metadata": {},
   "outputs": [
    {
     "data": {
      "text/plain": [
       "{'precision': 0,\n",
       " 'recall': 0,\n",
       " 'f1_score': 0,\n",
       " 'f2_score': 0,\n",
       " 'true_positives': 0,\n",
       " 'false_positives': 0,\n",
       " 'false_negatives': 2,\n",
       " 'oracle_accuracy': 0}"
      ]
     },
     "execution_count": 11,
     "metadata": {},
     "output_type": "execute_result"
    }
   ],
   "source": [
    "evaluate_document_retrieval_full(t.evidence_document_sets(), set())"
   ]
  },
  {
   "cell_type": "code",
   "execution_count": 12,
   "metadata": {},
   "outputs": [
    {
     "data": {
      "text/plain": [
       "{'precision': 0.5,\n",
       " 'recall': 0.3333333333333333,\n",
       " 'f1_score': 0.4,\n",
       " 'f2_score': 0.3571428571428571,\n",
       " 'true_positives': 1,\n",
       " 'false_positives': 1,\n",
       " 'false_negatives': 2,\n",
       " 'oracle_accuracy': 0}"
      ]
     },
     "execution_count": 12,
     "metadata": {},
     "output_type": "execute_result"
    }
   ],
   "source": [
    "evaluate_document_retrieval_full([{'Monkey', \"Turtle\"}, {'King'}], {'Monkey', \"Parrot\"})"
   ]
  },
  {
   "cell_type": "code",
   "execution_count": 13,
   "metadata": {},
   "outputs": [
    {
     "data": {
      "text/plain": [
       "{'precision': 1.0,\n",
       " 'recall': 1.0,\n",
       " 'f1_score': 1.0,\n",
       " 'f2_score': 1.0,\n",
       " 'true_positives': 1,\n",
       " 'false_positives': 0,\n",
       " 'false_negatives': 0,\n",
       " 'oracle_accuracy': 1}"
      ]
     },
     "execution_count": 13,
     "metadata": {},
     "output_type": "execute_result"
    }
   ],
   "source": [
    "evaluate_document_retrieval_full([set(), {'Monkey'}], {'Monkey'})"
   ]
  },
  {
   "cell_type": "code",
   "execution_count": 14,
   "metadata": {},
   "outputs": [
    {
     "data": {
      "text/plain": [
       "{'precision': 0,\n",
       " 'recall': 0,\n",
       " 'f1_score': 0,\n",
       " 'f2_score': 0,\n",
       " 'true_positives': 0,\n",
       " 'false_positives': 2,\n",
       " 'false_negatives': 0,\n",
       " 'oracle_accuracy': 0}"
      ]
     },
     "execution_count": 14,
     "metadata": {},
     "output_type": "execute_result"
    }
   ],
   "source": [
    "evaluate_document_retrieval_full([set()], {'Fox_Broadcasting_Company', 'Nikolaj_Coster-Waldau'})"
   ]
  },
  {
   "cell_type": "code",
   "execution_count": 15,
   "metadata": {},
   "outputs": [
    {
     "data": {
      "text/plain": [
       "{'precision': 0.0,\n",
       " 'recall': 0.0,\n",
       " 'f1_score': 0.0,\n",
       " 'f2_score': 0.0,\n",
       " 'true_positives': 0,\n",
       " 'false_positives': 2,\n",
       " 'false_negatives': 1,\n",
       " 'oracle_accuracy': 0}"
      ]
     },
     "execution_count": 15,
     "metadata": {},
     "output_type": "execute_result"
    }
   ],
   "source": [
    "evaluate_document_retrieval_full([set(), {'Monkey'}], {'Fox_Broadcasting_Company', 'Nikolaj_Coster-Waldau'})"
   ]
  },
  {
   "cell_type": "code",
   "execution_count": 16,
   "metadata": {},
   "outputs": [
    {
     "data": {
      "text/plain": [
       "{'precision': 0,\n",
       " 'recall': 0,\n",
       " 'f1_score': 0,\n",
       " 'f2_score': 0,\n",
       " 'true_positives': 0,\n",
       " 'false_positives': 1,\n",
       " 'false_negatives': 0,\n",
       " 'oracle_accuracy': 0}"
      ]
     },
     "execution_count": 16,
     "metadata": {},
     "output_type": "execute_result"
    }
   ],
   "source": [
    "evaluate_document_retrieval_full([set(), set()], {\"Marin\"})"
   ]
  },
  {
   "cell_type": "code",
   "execution_count": 17,
   "metadata": {},
   "outputs": [
    {
     "data": {
      "text/plain": [
       "{'precision': 1,\n",
       " 'recall': 1,\n",
       " 'f1_score': 1,\n",
       " 'f2_score': 1,\n",
       " 'true_positives': 0,\n",
       " 'false_positives': 0,\n",
       " 'false_negatives': 0,\n",
       " 'oracle_accuracy': 1}"
      ]
     },
     "execution_count": 17,
     "metadata": {},
     "output_type": "execute_result"
    }
   ],
   "source": [
    "evaluate_document_retrieval_full([set()], set())"
   ]
  },
  {
   "cell_type": "code",
   "execution_count": 18,
   "metadata": {},
   "outputs": [
    {
     "data": {
      "text/plain": [
       "{'precision': 0.0,\n",
       " 'recall': 0.0,\n",
       " 'f1_score': 0.0,\n",
       " 'f2_score': 0.0,\n",
       " 'true_positives': 0,\n",
       " 'false_positives': 1,\n",
       " 'false_negatives': 2,\n",
       " 'oracle_accuracy': 0}"
      ]
     },
     "execution_count": 18,
     "metadata": {},
     "output_type": "execute_result"
    }
   ],
   "source": [
    "evaluate_document_retrieval_full(t.evidence_document_sets(), {'Bla bla'})"
   ]
  },
  {
   "cell_type": "code",
   "execution_count": 19,
   "metadata": {},
   "outputs": [
    {
     "data": {
      "text/plain": [
       "{'precision': 0.5,\n",
       " 'recall': 1.0,\n",
       " 'f1_score': 0.6666666666666666,\n",
       " 'f2_score': 0.8333333333333334,\n",
       " 'true_positives': 2,\n",
       " 'false_positives': 2,\n",
       " 'false_negatives': 0,\n",
       " 'oracle_accuracy': 1}"
      ]
     },
     "execution_count": 19,
     "metadata": {},
     "output_type": "execute_result"
    }
   ],
   "source": [
    "evaluate_document_retrieval_full(\n",
    "    t.evidence_document_sets(),\n",
    "    {'Fox_Broadcasting_Company', 'Nikolaj_Coster-Waldau', 'bla bla', 'ble ble'}\n",
    ")"
   ]
  },
  {
   "cell_type": "code",
   "execution_count": null,
   "metadata": {},
   "outputs": [],
   "source": []
  },
  {
   "cell_type": "code",
   "execution_count": 20,
   "metadata": {},
   "outputs": [],
   "source": [
    "t1, t2, t3 = train[0:3] "
   ]
  },
  {
   "cell_type": "code",
   "execution_count": 21,
   "metadata": {},
   "outputs": [
    {
     "data": {
      "text/plain": [
       "[[{'Fox_Broadcasting_Company', 'Nikolaj_Coster-Waldau'}],\n",
       " [{'Roman_Atwood'}, {'Roman_Atwood'}],\n",
       " [{'History_of_art'}]]"
      ]
     },
     "execution_count": 21,
     "metadata": {},
     "output_type": "execute_result"
    }
   ],
   "source": [
    "[t.evidence_document_sets() for t in [t1, t2, t3]]"
   ]
  },
  {
   "cell_type": "code",
   "execution_count": 23,
   "metadata": {},
   "outputs": [
    {
     "data": {
      "text/plain": [
       "{'average_precision': 0.6666666666666666,\n",
       " 'average_recall': 0.5,\n",
       " 'average_f1_score': 0.5555555555555555,\n",
       " 'average_f2_score': 0.5185185185185185,\n",
       " 'oracle_accuracy': 0.3333333333333333}"
      ]
     },
     "execution_count": 23,
     "metadata": {},
     "output_type": "execute_result"
    }
   ],
   "source": [
    "evaluate_documents_retrieval_full(\n",
    "    [t.evidence_document_sets() for t in [t1, t2, t3]],\n",
    "    [{'Nikolaj_Coster-Waldau'}, {\"Bla\"}, {\"History_of_art\"}]\n",
    ")"
   ]
  }
 ],
 "metadata": {
  "kernelspec": {
   "display_name": "Python 3",
   "language": "python",
   "name": "python3"
  },
  "language_info": {
   "codemirror_mode": {
    "name": "ipython",
    "version": 3
   },
   "file_extension": ".py",
   "mimetype": "text/x-python",
   "name": "python",
   "nbconvert_exporter": "python",
   "pygments_lexer": "ipython3",
   "version": "3.7.2"
  }
 },
 "nbformat": 4,
 "nbformat_minor": 2
}
