{
 "cells": [
  {
   "cell_type": "code",
   "execution_count": 1,
   "metadata": {},
   "outputs": [],
   "source": [
    "import os\n",
    "os.chdir(\"..\")"
   ]
  },
  {
   "cell_type": "code",
   "execution_count": 2,
   "metadata": {},
   "outputs": [
    {
     "name": "stdout",
     "output_type": "stream",
     "text": [
      "Better speed can be achieved with apex installed from https://www.github.com/nvidia/apex.\n"
     ]
    }
   ],
   "source": [
    "from selenium import webdriver\n",
    "from selenium.webdriver import ChromeOptions\n",
    "from util.google_search_util import google_the_claim_text_results\n",
    "from util.claim_util import load_claims_train\n",
    "from classes.claim import Claim\n",
    "import random\n",
    "from random import sample\n",
    "from collections import Counter\n",
    "from util.general_util import pickle_save, pickle_load\n",
    "from dataset.google_dataset import *\n",
    "import time\n",
    "from tqdm import tqdm\n",
    "from collections import Counter\n",
    "from sklearn.model_selection import train_test_split\n",
    "from util.general_util import print_ratios"
   ]
  },
  {
   "cell_type": "code",
   "execution_count": 13,
   "metadata": {},
   "outputs": [],
   "source": []
  },
  {
   "cell_type": "code",
   "execution_count": 6,
   "metadata": {},
   "outputs": [],
   "source": [
    "train = load_claims_train()"
   ]
  },
  {
   "cell_type": "code",
   "execution_count": 7,
   "metadata": {},
   "outputs": [
    {
     "data": {
      "text/plain": [
       "'NOT ENOUGH INFO'"
      ]
     },
     "execution_count": 7,
     "metadata": {},
     "output_type": "execute_result"
    }
   ],
   "source": [
    "Claim.NEI"
   ]
  },
  {
   "cell_type": "code",
   "execution_count": 8,
   "metadata": {},
   "outputs": [],
   "source": [
    "train_no_nei = [t for t in train if t.label != Claim.NEI]"
   ]
  },
  {
   "cell_type": "code",
   "execution_count": 9,
   "metadata": {},
   "outputs": [],
   "source": [
    "random.seed(42)"
   ]
  },
  {
   "cell_type": "code",
   "execution_count": 10,
   "metadata": {},
   "outputs": [],
   "source": [
    "train_subset = sample(train_no_nei, 10_000)"
   ]
  },
  {
   "cell_type": "code",
   "execution_count": 11,
   "metadata": {},
   "outputs": [
    {
     "data": {
      "text/plain": [
       "Counter({'SUPPORTS': 7300, 'REFUTES': 2700})"
      ]
     },
     "execution_count": 11,
     "metadata": {},
     "output_type": "execute_result"
    }
   ],
   "source": [
    "Counter([t.label for t in train_subset])"
   ]
  },
  {
   "cell_type": "code",
   "execution_count": null,
   "metadata": {},
   "outputs": [],
   "source": []
  },
  {
   "cell_type": "code",
   "execution_count": 9,
   "metadata": {},
   "outputs": [],
   "source": [
    "google_results = []"
   ]
  },
  {
   "cell_type": "code",
   "execution_count": 10,
   "metadata": {},
   "outputs": [],
   "source": [
    "options = ChromeOptions()\n",
    "options.add_argument(\"--headless\")"
   ]
  },
  {
   "cell_type": "code",
   "execution_count": 11,
   "metadata": {},
   "outputs": [],
   "source": [
    "browser = webdriver.Chrome(executable_path='./chromedriver', options = options)"
   ]
  },
  {
   "cell_type": "code",
   "execution_count": 14,
   "metadata": {},
   "outputs": [],
   "source": [
    "google_results = pickle_load(\"data/google_all.pkl\")"
   ]
  },
  {
   "cell_type": "code",
   "execution_count": 15,
   "metadata": {
    "collapsed": true
   },
   "outputs": [
    {
     "data": {
      "text/plain": [
       "('Family Guy was ranked the ninth Greatest Album of All Time by Jim Carey',\n",
       " 'Jim Carrey | Family Guy Wiki | FANDOM powered by Wikia Carrey appears on the cover of People Magazine in \"Mr. Griffin Goes to Washington\". Lois repeats his catch phrase from The Mask, \"Sssmokin\", much to Brian\\'s annoyance. He appears in a photo shot with then-girlfriend Jenny McCarthy when Stewie compares Meg and Luke to when a crazy Readers\\' Poll: The 10 Best Jim Carrey Movies – Rolling Stone It might be a little premature to say that Jim Carrey is back on top.. Nobody ever thought of Jim Carrey as \"the white guy from In Living Color\" Every Jim Carrey Movie Performance Ever, Ranked | IndieWire Carrey, on the other hand, seems more like the guy the frat bros beat up. We present our ranking of Jim Carrey\\'s feature film performances.. Carrey\\'s at the top of his comedic game, but he\\'s let down by family-friendly, Billboard Records with the greatest airplay gains. A JAM YALL (Mac-man, ASCAP/Brownstar, ASCPA/S&S, ASCAP) 9 ALL CRIED OUT (Careers-BMG, BMI/Mokojumbi, Tim schmidt ontario net worth Memorials for family and friends who have lost family and friends to suicide. School Baseball Scouting, News, Rankings and Showcases Stantec designs with community in Jim Carrey, Canadian-born and a U. Man to man, Schmidt\\'s case is very compelling,. And this year has been one of their best ever. as of 4/27/19. Aaron Watson Drops \\'Riding With Red\\' + \\'Old Friend\\' Off New Album Watson has shared the next two songs off his forthcoming album, \\'Red Bandana.\\' \"With the last album, I just didn\\'t have time to create, and it was All for Money is Greensky Bluegrass\\' ninth studio album and will be 12 songs long. Thirty-eight-year-old James “Pony” Bradshaw is coming out with his Best romance albums Albums include The Man Who Sold the World / Band of Gold, Adventures in Clubland, I have read through people\\'s personal all-time top ten albums list with interest,. of all time We\\'re ranking the best My Chemical Romance albums of all time. Its Books shelved as upcoming-releases: Ninth House by Leigh Bardugo, Kasabians best songs It was the best gig I have ever attended and I was still buzzing the following day. latest one cracking up to its fine glory, 48:13 has just popped out on the 9th June. A list ranking the studio albums from the Leister based group Kasabian. who are also an indie/rock band just like Up Carey Street. kasabians best songs. Del Potro finding the right combination at French Open | Daily Mail ... the first time since fracturing his right knee last year, the ninth-ranked other injuries that have plagued the 30-year-old Argentine\\'s career,')"
      ]
     },
     "execution_count": 15,
     "metadata": {},
     "output_type": "execute_result"
    }
   ],
   "source": [
    "google_results[4897]"
   ]
  },
  {
   "cell_type": "code",
   "execution_count": 24,
   "metadata": {},
   "outputs": [
    {
     "data": {
      "text/plain": [
       "10000"
      ]
     },
     "execution_count": 24,
     "metadata": {},
     "output_type": "execute_result"
    }
   ],
   "source": [
    "len(google_results)"
   ]
  },
  {
   "cell_type": "code",
   "execution_count": 17,
   "metadata": {},
   "outputs": [],
   "source": []
  },
  {
   "cell_type": "code",
   "execution_count": 29,
   "metadata": {},
   "outputs": [
    {
     "data": {
      "text/plain": [
       "SUPPORTS: Stevie Ray Vaughan was voted by Guitar Player's readers to be the Best New Talent."
      ]
     },
     "execution_count": 29,
     "metadata": {},
     "output_type": "execute_result"
    }
   ],
   "source": [
    "train_subset[9999]"
   ]
  },
  {
   "cell_type": "code",
   "execution_count": 28,
   "metadata": {},
   "outputs": [
    {
     "data": {
      "text/plain": [
       "(\"Stevie Ray Vaughan was voted by Guitar Player's readers to be the Best New Talent\",\n",
       " 'Stevie Ray Vaughan Stephen Ray Vaughan (October 3, 1954 – August 27, 1990) was an American musician, singer, songwriter, and record producer, and one of the most influential guitarists in the revival of blues in the 1980s. He is commonly referred to as one of the greatest guitar players of all time. In 1983, readers of Guitar Player voted him Best New Talent and Best August 27, 1990: The Day Stevie Ray Vaughan Died | Guitarworld  Stevie Ray Vaughan  VAUGHAN, STEVIE RAY | The Handbook of Texas Online| Texas Stevie Ray Vaughan, blues musician and guitar legend, was born in the Guitar Player Magazine Reader\\'s Poll voted Stevie Best New Talent Stevie Ray Vaughan | Encyclopedia.com Stevie Ray Vaughan [1]Guitarist The appearance of Stevie Ray Vaughan [2] and Guitar Player readers poll, and Vaughan was also voted Best New Talent and kippel.com Texas born blues guitarist Stevie Ray Vaughan is finally garnering some won honors as “Best Guitar Album” in the 1983 Guitar Player Readers Poll—the first additionally, Stevie was voted “Best New Talent” and “Best Electric Guitarist”. Stevie Ray Vaughan Guitar Licks Stevie Ray Vaughan was born on October 1954 in Dallas, Texas. Inspired initially by his Vaughan was also voted Best New Talent and Best Electric Blues Guitarist in the 1983 readers\\' poll by Guitar Player Magazine. Double Trouble set off Stevie Ray Vaughan A rollickin\\' bluesman, guitarist and singer Stevie Ray Vaughan helped reinvigorate the form during the \\'80s. Learn more at Biography.com. For his part, Stevie was voted Best New Talent and Best Electric Blues Guitarist in a 1983 reader\\'s poll by Guitar Player Magazine. Double Trouble set off on a successful tour, and Stevie Ray Vaughan Stevie Ray Vaughan was one of the best guitarists of all time. It\\'s about time that we get to know him better and Stevie Ray was also noticed by the readers of Guitar Player Magazine. They voted him as 1983\\'s “Best Electric Blue Guitarist” and “Best New Talent.” Stevie Ray Vaughan 3 After the successful Stevie Ray Vaughan Vaughan won three categories in Guitar Player\\'s readers poll: \"Best New Talent\", \"Best Blues Album\", and \"Best Electric Blues Guitarist\". He became the second Stevie Ray Vaughan and Double Trouble: The Complete Epic Epic Records and Legacy Recordings Celebrate Stevie Ray Vaughan\\'s 60th Birthday In 1983, readers of Guitar Player voted him as Best New Talent and Best The Oriental Theater with Very Special Guests: AUSTIN YOUNG BAND the Guitar Player Magazine\\'s Annual Readers Choice Award for “Best New Talent” in 2013. 2014 proved to be another epic year for McGarvey as he voted the winner of “Best Guitarist” in the European masters like Jimi Hendrix, Eric Clapton, and Stevie Ray Vaughan.')"
      ]
     },
     "execution_count": 28,
     "metadata": {},
     "output_type": "execute_result"
    }
   ],
   "source": [
    "google_results[9999]"
   ]
  },
  {
   "cell_type": "code",
   "execution_count": 20,
   "metadata": {},
   "outputs": [],
   "source": []
  },
  {
   "cell_type": "code",
   "execution_count": 23,
   "metadata": {},
   "outputs": [
    {
     "name": "stderr",
     "output_type": "stream",
     "text": [
      "\r",
      "Fetching:   0%|          | 0/1814 [00:00<?, ?it/s]"
     ]
    },
    {
     "name": "stdout",
     "output_type": "stream",
     "text": [
      "Starting from index 8186\n"
     ]
    },
    {
     "name": "stderr",
     "output_type": "stream",
     "text": [
      "Fetching: 100%|██████████| 1814/1814 [1:11:22<00:00,  1.71s/it]\n"
     ]
    }
   ],
   "source": [
    "options = ChromeOptions()\n",
    "options.add_argument(\"--headless\")\n",
    "browser = webdriver.Chrome(executable_path='./chromedriver', options = options)\n",
    "start_index = len(google_results)\n",
    "print(f\"Starting from index {start_index}\")\n",
    "#for i, t in tqdm(enumerate(train_subset[start_index:]), desc=\"Fetching\"):\n",
    "for t in tqdm(train_subset[start_index:], desc=\"Fetching\"):\n",
    "    while True:\n",
    "        claim = t.claim\n",
    "        if claim.endswith(\".\"):\n",
    "            claim = claim[:-1]\n",
    "        #print(i)\n",
    "        #print(claim)\n",
    "        try:\n",
    "            result = google_the_claim_text_results(t.claim, browser=browser)\n",
    "            if result == \"\":\n",
    "                raise Exception()\n",
    "        except Exception:\n",
    "            browser = webdriver.Chrome(executable_path='./chromedriver', options = options)\n",
    "            time.sleep(10)\n",
    "            continue\n",
    "        #print(result)\n",
    "        google_results.append((claim, result))\n",
    "        break"
   ]
  },
  {
   "cell_type": "code",
   "execution_count": 60,
   "metadata": {},
   "outputs": [
    {
     "data": {
      "text/plain": [
       "SUPPORTS: Jean-Martin Charcot was a professor."
      ]
     },
     "execution_count": 60,
     "metadata": {},
     "output_type": "execute_result"
    }
   ],
   "source": [
    "train_subset[999]"
   ]
  },
  {
   "cell_type": "code",
   "execution_count": 59,
   "metadata": {},
   "outputs": [
    {
     "data": {
      "text/plain": [
       "('Jean-Martin Charcot was a professor',\n",
       " \"Jean-Martin Charcot Jean-Martin Charcot (French: [ʃaʁko]; 29 November 1825 – 16 August 1893) was a French neurologist and professor of anatomical pathology., His work greatly influenced the developing fields of neurology and psychology; modern psychiatry owes much to the work of Charcot and his direct followers. Jean-Martin Charcot: The Father of Neurology Jean-Martin Charcot (figure 1▷) was born in Paris, France in 1825 at a time, the appointment as “Professor of the Pathological Anatomy at the University of Jean-Martin Charcot Pathologist, Neurologist, Psychiatrist and Physician Jean-Martin Charcot is known as father of modern neurology., He was appointed as Professor in Medicine in 1862 at Sâlpetrière Hospital, Paris, and was Jean-Martin Charcot | French neurologist | Britannica.com Jean-Martin Charcot: Jean-Martin Charcot, founder (with Guillaume, He then became a professor at the University of Paris (1860–93), where he began a A Science Odyssey: People and Discoveries: Jean-Martin Charcot Jean-Martin Charcot was born in Paris, France, late in 1825., He was a professor at the University of Paris for 33 years, and in 1862 he began an association Jean-Baptiste Charcot as an intern of Professor Jean- Martin Charcot  Charcot name became very famous around the world, firstly because of the work of Professor Jean-Martin Charcot, the founder of Clinical Neurology, and, Jean-Martin Charcot (1825-93)  Amyotrophic lateral sclerosis  Jean-Martin Charcot: The Father of Neurology  Who was Jean-Martin Charcot? | American Association for the Jean-Martin Charcot's work greatly influenced the developing fields of, Charcot was a neurologist and professor of anatomy, and therefore Jean Martin Charcot | Encyclopedia.com Jean Martin Charcot (1825–1893), specialist in neurology and hypnosis, was born in, His appointment as professor of diseases of the nervous system at the Human Intelligence: Jean-Martin Charcot The biographical profile of Jean-Martin Charcot, focusing on his/her, Becomes Associate Professor at the Paris Medical School (1960-1861); Elected Vice Jean-Martin Charcot (1825-93) Jean-Martin Charcot was the most influential neurologist of the 1800s. He identified neurological disorders with such precision that many of his diagnoses are\")"
      ]
     },
     "execution_count": 59,
     "metadata": {},
     "output_type": "execute_result"
    }
   ],
   "source": [
    "google_results[999]"
   ]
  },
  {
   "cell_type": "code",
   "execution_count": 57,
   "metadata": {},
   "outputs": [
    {
     "data": {
      "text/plain": [
       "999"
      ]
     },
     "execution_count": 57,
     "metadata": {},
     "output_type": "execute_result"
    }
   ],
   "source": [
    "len(google_results)"
   ]
  },
  {
   "cell_type": "code",
   "execution_count": null,
   "metadata": {},
   "outputs": [],
   "source": []
  },
  {
   "cell_type": "code",
   "execution_count": 25,
   "metadata": {},
   "outputs": [],
   "source": [
    "pickle_save(google_results, \"./data/google_all.pkl\")"
   ]
  },
  {
   "cell_type": "code",
   "execution_count": 26,
   "metadata": {},
   "outputs": [],
   "source": [
    "a = pickle_load(\"./data/google_all.pkl\")"
   ]
  },
  {
   "cell_type": "code",
   "execution_count": 27,
   "metadata": {},
   "outputs": [
    {
     "data": {
      "text/plain": [
       "10000"
      ]
     },
     "execution_count": 27,
     "metadata": {},
     "output_type": "execute_result"
    }
   ],
   "source": [
    "len(a)"
   ]
  },
  {
   "cell_type": "code",
   "execution_count": 30,
   "metadata": {},
   "outputs": [
    {
     "data": {
      "text/plain": [
       "('Black Mirror started airing in 2011',\n",
       " 'Black Mirror Black Mirror is a British science fiction anthology television series created by Charlie Brooker, Zeppotron (2011–2013); House of Tomorrow (2014–present). Black Mirror series 1 had a limited DVD release for PAL / Region 2 on 27 February. Beginning on 24 November 2017, Netflix published a series of posters and Every \\'Black Mirror\\' on Netflix episode, ranked from worst to best  Black Mirror  List of Black Mirror episodes series, Title, Directed by, Written by, Original air date, UK viewers the Princess, thirty minutes before Callow\\'s sex act began. Black Mirror (TV Series 2011– ) A woman enters the Black Museum, where the proprietor tells his stories relating to the artefacts. Angourie Rice in Black Mirror (2011) · Wyatt Russell in Black Mirror (2011) · Toby. Release Date: Getting Started | Contributor Zone » Black Mirror | Netflix Official Site 2011TV-MA 4 SeasonsBritish TV Dramas Black Mirror: Season 5 (Trailer) Release year: 2017 Paired up by a dating program that puts an expiration date on all relationships, Frank and Amy soon begin to question the system\\'s logic. It\\'s official: Netflix is picking up Black Mirror\\'s third season Netflix\\'s acquisition of Black Mirror isn\\'t a total shock: it already had the according to a press release, the details are \"still being determined.\" Netflix will be releasing new episodes of Black Mirror on October 21st Black Mirror is a Twilight Zone-esque anthology show originally created by British writer Charlie Brooker, and originally aired in 2011 and 2013, with The show gained popularity when it began streaming on Netflix, which Black Mirror | Black Mirror Wiki | FANDOM powered by Wikia The show was first broadcast on Channel 4 in 2011. In September Black Mirror series 1 had a limited DVD release for PAL / Region 2 on 27 February 2012. \\'Black Mirror\\' Lands at Netflix With 12 New Episodes | Hollywood Following a fierce bidding war, Netflix has acquired Black Mirror. Brooker has already started writing the new episodes, which are scheduled to The series originally aired its first season (of three episodes) in 2011 on the Black Mirror promo video series arrives on YouTube starting May 26 Black Mirror promo video series arrives on YouTube starting May 26 Black Mirror is a British TV show that first aired in 2011, presenting With “Black Mirror,” Our Dystopia Gets the Television Show It Deserves Troy Patterson reviews the series “Black Mirror” and its fourth season, A fourth season of “Black Mirror” crept onto Netflix in late December and began to From 2011, when the first season of “Black Mirror” aired on Britain\\'s')"
      ]
     },
     "execution_count": 30,
     "metadata": {},
     "output_type": "execute_result"
    }
   ],
   "source": [
    "a[0]"
   ]
  },
  {
   "cell_type": "code",
   "execution_count": null,
   "metadata": {},
   "outputs": [],
   "source": []
  },
  {
   "cell_type": "code",
   "execution_count": 2,
   "metadata": {},
   "outputs": [],
   "source": []
  },
  {
   "cell_type": "code",
   "execution_count": null,
   "metadata": {},
   "outputs": [],
   "source": []
  },
  {
   "cell_type": "code",
   "execution_count": 3,
   "metadata": {},
   "outputs": [
    {
     "data": {
      "text/plain": [
       "Counter({'P': 1,\n",
       "         'a': 2,\n",
       "         'l': 1,\n",
       "         'i': 1,\n",
       "         'c': 1,\n",
       "         ' ': 2,\n",
       "         'j': 1,\n",
       "         'e': 1,\n",
       "         's': 1,\n",
       "         'm': 1,\n",
       "         'r': 1,\n",
       "         'd': 1})"
      ]
     },
     "execution_count": 3,
     "metadata": {},
     "output_type": "execute_result"
    }
   ],
   "source": [
    "Counter(\"\")"
   ]
  },
  {
   "cell_type": "code",
   "execution_count": null,
   "metadata": {},
   "outputs": [],
   "source": []
  },
  {
   "cell_type": "markdown",
   "metadata": {},
   "source": [
    "ip :38.132.116.176"
   ]
  },
  {
   "cell_type": "markdown",
   "metadata": {},
   "source": [
    "173.44.48.42  \n",
    "38.132.120.73"
   ]
  },
  {
   "cell_type": "markdown",
   "metadata": {},
   "source": [
    "date: 28.5.2019."
   ]
  },
  {
   "cell_type": "code",
   "execution_count": null,
   "metadata": {},
   "outputs": [],
   "source": []
  },
  {
   "cell_type": "code",
   "execution_count": null,
   "metadata": {},
   "outputs": [],
   "source": []
  },
  {
   "cell_type": "code",
   "execution_count": 4,
   "metadata": {},
   "outputs": [],
   "source": [
    "google_results = pickle_load(GoogleDataset.ALL_DATA)"
   ]
  },
  {
   "cell_type": "code",
   "execution_count": 22,
   "metadata": {},
   "outputs": [],
   "source": [
    "results = []"
   ]
  },
  {
   "cell_type": "code",
   "execution_count": 23,
   "metadata": {},
   "outputs": [],
   "source": [
    "for claim, google_result in zip(train_subset, google_results):\n",
    "    stripped_claim = claim.claim\n",
    "    if stripped_claim.endswith(\".\"):\n",
    "        stripped_claim = stripped_claim[:-1]\n",
    "        \n",
    "    if not stripped_claim == google_result[0]:\n",
    "        print(\"F*ck\")\n",
    "    \n",
    "    results.append((google_result[0], google_result[1], claim.label))\n",
    "    "
   ]
  },
  {
   "cell_type": "code",
   "execution_count": 5,
   "metadata": {},
   "outputs": [
    {
     "data": {
      "text/plain": [
       "10000"
      ]
     },
     "execution_count": 5,
     "metadata": {},
     "output_type": "execute_result"
    }
   ],
   "source": [
    "len(google_results)"
   ]
  },
  {
   "cell_type": "code",
   "execution_count": 24,
   "metadata": {},
   "outputs": [
    {
     "data": {
      "text/plain": [
       "10000"
      ]
     },
     "execution_count": 24,
     "metadata": {},
     "output_type": "execute_result"
    }
   ],
   "source": [
    "len(results)"
   ]
  },
  {
   "cell_type": "code",
   "execution_count": 25,
   "metadata": {},
   "outputs": [
    {
     "data": {
      "text/plain": [
       "('Khal Drogo was introduced in 1996',\n",
       " \"Khal Drogo Khal Drogo is a fictional character in the A Song of Ice and Fire series of fantasy novels by American author George R. R. Martin and in the first two seasons of its television adaptation, Game of Thrones. Introduced in 1996's A Game of Thrones, Drogo is a khal, a leader of the How old are the Game of Thrones characters meant to be? George  Game of Thrones: Daenerys Targaryen Fire Immunity, Explained  Who gave the dragon eggs to Daenerys?  What Happened When Daenerys Was Pregnant With Khal Drogo's  Daenerys Targaryen Daenerys Targaryen is a fictional character in George R. R. Martin's A Song of Ice and Fire Introduced in 1996's A Game of Thrones, Daenerys is one of the last two She is forced to marry Dothraki horselord Khal Drogo in exchange for an army for Viserys, who is to return to Westeros and recapture the Iron Throne. Khal Drogo | Revolvy Introduced in 1996's A Game of Thrones, Drogo is a khal, a leader of the Dothraki, a tribe of warriors who roam the continent of Essos. Drogo is portrayed by Khal Drogo Introduced in 1996's A Game of Thrones, Drogo is a khal, a leader of the Dothraki, Drogo is portrayed by Jason Momoa in the HBO television adaptation. Khal Drogo Introduced in 1996's A Game of Thrones , Drogo is a khal, a leader of the Dothraki, a tribe of warriors who roam the continent of Essos. Khal Drogo Khal Drogo is a fictional character in the A Song of Ice and Fire series of fantasy Introduced in 1996's A Game of Thrones, Drogo is a khal, a leader of the Drogo Drogo is a powerful khal or warlord of the fearsome Dothraki nomads. Daenerys Targaryen is promised to him at the beginning of A Song of Ice and Fire. In the A guide to how Daenerys went from Khaleesi to Mad Queen Daenerys comes to very much appreciate Khal Drogo's intensity. When Drogo killed her brother with molten gold, all she could muster up was, Khal Drogo (Game of Thrones character) Khal Drogo is a fictional character in the A Song of Ice and Fire series of fantasy Introduced in 1996's. Who deserved to die more, Khal Drogo or Viserys?\",\n",
       " 'SUPPORTS')"
      ]
     },
     "execution_count": 25,
     "metadata": {},
     "output_type": "execute_result"
    }
   ],
   "source": [
    "results[500]"
   ]
  },
  {
   "cell_type": "code",
   "execution_count": 29,
   "metadata": {},
   "outputs": [],
   "source": [
    "pickle_save(results, GoogleDataset.ALL_DATA)"
   ]
  },
  {
   "cell_type": "code",
   "execution_count": 3,
   "metadata": {},
   "outputs": [],
   "source": [
    "results = pickle_load(GoogleDataset.ALL_DATA)"
   ]
  },
  {
   "cell_type": "code",
   "execution_count": 4,
   "metadata": {},
   "outputs": [
    {
     "data": {
      "text/plain": [
       "10000"
      ]
     },
     "execution_count": 4,
     "metadata": {},
     "output_type": "execute_result"
    }
   ],
   "source": [
    "len(results)"
   ]
  },
  {
   "cell_type": "code",
   "execution_count": null,
   "metadata": {},
   "outputs": [],
   "source": []
  },
  {
   "cell_type": "code",
   "execution_count": 37,
   "metadata": {},
   "outputs": [],
   "source": [
    "train_and_validation_ratio, test_ratio = 0.85, 0.15\n",
    "validation_ratio = 0.17645\n",
    "train_ratio = 1 - validation_ratio"
   ]
  },
  {
   "cell_type": "code",
   "execution_count": 38,
   "metadata": {},
   "outputs": [],
   "source": [
    "train_and_validation_data, test_data = train_test_split(\n",
    "    results,\n",
    "    train_size=train_and_validation_ratio,\n",
    "    test_size=test_ratio,\n",
    "    shuffle=True,\n",
    "    stratify=[t[2] for t in results]\n",
    ")"
   ]
  },
  {
   "cell_type": "code",
   "execution_count": 39,
   "metadata": {},
   "outputs": [],
   "source": [
    "train_data, validation_data = train_test_split(\n",
    "    train_and_validation_data,\n",
    "    train_size=train_ratio,\n",
    "    test_size=validation_ratio,\n",
    "    shuffle=True,\n",
    "    stratify=[t[2] for t in train_and_validation_data]\n",
    ")"
   ]
  },
  {
   "cell_type": "code",
   "execution_count": 40,
   "metadata": {},
   "outputs": [
    {
     "name": "stdout",
     "output_type": "stream",
     "text": [
      "Train size: 7000\n",
      "Train ratio: {'REFUTES': 0.27, 'SUPPORTS': 0.73}\n",
      "\n",
      "Validation size: 1500\n",
      "Validation ratio: {'REFUTES': 0.27, 'SUPPORTS': 0.73}\n",
      "\n",
      "Test size: 1500\n",
      "Test ratio: {'SUPPORTS': 0.73, 'REFUTES': 0.27}\n"
     ]
    }
   ],
   "source": [
    "print_ratios(train_data, validation_data, test_data)"
   ]
  },
  {
   "cell_type": "code",
   "execution_count": 41,
   "metadata": {},
   "outputs": [],
   "source": [
    "pickle_save(train_data, GoogleDataset.TRAIN_DATA)\n",
    "pickle_save(validation_data, GoogleDataset.VALIDATION_DATA)\n",
    "pickle_save(test_data, GoogleDataset.TEST_DATA)"
   ]
  },
  {
   "cell_type": "code",
   "execution_count": 42,
   "metadata": {},
   "outputs": [
    {
     "name": "stdout",
     "output_type": "stream",
     "text": [
      "Train size: 7000\n",
      "Train ratio: {'REFUTES': 0.27, 'SUPPORTS': 0.73}\n",
      "\n",
      "Validation size: 1500\n",
      "Validation ratio: {'REFUTES': 0.27, 'SUPPORTS': 0.73}\n",
      "\n",
      "Test size: 1500\n",
      "Test ratio: {'SUPPORTS': 0.73, 'REFUTES': 0.27}\n"
     ]
    }
   ],
   "source": [
    "print_ratios(\n",
    "    pickle_load(GoogleDataset.TRAIN_DATA),\n",
    "    pickle_load(GoogleDataset.VALIDATION_DATA),\n",
    "    pickle_load(GoogleDataset.TEST_DATA)\n",
    ")"
   ]
  },
  {
   "cell_type": "code",
   "execution_count": 3,
   "metadata": {},
   "outputs": [],
   "source": [
    "test = pickle_load(GoogleDataset.TEST_DATA)"
   ]
  },
  {
   "cell_type": "code",
   "execution_count": 7,
   "metadata": {},
   "outputs": [],
   "source": [
    "test_claims = [t[0]+\".\" for t in test]"
   ]
  },
  {
   "cell_type": "code",
   "execution_count": 8,
   "metadata": {
    "collapsed": true
   },
   "outputs": [
    {
     "data": {
      "text/plain": [
       "['New Orleans has a large trading area.',\n",
       " 'As the World Turns was replaced with The Talk in 2010.',\n",
       " 'Tunisia was introduced to Christianity.',\n",
       " 'Bangalore was captured by Europeans.',\n",
       " 'Ken Russell only directed a 1955 American science fiction-horror film.',\n",
       " 'Michael Giacchino composed scores.',\n",
       " 'Elle Fanning starred in a film.',\n",
       " 'Albert Einstein discovered the emission of electrons or other free carriers when light is shone onto a material.',\n",
       " 'Teen Wolf is a recorded work.',\n",
       " 'The Belko Experiment is a Canadian film.',\n",
       " 'Lauren Bacall was 89 when she died.',\n",
       " 'Only Lovers Left Alive was written and directed by George Lucas.',\n",
       " 'David Arquette has worked since at least the year 1254.',\n",
       " \"John Wick: Chapter 2's plot follows fictional hitman John Wick.\",\n",
       " 'Angelina Jolie is an American actress that was involved with voice acting for Kung Fu Panda 3.',\n",
       " 'The United States Environmental Protection Agency employs rodents.',\n",
       " 'Heinrich Himmler never commanded the Schutzstaffel.',\n",
       " 'Carole King is a Canadian.',\n",
       " 'Believe was created by Cher and brought her back into the spotlight.',\n",
       " 'Injustice 2 includes a loot-dropping system.',\n",
       " 'Al Capone was prosecuted for a federal offense.',\n",
       " 'Way of the Dragon had Bruce Lee in it.',\n",
       " 'Zoe Kravitz is the only person who co-stars in No Reservations.',\n",
       " 'Montreal has not always been called Montreal.',\n",
       " 'Frank Sedgman played tennis.',\n",
       " 'Scooby-Doo is a fictional American animated cartoon.',\n",
       " 'Lisbon is the capital of Portugal.',\n",
       " 'Nineteen Eighty-Four received number 6 on the Amazon.com most-purchased list.',\n",
       " 'Venus is a body.',\n",
       " 'Jensen Ackles was born on March 1, 1978.',\n",
       " 'Augusto Pinochet died in 2006.',\n",
       " 'Willie Nelson has co-authored several books.',\n",
       " 'David Carradine was an actor.',\n",
       " 'Princess Margaret had at least three strokes.',\n",
       " 'Joan Crawford has been divorced four times.',\n",
       " 'Vito Corleone is a creation.',\n",
       " 'Seattle was established as a shipbuilding center during the Klondike Gold Rush.',\n",
       " \"Genghis Khan had history's largest empire.\",\n",
       " \"Huntington's disease is inherited from a person's parents.\",\n",
       " 'Ruth Negga is an entertainer.',\n",
       " '2001: A Space Odyssey was distributed.',\n",
       " 'The fleshy petals of jackfruit flowers form the edible portion.',\n",
       " 'Tom Hardy appeared in a movie.',\n",
       " 'Chrononauts has been worked on by Mark Millar.',\n",
       " 'Steve Buscemi was in the movie Animal Factory.',\n",
       " 'David Beckham is the father of four children.',\n",
       " 'In 2015, Amazon overtook many companies as a more valuable retailer.',\n",
       " 'The Philippines is a country in Asia.',\n",
       " 'Chris Evans (presenter) did not host The Chris Evans Breakfast Show.',\n",
       " 'There were appearance of Melissa McCarthy in television.',\n",
       " 'The Illusionist was directed by James Cameron.',\n",
       " \"Bill Clinton's birthday is on August 19.\",\n",
       " 'Ramona Marquez is an actress.',\n",
       " 'Christina Applegate is a celebrity.',\n",
       " 'Alison Brie starred in a comedy movie.',\n",
       " \"Thirteen is based on the death of the film's writer.\",\n",
       " 'Indian was selected the Best Foreign Language Film in 1996.',\n",
       " 'Tipper Gore was born in 1948.',\n",
       " 'Jim Carrey is a singer.',\n",
       " 'Ruth Negga was born in Zimbabwe.',\n",
       " 'Rogue appears in American comic books.',\n",
       " \"Lady Gaga's second studio album, released in 2010, is called Born This Way.\",\n",
       " 'Daniel Craig graduated.',\n",
       " 'Fernando Alonso was born.',\n",
       " 'Abby Sciuto is exclusively portrayed by Jay-Z.',\n",
       " 'Rachel Dratch was unable to join the cast of 30 Rock owing to contractual obligations.',\n",
       " 'Keanu Reeves played Bart Simpson in Johnny Mnemonic.',\n",
       " 'Hamlet (1990 film) starred only women.',\n",
       " 'Stand-up comedy is a comic style.',\n",
       " \"David Bowie is among the world's best-selling musicians.\",\n",
       " 'Instant film has chemicals in it.',\n",
       " 'Globalization is included in International Relations.',\n",
       " 'The movie Dangerous Liaisons stars Keanu Reeves.',\n",
       " 'Stars Are Blind was co-written by Fernando Garibay.',\n",
       " 'Kris Wu starred in a film called Journey to the West.',\n",
       " 'Edward Norton worked on The Incredible Hulk.',\n",
       " 'Las Vegas means \"the meadows\" in Spanish.',\n",
       " 'Oliver Reed was in a movie in 1936.',\n",
       " 'R. Kelly is known for hit single \"Bump N\\' Grind.\".',\n",
       " 'Tesla, Inc. is an electric car manufacturer.',\n",
       " 'Joe Biden was a United States Senator in 1973.',\n",
       " 'Abigail Breslin is an actress.',\n",
       " 'Bradley Cooper was in Wet Hot American Summer.',\n",
       " 'Glacier is affected by mean temperature.',\n",
       " 'Heather Graham is a public advocate for Children International.',\n",
       " 'Anonymous is a group.',\n",
       " 'A crown colony is against colonial administration.',\n",
       " 'Edge of Tomorrow was released in at least 28 territories in 2014.',\n",
       " 'Papua New Guinea is an Oceanian country.',\n",
       " 'John Bradley-West played the character Samwell Tarly.',\n",
       " 'Detroit is in the United States.',\n",
       " 'Wynonna Judd was born on May 30th, 1964.',\n",
       " 'Tanzania is landlocked.',\n",
       " 'Pierce Brosnan had a cameo in \"Mamma Mia!\".',\n",
       " 'Shaky camera can make some viewers distracted.',\n",
       " 'Game of Thrones has an international cast of actors.',\n",
       " 'Streptococcus belongs to an order that is respiring.',\n",
       " \"The Handmaid's Tale won the first Arthur C. Clarke Award.\",\n",
       " 'Naruto is a seafood dish.',\n",
       " 'Cinderella stars at least one actress.',\n",
       " 'Heikegani is only a species of bear.',\n",
       " 'There is a sequel named Back to the Future Part II.',\n",
       " 'John Hartford can play guitar.',\n",
       " 'Cambodia has zero minority groups.',\n",
       " 'Heinrich Himmler fought Nazi Germany.',\n",
       " 'Eddie Vedder is a guitarist and he is American.',\n",
       " 'A Boeing B-29 Superfortress dropped Little Boy.',\n",
       " 'George Lucas created a franchise.',\n",
       " 'Mukesh Ambani is the sponsor of an Indian business magnate.',\n",
       " 'Playboy magazine featured Pamela Anderson.',\n",
       " \"Kiiara's music features bass.\",\n",
       " 'The Vampire Diaries aired eight seasons.',\n",
       " 'Jared Padalecki grew up in North Carolina.',\n",
       " \"God in Islam's theology is the sustainer of everything in existence.\",\n",
       " 'Robbie Collin was an editor of The Saint.',\n",
       " 'George Cukor directed the 1933 satirical comedy Our Betters.',\n",
       " 'All My Children is set in a fictional suburb of Philadelphia.',\n",
       " 'The brown bear is a carnivore.',\n",
       " 'Martin Freeman is known for his portrayal of Lester Nygaard.',\n",
       " 'Alison Brie is only in live action movies.',\n",
       " 'Basketball is a game.',\n",
       " 'Christopher Nolan worked on The Dark Knight Trilogy.',\n",
       " 'Kiefer Sutherland was born on December 21st, 1966.',\n",
       " 'Mike Tyson was in matches against Kevin McBride and was victorious.',\n",
       " 'Alan J. Pakula directed Klute.',\n",
       " 'George Clooney was born.',\n",
       " 'Toy Story is a buddy comedy adventure film from 1995.',\n",
       " \"Sociology is the study of society's origins, development, organization, networks, and institutions.\",\n",
       " \"Wyatt Earp became Dodge City's assistant city marshal.\",\n",
       " 'David Arquette was employed with Brian Robbins.',\n",
       " 'Green Arrow is a brand of lawnmower designed by George Papp.',\n",
       " 'Cyndi Lauper released the album \"Girls Just Want to Have Fun.\".',\n",
       " 'Apollo 11 was launched from Merritt Island, North Carolina.',\n",
       " 'R. Madhavan set up Tricolour Films.',\n",
       " 'Ben Still is a comedic actor.',\n",
       " 'Kamala Harris was a student in California.',\n",
       " 'Boyz II Men uses their voice as instruments for music.',\n",
       " 'Red was directed by a German.',\n",
       " 'Feels So Good was written for an album.',\n",
       " 'David Thewlis was born in March of 1963.',\n",
       " 'Maya Rudolph acts.',\n",
       " 'Pompeii was damaged.',\n",
       " \"The Right Stuff was adapted from Tom Wolfe's 1979 book of the same name.\",\n",
       " 'Lee Majors is an actor.',\n",
       " 'Black Sabbath formed in Europe.',\n",
       " 'Sue Bird was a professional basketball player.',\n",
       " 'Ronin was written by at least one screenwriter.',\n",
       " 'Madonna signed with a record company.',\n",
       " 'Missing is a French film.',\n",
       " 'Get Out excludes any acting people.',\n",
       " 'Bradley Cooper found great success with the black comedy crime film American Hustle.',\n",
       " 'Frank Sinatra collaborated with Duke Ellington.',\n",
       " 'The Comedian stars an American actor.',\n",
       " 'Woody Allen only won one award for Best Original Screenplay.',\n",
       " 'The Netherlands does not host the Organisation for the Prohibition of Chemical Weapons.',\n",
       " 'Black Panther will be released.',\n",
       " 'Rod Laver was born in 1950.',\n",
       " \"KFC is the world's fifth-largest restaurant chain.\",\n",
       " 'Star Wars: Episode II – Attack of the Clones was released on DVD.',\n",
       " 'Ulysses S. Grant worked with others.',\n",
       " 'Nosedive is an episode of an anthology series.',\n",
       " 'Sicily is in the Caribbean Sea.',\n",
       " 'Steven Knight was born in 1959.',\n",
       " 'Pompeii was not destroyed.',\n",
       " 'There are different species of spiders.',\n",
       " \"Schindler's List received awards.\",\n",
       " 'Chris Terrio was born in the 1970s.',\n",
       " 'Justin Timberlake was born January 31, 1981.',\n",
       " 'Arnold Schwarzenegger is admired by bodybuilders.',\n",
       " 'Alicia Silverstone starred in the comedy film Clueless.',\n",
       " 'The Citadelle Laferrière is a large mountaintop fortress.',\n",
       " 'Ginger Baker was inducted into the Hermetic Order of the Golden Dawn.',\n",
       " \"South Korea's main language is from 1443.\",\n",
       " 'Led Zeppelin formed in 1868.',\n",
       " 'Prometheus is a TV show.',\n",
       " 'The Pennsylvania Chronicle was an American colonial newspaper.',\n",
       " 'The Illusionist was released in the 2000s.',\n",
       " 'Alien: Covenant stars an actor.',\n",
       " 'Until Dawn is exclusively an audiobook.',\n",
       " 'Moana is a movie made in 2016.',\n",
       " 'The Crown (TV series) starred Steve Martin.',\n",
       " 'Giancarlo Stanton constructed Notre Dame High School.',\n",
       " 'There is a country called Colombia.',\n",
       " \"Celine Dion's music has been influenced by a single genre.\",\n",
       " 'Soundgarden disbanded in 1997.',\n",
       " 'Jennifer Aniston acts.',\n",
       " 'Jeff Hardy has been incapable of holding the TNA World Heavyweight Championship three times.',\n",
       " 'Paul Thomas Anderson produced a film.',\n",
       " 'Michel Gondry was a music video director that went on to direct movies.',\n",
       " 'Seth MacFarlane was one of the creators of the television series \"American Dad!\".',\n",
       " 'Heartlight reached number four on the Billboard Hot 100.',\n",
       " 'Clarence Thomas is strictly Canadian.',\n",
       " 'Lady Gaga is a singer, songwriter, and actress.',\n",
       " 'Richard Gere starred in a film.',\n",
       " 'Jennifer Grey is in a television series.',\n",
       " 'Spain has territory in a non-European continent.',\n",
       " 'Just Dance is a song.',\n",
       " 'Silicon Valley contains a portion of venture capital investment in the United States.',\n",
       " 'Eminem sold no albums.',\n",
       " 'John Cusack is an actor.',\n",
       " 'Michael Jordan played a sport.',\n",
       " 'Cindy McCain is a mother.',\n",
       " 'Colm Feore is an American-Canadian film actor.',\n",
       " \"Jean-Claude Van Damme was born in the 1960's.\",\n",
       " 'Carl Sanders served as the 74th Governor of Georgia.',\n",
       " 'My Summer of Love was directed by a person.',\n",
       " 'American Horror Story is on FX.',\n",
       " 'Coronary artery disease can be prevented by not smoking.',\n",
       " 'Slash founded Netflix.',\n",
       " 'Chris Hardwick is not a television host.',\n",
       " 'Diary of the Dead is a film by a Russian filmmaker and editor.',\n",
       " 'The Attorney of Orleans Parish, Louisiana used to be Jim Garrison.',\n",
       " 'Gwen Stefani is 47 years old.',\n",
       " 'The Entire History of You was penned by Jesse Armstrong.',\n",
       " 'Singers were employed by K-pop Star 2.',\n",
       " 'Teen Wolf debuted in 2011.',\n",
       " 'The Craft stars Robin Tunney and Fairuza Balk and Neve Campbell.',\n",
       " 'The Fifth Element was primarily set in the 23rd millennium.',\n",
       " 'Iris Murdoch was a philosopher.',\n",
       " 'Goliyon Ki Raasleela Ram-Leela is Ram-Leela for short.',\n",
       " 'Bring It On (film) had zero involvement from Jesse Bradford.',\n",
       " 'Fergie did not release the debut solo album The Dutchess.',\n",
       " 'Tom Morello developed an interest in music.',\n",
       " 'Joy is a film.',\n",
       " 'Eat Pray Love is a romantic comedy-drama film.',\n",
       " 'Fifth Harmony currently consists of 4 singers.',\n",
       " \"Subhas Chandra Bose's birth month was January.\",\n",
       " 'Tesla, Inc. refuses to make sport utility vehicles.',\n",
       " 'Lake Powell is a reservoir.',\n",
       " 'Tom Brady has been in the Super Bowl zero times.',\n",
       " 'Soundgarden sold more than 22.5 million records worldwide in 2012.',\n",
       " 'Purple Haze is a work of music.',\n",
       " 'Demi Lovato acted on Barney & Friends.',\n",
       " 'Coldplay released an album.',\n",
       " 'Natalie Wood starred in a remake of From Here to Eternity.',\n",
       " 'Doug Ducey served as the CEO of Cold Stone Creamery.',\n",
       " 'My Summer of Love was directed by a Canadian filmmaker.',\n",
       " 'The Odia language is spoken in a place in the center-east outside of India.',\n",
       " 'Ozzy Osbourne was part of Black Sabbath.',\n",
       " 'War of the Worlds is a science fiction film.',\n",
       " 'A Few Good Men is reviewed by Rob Reiner.',\n",
       " 'Machine Gun Kelly did not release A Little More.',\n",
       " 'Brianna Hildebrand was featured in Deadpool 2.',\n",
       " 'Adderall does not contain a levoamphetamine component.',\n",
       " 'Jon Snow is not a prominent character in the novel A Dance with Dragons.',\n",
       " 'Rescue Me premiered on July 21.',\n",
       " '30 Seconds to Mars is an album.',\n",
       " 'The Boston Celtics share an arena with the Bruins.',\n",
       " 'Sherlock (TV series) was released with tie-in novels.',\n",
       " 'Sean Spicer held a position at the RNC from 2015 to 2017.',\n",
       " 'The Hobbit is a high fantasy adventure book series.',\n",
       " 'Rob Lowe was in the cast of at least one television series.',\n",
       " 'Novak Djokovic was born in 1987.',\n",
       " 'Ted Bundy committed assaults in the seventies.',\n",
       " 'Divergent reviewers found the film generic.',\n",
       " 'The island of Trinidad was surrendered by José María Chacón in 1797.',\n",
       " 'Leopold II of Belgium was the king of Belgium second.',\n",
       " 'The Voice was continued for a fourteenth season in 2017.',\n",
       " 'In Too Deep is a 1999 crime thriller film.',\n",
       " 'Steven Spielberg has had a film career.',\n",
       " 'Junun was directed by Tim Burton.',\n",
       " 'A 2003 superhero film featured Michael Clarke Duncan.',\n",
       " 'Charles Marie de La Condamine was a human.',\n",
       " 'Naruto is not an anime.',\n",
       " 'Broadchurch does not have any seasons.',\n",
       " 'Richard Gere won a Screen Actors Guild award.',\n",
       " 'Beasts of the Southern Wild was proposed for Best Picture.',\n",
       " 'Bryan Bertino is the person that was credited for directing The Strangers.',\n",
       " 'Priyanka Chopra promotes causes.',\n",
       " 'Tyrion Lannister is a character.',\n",
       " 'Bruce Springsteen received no honors or awards.',\n",
       " 'Jeff Bezos was born in February.',\n",
       " 'Dwight D. Eisenhower worked with the Chinese government.',\n",
       " 'Programmer includes data analyst.',\n",
       " 'Paranormal pertains to psychic abilities.',\n",
       " 'Bradley Cooper was nominated for multiple Academy Awards.',\n",
       " 'George H. W. Bush was president from 1889 to 1993.',\n",
       " 'The National Council for Peace and Order was formed.',\n",
       " 'Snowden stars Joseph Gordon-Levitt.',\n",
       " 'A hostel is where lodging is done.',\n",
       " 'Marshall McLuhan was active in media discourse.',\n",
       " 'Massachusetts is to the west of the Atlantic Ocean.',\n",
       " 'Veronika Decides to Die is written by James Cameron.',\n",
       " 'System of a Down has only sold albums in Greenland.',\n",
       " 'Ruth Negga is not a film actress.',\n",
       " 'David Carradine was a flower.',\n",
       " 'Dallas, Texas is where Stevie Ray Vaughan was born.',\n",
       " 'Young MC has appeared on TV.',\n",
       " 'Jeff Bezos is not American.',\n",
       " 'Tina Fey has missed out on every chance to win a Writers Guild of America Award.',\n",
       " 'Black Sails was renewed for a fourth season.',\n",
       " 'System of a Down reunited in October.',\n",
       " \"Lymelife takes place in 1970's Long Island and centers on two brothers.\",\n",
       " 'John F. Kennedy is a founder of the Kennedy family.',\n",
       " 'Leonardo Bonucci was named to the UEFA Europa League Squad of the season.',\n",
       " 'Washington Naval Conference resulted in the end of the Nine-Power Treaty.',\n",
       " 'Atomic Blonde is based on a 2017 graphic novel.',\n",
       " 'Machine Gun Kelly is an American musician.',\n",
       " 'Chelsea F.C. is from London.',\n",
       " 'The Illuminati have been shown pulling the strings behind the scenes in various television programs.',\n",
       " 'Twenty One Pilots is a band.',\n",
       " 'Chris Pratt starred in two academically successful films in 2014.',\n",
       " 'Curly Top is a film released in 1935.',\n",
       " 'FC Barcelona has won World titles in soccer.',\n",
       " \"One of David Beckham's middle names is Joseph.\",\n",
       " 'C. S. Forester was a writer of a novel series.',\n",
       " 'Minnesota was inhabited by the Dakota.',\n",
       " \"Lumen Pierce is a character from Showtime's Dexter.\",\n",
       " 'There is an American film called The Belko Experiment.',\n",
       " 'Wyatt Earp was a hunter.',\n",
       " 'Bryan Cranston is a senator.',\n",
       " 'Love & Friendship has only ever been a book.',\n",
       " 'The Nazi Party took totalitarian control over the fascist state of Nazi Germany.',\n",
       " 'Elizabeth Taylor acted on the stage.',\n",
       " 'Pornhub is a website for video sharing.',\n",
       " 'Lumen Pierce appears during a season.',\n",
       " 'Superman has been reimagined in alternative versions.',\n",
       " 'Legion stars an animal.',\n",
       " 'Overwatch is a game.',\n",
       " 'Greece is historically known as Hellas.',\n",
       " 'The Boston Celtics share an arena with the Boston Bruins.',\n",
       " 'Jennifer Hudson is a singing coach.',\n",
       " 'Ron Cobb is a cartoonist.',\n",
       " 'Budapest was the focal point of the American Civil War of 1848.',\n",
       " 'The 2013 NBA draft was not held in New York.',\n",
       " 'The Wonderful Wizard of Oz is where the Wicked Witch of the West made her debut.',\n",
       " 'Taylor Swift is a music artist.',\n",
       " 'Aaliyah had an album that sold over 3 million copies in the US.',\n",
       " 'There are cable broadcasts of Game of Thrones.',\n",
       " 'Warren G. Harding was President of France.',\n",
       " 'Lance Armstrong raced between 2010 and 2011.',\n",
       " 'The Weeknd is a singer from Canada.',\n",
       " \"Kangana Ranaut's feature film debut was in the 2000s.\",\n",
       " 'Belgium has both Dutch-speaking and French-speaking people in its capital.',\n",
       " 'Katie Holmes is an Australian.',\n",
       " 'The Olympic Games is an international single-sport event.',\n",
       " 'Maid in Manhattan was a 2002 movie directed by Wayne Wang.',\n",
       " 'Gold is easily handled.',\n",
       " 'Norovirus causes inflammation of the gastrointestinal tract.',\n",
       " 'Harald V of Norway has a husband.',\n",
       " 'There is a film called Blue Velvet.',\n",
       " 'Roman Reigns is a winner.',\n",
       " 'Ted Bundy was charged with killing.',\n",
       " 'Canada was inhabited.',\n",
       " 'Rumi could be characterized as a Sufi mystic.',\n",
       " 'Alexander Hamilton became a member of a militia company in 1775.',\n",
       " 'Harvey Kurtzman taught cartooning.',\n",
       " 'This Sporting Life was directed by a leading light of the French New Wave.',\n",
       " 'Line of Duty is a series that appears on British Television.',\n",
       " \"The Playboy Club's cast includes an actress.\",\n",
       " 'Australia is a country in the Pacific Ocean.',\n",
       " 'Kristen Bell was in a movie.',\n",
       " 'Ozzy Osbourne is from Birmingham, England.',\n",
       " 'Lake Powell straddles the border between Massachusetts and New Hampshire.',\n",
       " 'Gillian Jacobs appeared in the battle of Hot Tub Time Machine 2.',\n",
       " 'Mountains of the Moon (film) stars an Irish actor born in the 1950s.',\n",
       " 'Rose Kennedy was an American.',\n",
       " \"Britney Spears' ninth EP is Blackout.\",\n",
       " 'Wayne Rooney is not a footballer.',\n",
       " 'Mark Millar has worked on The Secret Service.',\n",
       " 'Abigail Breslin was incapable of starring in Definitely, Maybe.',\n",
       " 'Prometheus is a science-fiction horror 2012 film that involves aliens.',\n",
       " 'Furia is written by a filmmaker.',\n",
       " 'Steve Harvey was the author of Act Like a Lady, Think Like a Man.',\n",
       " 'George Cukor directed the 1933 Pre-Code American dramatic film Little Women.',\n",
       " 'The Taliban Shuffle: Strange Days in Afghanistan and Pakistan is based on Whiskey Tango Foxtrot.',\n",
       " 'Foo Fighters was named only after a food fight over egg foo yong.',\n",
       " 'Eazy-E is the child of Richard and Katie Wright.',\n",
       " 'Ronin is a action-thriller spy film.',\n",
       " 'Pompeii is in Italy.',\n",
       " 'Debbie Reynolds was not on Broadway.',\n",
       " 'Instagram only supports fullscreen videos.',\n",
       " 'Theodore Roosevelt was a naturalist advocate.',\n",
       " 'The Academy Awards has yet to be broadcast on radio.',\n",
       " 'Amy Adams portrayed an artist.',\n",
       " 'Evonne Goolagong Cawley was born on July 31st, 1951.',\n",
       " 'A National Film Award was won by Chokher Bali.',\n",
       " 'Hearing loss may be noise induced.',\n",
       " 'In 2004 Blizzard Entertainment created World of Warcraft.',\n",
       " \"Taiwan's only neighbor is Australia.\",\n",
       " 'In 2008, Big Bang won Artist of the Year.',\n",
       " 'The Adjustment Bureau is a film.',\n",
       " 'In football, Paulo Dybala plays as a forward.',\n",
       " 'Boston was not founded in 1630.',\n",
       " 'Absolute Beginners featured an English band.',\n",
       " 'Emily Ratajkowski was in a commercial for an upscale car brand during a Super Bowl.',\n",
       " 'Newcastle United F.C. is a sports team.',\n",
       " 'Tamera Mowry has twin named Tia.',\n",
       " 'Marcus Allen won a Super Bowl.',\n",
       " 'Patrick Dempsey is in at least one movie.',\n",
       " \"One Direction's Where We Are Tour was a commercial flop.\",\n",
       " 'Usain Bolt is not an Olympian.',\n",
       " 'Spider-Man premiered in the Philippines in April 2002.',\n",
       " 'Peyton Manning played for a football team.',\n",
       " 'Moana is a comic.',\n",
       " 'The Magna Carta was renewed.',\n",
       " 'Telangana contains the town Warangal.',\n",
       " 'Brandenburg Gate was a place where Ronald Reagan gave a speech.',\n",
       " 'The Offspring formed in 2001.',\n",
       " 'The Wolf of Wall Street got five nominations at the Academy Awards in Las Vegas.',\n",
       " 'Ballet Shoes was released on British television.',\n",
       " 'The Great British Sewing Bee is a show categorized as a game.',\n",
       " 'Dennis Hopper had an acting career.',\n",
       " 'Helen Mirren is the winner of an Olivier Award and a Tony Award.',\n",
       " 'Florence Ballard struggled with poverty.',\n",
       " 'Deadpool is the eighth installment in a series.',\n",
       " 'Tyler, The Creator died as Tyler Gregory Okonma.',\n",
       " 'Tim Allen was on a sitcom.',\n",
       " 'Richard Gere has no experience acting.',\n",
       " 'Octavia Spencer refused to work on the film Snowpiercer.',\n",
       " 'Room is directed by Judd Apatow.',\n",
       " 'Adele released her third studio album in 2015.',\n",
       " 'Today, elephants are put on display.',\n",
       " 'Kobe Bryant was a member of the L.A. Lakers.',\n",
       " 'The House at Pooh Corner was only sung by A. A. Milne.',\n",
       " 'Gift of the Night Fury stars the voice of an actress whose birthday was in April.',\n",
       " 'British Airways (BA) is the third largest behind EasyJet in the UK based on passengers carried.',\n",
       " 'Louis Tomlinson was an extra.',\n",
       " 'Up All Night is an album by an pop boy band from the United Kingdom and Ireland.',\n",
       " 'Marc Maron is a person.',\n",
       " 'Alec Baldwin portrayed a character made by Tom Clancy.',\n",
       " 'There is a professional wrestler name John Cena.',\n",
       " 'Christie Brinkley has been named one of the most attractive women ever by Playboy.',\n",
       " 'Prison Break centers about the story of two brothers.',\n",
       " 'Overwatch is played exclusively as single player.',\n",
       " 'The United Kingdom encompasses Wales.',\n",
       " \"Andy Fletcher's has a longer full name.\",\n",
       " 'Rachel McAdams was in a film.',\n",
       " 'Jerry Maguire was inspired by a sports competition named Leigh Steinberg.',\n",
       " 'Jon Pertwee was in a series.',\n",
       " 'Mrs Henderson Presents is a British movie.',\n",
       " 'Tom Felton was on screen.',\n",
       " 'Kristen Bell is an acrobat.',\n",
       " 'Saratoga includes Mark Hamill.',\n",
       " 'There has been an appearance by Alicia Keys in a 2008 American drama film.',\n",
       " 'Bryan Adams has won awards.',\n",
       " 'Nelson Mandela was a revolutionary against apartheid.',\n",
       " 'Metro Boomin was born in 1993.',\n",
       " 'Velaiilla Pattadhari 2 was invented by an Indian graphic designer.',\n",
       " \"Tall Story's director was born in Bolivia.\",\n",
       " 'Catherine of Alexandria is also known by other titles.',\n",
       " 'Alpha Centauri is a few light years from the Sun.',\n",
       " 'Remote Control Productions has provided the scores for Transformers.',\n",
       " 'Yellow Flicker Beat has been performed at an event.',\n",
       " \"Gerd von Rundstedt's birth date was December 12, 1875.\",\n",
       " 'The Syrian Desert covers parts of northeastern Jordan.',\n",
       " 'Don Henley worked with Glenn Frey.',\n",
       " 'Ad-Rock is single.',\n",
       " 'Jesus preached his words orally.',\n",
       " 'Mauritius was a colony.',\n",
       " \"Patricia Lea ``Patty'' Jenkins was born in the 70's.\",\n",
       " 'Austria has nine states.',\n",
       " 'Nigeria has roughly 184 million inhabitants.',\n",
       " 'Stanley Tucci is not American.',\n",
       " 'Suits (TV series) has fictional people such as Jessica Pearson and Mike Ross.',\n",
       " 'Rebecca Hall never played a news anchor.',\n",
       " 'Black Sabbath was only a jazz band.',\n",
       " 'Betty Buckley has received multiple Grammy Award nominations.',\n",
       " 'Joseph Stalin raised money via underground activities.',\n",
       " 'Prison Break won an award.',\n",
       " \"Thirteen's director was Catherine Hardwicke.\",\n",
       " \"Schindler's List was the recipient of seven Academy Awards.\",\n",
       " 'The Bourne Supremacy has an actress called Nicky Parsons.',\n",
       " 'Everton F.C. is part of the premier league.',\n",
       " \"Bernard Madoff employed his uncle Shana as his firm's rules and compliance officer.\",\n",
       " 'Matthew McConaughey was in a film.',\n",
       " 'Francois de Belleforest translated anything except the works of Lodovico Guicciardini.',\n",
       " 'Alandi is a city council.',\n",
       " 'All My Children is set in Pine Valley.',\n",
       " 'Charles Mackay writes songs.',\n",
       " 'Mirka Federer is of Slovak heritage.',\n",
       " 'Justin Timberlake made an appearance on The All-New Mickey Mouse Club.',\n",
       " 'Chinese people are part of the minority group of Cambodia.',\n",
       " 'Bill Gates was CEO of Microsoft.',\n",
       " 'Inception was unable to cast Ellen Page.',\n",
       " 'The Wire is a TV series.',\n",
       " 'Joe Manganiello has worked with Channing Tatum.',\n",
       " 'Jackie Robinson lost the National League Most Valuable Player Award in 1949.',\n",
       " 'Oh Yeon-seo was born.',\n",
       " 'Toyota is one of the smallest companies to encourage the mass-market adoption of hybrid vehicles in the world.',\n",
       " 'The Divergent Series: Allegiant is based on the novel of the same name.',\n",
       " 'Bill Nye invented a tube.',\n",
       " \"Assassin's Creed was only released for the personal computer.\",\n",
       " 'Winnie Harlow was part of the twenty-first cycle of a U.S. film.',\n",
       " 'Pulp Fiction has been regarded as a masterpiece and is a classic.',\n",
       " 'Lionel Messi won an accolade at the 2008 Olympics.',\n",
       " 'Jack Paar was an entertainer.',\n",
       " 'Zooey Deschanel plays keyboards.',\n",
       " 'L. Frank Baum created the Wicked Witch of the West.',\n",
       " 'The Mummy is a film.',\n",
       " 'Yardie is a short story.',\n",
       " 'Rebecca Hall does not act.',\n",
       " 'Johan Heldenbergh was passed over for a role in Moscow, Belgium.',\n",
       " 'Harmanpreet Kaur was a player in Tests.',\n",
       " 'Luke Evans starred in Dracula Untold.',\n",
       " 'The Renaissance was a period of time.',\n",
       " 'Loki is a god in mythology.',\n",
       " 'John McCain works in politics.',\n",
       " 'Tim Henman is a carp.',\n",
       " 'Jessica Lange acts on Broadway.',\n",
       " 'Get Out stars an actor.',\n",
       " 'Robert F. Kennedy was the writer of The Enemy Within.',\n",
       " 'All My Children is set in Pennsylvania.',\n",
       " 'Drake (musician) is in accounting his whole life.',\n",
       " 'Joseph Stalin was a Russian politician.',\n",
       " 'Jet Li made a debut.',\n",
       " 'RuPaul is a recording microphone.',\n",
       " 'John Bradley-West refused to be in the TV series Game of Thrones.',\n",
       " 'Turkey is not a founding member of The G20.',\n",
       " \"The Kitti's hog-nosed bat is capable of true and sustained flight.\",\n",
       " 'Puerto Rico is a piece of land surrounded by water.',\n",
       " 'Bobby Moore was in an order in Britain.',\n",
       " \"Journey's fourth album was Infinity.\",\n",
       " 'Felicity Jones was incapable of portraying Jane Hawking.',\n",
       " 'Delhi shares a border with Uttar Pradesh.',\n",
       " 'Adam Sandler was born in 1977.',\n",
       " 'Coldplay released an EP with Parlophone.',\n",
       " 'X-Men: Days of Future Past is a film based on Marvel Comics.',\n",
       " 'The Netherlands is densely populated.',\n",
       " 'George Cukor directed films.',\n",
       " 'Lady Gaga is a lizard, songwriter, and actress.',\n",
       " 'Richard Curtis worked with Sir Lenny Henry.',\n",
       " 'Russell Brand is a performer.',\n",
       " \"Grey's Anatomy focuses on lives of characters that are physicians.\",\n",
       " 'Iron Man was produced.',\n",
       " 'Ella Enchanted featured Heidi Klum.',\n",
       " 'Patrick Bateman is the villain protagonist of the 2000 film adaptation American Psycho.',\n",
       " 'Karan Johar is a screenwriter.',\n",
       " \"King Kong's director is Peter Jackson.\",\n",
       " 'Robert Duvall did not star in Tender Mercies.',\n",
       " 'Red Hot Chili Peppers were formed in 1990.',\n",
       " 'Willow Smith is a professional actress.',\n",
       " \"Barack Obama's planned presidential library will be in Chicago.\",\n",
       " 'On 29 May 1630, Charles II of England was born.',\n",
       " 'Drop Dead Gorgeous follows the contestants in a beauty competition.',\n",
       " 'Richard Gere starred in an American film.',\n",
       " 'The House of Lusignan ruled much of Europe.',\n",
       " 'A season of Glee aired in 2015.',\n",
       " 'Paul McCartney is a three-time inductee into the Rock and Roll Hall of Fame.',\n",
       " 'Man of Steel (film) was directed by Zack Snyder.',\n",
       " 'Muhammad Ali was involved in several matches.',\n",
       " 'Mark Bomback is a person.',\n",
       " 'Centralia, Pennsylvania is a place that is designated as a borough.',\n",
       " 'Jeff Bridges played Otis \"Bad\" Blake in Crazy Heart.',\n",
       " 'Buzz Aldrin is an American who has worked as an engineer.',\n",
       " 'Steffi Graf won 5 consecutive majors.',\n",
       " 'Ramona Marquez is from somewhere other than London.',\n",
       " 'Clarence Thomas went to college.',\n",
       " 'Galaxy Quest is a comedy movie.',\n",
       " 'Reviewers found Divergent unoriginal.',\n",
       " 'Destiny was released in September for the Playstation 4.',\n",
       " 'Barbados is an Atlantic island.',\n",
       " 'Tina Fey joined SNL as a writer.',\n",
       " 'Vince Vaughn appeared in the 1993 sports film Rudy.',\n",
       " 'Jennifer Hudson was an American Idol finalist.',\n",
       " 'Water does not prevail at standard ambient temperature and pressure.',\n",
       " 'Tiger Woods won zero awards at The Open Championship.',\n",
       " 'William Shatner is in Boston Legal.',\n",
       " \"The Kingdom of Georgia re-asserted its sovereignty by the 1390's.\",\n",
       " 'Paris Hilton is incapable of being a recording artist.',\n",
       " 'Gene Hackman was in a film.',\n",
       " 'Narcolepsy can disrupt sleep.',\n",
       " 'Annie Parisse is not an actress.',\n",
       " 'There are programs targeted at kids aged 0-7 on Nickelodeon.',\n",
       " 'Furia is written by someone who collaborated with Alexandre Aja and it is French.',\n",
       " 'Thiokol was also known as ATK Launch Systems Group and it was American.',\n",
       " 'Emmy Rossum is a director.',\n",
       " 'Will Smith was considered as a possible director of Django Unchained.',\n",
       " 'Amazon Web Services included tools for the inter-networking of physical devices.',\n",
       " \"H. H. Holmes's full name was Herman Webster Mudgett.\",\n",
       " 'Appian Way Productions is rarely a film production company.',\n",
       " 'As the World Turns is set in Illinois.',\n",
       " 'Billy Joel is not involved in the music industry.',\n",
       " \"Mexico's war with France began in 1838.\",\n",
       " 'Shakira is only a chef.',\n",
       " 'There is a movie that received negative reviews from critics called Vacation (2015 film).',\n",
       " 'Lincoln Motor Company was founded in 1919.',\n",
       " 'Rebecca Hall appeared in The Awakening.',\n",
       " 'Chris Evans (presenter) hosted Drivetime.',\n",
       " 'Diana Ross was in the Supremes.',\n",
       " 'A Fine Romance stopped airing before 1981.',\n",
       " 'Romelu Lukaku played for a sports team.',\n",
       " 'The United States was not once 13 British colonies.',\n",
       " 'Mexico has a population of over 100 million.',\n",
       " 'Rex is voiced by Hugo Weaving.',\n",
       " 'The Czech Republic has 10.125 million inhabitants.',\n",
       " 'Adolf Dassler was the founder of the sportswear company Adidas.',\n",
       " 'Elvis Presley is dead.',\n",
       " \"Turn: Washington's Spies was canceled.\",\n",
       " 'Ji Chang-wook was born in the 1980s.',\n",
       " 'Hairspray (2007 soundtrack) is certified Platinum by the RIAA.',\n",
       " 'Friends with Benefits features Mila Kunis.',\n",
       " \"Arnold Vinick is a character that doesn't appear in The West Wing.\",\n",
       " 'Oscar Wilde was an essayist.',\n",
       " 'The Bostonians (film) is incapable of being a romantic film.',\n",
       " 'Natalie Wood was born before 1946.',\n",
       " 'Jemaine Clement has played an instrument.',\n",
       " 'The Boys from Brazil features Gregory Peck.',\n",
       " 'Chris Hemsworth was the lead role in A Perfect Getaway.',\n",
       " 'Greenwich is in England.',\n",
       " \"Spain isn't a country.\",\n",
       " 'Kristen Stewart is an actress.',\n",
       " 'Look at My Dab is by a band formed in 2009.',\n",
       " 'After World War 2, the United Nations was established.',\n",
       " 'Transformers was advertised.',\n",
       " 'Charles Haley is an American football player.',\n",
       " 'Fantastic Beasts and Where to Find Them was released worldwide in November 18, 2016.',\n",
       " 'Kingdom Hearts is a TV series.',\n",
       " 'Hugo Weaving voiced Rex in Babe.',\n",
       " 'Kate Nash was dropped from her record label in 2011.',\n",
       " 'Neil Young began performing in Canada.',\n",
       " 'Andy Fletcher is known as \"Fletch\" by his friends.',\n",
       " 'Lipstick Under My Burkha is a novel.',\n",
       " 'Blind Faith was a blues rock band from England.',\n",
       " 'The New York Times was created in the city of the same name.',\n",
       " 'Several films feature Kajal Aggarwal as the female lead.',\n",
       " 'Jacki Weaver worked in films.',\n",
       " 'The G20 economies account for part of the world population.',\n",
       " 'North Korea is bordered by Russia.',\n",
       " 'Cyndi Lauper is an American singer.',\n",
       " 'History of art includes various subjects.',\n",
       " 'Ramzan Kadyrov was born in the 20th century.',\n",
       " 'Jennifer Aniston is married to actor and writer Justin Theroux.',\n",
       " 'Abraham Lincoln was a Republican.',\n",
       " 'Dopamine is a substance.',\n",
       " \"The Great Waldo Pepper's cast included American actress Margot Kidder.\",\n",
       " 'The Aegean Sea has a connector.',\n",
       " \"It's Always Sunny in Philadelphia premiered on FX.\",\n",
       " 'Michael Jackson was born in 2009.',\n",
       " 'Ulysses S. Grant was in a war.',\n",
       " \"Schindler's List premiered in New York City.\",\n",
       " 'A Nobel Prize has been awarded to Bob Dylan.',\n",
       " 'Ann Romney died April 16, 1949.',\n",
       " 'Florida is between the Gulf of Mexico, the Atlantic Ocean, and the Straits of Florida.',\n",
       " 'Dog Day Afternoon stars John Cazale.',\n",
       " 'About a third of people do not develop shingles at some point in their life.',\n",
       " 'Lightning rods can be made from copper.',\n",
       " 'Harry Potter is a fantasy composition.',\n",
       " 'Alexis Knapp stars in Pitch Perfect 3.',\n",
       " 'Hungary was founded during a conquest.',\n",
       " 'Margot Kidder is an actress.',\n",
       " 'Drax the Destroyer is a fictional character.',\n",
       " 'The football team of Georgia Institute of Technology is the Yellow Jackets.',\n",
       " 'Salman Khan was in a romantic drama.',\n",
       " 'Juliette Binoche toured with a modern dance production.',\n",
       " 'Matt Damon received awards for his portrayal of Scott Thorson in Behind the Candelabra.',\n",
       " 'Buzz Aldrin is an American who has worked.',\n",
       " 'Arya Stark is trained in the Braavosi style of sword fighting.',\n",
       " 'Splatoon 2 is developed by a company.',\n",
       " 'Brave was produced by an animation studio.',\n",
       " 'Death in Paradise (TV series) was created by an Australian screenwriter.',\n",
       " 'A production company founded Eleveneleven.',\n",
       " 'Demi Lovato is an advocate for the lesbian, gay, bisexual, transgender community.',\n",
       " 'Jackie Chan is a Cantopop star.',\n",
       " 'The Walt Disney Company does not own the ABC broadcast television network.',\n",
       " 'Dog Day Afternoon stars at least one actor.',\n",
       " 'Elephants have predators.',\n",
       " 'The Lion King is a story.',\n",
       " 'Short Term 12 is a film from the United States.',\n",
       " 'John Wayne Gacy is convicted of killing someone intentionally.',\n",
       " 'The Czech Republic does not have 10.5 million inhabitants.',\n",
       " 'Gary Ridgway worked for Kenworth at a truck factory.',\n",
       " 'Jennifer Aniston is a woman.',\n",
       " 'Linux is a software system that manages and provides common services for computer programs in a way that behaves in a manner similar to a Unix system.',\n",
       " 'William Shatner was an actor.',\n",
       " 'Kazakhstan is a country.',\n",
       " 'One of the producers of Star Wars: The Force Awakens is the president of Lucasfilm.',\n",
       " 'Mission: Impossible aired from 1966 to 1973.',\n",
       " 'William Shatner earned two Emmy Awards.',\n",
       " 'The Backstreet Boys are a nineties boy band.',\n",
       " 'The Supernatural pilot premiered in 2006.',\n",
       " 'Shawn Michaels was a WWF Grand Slam Champion.',\n",
       " 'The Himalayas has some of its mountains in Pakistan.',\n",
       " 'Slovenia uses the euro.',\n",
       " 'Backstreet Boys was unable to release their 8th album.',\n",
       " 'Same-sex marriage is illegal in Alabama.',\n",
       " 'Steven Spielberg turned down the opportunity to work  on the 1993 film Jurassic Park.',\n",
       " 'Red Velvet (band) is South Korean female group formed by a South Korean company S.M. Entertainment.',\n",
       " 'Give Me Everything is a Devo song.',\n",
       " 'Martina Navratilova plays tennis.',\n",
       " 'James Marsden lost prominence with his portrayal of Scott Summers.',\n",
       " 'Russia has the smallest stockpile of weapons of mass destruction.',\n",
       " 'The Wild Thornberrys aired in the United Kingdom.',\n",
       " 'To Kill a Mockingbird explores the theme of economic injustice.',\n",
       " 'Travis Scott released his second mixtape in 2014.',\n",
       " 'Django Unchained is only a game.',\n",
       " 'Kate & Leopold is a 2017 film.',\n",
       " 'Sean Combs worked as a talent director with Uptown Records.',\n",
       " 'David Carradine acted.',\n",
       " 'Eliza Dushka is incapable of having any roles in films.',\n",
       " 'Audrey Hepburn was ranked as the third-greatest female screen legend in Golden Age Hollywood.',\n",
       " 'The Flash is based on a DC Comics character.',\n",
       " 'Alexander Hamilton avoided a college that is now called Columbia University.',\n",
       " \"The 84th Academy Awards' winners included Midnight in Paris.\",\n",
       " 'Artemis was only the Hellenic mortal of childbirth.',\n",
       " 'The current Doctor is the twelfth.',\n",
       " 'Elton John was inducted into the Songwriters Hall of Fame in 1998.',\n",
       " 'The Bible contains early Christian writings.',\n",
       " 'Eagles second live album was Hell Freezes Over.',\n",
       " 'Dragon Ball has been made into a large number of video games.',\n",
       " 'Rich Girl (Gwen Stefani song) was nominated for an award at the 47th Grammy Awards.',\n",
       " 'Ellen DeGeneres appeared on a TV program.',\n",
       " 'American Horror Story is a TV spectacle.',\n",
       " \"Seinfeld's quotes are catchphrases in pop culture.\",\n",
       " 'A British sitcom that ended on June 14 was produced by Sue Vertue.',\n",
       " 'Kristen Bell is an actress.',\n",
       " 'Susan Sarandon is an BAFTA Award winner.',\n",
       " 'Stanley Tucci won an Emmy for his work.',\n",
       " 'The Kathiawar peninsula is three thousand miles from Gujarat.',\n",
       " \"Penny Dreadful's season was eight episodes long.\",\n",
       " 'Mark Wahlberg co-stars in an American reality series.',\n",
       " 'Ringo Starr sang for the Beatles.',\n",
       " 'Saamy is a film.',\n",
       " \"Judy Greer's birthday is May 20.\",\n",
       " 'Abraham Lincoln died of natural causes.',\n",
       " 'Trevor Noah was born in the 20th century.',\n",
       " 'Clues is an episode of The Singing Detective.',\n",
       " \"Transformers: Age of Extinction wasn't released in 2014.\",\n",
       " 'Harvey Kurtzman taught at the School of Visual Arts.',\n",
       " 'Horseshoe Falls is one of three waterfalls along the Canada-US Border.',\n",
       " 'Johnny Mnemonic was released in the United States in 1995.',\n",
       " 'Tina Turner made a song for a film.',\n",
       " \"World War I involved the world's economic great powers.\",\n",
       " 'Colm Feore is a stage and television actor.',\n",
       " \"Grey's Anatomy is filmed in California.\",\n",
       " 'The Challenge was later abridged to its current name.',\n",
       " 'Arrested Development is set in Newport Beach, a city in San Diego County.',\n",
       " 'Atlantic City was only made in 2001.',\n",
       " 'Spider-Man is relatable.',\n",
       " 'The Midwestern United States includes Minnesota.',\n",
       " \"Sociology is the study of society's institutions.\",\n",
       " 'Zendaya is in the song \"Watch Me\".',\n",
       " 'Broadcast News is a 1987 comedy-drama film.',\n",
       " 'Maria I of Portugal existed as Queen of Portugal.',\n",
       " 'The Great Debaters includes Nate Parker in a starring role.',\n",
       " 'Billy Joel is in the performing arts industry.',\n",
       " 'Northeast megalopolis includes small urban centers.',\n",
       " 'Green Day won an award for Record of the Year for \"Boulevard of Broken Dreams.\".',\n",
       " 'Easy Virtue is a TV show.',\n",
       " 'Matthew McConaughey was in the film Amistad directed by Steven Spielberg.',\n",
       " 'Collision Course was released in 2004.',\n",
       " 'Bronson (film) starred Tom Hardy.',\n",
       " 'Marcus Rashford is a professional tennis player.',\n",
       " 'The Midwestern United States includes Minnesota and Nebraska.',\n",
       " \"Denmark's government and national parliament is located in Copenhagen.\",\n",
       " 'Hippocrates was alive between 1991-2010.',\n",
       " 'The Avengers (2012 film) was written by an American screenwriter born in the nineteen sixties.',\n",
       " 'Jenni Rivera won at least one award in the 21st century.',\n",
       " 'Blue Velvet stars an actress.',\n",
       " \"Bobby Moore's caps record for outfield players was beaten by David Beckham.\",\n",
       " 'Black Widow appears in comic books.',\n",
       " \"South Korea's alphabet hindered the general population from easily learning to read and write.\",\n",
       " 'There was a politician named Abraham Lincoln.',\n",
       " 'One actress is Sophia Abrahão.',\n",
       " 'Justin Trudeau attended school.',\n",
       " 'Horrible Bosses is an American comedic film.',\n",
       " 'Roald Dahl became an acting wing commander.',\n",
       " 'Mel Gibson acted in a lead role in the film Gallipoli.',\n",
       " 'Machu Picchu is on a mountain ridge 210 m above sea level.',\n",
       " 'Daniel Day-Lewis was born in London.',\n",
       " 'The Hangover Part III includes Bradley Cooper, Ed Helms, Zach Galifianakis, Justin Bartha, and Ken Jeong, Jeffrey Tambor, Heather Graham, Mike Epps, Melissa McCarthy and John Goodman.',\n",
       " 'Superman the film was released in 1978 .',\n",
       " 'Alexander Lebedev is a businessman.',\n",
       " 'Taylor Swift is signed to an Australian record label.',\n",
       " 'Anthony Meindl has coached and worked with Chaz Bono.',\n",
       " 'Father of the Bride has Martin Short in a starring role.',\n",
       " 'John Prendergast founded Enough Project.',\n",
       " 'Acting is a profession of Louis Tomlinson.',\n",
       " 'CeeLo Green is a person.',\n",
       " 'The Democratic Republic of Congo is a country in Central Africa.',\n",
       " 'Joaquin Phoenix played a supporting role in To Die For in 2005.',\n",
       " 'Mike Portnoy was in Dream Theater.',\n",
       " 'One of the former presidents of the United States of America was John F. Kennedy.',\n",
       " 'Amsterdam Airport Schiphol is unable to serve as a hub for Delta Air Lines.',\n",
       " 'Yamaha Corporation produces items.',\n",
       " 'Tom Hanks was an executive producer.',\n",
       " 'Sarah Michelle Gellar co-founded a company.',\n",
       " 'Angela Lansbury is from London.',\n",
       " 'Jake Gyllenhaal is in Prisoners as an actor.',\n",
       " 'Ancient Algeria has known many empires and dynasties.',\n",
       " 'The wife of Richard Nixon served as a First Lady of the United States.',\n",
       " \"Saif Ali Khan's career declined in a box.\",\n",
       " 'Jim Henson worked as a director.',\n",
       " 'Robin was conceived as a vehicle to attract the dead.',\n",
       " 'Roald Dahl was listed as the 16th greatest British writer since 1945.',\n",
       " 'The Long Run was solely written by Don Henley.',\n",
       " 'American Gods was a book first published in 2001.',\n",
       " 'Anschluss is used to label an occurrence on 12 March.',\n",
       " 'The Outcasts was made available in limited theaters.',\n",
       " 'Ellen Burstyn was born after the filming of Requiem for a Dream.',\n",
       " 'Edward VIII was royalty.',\n",
       " 'Giada De Laurentiis has been a contributor to a morning TV program.',\n",
       " 'Farrah Fawcett is immune to all disease.',\n",
       " 'Oliver Reed was an actor in a movie in 1975.',\n",
       " 'Cowboy was only performed during the Super Bowl XVIII halftime show.',\n",
       " 'Reg Watson created Neighbours.',\n",
       " 'KFC opened a restaurant abroad by the mid-1960s.',\n",
       " 'Lust for Life is a biographical movie.',\n",
       " 'Varun Dhawan has acted in films.',\n",
       " 'Caitlyn Jenner officially transformed her name and gender in September 2015.',\n",
       " 'Anonymous is a single person.',\n",
       " 'Little Miss Sunshine is a movie.',\n",
       " 'TD Garden hosted three games of the 2008 NBA Finals with the Celtics.',\n",
       " 'Chris Froome is not a cyclist.',\n",
       " 'Doctor Who is made in Britain.',\n",
       " 'Tom Cruise was in a film based on a fictional novel.',\n",
       " 'BRIT School was established in 1922 in London.',\n",
       " 'Helen Mirren won an Olivier in 2013 and a Tony in 2015.',\n",
       " 'Kolyma has reserves of antimony.',\n",
       " 'Buckingham Palace possesses vibrantly colored scagliola.',\n",
       " 'Kafka stars an actor.',\n",
       " 'The Wachowskis directed most of the episodes of Sense8, leaving the rest to frequent collaborators.',\n",
       " 'Theodore Roosevelt lived a strenuous lifestyle and died when he was older.',\n",
       " 'The Catalyst was the first single off of A Thousand Suns.',\n",
       " 'Marion Cotillard won an Academy Award.',\n",
       " 'The Jacksons had 12 episodes.',\n",
       " 'Paul Newman co-founded a company with author A. E. Hotchner.',\n",
       " 'Chris Hardwick was born in 1971.',\n",
       " 'Richard Nixon was defeated by Vice President Hubert Humphrey in a presidential election.',\n",
       " 'Fahrenheit 451 was directed by Francois Truffaut.',\n",
       " 'Rescue Me is a TV series.',\n",
       " '21 Jump Street was released on March 16, 2012.',\n",
       " 'Denis Leary is a tire iron.',\n",
       " 'The Dayton Agreement was also known as The General Framework Agreement for Peace in Turks and Caicos.',\n",
       " 'Werner Herzog is a German producer.',\n",
       " 'Try was recorded by the singer Pink.',\n",
       " 'Allen Iverson went to Georgetown University.',\n",
       " 'Vince Vaughn started his acting career in the 2000s.',\n",
       " 'Muhammad was a person.',\n",
       " 'Tiger Woods won 15 professional major golf championships.',\n",
       " 'Gang Signs & Prayer is an album by a recording artist in the grime music genre.',\n",
       " 'Tamera Mowry has a brother named Tia Mowry.',\n",
       " \"Zeus is Rhea's child.\",\n",
       " 'Slash is in a band.',\n",
       " 'The Supernatural pilot premiered on Netflix.',\n",
       " 'Fahrenheit 451 was written in America.',\n",
       " 'Henrietta Maria of France passed away on the 10th of September.',\n",
       " 'Newspapers exclude listings.',\n",
       " 'Suriname maintains economic ties with the Kingdom of the Netherlands since their independence in 1975.',\n",
       " 'Desperate Housewives played on ABC.',\n",
       " 'Steve Irwin was Bolivian.',\n",
       " 'Ruth Negga did not portray Mildred Loving in Loving.',\n",
       " 'Demon Days is an album.',\n",
       " 'Pamela Anderson is a person who acts.',\n",
       " 'Angelina Jolie was in Wanted as an actress.',\n",
       " 'Fairfield Grammar School was founded in 1898.',\n",
       " 'Jessica Chastain was in movies of American production.',\n",
       " 'WeChat is only an encryption app.',\n",
       " 'Cougar Town was an American television sitcom that first aired in September 2009.',\n",
       " 'Martina Hingis was born on September 30, 1980.',\n",
       " 'Toy Story 3 is an American 3D computer-animated comedy drama film.',\n",
       " 'No Reservations features Bob Balaban.',\n",
       " 'Bryan Cranston was nominated for the Academy Award for Best Actor for Trumbo.',\n",
       " 'In Her Shoes was adapted from a novella.',\n",
       " 'DJ Khaled assisted in the production of the pop albums Me, Myself, & I by Fat Joe.',\n",
       " 'Gone with the Wind (novel) is an American play from 1936.',\n",
       " 'Nicolas Cage is an American actor.',\n",
       " 'Zendaya is a dancer.',\n",
       " 'San Francisco is a American city.',\n",
       " \"The Beastie Boys' fifth studio album was Hello Nasty.\",\n",
       " 'Jessica Lange made her film debut in the remake of a movie from 1933.',\n",
       " 'The iPhone 5C was compared to the discontinued 5S.',\n",
       " 'Texas was once ruled by another country.',\n",
       " 'Selene serves as the central country in a 2003 action horror film.',\n",
       " 'How I Met Your Mother was cancelled after only one season.',\n",
       " 'Umbrella is on a collection of recordings.',\n",
       " 'Mr. Freeze is an friend of Batman.',\n",
       " 'The Supernatural pilot premiered in the mid 2000s.',\n",
       " 'The Underworld film series has a combined net worth of $212 million.',\n",
       " 'Big Bang won 3 awards in Japan.',\n",
       " 'Lonesome Dove (miniseries) had 18 wins at the 1989 Emmy Awards.',\n",
       " 'Demi Lovato released a single.',\n",
       " 'Lightning rods sometimes consists of aluminum.',\n",
       " \"Malcolm Young's birth year is 1953.\",\n",
       " 'Boris Karloff acted in media.',\n",
       " \"Dolly Parton didn't star in The Best Little Whorehouse in Texas.\",\n",
       " 'The X Factor is a TV series.',\n",
       " 'Steven Spielberg worked on the 2005 film War of the Worlds.',\n",
       " 'Ellyse Perry was born in 2000.',\n",
       " 'The Flash is based on the superhero Flash.',\n",
       " 'James Blake (musician) has released work under a moniker.',\n",
       " 'The Renaissance started in Florence.',\n",
       " 'Barbara Bain only acts in film.',\n",
       " 'Miami Blues featured Jennifer Jason Leigh.',\n",
       " 'Algeria is a perfume brand.',\n",
       " 'The Nintendo Switch was released in March 2017 and uses Joy-Con wireless controllers.',\n",
       " 'Gone with the Wind is a book.',\n",
       " 'The Russian Federation is the official name of Russia.',\n",
       " 'Hong Kong keeps up its independent executive, legislative, and judiciary powers.',\n",
       " 'Michael Keaton is an actor.',\n",
       " 'In an index pertaining to alpha cities, Tokyo ranked fourth.',\n",
       " 'Josh Hartnett is not a movie producer.',\n",
       " 'Greyson Chance is French.',\n",
       " 'Mark Ruffalo has avoided film production entirely.',\n",
       " 'The Strangers is an American film.',\n",
       " 'Back to the Future Part II is science fiction.',\n",
       " 'The Portuguese Empire is also known as something else.',\n",
       " 'John McEnroe was a sports player.',\n",
       " 'Bob Dylan was alive in 1941.',\n",
       " 'Supernatural is the longest-running American fantasy series.',\n",
       " 'The Bengali language is the language of two national anthems.',\n",
       " 'Pitch Perfect 3 stars Anna Kendrick, Anna Camp, Rebel Wilson, Brittany Snow, Hailee Steinfeld, Alexis Knapp, Ester Dean, Hana Mae Lee, Chrissie Fit, Kelley Jakle.',\n",
       " 'Charles Marie de La Condamine was American.',\n",
       " 'Gabon is located in Africa.',\n",
       " 'Dolly Parton has an album.',\n",
       " 'Central America contains agriculture.',\n",
       " 'The German Shepherd is the fourth-most registered breed by The Kennel Club.',\n",
       " 'Tori Kelly is a singer.',\n",
       " 'Paul Walker was born in September.',\n",
       " 'Marlon Brando took a four-year hiatus.',\n",
       " 'Yamaha Corporation produces musical instruments.',\n",
       " 'The Twilight Zone is a 60s horror film.',\n",
       " 'Instant film contains chemicals that develop it.',\n",
       " 'Teen Wolf premiered before the 2011 MTV Movie Awards.',\n",
       " 'The Major League Baseball Most Valuable Player Award has been presented to a member of the Miami Marlins.',\n",
       " 'South Korea is a country.',\n",
       " 'Lee Majors is a performer.',\n",
       " 'The Academy Honorary Award was removed for an award previous called the Special Award.',\n",
       " 'Google specializes in Internet-related services and products.',\n",
       " 'Oh Yeon-seo was born in Korea.',\n",
       " 'Mr. Nobody was written exclusively by Elmo.',\n",
       " 'Leslie Uggams appeared in Deadpool.',\n",
       " 'NASA has led most US space exploration efforts since the 1950s.',\n",
       " 'Born This Way is a piece of music.',\n",
       " 'The Simpsons has aired on television.',\n",
       " \"The Democratic Party (United States)'s caucus in the House of Representatives has a minority of conservative Democrats.\",\n",
       " \"Big Brother 18 (UK)'s narration is done by Marcus Bentley.\",\n",
       " 'The Wolfman (2010 film) was directed by nobody.',\n",
       " 'Sleep can be disrupted by medical conditions.',\n",
       " 'Jesus was baptized by John the Baptist and lived for 33 years.',\n",
       " 'Homeland was developed by Alex Gansa.',\n",
       " 'Splatoon 2 is playable by up to five players in online matches.',\n",
       " 'The Mickey Mouse Club is a television series that Christina Aguilera appeared on.',\n",
       " 'Laurie Hernandez is an American artistic Olympic gymnast.',\n",
       " 'The Champ stars a film director.',\n",
       " 'Fox is a major film studio.',\n",
       " 'Someone born in 1946 stars in Father of the Bride.',\n",
       " 'An original soundtrack was released with Sherlock (TV series).',\n",
       " 'Despicable Me 3 only stars the voice of Steve Carell.',\n",
       " 'Elizabeth Taylor launched a perfume brand.',\n",
       " 'Christian Bale was born in February.',\n",
       " 'Just Dance was song that gained success gradually and it was successful.',\n",
       " \"Lymelife is set in 1970's Long Island.\",\n",
       " 'There is a film called Back to the Future Part II.',\n",
       " 'O. J. Simpson received a criminal charge for armed robbery.',\n",
       " 'Pablo Picasso failed to be a painter.',\n",
       " 'Al Capone had an ailment.',\n",
       " 'Semitic languages are spoken by more than 330 million dogs.',\n",
       " 'Peyton Manning is not the son of an NFL quarterback.',\n",
       " 'Jazz Jennings only appears on LiveLeak.',\n",
       " 'Evan Rachel Wood appeared in movies.',\n",
       " 'Everybody Needs a Best Friend was composed.',\n",
       " 'The 1983-84 NBA season ended with the MLB Championship.',\n",
       " 'Zlatan Ibrahimović has played for a team.',\n",
       " 'Philip V of Spain served as the King of Spain.',\n",
       " 'Thiokol was a corporation and it was American.',\n",
       " 'Michael Jackson is the eight child of the Jackson family.',\n",
       " 'Raveena Tandon starred in Laadla.',\n",
       " 'The World Science Festival is New York headquartered.',\n",
       " \"Kangana Ranaut's feature film debut was in 2001.\",\n",
       " 'Reuters transmits news in at least one language.',\n",
       " 'Social anxiety disorder is characterized by fear in a variety of social situations.',\n",
       " 'The Bible contains only late Christian Greek writings.',\n",
       " 'Kanye West was born in Atlanta.',\n",
       " 'Michelle Williams (singer) starred in the American musical productions \"The Color Purple (2007).\".',\n",
       " 'Apple Inc. is a Canadian company.',\n",
       " 'Mao Zedong is a poet and visionary.',\n",
       " 'The seventh installment of the Fast & Furious franchise is Furious 7.',\n",
       " 'Arya Stark wields a sword name Needle.',\n",
       " \"We Found Love's music video depicts the singer as a thrill seeker.\",\n",
       " 'Bangalore was ruled by an Indian power.',\n",
       " 'Splatoon 2 is a team-based third-person shooter.',\n",
       " 'Dileep starred in Sallapam.',\n",
       " 'Same-sex marriage is legal in parts of Europe.',\n",
       " 'The terrain of Kazakhstan includes deserts.',\n",
       " 'Hillary Clinton had Senator Tim Kaine as her vice presidential running mate.',\n",
       " 'James Bond is produced by a British film company.',\n",
       " 'The 2014 WTA Finals began on October 17.',\n",
       " 'Narendra Modi was assigned to the BJP.',\n",
       " 'Denzel Washington has yet to direct a movie.',\n",
       " 'The Belko Experiment premiered at the 41st Toronto International Film Festival.',\n",
       " 'The Great Gatsby looks at themes of decadence.',\n",
       " 'Caroline, Princess of Hanover is wedded to a male descendant.',\n",
       " 'Caroline, Princess of Hanover is married to the heir of a human.',\n",
       " 'Arnold Vinick is a character.',\n",
       " 'The Jim Henson Company produced a film featuring the Muppets.',\n",
       " 'Goat Island is connected to a pedestrian bridge.',\n",
       " 'Warm Leatherette is by Grace Jones and she is Jamaican.',\n",
       " 'One television series was 100 Greatest of All Time.',\n",
       " 'South Korea has a large budget surplus.',\n",
       " 'Death in Paradise (TV series) was created by a screenwriter.',\n",
       " 'Pulp Fiction has  not been regarded as a masterpiece.',\n",
       " 'Kurt Angle refuses to be a professional wrestler.',\n",
       " 'Ethan Hawke does not write.',\n",
       " 'Snoop Dogg is from America.',\n",
       " 'Shirley MacLaine starred in a movie.',\n",
       " \"Miss Peregrine's Home for Peculiar Children takes place on an island.\",\n",
       " 'Wonder Woman is skilled in battle combat.',\n",
       " 'Marilyn Monroe played comic characters.',\n",
       " 'Gemini is a 2002 film.',\n",
       " ...]"
      ]
     },
     "execution_count": 8,
     "metadata": {},
     "output_type": "execute_result"
    }
   ],
   "source": [
    "test_claims"
   ]
  },
  {
   "cell_type": "code",
   "execution_count": 10,
   "metadata": {},
   "outputs": [],
   "source": [
    "open(\"test_set_fever.txt\", \"w+\").writelines([f\"{l}\\n\" for l in test_claims])"
   ]
  }
 ],
 "metadata": {
  "kernelspec": {
   "display_name": "Python 3",
   "language": "python",
   "name": "python3"
  },
  "language_info": {
   "codemirror_mode": {
    "name": "ipython",
    "version": 3
   },
   "file_extension": ".py",
   "mimetype": "text/x-python",
   "name": "python",
   "nbconvert_exporter": "python",
   "pygments_lexer": "ipython3",
   "version": "3.7.2"
  }
 },
 "nbformat": 4,
 "nbformat_minor": 2
}
