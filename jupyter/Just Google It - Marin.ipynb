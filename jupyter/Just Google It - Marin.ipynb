{
 "cells": [
  {
   "cell_type": "code",
   "execution_count": 1,
   "metadata": {},
   "outputs": [],
   "source": [
    "import os\n",
    "os.chdir(\"..\")"
   ]
  },
  {
   "cell_type": "code",
   "execution_count": 2,
   "metadata": {},
   "outputs": [
    {
     "name": "stdout",
     "output_type": "stream",
     "text": [
      "Better speed can be achieved with apex installed from https://www.github.com/nvidia/apex.\n"
     ]
    }
   ],
   "source": [
    "from selenium import webdriver\n",
    "from selenium.webdriver import ChromeOptions\n",
    "from util.google_search_util import google_the_claim_text_results\n",
    "from util.claim_util import load_claims_train\n",
    "from classes.claim import Claim\n",
    "import random\n",
    "from random import sample\n",
    "from collections import Counter\n",
    "from util.general_util import pickle_save, pickle_load\n",
    "from dataset.google_dataset import *\n",
    "import time\n",
    "from tqdm import tqdm\n",
    "from collections import Counter\n",
    "from sklearn.model_selection import train_test_split\n",
    "from util.general_util import print_ratios"
   ]
  },
  {
   "cell_type": "code",
   "execution_count": 13,
   "metadata": {},
   "outputs": [],
   "source": []
  },
  {
   "cell_type": "code",
   "execution_count": 6,
   "metadata": {},
   "outputs": [],
   "source": [
    "train = load_claims_train()"
   ]
  },
  {
   "cell_type": "code",
   "execution_count": 7,
   "metadata": {},
   "outputs": [
    {
     "data": {
      "text/plain": [
       "'NOT ENOUGH INFO'"
      ]
     },
     "execution_count": 7,
     "metadata": {},
     "output_type": "execute_result"
    }
   ],
   "source": [
    "Claim.NEI"
   ]
  },
  {
   "cell_type": "code",
   "execution_count": 8,
   "metadata": {},
   "outputs": [],
   "source": [
    "train_no_nei = [t for t in train if t.label != Claim.NEI]"
   ]
  },
  {
   "cell_type": "code",
   "execution_count": 9,
   "metadata": {},
   "outputs": [],
   "source": [
    "random.seed(42)"
   ]
  },
  {
   "cell_type": "code",
   "execution_count": 10,
   "metadata": {},
   "outputs": [],
   "source": [
    "train_subset = sample(train_no_nei, 10_000)"
   ]
  },
  {
   "cell_type": "code",
   "execution_count": 11,
   "metadata": {},
   "outputs": [
    {
     "data": {
      "text/plain": [
       "Counter({'SUPPORTS': 7300, 'REFUTES': 2700})"
      ]
     },
     "execution_count": 11,
     "metadata": {},
     "output_type": "execute_result"
    }
   ],
   "source": [
    "Counter([t.label for t in train_subset])"
   ]
  },
  {
   "cell_type": "code",
   "execution_count": null,
   "metadata": {},
   "outputs": [],
   "source": []
  },
  {
   "cell_type": "code",
   "execution_count": 9,
   "metadata": {},
   "outputs": [],
   "source": [
    "google_results = []"
   ]
  },
  {
   "cell_type": "code",
   "execution_count": 10,
   "metadata": {},
   "outputs": [],
   "source": [
    "options = ChromeOptions()\n",
    "options.add_argument(\"--headless\")"
   ]
  },
  {
   "cell_type": "code",
   "execution_count": 11,
   "metadata": {},
   "outputs": [],
   "source": [
    "browser = webdriver.Chrome(executable_path='./chromedriver', options = options)"
   ]
  },
  {
   "cell_type": "code",
   "execution_count": 14,
   "metadata": {},
   "outputs": [],
   "source": [
    "google_results = pickle_load(\"data/google_all.pkl\")"
   ]
  },
  {
   "cell_type": "code",
   "execution_count": 15,
   "metadata": {
    "collapsed": true
   },
   "outputs": [
    {
     "data": {
      "text/plain": [
       "('Family Guy was ranked the ninth Greatest Album of All Time by Jim Carey',\n",
       " 'Jim Carrey | Family Guy Wiki | FANDOM powered by Wikia Carrey appears on the cover of People Magazine in \"Mr. Griffin Goes to Washington\". Lois repeats his catch phrase from The Mask, \"Sssmokin\", much to Brian\\'s annoyance. He appears in a photo shot with then-girlfriend Jenny McCarthy when Stewie compares Meg and Luke to when a crazy Readers\\' Poll: The 10 Best Jim Carrey Movies – Rolling Stone It might be a little premature to say that Jim Carrey is back on top.. Nobody ever thought of Jim Carrey as \"the white guy from In Living Color\" Every Jim Carrey Movie Performance Ever, Ranked | IndieWire Carrey, on the other hand, seems more like the guy the frat bros beat up. We present our ranking of Jim Carrey\\'s feature film performances.. Carrey\\'s at the top of his comedic game, but he\\'s let down by family-friendly, Billboard Records with the greatest airplay gains. A JAM YALL (Mac-man, ASCAP/Brownstar, ASCPA/S&S, ASCAP) 9 ALL CRIED OUT (Careers-BMG, BMI/Mokojumbi, Tim schmidt ontario net worth Memorials for family and friends who have lost family and friends to suicide. School Baseball Scouting, News, Rankings and Showcases Stantec designs with community in Jim Carrey, Canadian-born and a U. Man to man, Schmidt\\'s case is very compelling,. And this year has been one of their best ever. as of 4/27/19. Aaron Watson Drops \\'Riding With Red\\' + \\'Old Friend\\' Off New Album Watson has shared the next two songs off his forthcoming album, \\'Red Bandana.\\' \"With the last album, I just didn\\'t have time to create, and it was All for Money is Greensky Bluegrass\\' ninth studio album and will be 12 songs long. Thirty-eight-year-old James “Pony” Bradshaw is coming out with his Best romance albums Albums include The Man Who Sold the World / Band of Gold, Adventures in Clubland, I have read through people\\'s personal all-time top ten albums list with interest,. of all time We\\'re ranking the best My Chemical Romance albums of all time. Its Books shelved as upcoming-releases: Ninth House by Leigh Bardugo, Kasabians best songs It was the best gig I have ever attended and I was still buzzing the following day. latest one cracking up to its fine glory, 48:13 has just popped out on the 9th June. A list ranking the studio albums from the Leister based group Kasabian. who are also an indie/rock band just like Up Carey Street. kasabians best songs. Del Potro finding the right combination at French Open | Daily Mail ... the first time since fracturing his right knee last year, the ninth-ranked other injuries that have plagued the 30-year-old Argentine\\'s career,')"
      ]
     },
     "execution_count": 15,
     "metadata": {},
     "output_type": "execute_result"
    }
   ],
   "source": [
    "google_results[4897]"
   ]
  },
  {
   "cell_type": "code",
   "execution_count": 24,
   "metadata": {},
   "outputs": [
    {
     "data": {
      "text/plain": [
       "10000"
      ]
     },
     "execution_count": 24,
     "metadata": {},
     "output_type": "execute_result"
    }
   ],
   "source": [
    "len(google_results)"
   ]
  },
  {
   "cell_type": "code",
   "execution_count": 17,
   "metadata": {},
   "outputs": [],
   "source": []
  },
  {
   "cell_type": "code",
   "execution_count": 29,
   "metadata": {},
   "outputs": [
    {
     "data": {
      "text/plain": [
       "SUPPORTS: Stevie Ray Vaughan was voted by Guitar Player's readers to be the Best New Talent."
      ]
     },
     "execution_count": 29,
     "metadata": {},
     "output_type": "execute_result"
    }
   ],
   "source": [
    "train_subset[9999]"
   ]
  },
  {
   "cell_type": "code",
   "execution_count": 28,
   "metadata": {},
   "outputs": [
    {
     "data": {
      "text/plain": [
       "(\"Stevie Ray Vaughan was voted by Guitar Player's readers to be the Best New Talent\",\n",
       " 'Stevie Ray Vaughan Stephen Ray Vaughan (October 3, 1954 – August 27, 1990) was an American musician, singer, songwriter, and record producer, and one of the most influential guitarists in the revival of blues in the 1980s. He is commonly referred to as one of the greatest guitar players of all time. In 1983, readers of Guitar Player voted him Best New Talent and Best August 27, 1990: The Day Stevie Ray Vaughan Died | Guitarworld  Stevie Ray Vaughan  VAUGHAN, STEVIE RAY | The Handbook of Texas Online| Texas Stevie Ray Vaughan, blues musician and guitar legend, was born in the Guitar Player Magazine Reader\\'s Poll voted Stevie Best New Talent Stevie Ray Vaughan | Encyclopedia.com Stevie Ray Vaughan [1]Guitarist The appearance of Stevie Ray Vaughan [2] and Guitar Player readers poll, and Vaughan was also voted Best New Talent and kippel.com Texas born blues guitarist Stevie Ray Vaughan is finally garnering some won honors as “Best Guitar Album” in the 1983 Guitar Player Readers Poll—the first additionally, Stevie was voted “Best New Talent” and “Best Electric Guitarist”. Stevie Ray Vaughan Guitar Licks Stevie Ray Vaughan was born on October 1954 in Dallas, Texas. Inspired initially by his Vaughan was also voted Best New Talent and Best Electric Blues Guitarist in the 1983 readers\\' poll by Guitar Player Magazine. Double Trouble set off Stevie Ray Vaughan A rollickin\\' bluesman, guitarist and singer Stevie Ray Vaughan helped reinvigorate the form during the \\'80s. Learn more at Biography.com. For his part, Stevie was voted Best New Talent and Best Electric Blues Guitarist in a 1983 reader\\'s poll by Guitar Player Magazine. Double Trouble set off on a successful tour, and Stevie Ray Vaughan Stevie Ray Vaughan was one of the best guitarists of all time. It\\'s about time that we get to know him better and Stevie Ray was also noticed by the readers of Guitar Player Magazine. They voted him as 1983\\'s “Best Electric Blue Guitarist” and “Best New Talent.” Stevie Ray Vaughan 3 After the successful Stevie Ray Vaughan Vaughan won three categories in Guitar Player\\'s readers poll: \"Best New Talent\", \"Best Blues Album\", and \"Best Electric Blues Guitarist\". He became the second Stevie Ray Vaughan and Double Trouble: The Complete Epic Epic Records and Legacy Recordings Celebrate Stevie Ray Vaughan\\'s 60th Birthday In 1983, readers of Guitar Player voted him as Best New Talent and Best The Oriental Theater with Very Special Guests: AUSTIN YOUNG BAND the Guitar Player Magazine\\'s Annual Readers Choice Award for “Best New Talent” in 2013. 2014 proved to be another epic year for McGarvey as he voted the winner of “Best Guitarist” in the European masters like Jimi Hendrix, Eric Clapton, and Stevie Ray Vaughan.')"
      ]
     },
     "execution_count": 28,
     "metadata": {},
     "output_type": "execute_result"
    }
   ],
   "source": [
    "google_results[9999]"
   ]
  },
  {
   "cell_type": "code",
   "execution_count": 20,
   "metadata": {},
   "outputs": [],
   "source": []
  },
  {
   "cell_type": "code",
   "execution_count": 23,
   "metadata": {},
   "outputs": [
    {
     "name": "stderr",
     "output_type": "stream",
     "text": [
      "\r",
      "Fetching:   0%|          | 0/1814 [00:00<?, ?it/s]"
     ]
    },
    {
     "name": "stdout",
     "output_type": "stream",
     "text": [
      "Starting from index 8186\n"
     ]
    },
    {
     "name": "stderr",
     "output_type": "stream",
     "text": [
      "Fetching: 100%|██████████| 1814/1814 [1:11:22<00:00,  1.71s/it]\n"
     ]
    }
   ],
   "source": [
    "options = ChromeOptions()\n",
    "options.add_argument(\"--headless\")\n",
    "browser = webdriver.Chrome(executable_path='./chromedriver', options = options)\n",
    "start_index = len(google_results)\n",
    "print(f\"Starting from index {start_index}\")\n",
    "#for i, t in tqdm(enumerate(train_subset[start_index:]), desc=\"Fetching\"):\n",
    "for t in tqdm(train_subset[start_index:], desc=\"Fetching\"):\n",
    "    while True:\n",
    "        claim = t.claim\n",
    "        if claim.endswith(\".\"):\n",
    "            claim = claim[:-1]\n",
    "        #print(i)\n",
    "        #print(claim)\n",
    "        try:\n",
    "            result = google_the_claim_text_results(t.claim, browser=browser)\n",
    "            if result == \"\":\n",
    "                raise Exception()\n",
    "        except Exception:\n",
    "            browser = webdriver.Chrome(executable_path='./chromedriver', options = options)\n",
    "            time.sleep(10)\n",
    "            continue\n",
    "        #print(result)\n",
    "        google_results.append((claim, result))\n",
    "        break"
   ]
  },
  {
   "cell_type": "code",
   "execution_count": 60,
   "metadata": {},
   "outputs": [
    {
     "data": {
      "text/plain": [
       "SUPPORTS: Jean-Martin Charcot was a professor."
      ]
     },
     "execution_count": 60,
     "metadata": {},
     "output_type": "execute_result"
    }
   ],
   "source": [
    "train_subset[999]"
   ]
  },
  {
   "cell_type": "code",
   "execution_count": 59,
   "metadata": {},
   "outputs": [
    {
     "data": {
      "text/plain": [
       "('Jean-Martin Charcot was a professor',\n",
       " \"Jean-Martin Charcot Jean-Martin Charcot (French: [ʃaʁko]; 29 November 1825 – 16 August 1893) was a French neurologist and professor of anatomical pathology., His work greatly influenced the developing fields of neurology and psychology; modern psychiatry owes much to the work of Charcot and his direct followers. Jean-Martin Charcot: The Father of Neurology Jean-Martin Charcot (figure 1▷) was born in Paris, France in 1825 at a time, the appointment as “Professor of the Pathological Anatomy at the University of Jean-Martin Charcot Pathologist, Neurologist, Psychiatrist and Physician Jean-Martin Charcot is known as father of modern neurology., He was appointed as Professor in Medicine in 1862 at Sâlpetrière Hospital, Paris, and was Jean-Martin Charcot | French neurologist | Britannica.com Jean-Martin Charcot: Jean-Martin Charcot, founder (with Guillaume, He then became a professor at the University of Paris (1860–93), where he began a A Science Odyssey: People and Discoveries: Jean-Martin Charcot Jean-Martin Charcot was born in Paris, France, late in 1825., He was a professor at the University of Paris for 33 years, and in 1862 he began an association Jean-Baptiste Charcot as an intern of Professor Jean- Martin Charcot  Charcot name became very famous around the world, firstly because of the work of Professor Jean-Martin Charcot, the founder of Clinical Neurology, and, Jean-Martin Charcot (1825-93)  Amyotrophic lateral sclerosis  Jean-Martin Charcot: The Father of Neurology  Who was Jean-Martin Charcot? | American Association for the Jean-Martin Charcot's work greatly influenced the developing fields of, Charcot was a neurologist and professor of anatomy, and therefore Jean Martin Charcot | Encyclopedia.com Jean Martin Charcot (1825–1893), specialist in neurology and hypnosis, was born in, His appointment as professor of diseases of the nervous system at the Human Intelligence: Jean-Martin Charcot The biographical profile of Jean-Martin Charcot, focusing on his/her, Becomes Associate Professor at the Paris Medical School (1960-1861); Elected Vice Jean-Martin Charcot (1825-93) Jean-Martin Charcot was the most influential neurologist of the 1800s. He identified neurological disorders with such precision that many of his diagnoses are\")"
      ]
     },
     "execution_count": 59,
     "metadata": {},
     "output_type": "execute_result"
    }
   ],
   "source": [
    "google_results[999]"
   ]
  },
  {
   "cell_type": "code",
   "execution_count": 57,
   "metadata": {},
   "outputs": [
    {
     "data": {
      "text/plain": [
       "999"
      ]
     },
     "execution_count": 57,
     "metadata": {},
     "output_type": "execute_result"
    }
   ],
   "source": [
    "len(google_results)"
   ]
  },
  {
   "cell_type": "code",
   "execution_count": null,
   "metadata": {},
   "outputs": [],
   "source": []
  },
  {
   "cell_type": "code",
   "execution_count": 25,
   "metadata": {},
   "outputs": [],
   "source": [
    "pickle_save(google_results, \"./data/google_all.pkl\")"
   ]
  },
  {
   "cell_type": "code",
   "execution_count": 26,
   "metadata": {},
   "outputs": [],
   "source": [
    "a = pickle_load(\"./data/google_all.pkl\")"
   ]
  },
  {
   "cell_type": "code",
   "execution_count": 27,
   "metadata": {},
   "outputs": [
    {
     "data": {
      "text/plain": [
       "10000"
      ]
     },
     "execution_count": 27,
     "metadata": {},
     "output_type": "execute_result"
    }
   ],
   "source": [
    "len(a)"
   ]
  },
  {
   "cell_type": "code",
   "execution_count": 30,
   "metadata": {},
   "outputs": [
    {
     "data": {
      "text/plain": [
       "('Black Mirror started airing in 2011',\n",
       " 'Black Mirror Black Mirror is a British science fiction anthology television series created by Charlie Brooker, Zeppotron (2011–2013); House of Tomorrow (2014–present). Black Mirror series 1 had a limited DVD release for PAL / Region 2 on 27 February. Beginning on 24 November 2017, Netflix published a series of posters and Every \\'Black Mirror\\' on Netflix episode, ranked from worst to best  Black Mirror  List of Black Mirror episodes series, Title, Directed by, Written by, Original air date, UK viewers the Princess, thirty minutes before Callow\\'s sex act began. Black Mirror (TV Series 2011– ) A woman enters the Black Museum, where the proprietor tells his stories relating to the artefacts. Angourie Rice in Black Mirror (2011) · Wyatt Russell in Black Mirror (2011) · Toby. Release Date: Getting Started | Contributor Zone » Black Mirror | Netflix Official Site 2011TV-MA 4 SeasonsBritish TV Dramas Black Mirror: Season 5 (Trailer) Release year: 2017 Paired up by a dating program that puts an expiration date on all relationships, Frank and Amy soon begin to question the system\\'s logic. It\\'s official: Netflix is picking up Black Mirror\\'s third season Netflix\\'s acquisition of Black Mirror isn\\'t a total shock: it already had the according to a press release, the details are \"still being determined.\" Netflix will be releasing new episodes of Black Mirror on October 21st Black Mirror is a Twilight Zone-esque anthology show originally created by British writer Charlie Brooker, and originally aired in 2011 and 2013, with The show gained popularity when it began streaming on Netflix, which Black Mirror | Black Mirror Wiki | FANDOM powered by Wikia The show was first broadcast on Channel 4 in 2011. In September Black Mirror series 1 had a limited DVD release for PAL / Region 2 on 27 February 2012. \\'Black Mirror\\' Lands at Netflix With 12 New Episodes | Hollywood Following a fierce bidding war, Netflix has acquired Black Mirror. Brooker has already started writing the new episodes, which are scheduled to The series originally aired its first season (of three episodes) in 2011 on the Black Mirror promo video series arrives on YouTube starting May 26 Black Mirror promo video series arrives on YouTube starting May 26 Black Mirror is a British TV show that first aired in 2011, presenting With “Black Mirror,” Our Dystopia Gets the Television Show It Deserves Troy Patterson reviews the series “Black Mirror” and its fourth season, A fourth season of “Black Mirror” crept onto Netflix in late December and began to From 2011, when the first season of “Black Mirror” aired on Britain\\'s')"
      ]
     },
     "execution_count": 30,
     "metadata": {},
     "output_type": "execute_result"
    }
   ],
   "source": [
    "a[0]"
   ]
  },
  {
   "cell_type": "code",
   "execution_count": null,
   "metadata": {},
   "outputs": [],
   "source": []
  },
  {
   "cell_type": "code",
   "execution_count": 2,
   "metadata": {},
   "outputs": [],
   "source": []
  },
  {
   "cell_type": "code",
   "execution_count": null,
   "metadata": {},
   "outputs": [],
   "source": []
  },
  {
   "cell_type": "code",
   "execution_count": 3,
   "metadata": {},
   "outputs": [
    {
     "data": {
      "text/plain": [
       "Counter({'P': 1,\n",
       "         'a': 2,\n",
       "         'l': 1,\n",
       "         'i': 1,\n",
       "         'c': 1,\n",
       "         ' ': 2,\n",
       "         'j': 1,\n",
       "         'e': 1,\n",
       "         's': 1,\n",
       "         'm': 1,\n",
       "         'r': 1,\n",
       "         'd': 1})"
      ]
     },
     "execution_count": 3,
     "metadata": {},
     "output_type": "execute_result"
    }
   ],
   "source": [
    "Counter(\"\")"
   ]
  },
  {
   "cell_type": "code",
   "execution_count": null,
   "metadata": {},
   "outputs": [],
   "source": []
  },
  {
   "cell_type": "markdown",
   "metadata": {},
   "source": [
    "ip :38.132.116.176"
   ]
  },
  {
   "cell_type": "markdown",
   "metadata": {},
   "source": [
    "173.44.48.42  \n",
    "38.132.120.73"
   ]
  },
  {
   "cell_type": "markdown",
   "metadata": {},
   "source": [
    "date: 28.5.2019."
   ]
  },
  {
   "cell_type": "code",
   "execution_count": null,
   "metadata": {},
   "outputs": [],
   "source": []
  },
  {
   "cell_type": "code",
   "execution_count": null,
   "metadata": {},
   "outputs": [],
   "source": []
  },
  {
   "cell_type": "code",
   "execution_count": 4,
   "metadata": {},
   "outputs": [],
   "source": [
    "google_results = pickle_load(GoogleDataset.ALL_DATA)"
   ]
  },
  {
   "cell_type": "code",
   "execution_count": 22,
   "metadata": {},
   "outputs": [],
   "source": [
    "results = []"
   ]
  },
  {
   "cell_type": "code",
   "execution_count": 23,
   "metadata": {},
   "outputs": [],
   "source": [
    "for claim, google_result in zip(train_subset, google_results):\n",
    "    stripped_claim = claim.claim\n",
    "    if stripped_claim.endswith(\".\"):\n",
    "        stripped_claim = stripped_claim[:-1]\n",
    "        \n",
    "    if not stripped_claim == google_result[0]:\n",
    "        print(\"F*ck\")\n",
    "    \n",
    "    results.append((google_result[0], google_result[1], claim.label))\n",
    "    "
   ]
  },
  {
   "cell_type": "code",
   "execution_count": 5,
   "metadata": {},
   "outputs": [
    {
     "data": {
      "text/plain": [
       "10000"
      ]
     },
     "execution_count": 5,
     "metadata": {},
     "output_type": "execute_result"
    }
   ],
   "source": [
    "len(google_results)"
   ]
  },
  {
   "cell_type": "code",
   "execution_count": 24,
   "metadata": {},
   "outputs": [
    {
     "data": {
      "text/plain": [
       "10000"
      ]
     },
     "execution_count": 24,
     "metadata": {},
     "output_type": "execute_result"
    }
   ],
   "source": [
    "len(results)"
   ]
  },
  {
   "cell_type": "code",
   "execution_count": 25,
   "metadata": {},
   "outputs": [
    {
     "data": {
      "text/plain": [
       "('Khal Drogo was introduced in 1996',\n",
       " \"Khal Drogo Khal Drogo is a fictional character in the A Song of Ice and Fire series of fantasy novels by American author George R. R. Martin and in the first two seasons of its television adaptation, Game of Thrones. Introduced in 1996's A Game of Thrones, Drogo is a khal, a leader of the How old are the Game of Thrones characters meant to be? George  Game of Thrones: Daenerys Targaryen Fire Immunity, Explained  Who gave the dragon eggs to Daenerys?  What Happened When Daenerys Was Pregnant With Khal Drogo's  Daenerys Targaryen Daenerys Targaryen is a fictional character in George R. R. Martin's A Song of Ice and Fire Introduced in 1996's A Game of Thrones, Daenerys is one of the last two She is forced to marry Dothraki horselord Khal Drogo in exchange for an army for Viserys, who is to return to Westeros and recapture the Iron Throne. Khal Drogo | Revolvy Introduced in 1996's A Game of Thrones, Drogo is a khal, a leader of the Dothraki, a tribe of warriors who roam the continent of Essos. Drogo is portrayed by Khal Drogo Introduced in 1996's A Game of Thrones, Drogo is a khal, a leader of the Dothraki, Drogo is portrayed by Jason Momoa in the HBO television adaptation. Khal Drogo Introduced in 1996's A Game of Thrones , Drogo is a khal, a leader of the Dothraki, a tribe of warriors who roam the continent of Essos. Khal Drogo Khal Drogo is a fictional character in the A Song of Ice and Fire series of fantasy Introduced in 1996's A Game of Thrones, Drogo is a khal, a leader of the Drogo Drogo is a powerful khal or warlord of the fearsome Dothraki nomads. Daenerys Targaryen is promised to him at the beginning of A Song of Ice and Fire. In the A guide to how Daenerys went from Khaleesi to Mad Queen Daenerys comes to very much appreciate Khal Drogo's intensity. When Drogo killed her brother with molten gold, all she could muster up was, Khal Drogo (Game of Thrones character) Khal Drogo is a fictional character in the A Song of Ice and Fire series of fantasy Introduced in 1996's. Who deserved to die more, Khal Drogo or Viserys?\",\n",
       " 'SUPPORTS')"
      ]
     },
     "execution_count": 25,
     "metadata": {},
     "output_type": "execute_result"
    }
   ],
   "source": [
    "results[500]"
   ]
  },
  {
   "cell_type": "code",
   "execution_count": 29,
   "metadata": {},
   "outputs": [],
   "source": [
    "pickle_save(results, GoogleDataset.ALL_DATA)"
   ]
  },
  {
   "cell_type": "code",
   "execution_count": 3,
   "metadata": {},
   "outputs": [],
   "source": [
    "results = pickle_load(GoogleDataset.ALL_DATA)"
   ]
  },
  {
   "cell_type": "code",
   "execution_count": 4,
   "metadata": {},
   "outputs": [
    {
     "data": {
      "text/plain": [
       "10000"
      ]
     },
     "execution_count": 4,
     "metadata": {},
     "output_type": "execute_result"
    }
   ],
   "source": [
    "len(results)"
   ]
  },
  {
   "cell_type": "code",
   "execution_count": null,
   "metadata": {},
   "outputs": [],
   "source": []
  },
  {
   "cell_type": "code",
   "execution_count": 37,
   "metadata": {},
   "outputs": [],
   "source": [
    "train_and_validation_ratio, test_ratio = 0.85, 0.15\n",
    "validation_ratio = 0.17645\n",
    "train_ratio = 1 - validation_ratio"
   ]
  },
  {
   "cell_type": "code",
   "execution_count": 38,
   "metadata": {},
   "outputs": [],
   "source": [
    "train_and_validation_data, test_data = train_test_split(\n",
    "    results,\n",
    "    train_size=train_and_validation_ratio,\n",
    "    test_size=test_ratio,\n",
    "    shuffle=True,\n",
    "    stratify=[t[2] for t in results]\n",
    ")"
   ]
  },
  {
   "cell_type": "code",
   "execution_count": 39,
   "metadata": {},
   "outputs": [],
   "source": [
    "train_data, validation_data = train_test_split(\n",
    "    train_and_validation_data,\n",
    "    train_size=train_ratio,\n",
    "    test_size=validation_ratio,\n",
    "    shuffle=True,\n",
    "    stratify=[t[2] for t in train_and_validation_data]\n",
    ")"
   ]
  },
  {
   "cell_type": "code",
   "execution_count": 40,
   "metadata": {},
   "outputs": [
    {
     "name": "stdout",
     "output_type": "stream",
     "text": [
      "Train size: 7000\n",
      "Train ratio: {'REFUTES': 0.27, 'SUPPORTS': 0.73}\n",
      "\n",
      "Validation size: 1500\n",
      "Validation ratio: {'REFUTES': 0.27, 'SUPPORTS': 0.73}\n",
      "\n",
      "Test size: 1500\n",
      "Test ratio: {'SUPPORTS': 0.73, 'REFUTES': 0.27}\n"
     ]
    }
   ],
   "source": [
    "print_ratios(train_data, validation_data, test_data)"
   ]
  },
  {
   "cell_type": "code",
   "execution_count": 41,
   "metadata": {},
   "outputs": [],
   "source": [
    "pickle_save(train_data, GoogleDataset.TRAIN_DATA)\n",
    "pickle_save(validation_data, GoogleDataset.VALIDATION_DATA)\n",
    "pickle_save(test_data, GoogleDataset.TEST_DATA)"
   ]
  },
  {
   "cell_type": "code",
   "execution_count": 42,
   "metadata": {},
   "outputs": [
    {
     "name": "stdout",
     "output_type": "stream",
     "text": [
      "Train size: 7000\n",
      "Train ratio: {'REFUTES': 0.27, 'SUPPORTS': 0.73}\n",
      "\n",
      "Validation size: 1500\n",
      "Validation ratio: {'REFUTES': 0.27, 'SUPPORTS': 0.73}\n",
      "\n",
      "Test size: 1500\n",
      "Test ratio: {'SUPPORTS': 0.73, 'REFUTES': 0.27}\n"
     ]
    }
   ],
   "source": [
    "print_ratios(\n",
    "    pickle_load(GoogleDataset.TRAIN_DATA),\n",
    "    pickle_load(GoogleDataset.VALIDATION_DATA),\n",
    "    pickle_load(GoogleDataset.TEST_DATA)\n",
    ")"
   ]
  },
  {
   "cell_type": "code",
   "execution_count": null,
   "metadata": {},
   "outputs": [],
   "source": []
  }
 ],
 "metadata": {
  "kernelspec": {
   "display_name": "Python 3",
   "language": "python",
   "name": "python3"
  },
  "language_info": {
   "codemirror_mode": {
    "name": "ipython",
    "version": 3
   },
   "file_extension": ".py",
   "mimetype": "text/x-python",
   "name": "python",
   "nbconvert_exporter": "python",
   "pygments_lexer": "ipython3",
   "version": "3.7.2"
  }
 },
 "nbformat": 4,
 "nbformat_minor": 2
}
