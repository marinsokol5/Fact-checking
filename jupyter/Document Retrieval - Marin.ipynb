{
 "cells": [
  {
   "cell_type": "code",
   "execution_count": 1,
   "metadata": {},
   "outputs": [],
   "source": [
    "import os\n",
    "os.chdir(\"..\")"
   ]
  },
  {
   "cell_type": "code",
   "execution_count": 15,
   "metadata": {},
   "outputs": [],
   "source": [
    "import json\n",
    "from collections import Counter\n",
    "import spacy\n",
    "from spacy import displacy\n",
    "from collections import Counter\n",
    "import en_core_web_sm\n",
    "nlp = en_core_web_sm.load()\n",
    "import string\n",
    "from os import listdir\n",
    "from tqdm import tqdm\n",
    "import nltk\n",
    "from nltk.corpus import stopwords as get_stopwords\n",
    "from nltk.tokenize import word_tokenize\n",
    "from classes.constants import *\n",
    "from classes.claim import Claim\n",
    "from util.claim_util import *\n",
    "from util.undefined_util import *\n",
    "from util.evaluate_util import *\n",
    "from util.wiki_util import *\n",
    "from typing import List\n",
    "from random import sample"
   ]
  },
  {
   "cell_type": "code",
   "execution_count": 3,
   "metadata": {},
   "outputs": [],
   "source": [
    "train = load_claims_train()"
   ]
  },
  {
   "cell_type": "code",
   "execution_count": 18,
   "metadata": {},
   "outputs": [],
   "source": [
    "train_no_nei = [t for t in train if t.label != Claim.NEI]"
   ]
  },
  {
   "cell_type": "code",
   "execution_count": 21,
   "metadata": {},
   "outputs": [],
   "source": [
    "train_subset = sample(train_no_nei, 100)"
   ]
  },
  {
   "cell_type": "code",
   "execution_count": 23,
   "metadata": {},
   "outputs": [
    {
     "data": {
      "text/plain": [
       "Counter({'SUPPORTS': 64, 'REFUTES': 36})"
      ]
     },
     "execution_count": 23,
     "metadata": {},
     "output_type": "execute_result"
    }
   ],
   "source": [
    "Counter([t.label for t in train_subset])"
   ]
  },
  {
   "cell_type": "code",
   "execution_count": 5,
   "metadata": {},
   "outputs": [],
   "source": [
    "wiki_titles = load_wikipedia_titles() "
   ]
  },
  {
   "cell_type": "code",
   "execution_count": 6,
   "metadata": {},
   "outputs": [],
   "source": [
    "c = train[0]"
   ]
  },
  {
   "cell_type": "code",
   "execution_count": 7,
   "metadata": {},
   "outputs": [
    {
     "data": {
      "text/plain": [
       "SUPPORTS: Nikolaj Coster-Waldau worked with the Fox Broadcasting Company."
      ]
     },
     "execution_count": 7,
     "metadata": {},
     "output_type": "execute_result"
    }
   ],
   "source": [
    "c"
   ]
  },
  {
   "cell_type": "code",
   "execution_count": 8,
   "metadata": {},
   "outputs": [],
   "source": [
    "claim = c.claim"
   ]
  },
  {
   "cell_type": "code",
   "execution_count": 9,
   "metadata": {},
   "outputs": [
    {
     "data": {
      "text/plain": [
       "'Nikolaj Coster-Waldau worked with the Fox Broadcasting Company.'"
      ]
     },
     "execution_count": 9,
     "metadata": {},
     "output_type": "execute_result"
    }
   ],
   "source": [
    "claim"
   ]
  },
  {
   "cell_type": "code",
   "execution_count": 10,
   "metadata": {},
   "outputs": [],
   "source": [
    "def evaluate_documents_sample(train_subset: List[Claim], wiki_titles):\n",
    "    documents : List[set] = []\n",
    "    for claim in tqdm(train_subset):\n",
    "        documents.append(convert_wikipedia_titles_to_ids(retrieve_documents(claim.claim, wiki_titles)))\n",
    "    return evaluate_documents_retrieval_full([c.evidence_document_sets() for c in train_subset], documents)"
   ]
  },
  {
   "cell_type": "code",
   "execution_count": 11,
   "metadata": {},
   "outputs": [],
   "source": [
    "def retrieve_documents(claim: str, wiki_titles: List[str]) -> set:\n",
    "    documents = set()\n",
    "    for title in wiki_titles:\n",
    "        if title in claim:\n",
    "            documents.add(title)\n",
    "    return documents"
   ]
  },
  {
   "cell_type": "code",
   "execution_count": 39,
   "metadata": {},
   "outputs": [],
   "source": [
    "def retrieve_documents(claim: str, wiki_titles: List[str]) -> set:\n",
    "    documents = set()\n",
    "    stopwords = get_stopwords.words(\"english\")\n",
    "    claim_entities = tokenize(get_entities(claim), stopwords)\n",
    "    for title in tqdm(wiki_titles):\n",
    "        if tokenize([title], stopwords)[0] in claim_entities:\n",
    "            documents.add(title)\n",
    "    return documents"
   ]
  },
  {
   "cell_type": "code",
   "execution_count": 45,
   "metadata": {},
   "outputs": [],
   "source": [
    "stopwords = get_stopwords.words(\"english\")"
   ]
  },
  {
   "cell_type": "code",
   "execution_count": 76,
   "metadata": {},
   "outputs": [],
   "source": [
    "c = train[3]"
   ]
  },
  {
   "cell_type": "code",
   "execution_count": 77,
   "metadata": {},
   "outputs": [
    {
     "data": {
      "text/plain": [
       "'Adrienne Bailon is an accountant.'"
      ]
     },
     "execution_count": 77,
     "metadata": {},
     "output_type": "execute_result"
    }
   ],
   "source": [
    "c.claim"
   ]
  },
  {
   "cell_type": "code",
   "execution_count": 78,
   "metadata": {},
   "outputs": [
    {
     "data": {
      "text/plain": [
       "{'Adrienne Bailon'}"
      ]
     },
     "execution_count": 78,
     "metadata": {},
     "output_type": "execute_result"
    }
   ],
   "source": [
    "get_entities(c.claim)"
   ]
  },
  {
   "cell_type": "code",
   "execution_count": 79,
   "metadata": {},
   "outputs": [
    {
     "data": {
      "text/plain": [
       "{'Adrienne_Bailon'}"
      ]
     },
     "execution_count": 79,
     "metadata": {},
     "output_type": "execute_result"
    }
   ],
   "source": [
    "c.all_evidence_documents()"
   ]
  },
  {
   "cell_type": "code",
   "execution_count": null,
   "metadata": {},
   "outputs": [],
   "source": []
  },
  {
   "cell_type": "code",
   "execution_count": 82,
   "metadata": {},
   "outputs": [],
   "source": [
    "n = nlp('Calvin Harris is a person with at least one vocation.')"
   ]
  },
  {
   "cell_type": "code",
   "execution_count": 84,
   "metadata": {},
   "outputs": [
    {
     "data": {
      "text/plain": [
       "[('Calvin Harris', 'PERSON'), ('at least one', 'CARDINAL')]"
      ]
     },
     "execution_count": 84,
     "metadata": {},
     "output_type": "execute_result"
    }
   ],
   "source": [
    "([(X.text, X.label_) for X in n.ents])"
   ]
  },
  {
   "cell_type": "code",
   "execution_count": 81,
   "metadata": {},
   "outputs": [
    {
     "data": {
      "text/plain": [
       "[('Everton F.C. played at Wembley Stadium.',\n",
       "  {'1995_FA_Cup_Final', 'Everton_F.C.'},\n",
       "  {'Everton F.C.', 'Wembley Stadium'}),\n",
       " ('Dr. Dre established his own country.', {'Dr._Dre'}, {'Dre'}),\n",
       " ('Seiko has only ever sold machines.', {'Seiko'}, set()),\n",
       " ('Calvin Harris is a person with at least one vocation.',\n",
       "  {'Calvin_Harris'},\n",
       "  {'Calvin Harris', 'at least one'}),\n",
       " ('Night Attack at Târgovişte was fought on a Monday.',\n",
       "  {'Night_Attack_at_Târgovişte'},\n",
       "  {'Monday', 'Night Attack', 'Târgovişte'}),\n",
       " ('Russell Crowe portrayed Maximus Decimus Meridius, a Roman General.',\n",
       "  {'Russell_Crowe'},\n",
       "  {'Maximus Decimus Meridius', 'Roman', 'Russell Crowe'}),\n",
       " ('The Lion King was only released in 1345.',\n",
       "  {\"Disney's_Hollywood_Studios\",\n",
       "   'Disney_Renaissance',\n",
       "   'Don_Hahn',\n",
       "   'Elton_John',\n",
       "   'George_Scribner',\n",
       "   'Hamlet',\n",
       "   'Jeffrey_Katzenberg',\n",
       "   'List_of_Walt_Disney_Animation_Studios_films',\n",
       "   'Matthew_Broderick',\n",
       "   'Pocahontas_(1995_film)',\n",
       "   'Simba',\n",
       "   'The_Lion_King',\n",
       "   'The_Lion_King_(franchise)'},\n",
       "  {'1345'}),\n",
       " ('Seven Days in May stars an American.',\n",
       "  {'Ava_Gardner', 'Burt_Lancaster', 'Kirk_Douglas', 'Seven_Days_in_May'},\n",
       "  {'American', 'May', 'Seven Days'}),\n",
       " ('K2 is also known as the Savage Mountain.', {'K2'}, {'the Savage Mountain'}),\n",
       " ('Claudia Leitte is a mentor on The Voice Brasil.',\n",
       "  {'Claudia_Leitte', 'The_Voice_Brasil'},\n",
       "  {'Claudia Leitte', 'The Voice Brasil'}),\n",
       " ('Pablo Picasso worked in ceramics.', {'Pablo_Picasso'}, {'Pablo Picasso'}),\n",
       " ('Just the Way You Are is a novel.',\n",
       "  {'Just_the_Way_You_Are_(Bruno_Mars_song)'},\n",
       "  set()),\n",
       " ('Albania is a member of the Organization of the Black Sea Economic Cooperation.',\n",
       "  {'Albania'},\n",
       "  {'Albania', 'the Organization of the Black Sea Economic Cooperation'}),\n",
       " ('The Right Stuff is a historical drama book yet to be adapted.',\n",
       "  {'The_Right_Stuff_(film)'},\n",
       "  set()),\n",
       " ('Water only occurs artificially.', {'Water'}, set()),\n",
       " ('Laurie Hernandez is a citizen.',\n",
       "  {'Laurie_Hernandez'},\n",
       "  {'Laurie Hernandez'}),\n",
       " ('2016 was the year when World of Warcraft released their 6th expansion set.',\n",
       "  {'World_of_Warcraft'},\n",
       "  {'2016', '6th', 'World of Warcraft', 'the year'}),\n",
       " ('Indiana Jones has only been acted by Harrison Ford.',\n",
       "  {'Indiana_Jones'},\n",
       "  {'Harrison Ford', 'Indiana Jones'}),\n",
       " ('Ellen Burstyn has worked in theater.',\n",
       "  {'Ellen_Burstyn', 'Same_Time,_Next_Year_(film)'},\n",
       "  {'Ellen Burstyn'}),\n",
       " ('Broadcast News is a television show.',\n",
       "  {'Broadcast_News_(film)'},\n",
       "  {'Broadcast News'}),\n",
       " ('J. K. Rowling wrote Harry Potter and the Chamber of Secrets.',\n",
       "  {'J._K._Rowling'},\n",
       "  {'Harry Potter', 'J. K. Rowling', 'the Chamber of Secrets'}),\n",
       " ('Peer Astrom has worked with Americans.',\n",
       "  {'Ashley_Tisdale', 'Madonna_(entertainer)', 'Peer_Åström'},\n",
       "  {'Americans'}),\n",
       " ('Game of Thrones (season 1) has only ever been adapted for newspapers.',\n",
       "  {'Game_of_Thrones_(season_1)'},\n",
       "  {'season 1'}),\n",
       " ('1986 was when Lucas was created.', {'Lucas_(film)'}, {'1986', 'Lucas'}),\n",
       " ('Rihanna earned fourteen number-one singles on the Billboard Hot 100.',\n",
       "  {'Rihanna'},\n",
       "  {'100', 'Rihanna', 'fourteen', 'one'}),\n",
       " ('Selena Gomez has yet to release any solo albums.',\n",
       "  {'Selena_Gomez', 'Stars_Dance'},\n",
       "  {'Selena Gomez'}),\n",
       " ('The Wolf of Wall Street was released in September of 2013.',\n",
       "  {'The_Wolf_of_Wall_Street_(2013_film)'},\n",
       "  {'September of 2013', 'The Wolf of Wall Street'}),\n",
       " ('Cage Warriors is only a WWE promotion.',\n",
       "  {'Cage_Warriors'},\n",
       "  {'Cage Warriors', 'WWE'}),\n",
       " ('Delhi is an enclave.', {'Delhi'}, {'Delhi'}),\n",
       " ('There is a music group called Soundgarden.',\n",
       "  {'Alternative_rock',\n",
       "   'Ben_Shepherd',\n",
       "   'Black_Hole_Sun',\n",
       "   'Matt_Cameron',\n",
       "   'Soundgarden',\n",
       "   'Spoonman',\n",
       "   'Superunknown'},\n",
       "  {'Soundgarden'}),\n",
       " ('During World War II there was a military campaign in East Africa.',\n",
       "  {'World_War_II'},\n",
       "  {'East Africa', 'World War II'}),\n",
       " ('Dwyane Wade played basketball for the Miami Heat.',\n",
       "  {'Dwyane_Wade'},\n",
       "  {'Dwyane Wade', 'the Miami Heat'}),\n",
       " ('The release date of The Smurfs (film) changed three times.',\n",
       "  {'The_Smurfs_(film)'},\n",
       "  {'Smurfs', 'three'}),\n",
       " ('21.2% of Montreal citizens speak Spanish at home.',\n",
       "  {'Montreal'},\n",
       "  {'21.2%', 'Montreal', 'Spanish'}),\n",
       " ('The Museum of Science and Industry is an attraction.',\n",
       "  {'Museum_of_Science_and_Industry_(Chicago)'},\n",
       "  {'The Museum of Science and Industry'}),\n",
       " (\"Glee's cast had live signing tours after they'd filmed the first and second seasons.\",\n",
       "  {'Glee_(TV_series)'},\n",
       "  {'Glee', 'first', 'second'}),\n",
       " ('Endless Love was released by Diana Ross.',\n",
       "  {'Diana_Ross', 'Endless_Love_(song)'},\n",
       "  {'Diana Ross', 'Love'}),\n",
       " ('Charles, Prince of Wales does not have interests that encompass a range of humanitarian and social issues.',\n",
       "  {'Charles,_Prince_of_Wales'},\n",
       "  {'Charles'}),\n",
       " ('Frederick Trump was born in a village.',\n",
       "  {'Frederick_Trump', 'Kallstadt'},\n",
       "  {'Frederick Trump'}),\n",
       " ('The term cult film was used before 1950s.', {'Cult_film'}, {'1950s'}),\n",
       " ('No Americans were involved in any episode of The Blacklist.',\n",
       "  {'Harry_Lennix',\n",
       "   'James_Spader',\n",
       "   'Megan_Boone',\n",
       "   'Ryan_Eggold',\n",
       "   'The_Blacklist_(TV_series)'},\n",
       "  {'Americans', 'The Blacklist'}),\n",
       " ('Generation X lacks a cohort.', {'Generation_X'}, set()),\n",
       " ('Mackenzie Foy starred in a movie.', {'Mackenzie_Foy'}, {'Mackenzie Foy'}),\n",
       " ('Kurt Angle is the fifth Grand Slam Champion.',\n",
       "  {'Kurt_Angle'},\n",
       "  {'Grand Slam Champion', 'Kurt Angle', 'fifth'}),\n",
       " ('Ubisoft had a former name.', {'Ubisoft'}, {'Ubisoft'}),\n",
       " ('Foo Fighters is Irish.', {'Foo_Fighters'}, {'Foo Fighters', 'Irish'}),\n",
       " ('The Big Trail was directed by Stanley Kubrick.',\n",
       "  {'The_Big_Trail'},\n",
       "  {'Stanley Kubrick'}),\n",
       " (\"Girls' Generation is a South Korean girl group.\",\n",
       "  {\"Gee_(Girls'_Generation_song)\", \"Girls'_Generation\"},\n",
       "  {'South Korean'}),\n",
       " ('Frank Ocean released two albums in 2016.',\n",
       "  {'Frank_Ocean'},\n",
       "  {'2016', 'Frank Ocean', 'two'}),\n",
       " ('Adrien Broner is not a boxer.',\n",
       "  {'Adrien_Broner', 'World_Boxing_Association'},\n",
       "  {'Adrien Broner'}),\n",
       " ('Charles Mackay writes poetry.',\n",
       "  {'Charles_Mackay_(author)'},\n",
       "  {'Charles Mackay'}),\n",
       " ('Leyton Orient F.C. is in Newham.',\n",
       "  {'Brisbane_Road', 'Leyton_Orient_F.C.'},\n",
       "  {'Leyton Orient F.C.', 'Newham'}),\n",
       " ('A central venous catheter is also referred to as a central venous line.',\n",
       "  {'Central_venous_catheter'},\n",
       "  set()),\n",
       " ('An aspect of Top Gun was praised.', {'Top_Gun'}, {'Top Gun'}),\n",
       " ('Sharon Tate has always been single.', {'Sharon_Tate'}, {'Sharon Tate'}),\n",
       " ('Birth of the Dragon is scheduled to be released on April 4, 2020.',\n",
       "  {'Birth_of_the_Dragon'},\n",
       "  {'April 4, 2020', 'Dragon'}),\n",
       " (\"Several albums of Ricky Martin's albums have been in Spanish.\",\n",
       "  {'Ricky_Martin'},\n",
       "  {\"Ricky Martin's\", 'Spanish'}),\n",
       " ('Lily Collins attended University of Southern California.',\n",
       "  {'Lily_Collins'},\n",
       "  {'Lily Collins', 'University of Southern California'}),\n",
       " ('Grace Kelly was in American films.',\n",
       "  {'Grace_Kelly'},\n",
       "  {'American', 'Grace Kelly'}),\n",
       " ('American Gods is a book.', {'American_Gods'}, {'American Gods'}),\n",
       " ('David Beckham played with United.',\n",
       "  {'David_Beckham'},\n",
       "  {'David Beckham', 'United'}),\n",
       " ('Elementary has the character Sherlock Holmes.',\n",
       "  {'Elementary_(TV_series)'},\n",
       "  {'Elementary', 'Sherlock Holmes'}),\n",
       " ('Bob Arum is incapable of working with promoting boxing.',\n",
       "  {'Bob_Arum'},\n",
       "  {'Bob Arum'}),\n",
       " ('Samuel Witwer plays music.', {'Samuel_Witwer'}, {'Samuel Witwer'}),\n",
       " ('Pacific Rim is a comic book.', {'Pacific_Rim_(film)'}, {'Pacific Rim'}),\n",
       " ('Halle Berry has a son.', {'Halle_Berry'}, {'Halle Berry'}),\n",
       " ('Stephen Hawking is an Honorary Fellow of the Royal Society of Arts.',\n",
       "  {'Stephen_Hawking'},\n",
       "  {'Honorary Fellow', 'Stephen Hawking', 'the Royal Society of Arts'}),\n",
       " ('Superunknown sold 310,000 copies.', {'Superunknown'}, {'310,000'}),\n",
       " ('Extracorporeal shockwave therapy (ESWT) is unused in urology.',\n",
       "  {'Extracorporeal_shockwave_therapy'},\n",
       "  set()),\n",
       " ('Murder on the Orient Express starred an actor from the United States.',\n",
       "  {'Johnny_Depp', 'Murder_on_the_Orient_Express_(2017_film)'},\n",
       "  {'the Orient Express', 'the United States'}),\n",
       " ('Sikhism means learner.', {'Sikhism'}, set()),\n",
       " ('25 was put out via XL Recordings.',\n",
       "  {'25_(Adele_album)'},\n",
       "  {'25', 'XL Recordings'}),\n",
       " ('Christina Aguilera appeared on the film series The Mickey Mouse Club.',\n",
       "  {'Christina_Aguilera'},\n",
       "  {'Christina Aguilera', 'The Mickey Mouse Club'}),\n",
       " ('Emmanuel Adebayor was involved in the Togo national football team attack.',\n",
       "  {'Emmanuel_Adebayor', 'Togo_national_football_team_attack'},\n",
       "  {'Emmanuel Adebayor', 'Togo'}),\n",
       " ('Doctor Zhivago is named after its antagonist.',\n",
       "  {'Doctor_Zhivago_(novel)'},\n",
       "  {'Zhivago'}),\n",
       " ('Jamie Foxx is a person who produces records.',\n",
       "  {'Jamie_Foxx'},\n",
       "  {'Jamie Foxx'}),\n",
       " ('Community is available to stream.', {'Community_(TV_series)'}, set()),\n",
       " ('The Beatles have sold 178 billion certified units.',\n",
       "  {'The_Beatles'},\n",
       "  {'178 billion', 'Beatles'}),\n",
       " ('The Suite Life Movie stars Brenda Song in a supporting role.',\n",
       "  {'The_Suite_Life_Movie'},\n",
       "  {'Brenda Song'}),\n",
       " ('Evan Rachel Wood is an American actress.',\n",
       "  {'Evan_Rachel_Wood'},\n",
       "  {'American', 'Evan Rachel Wood'}),\n",
       " (\"Buddy Holly's was born on July 2nd, 1991.\",\n",
       "  {'Buddy_Holly'},\n",
       "  {\"Buddy Holly's\", 'July 2nd, 1991'}),\n",
       " ('Carrie Fisher was an actor.', {'Carrie_Fisher'}, {'Carrie Fisher'}),\n",
       " ('In 1921, Jim Garrison was born.',\n",
       "  {'Jim_Garrison'},\n",
       "  {'1921', 'Jim Garrison'}),\n",
       " ('Dinesh Vijan had nothing to do with the production of Love Aaj Kal.',\n",
       "  {'Dinesh_Vijan', 'Love_Aaj_Kal'},\n",
       "  {'Dinesh Vijan', 'Love Aaj Kal'}),\n",
       " ('BYD Auto is a Chinese manufacturer.',\n",
       "  {'BYD_Auto', 'BYD_Company', \"Xi'an\"},\n",
       "  {'BYD Auto', 'Chinese'}),\n",
       " ('TD Garden hosted 3 games of the 2011 Stanley Cup Finals.',\n",
       "  {'TD_Garden'},\n",
       "  {'2011', '3', 'Stanley Cup Finals', 'TD Garden'}),\n",
       " ('Kirk Douglas has been in Western drama films.',\n",
       "  {'Kirk_Douglas'},\n",
       "  {'Kirk Douglas'}),\n",
       " ('An American film production label distributed G.I. Jane.',\n",
       "  {'G.I._Jane', 'Hollywood_Pictures'},\n",
       "  {'American', 'G.I. Jane'}),\n",
       " ('The Poona Pact signing took place at the Yerwada Central Jail.',\n",
       "  {'Poona_Pact'},\n",
       "  {'Poona Pact', 'the Yerwada Central Jail'}),\n",
       " (\"The United States wasn't always independent.\",\n",
       "  {'United_States'},\n",
       "  {'The United States'}),\n",
       " ('Tony Blair was voted in as the Labour Party leader.',\n",
       "  {'Tony_Blair'},\n",
       "  {'Labour Party', 'Tony Blair'}),\n",
       " ('Judy Garland is deceased.', {'Judy_Garland'}, {'Judy Garland'}),\n",
       " ('Kristen Bell won a Saturn Award for Best Actress on Television.',\n",
       "  {'Kristen_Bell'},\n",
       "  {'Kristen Bell', 'a Saturn Award for Best Actress on Television'}),\n",
       " ('Urvashi Rautela is an Indian film actress.',\n",
       "  {'Urvashi_Rautela'},\n",
       "  {'Indian', 'Urvashi Rautela'}),\n",
       " ('My Own Private Idaho was released in 1990.',\n",
       "  {'My_Own_Private_Idaho'},\n",
       "  {'1990', 'Own Private Idaho'}),\n",
       " ('Giampaolo Pazzini plays on a soccer team.',\n",
       "  {'A.C._Milan',\n",
       "   'ACF_Fiorentina',\n",
       "   'Atalanta_B.C.',\n",
       "   'Giampaolo_Pazzini',\n",
       "   'Hellas_Verona_F.C.',\n",
       "   'Inter_Milan',\n",
       "   'Italy_national_football_team',\n",
       "   'U.C._Sampdoria'},\n",
       "  {'Giampaolo Pazzini'}),\n",
       " ('Ronald Reagan said \"tear down this wall\" directed at Mikhail Gorbachev.',\n",
       "  {'Ronald_Reagan'},\n",
       "  {'Mikhail Gorbachev', 'Ronald Reagan'}),\n",
       " ('Jeff Ament released a solo album in 2008.',\n",
       "  {'Jeff_Ament'},\n",
       "  {'2008', 'Jeff Ament'}),\n",
       " ('Shantel VanSanten was born in May.',\n",
       "  {'Shantel_VanSanten'},\n",
       "  {'May.', 'Shantel VanSanten'}),\n",
       " ('Constantine is a film starring Tilda Swinton.',\n",
       "  {'Constantine_(film)'},\n",
       "  {'Tilda Swinton'})]"
      ]
     },
     "execution_count": 81,
     "metadata": {},
     "output_type": "execute_result"
    }
   ],
   "source": [
    "[(t.claim, t.all_evidence_documents(), get_entities(t.claim)) for t in train_subset]"
   ]
  },
  {
   "cell_type": "code",
   "execution_count": null,
   "metadata": {},
   "outputs": [],
   "source": []
  },
  {
   "cell_type": "code",
   "execution_count": 40,
   "metadata": {},
   "outputs": [
    {
     "name": "stderr",
     "output_type": "stream",
     "text": [
      "100%|██████████| 5416536/5416536 [01:13<00:00, 73896.64it/s]\n"
     ]
    }
   ],
   "source": [
    "documents = retrieve_documents(claim, wiki_titles)"
   ]
  },
  {
   "cell_type": "code",
   "execution_count": 41,
   "metadata": {},
   "outputs": [
    {
     "data": {
      "text/plain": [
       "{'Fox Broadcasting Company', 'Nikolaj Coster-Waldau'}"
      ]
     },
     "execution_count": 41,
     "metadata": {},
     "output_type": "execute_result"
    }
   ],
   "source": [
    "documents"
   ]
  },
  {
   "cell_type": "code",
   "execution_count": 42,
   "metadata": {},
   "outputs": [
    {
     "data": {
      "text/plain": [
       "{'precision': 1.0,\n",
       " 'recall': 1.0,\n",
       " 'f1_score': 1.0,\n",
       " 'f2_score': 1.0,\n",
       " 'true_positives': 2,\n",
       " 'false_positives': 0,\n",
       " 'false_negatives': 0,\n",
       " 'oracle_accuracy': 1}"
      ]
     },
     "execution_count": 42,
     "metadata": {},
     "output_type": "execute_result"
    }
   ],
   "source": [
    "evaluate_document_retrieval_full(c.evidence_document_sets(), convert_wikipedia_titles_to_ids(documents))"
   ]
  },
  {
   "cell_type": "code",
   "execution_count": 24,
   "metadata": {},
   "outputs": [
    {
     "name": "stderr",
     "output_type": "stream",
     "text": [
      "100%|██████████| 100/100 [02:04<00:00,  1.25s/it]\n"
     ]
    },
    {
     "data": {
      "text/plain": [
       "{'average_precision': 0.08449472926139479,\n",
       " 'average_recall': 0.7242811355311355,\n",
       " 'average_f1_score': 0.1424154258955716,\n",
       " 'average_f2_score': 0.25717014456216886,\n",
       " 'oracle_accuracy': 0.77}"
      ]
     },
     "execution_count": 24,
     "metadata": {},
     "output_type": "execute_result"
    }
   ],
   "source": [
    "evaluate_documents_sample(train_subset, wiki_titles)"
   ]
  },
  {
   "cell_type": "code",
   "execution_count": 15,
   "metadata": {
    "collapsed": true
   },
   "outputs": [
    {
     "data": {
      "text/plain": [
       "['Cos',\n",
       " 'Cost',\n",
       " 'Fox Broadcasting Company',\n",
       " 'Wald',\n",
       " 'Wal',\n",
       " 'W',\n",
       " 'Nikola',\n",
       " 'Nikolaj Coster-Waldau',\n",
       " 'Nikolaj',\n",
       " 'Fox',\n",
       " 'Coste',\n",
       " 'Coster',\n",
       " 'F',\n",
       " 'Bro',\n",
       " 'Broa',\n",
       " 'Com',\n",
       " 'Comp',\n",
       " 'B',\n",
       " 'Broad',\n",
       " 'Broadcasting',\n",
       " 'N',\n",
       " 'Nikol',\n",
       " 'Waldau',\n",
       " 'Nik',\n",
       " 'Niko',\n",
       " 'C',\n",
       " 'Company']"
      ]
     },
     "execution_count": 15,
     "metadata": {},
     "output_type": "execute_result"
    }
   ],
   "source": [
    "documents"
   ]
  },
  {
   "cell_type": "code",
   "execution_count": 12,
   "metadata": {},
   "outputs": [
    {
     "data": {
      "text/plain": [
       "27"
      ]
     },
     "execution_count": 12,
     "metadata": {},
     "output_type": "execute_result"
    }
   ],
   "source": [
    "len(documents)"
   ]
  },
  {
   "cell_type": "code",
   "execution_count": null,
   "metadata": {},
   "outputs": [],
   "source": []
  },
  {
   "cell_type": "code",
   "execution_count": null,
   "metadata": {},
   "outputs": [],
   "source": []
  },
  {
   "cell_type": "code",
   "execution_count": 9,
   "metadata": {},
   "outputs": [
    {
     "data": {
      "text/plain": [
       "['nikolaj', 'costerwaldau', 'worked', 'fox', 'broadcasting', 'company']"
      ]
     },
     "execution_count": 9,
     "metadata": {},
     "output_type": "execute_result"
    }
   ],
   "source": [
    "tokenize(claim)"
   ]
  },
  {
   "cell_type": "code",
   "execution_count": 26,
   "metadata": {},
   "outputs": [
    {
     "data": {
      "text/plain": [
       "{'Nikolaj Coster-Waldau', 'the Fox Broadcasting Company'}"
      ]
     },
     "execution_count": 26,
     "metadata": {},
     "output_type": "execute_result"
    }
   ],
   "source": [
    "get_entities(claim)"
   ]
  },
  {
   "cell_type": "code",
   "execution_count": 30,
   "metadata": {},
   "outputs": [
    {
     "data": {
      "text/plain": [
       "['nikolaj costerwaldau', 'fox broadcasting company']"
      ]
     },
     "execution_count": 30,
     "metadata": {},
     "output_type": "execute_result"
    }
   ],
   "source": [
    "tokenize(get_entities(claim))"
   ]
  },
  {
   "cell_type": "code",
   "execution_count": null,
   "metadata": {},
   "outputs": [],
   "source": []
  },
  {
   "cell_type": "code",
   "execution_count": 30,
   "metadata": {},
   "outputs": [
    {
     "name": "stdout",
     "output_type": "stream",
     "text": [
      "['and', 'document', 'first', 'is', 'one', 'second', 'the', 'third', 'this']\n",
      "(4, 9)\n"
     ]
    }
   ],
   "source": [
    "from sklearn.feature_extraction.text import TfidfVectorizer\n",
    "corpus = [\n",
    "    'This is the first document.',\n",
    "    'This document is the second document.',\n",
    "    'And this is the third one.',\n",
    "    'Is this the first document?',\n",
    "]\n",
    "vectorizer = TfidfVectorizer()\n",
    "X = vectorizer.fit_transform(corpus)\n",
    "print(vectorizer.get_feature_names())\n",
    "\n",
    "print(X.shape)"
   ]
  },
  {
   "cell_type": "code",
   "execution_count": 168,
   "metadata": {
    "collapsed": true
   },
   "outputs": [
    {
     "data": {
      "text/plain": [
       "matrix([[0.        , 0.46979139, 0.58028582, 0.38408524, 0.        ,\n",
       "         0.        , 0.38408524, 0.        , 0.38408524],\n",
       "        [0.        , 0.6876236 , 0.        , 0.28108867, 0.        ,\n",
       "         0.53864762, 0.28108867, 0.        , 0.28108867],\n",
       "        [0.51184851, 0.        , 0.        , 0.26710379, 0.51184851,\n",
       "         0.        , 0.26710379, 0.51184851, 0.26710379],\n",
       "        [0.        , 0.46979139, 0.58028582, 0.38408524, 0.        ,\n",
       "         0.        , 0.38408524, 0.        , 0.38408524]])"
      ]
     },
     "execution_count": 168,
     "metadata": {},
     "output_type": "execute_result"
    }
   ],
   "source": [
    "X.todense()"
   ]
  },
  {
   "cell_type": "code",
   "execution_count": 31,
   "metadata": {},
   "outputs": [],
   "source": [
    "vectorizer = TfidfVectorizer()\n",
    "X = vectorizer.fit(titles)"
   ]
  },
  {
   "cell_type": "code",
   "execution_count": 36,
   "metadata": {
    "collapsed": true
   },
   "outputs": [
    {
     "data": {
      "text/plain": [
       "['autengruber',\n",
       " 'autenrieth',\n",
       " 'autenti',\n",
       " 'autentico',\n",
       " 'auterac',\n",
       " 'auterive',\n",
       " 'autero',\n",
       " 'auteroche',\n",
       " 'auterrive',\n",
       " 'autery']"
      ]
     },
     "execution_count": 36,
     "metadata": {},
     "output_type": "execute_result"
    }
   ],
   "source": [
    "vectorizer.get_feature_names()[100000:100010]"
   ]
  },
  {
   "cell_type": "code",
   "execution_count": 52,
   "metadata": {},
   "outputs": [],
   "source": [
    "result = vectorizer.transform([claim])"
   ]
  },
  {
   "cell_type": "code",
   "execution_count": 70,
   "metadata": {},
   "outputs": [],
   "source": [
    "result_row = np.ndarray.flatten(result.getrow(0).toarray())"
   ]
  },
  {
   "cell_type": "code",
   "execution_count": 71,
   "metadata": {},
   "outputs": [
    {
     "data": {
      "text/plain": [
       "(1442247,)"
      ]
     },
     "execution_count": 71,
     "metadata": {},
     "output_type": "execute_result"
    }
   ],
   "source": [
    "result_row.shape"
   ]
  },
  {
   "cell_type": "code",
   "execution_count": 42,
   "metadata": {},
   "outputs": [],
   "source": [
    "import numpy as np"
   ]
  },
  {
   "cell_type": "code",
   "execution_count": 87,
   "metadata": {},
   "outputs": [],
   "source": [
    "top_3 = np.argsort(result_row)[-3:][::-1]"
   ]
  },
  {
   "cell_type": "code",
   "execution_count": 88,
   "metadata": {},
   "outputs": [
    {
     "data": {
      "text/plain": [
       "matrix([[0.43705291, 0.43256636, 0.40342318]])"
      ]
     },
     "execution_count": 88,
     "metadata": {},
     "output_type": "execute_result"
    }
   ],
   "source": [
    "result[0, top_3].todense()"
   ]
  },
  {
   "cell_type": "code",
   "execution_count": 45,
   "metadata": {},
   "outputs": [
    {
     "data": {
      "text/plain": [
       "0.43705291143195724"
      ]
     },
     "execution_count": 45,
     "metadata": {},
     "output_type": "execute_result"
    }
   ],
   "source": [
    "result[0, np.argmax(result)]"
   ]
  },
  {
   "cell_type": "code",
   "execution_count": 48,
   "metadata": {},
   "outputs": [
    {
     "data": {
      "text/plain": [
       "'worked'"
      ]
     },
     "execution_count": 48,
     "metadata": {},
     "output_type": "execute_result"
    }
   ],
   "source": [
    "vectorizer.get_feature_names()[np.argmax(result)]"
   ]
  },
  {
   "cell_type": "code",
   "execution_count": 89,
   "metadata": {},
   "outputs": [
    {
     "data": {
      "text/plain": [
       "array(['worked', 'waldau', 'nikolaj'], dtype='<U182')"
      ]
     },
     "execution_count": 89,
     "metadata": {},
     "output_type": "execute_result"
    }
   ],
   "source": [
    "np.array(vectorizer.get_feature_names())[top_3]"
   ]
  }
 ],
 "metadata": {
  "kernelspec": {
   "display_name": "Python 3",
   "language": "python",
   "name": "python3"
  },
  "language_info": {
   "codemirror_mode": {
    "name": "ipython",
    "version": 3
   },
   "file_extension": ".py",
   "mimetype": "text/x-python",
   "name": "python",
   "nbconvert_exporter": "python",
   "pygments_lexer": "ipython3",
   "version": "3.7.2"
  }
 },
 "nbformat": 4,
 "nbformat_minor": 2
}
