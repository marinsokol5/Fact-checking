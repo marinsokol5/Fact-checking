{
 "cells": [
  {
   "cell_type": "code",
   "execution_count": 1,
   "metadata": {},
   "outputs": [],
   "source": [
    "import torch\n",
    "import torch.nn as nn\n",
    "import numpy as np\n",
    "import torch.nn.functional as F"
   ]
  },
  {
   "cell_type": "code",
   "execution_count": 2,
   "metadata": {},
   "outputs": [],
   "source": [
    "import os\n",
    "os.chdir(\"..\")"
   ]
  },
  {
   "cell_type": "code",
   "execution_count": null,
   "metadata": {},
   "outputs": [],
   "source": []
  },
  {
   "cell_type": "code",
   "execution_count": 8,
   "metadata": {},
   "outputs": [],
   "source": [
    "from torch.nn.utils.rnn import pad_sequence\n",
    "a = torch.ones(25, 300)\n",
    "b = torch.ones(22, 300)\n",
    "c = torch.ones(15, 300)"
   ]
  },
  {
   "cell_type": "code",
   "execution_count": 10,
   "metadata": {},
   "outputs": [
    {
     "ename": "RuntimeError",
     "evalue": "The expanded size of the tensor (5) must match the existing size (6) at non-singleton dimension 1.  Target sizes: [22, 5, 300].  Tensor sizes: [22, 6, 300]",
     "output_type": "error",
     "traceback": [
      "\u001b[0;31m---------------------------------------------------------------------------\u001b[0m",
      "\u001b[0;31mRuntimeError\u001b[0m                              Traceback (most recent call last)",
      "\u001b[0;32m<ipython-input-10-eec73799b26e>\u001b[0m in \u001b[0;36m<module>\u001b[0;34m()\u001b[0m\n\u001b[0;32m----> 1\u001b[0;31m \u001b[0mpad_sequence\u001b[0m\u001b[0;34m(\u001b[0m\u001b[0;34m[\u001b[0m\u001b[0ma\u001b[0m\u001b[0;34m,\u001b[0m \u001b[0mb\u001b[0m\u001b[0;34m,\u001b[0m \u001b[0mc\u001b[0m\u001b[0;34m]\u001b[0m\u001b[0;34m,\u001b[0m \u001b[0mbatch_first\u001b[0m\u001b[0;34m=\u001b[0m\u001b[0;32mTrue\u001b[0m\u001b[0;34m)\u001b[0m\u001b[0;34m.\u001b[0m\u001b[0msize\u001b[0m\u001b[0;34m(\u001b[0m\u001b[0;34m)\u001b[0m\u001b[0;34m\u001b[0m\u001b[0;34m\u001b[0m\u001b[0m\n\u001b[0m",
      "\u001b[0;32m~/anaconda3/lib/python3.7/site-packages/torch/nn/utils/rnn.py\u001b[0m in \u001b[0;36mpad_sequence\u001b[0;34m(sequences, batch_first, padding_value)\u001b[0m\n\u001b[1;32m    246\u001b[0m         \u001b[0;31m# use index notation to prevent duplicate references to the tensor\u001b[0m\u001b[0;34m\u001b[0m\u001b[0;34m\u001b[0m\u001b[0;34m\u001b[0m\u001b[0m\n\u001b[1;32m    247\u001b[0m         \u001b[0;32mif\u001b[0m \u001b[0mbatch_first\u001b[0m\u001b[0;34m:\u001b[0m\u001b[0;34m\u001b[0m\u001b[0;34m\u001b[0m\u001b[0m\n\u001b[0;32m--> 248\u001b[0;31m             \u001b[0mout_tensor\u001b[0m\u001b[0;34m[\u001b[0m\u001b[0mi\u001b[0m\u001b[0;34m,\u001b[0m \u001b[0;34m:\u001b[0m\u001b[0mlength\u001b[0m\u001b[0;34m,\u001b[0m \u001b[0;34m...\u001b[0m\u001b[0;34m]\u001b[0m \u001b[0;34m=\u001b[0m \u001b[0mtensor\u001b[0m\u001b[0;34m\u001b[0m\u001b[0;34m\u001b[0m\u001b[0m\n\u001b[0m\u001b[1;32m    249\u001b[0m         \u001b[0;32melse\u001b[0m\u001b[0;34m:\u001b[0m\u001b[0;34m\u001b[0m\u001b[0;34m\u001b[0m\u001b[0m\n\u001b[1;32m    250\u001b[0m             \u001b[0mout_tensor\u001b[0m\u001b[0;34m[\u001b[0m\u001b[0;34m:\u001b[0m\u001b[0mlength\u001b[0m\u001b[0;34m,\u001b[0m \u001b[0mi\u001b[0m\u001b[0;34m,\u001b[0m \u001b[0;34m...\u001b[0m\u001b[0;34m]\u001b[0m \u001b[0;34m=\u001b[0m \u001b[0mtensor\u001b[0m\u001b[0;34m\u001b[0m\u001b[0;34m\u001b[0m\u001b[0m\n",
      "\u001b[0;31mRuntimeError\u001b[0m: The expanded size of the tensor (5) must match the existing size (6) at non-singleton dimension 1.  Target sizes: [22, 5, 300].  Tensor sizes: [22, 6, 300]"
     ]
    }
   ],
   "source": [
    "pad_sequence([a, b, c], batch_first=True).size()"
   ]
  },
  {
   "cell_type": "code",
   "execution_count": null,
   "metadata": {},
   "outputs": [],
   "source": []
  },
  {
   "cell_type": "code",
   "execution_count": null,
   "metadata": {},
   "outputs": [],
   "source": []
  },
  {
   "cell_type": "code",
   "execution_count": 4,
   "metadata": {},
   "outputs": [],
   "source": [
    "from models.LSTMs import *"
   ]
  },
  {
   "cell_type": "code",
   "execution_count": 5,
   "metadata": {},
   "outputs": [],
   "source": [
    "batch_size = 3\n",
    "embed_size = 5\n",
    "hidden_size = 4\n",
    "num_layers = 1"
   ]
  },
  {
   "cell_type": "code",
   "execution_count": 6,
   "metadata": {},
   "outputs": [],
   "source": [
    "lstms = LSTMs(embed_size, hidden_size, num_layers, batch_size)"
   ]
  },
  {
   "cell_type": "code",
   "execution_count": 7,
   "metadata": {},
   "outputs": [],
   "source": [
    "from util.modelling_util import get_trainable_parameters"
   ]
  },
  {
   "cell_type": "code",
   "execution_count": 10,
   "metadata": {},
   "outputs": [],
   "source": [
    "a = list(get_trainable_parameters(lstms))"
   ]
  },
  {
   "cell_type": "code",
   "execution_count": 12,
   "metadata": {},
   "outputs": [
    {
     "data": {
      "text/plain": [
       "[Parameter containing:\n",
       " tensor([[ 0.4434,  0.2617,  0.3758,  0.0290, -0.4238],\n",
       "         [-0.1350,  0.1810,  0.3497,  0.1993, -0.3654],\n",
       "         [-0.2623,  0.2879,  0.3006, -0.3799,  0.1253],\n",
       "         [ 0.4508,  0.0899,  0.2408, -0.1544,  0.0394],\n",
       "         [ 0.3952,  0.3203, -0.4230,  0.1070, -0.2788],\n",
       "         [-0.2869,  0.3889,  0.3398,  0.3054, -0.1225],\n",
       "         [ 0.1357,  0.4758,  0.4341, -0.2864, -0.2303],\n",
       "         [-0.2608, -0.1243,  0.2514,  0.3422, -0.2890],\n",
       "         [ 0.0213, -0.4888, -0.3094,  0.4192, -0.3606],\n",
       "         [-0.1080, -0.4726, -0.1422,  0.3080,  0.2083],\n",
       "         [-0.0327,  0.0484, -0.0920,  0.4088,  0.2957],\n",
       "         [ 0.3148, -0.2836,  0.2525, -0.0071,  0.0345],\n",
       "         [-0.0636, -0.2612, -0.3538,  0.4111, -0.3927],\n",
       "         [-0.3310, -0.1529,  0.3610, -0.1081,  0.2406],\n",
       "         [ 0.4362, -0.2395,  0.3865,  0.1128, -0.3716],\n",
       "         [-0.4523, -0.1004, -0.1668, -0.0049, -0.3598]], requires_grad=True),\n",
       " Parameter containing:\n",
       " tensor([[-0.4058, -0.0887,  0.2567, -0.0817],\n",
       "         [-0.4565, -0.4372, -0.1711, -0.1684],\n",
       "         [-0.2427,  0.4850,  0.2397, -0.3840],\n",
       "         [ 0.1412, -0.4575,  0.0016,  0.4278],\n",
       "         [-0.3418, -0.3652,  0.2219,  0.0338],\n",
       "         [-0.1965,  0.3624, -0.4686,  0.3194],\n",
       "         [-0.3347,  0.0075,  0.0304, -0.0343],\n",
       "         [ 0.1366, -0.3465, -0.4791, -0.1639],\n",
       "         [-0.1042, -0.4830, -0.4961, -0.1149],\n",
       "         [-0.1901,  0.2471,  0.4906,  0.0716],\n",
       "         [-0.1275,  0.3935, -0.0280,  0.2951],\n",
       "         [-0.4269,  0.3122, -0.1158, -0.2862],\n",
       "         [-0.0257,  0.2553, -0.3943,  0.1296],\n",
       "         [-0.4687, -0.1975,  0.2428,  0.2058],\n",
       "         [-0.1748, -0.1648, -0.2917,  0.2131],\n",
       "         [ 0.4071,  0.0340, -0.2698,  0.4480]], requires_grad=True),\n",
       " Parameter containing:\n",
       " tensor([-0.0290, -0.1770,  0.3499,  0.4458, -0.4020, -0.0846, -0.3223, -0.4898,\n",
       "         -0.0292,  0.3128,  0.1264,  0.3973,  0.1288,  0.2463, -0.4971, -0.1807],\n",
       "        requires_grad=True),\n",
       " Parameter containing:\n",
       " tensor([ 0.1636, -0.1298, -0.4276,  0.4028, -0.2977, -0.4161,  0.0558, -0.2657,\n",
       "         -0.1905, -0.3101, -0.4178,  0.2886,  0.3411,  0.1481,  0.3609, -0.1528],\n",
       "        requires_grad=True),\n",
       " Parameter containing:\n",
       " tensor([[-0.4935,  0.0682,  0.1249,  0.4263,  0.4565],\n",
       "         [-0.1283, -0.3436, -0.0990, -0.3512, -0.1602],\n",
       "         [ 0.4165, -0.1420, -0.1921, -0.1383, -0.1240],\n",
       "         [ 0.4543,  0.2915,  0.3376, -0.1267, -0.0084],\n",
       "         [ 0.2772, -0.1146,  0.0630,  0.1418, -0.0961],\n",
       "         [-0.2948,  0.4006, -0.0395, -0.0470,  0.3781],\n",
       "         [ 0.0062,  0.3637,  0.3422, -0.2635, -0.0090],\n",
       "         [-0.0373,  0.3258,  0.0305, -0.3275,  0.0322],\n",
       "         [ 0.2890,  0.3269,  0.4094,  0.3392, -0.2894],\n",
       "         [-0.2483, -0.2862, -0.2854, -0.2354, -0.0412],\n",
       "         [ 0.3519, -0.3657, -0.1878,  0.1859,  0.2555],\n",
       "         [ 0.3340,  0.1373,  0.2198, -0.0730, -0.4539],\n",
       "         [-0.1851, -0.3909,  0.0908,  0.0572, -0.1362],\n",
       "         [ 0.4838,  0.1148, -0.1959, -0.4376,  0.1486],\n",
       "         [-0.0436,  0.2767,  0.4721,  0.2899, -0.0478],\n",
       "         [-0.3596,  0.2853,  0.0690, -0.4306, -0.1715]], requires_grad=True),\n",
       " Parameter containing:\n",
       " tensor([[-0.0836,  0.3446, -0.1155, -0.2832],\n",
       "         [-0.2351, -0.2197,  0.3399, -0.0584],\n",
       "         [ 0.4887,  0.4600,  0.3200,  0.3154],\n",
       "         [ 0.2246, -0.1246,  0.3571,  0.0628],\n",
       "         [ 0.4110,  0.4315, -0.1632,  0.2171],\n",
       "         [ 0.3164, -0.2739, -0.0491,  0.0912],\n",
       "         [ 0.0245,  0.3940,  0.0852,  0.3349],\n",
       "         [-0.2890,  0.1398,  0.3312,  0.0315],\n",
       "         [-0.3273,  0.4492, -0.0632,  0.4898],\n",
       "         [-0.4676, -0.0510, -0.1001,  0.2309],\n",
       "         [-0.3405,  0.4461, -0.4713, -0.1252],\n",
       "         [-0.1957, -0.3429, -0.0185,  0.1861],\n",
       "         [ 0.3518,  0.0163, -0.3596, -0.1465],\n",
       "         [-0.3743, -0.4979,  0.1775,  0.3364],\n",
       "         [ 0.1655, -0.0222, -0.4395, -0.2107],\n",
       "         [ 0.1134, -0.0555, -0.1366, -0.1780]], requires_grad=True),\n",
       " Parameter containing:\n",
       " tensor([-0.2142,  0.0298,  0.2065,  0.3655, -0.1984,  0.1095, -0.3167,  0.2731,\n",
       "         -0.3846, -0.1501, -0.0633, -0.3715, -0.3085,  0.2084,  0.2250,  0.0886],\n",
       "        requires_grad=True),\n",
       " Parameter containing:\n",
       " tensor([-0.1862, -0.0554,  0.2861, -0.3198, -0.2713, -0.2643,  0.0170,  0.0556,\n",
       "         -0.0769,  0.0232,  0.4227,  0.0443, -0.3180, -0.2540,  0.3442, -0.1422],\n",
       "        requires_grad=True),\n",
       " Parameter containing:\n",
       " tensor([[ 0.2248, -0.2600,  0.0199,  0.2014,  0.2913,  0.1998, -0.2774,  0.1368],\n",
       "         [ 0.2097,  0.0654, -0.1443,  0.0905,  0.2760, -0.2866, -0.1945,  0.0736]],\n",
       "        requires_grad=True),\n",
       " Parameter containing:\n",
       " tensor([-0.2953, -0.3156], requires_grad=True)]"
      ]
     },
     "execution_count": 12,
     "metadata": {},
     "output_type": "execute_result"
    }
   ],
   "source": [
    "a"
   ]
  },
  {
   "cell_type": "code",
   "execution_count": 15,
   "metadata": {},
   "outputs": [
    {
     "data": {
      "text/plain": [
       "[Parameter containing:\n",
       " tensor([[ 0.4434,  0.2617,  0.3758,  0.0290, -0.4238],\n",
       "         [-0.1350,  0.1810,  0.3497,  0.1993, -0.3654],\n",
       "         [-0.2623,  0.2879,  0.3006, -0.3799,  0.1253],\n",
       "         [ 0.4508,  0.0899,  0.2408, -0.1544,  0.0394],\n",
       "         [ 0.3952,  0.3203, -0.4230,  0.1070, -0.2788],\n",
       "         [-0.2869,  0.3889,  0.3398,  0.3054, -0.1225],\n",
       "         [ 0.1357,  0.4758,  0.4341, -0.2864, -0.2303],\n",
       "         [-0.2608, -0.1243,  0.2514,  0.3422, -0.2890],\n",
       "         [ 0.0213, -0.4888, -0.3094,  0.4192, -0.3606],\n",
       "         [-0.1080, -0.4726, -0.1422,  0.3080,  0.2083],\n",
       "         [-0.0327,  0.0484, -0.0920,  0.4088,  0.2957],\n",
       "         [ 0.3148, -0.2836,  0.2525, -0.0071,  0.0345],\n",
       "         [-0.0636, -0.2612, -0.3538,  0.4111, -0.3927],\n",
       "         [-0.3310, -0.1529,  0.3610, -0.1081,  0.2406],\n",
       "         [ 0.4362, -0.2395,  0.3865,  0.1128, -0.3716],\n",
       "         [-0.4523, -0.1004, -0.1668, -0.0049, -0.3598]], requires_grad=True),\n",
       " Parameter containing:\n",
       " tensor([[-0.4058, -0.0887,  0.2567, -0.0817],\n",
       "         [-0.4565, -0.4372, -0.1711, -0.1684],\n",
       "         [-0.2427,  0.4850,  0.2397, -0.3840],\n",
       "         [ 0.1412, -0.4575,  0.0016,  0.4278],\n",
       "         [-0.3418, -0.3652,  0.2219,  0.0338],\n",
       "         [-0.1965,  0.3624, -0.4686,  0.3194],\n",
       "         [-0.3347,  0.0075,  0.0304, -0.0343],\n",
       "         [ 0.1366, -0.3465, -0.4791, -0.1639],\n",
       "         [-0.1042, -0.4830, -0.4961, -0.1149],\n",
       "         [-0.1901,  0.2471,  0.4906,  0.0716],\n",
       "         [-0.1275,  0.3935, -0.0280,  0.2951],\n",
       "         [-0.4269,  0.3122, -0.1158, -0.2862],\n",
       "         [-0.0257,  0.2553, -0.3943,  0.1296],\n",
       "         [-0.4687, -0.1975,  0.2428,  0.2058],\n",
       "         [-0.1748, -0.1648, -0.2917,  0.2131],\n",
       "         [ 0.4071,  0.0340, -0.2698,  0.4480]], requires_grad=True),\n",
       " Parameter containing:\n",
       " tensor([-0.0290, -0.1770,  0.3499,  0.4458, -0.4020, -0.0846, -0.3223, -0.4898,\n",
       "         -0.0292,  0.3128,  0.1264,  0.3973,  0.1288,  0.2463, -0.4971, -0.1807],\n",
       "        requires_grad=True),\n",
       " Parameter containing:\n",
       " tensor([ 0.1636, -0.1298, -0.4276,  0.4028, -0.2977, -0.4161,  0.0558, -0.2657,\n",
       "         -0.1905, -0.3101, -0.4178,  0.2886,  0.3411,  0.1481,  0.3609, -0.1528],\n",
       "        requires_grad=True),\n",
       " Parameter containing:\n",
       " tensor([[-0.4935,  0.0682,  0.1249,  0.4263,  0.4565],\n",
       "         [-0.1283, -0.3436, -0.0990, -0.3512, -0.1602],\n",
       "         [ 0.4165, -0.1420, -0.1921, -0.1383, -0.1240],\n",
       "         [ 0.4543,  0.2915,  0.3376, -0.1267, -0.0084],\n",
       "         [ 0.2772, -0.1146,  0.0630,  0.1418, -0.0961],\n",
       "         [-0.2948,  0.4006, -0.0395, -0.0470,  0.3781],\n",
       "         [ 0.0062,  0.3637,  0.3422, -0.2635, -0.0090],\n",
       "         [-0.0373,  0.3258,  0.0305, -0.3275,  0.0322],\n",
       "         [ 0.2890,  0.3269,  0.4094,  0.3392, -0.2894],\n",
       "         [-0.2483, -0.2862, -0.2854, -0.2354, -0.0412],\n",
       "         [ 0.3519, -0.3657, -0.1878,  0.1859,  0.2555],\n",
       "         [ 0.3340,  0.1373,  0.2198, -0.0730, -0.4539],\n",
       "         [-0.1851, -0.3909,  0.0908,  0.0572, -0.1362],\n",
       "         [ 0.4838,  0.1148, -0.1959, -0.4376,  0.1486],\n",
       "         [-0.0436,  0.2767,  0.4721,  0.2899, -0.0478],\n",
       "         [-0.3596,  0.2853,  0.0690, -0.4306, -0.1715]], requires_grad=True),\n",
       " Parameter containing:\n",
       " tensor([[-0.0836,  0.3446, -0.1155, -0.2832],\n",
       "         [-0.2351, -0.2197,  0.3399, -0.0584],\n",
       "         [ 0.4887,  0.4600,  0.3200,  0.3154],\n",
       "         [ 0.2246, -0.1246,  0.3571,  0.0628],\n",
       "         [ 0.4110,  0.4315, -0.1632,  0.2171],\n",
       "         [ 0.3164, -0.2739, -0.0491,  0.0912],\n",
       "         [ 0.0245,  0.3940,  0.0852,  0.3349],\n",
       "         [-0.2890,  0.1398,  0.3312,  0.0315],\n",
       "         [-0.3273,  0.4492, -0.0632,  0.4898],\n",
       "         [-0.4676, -0.0510, -0.1001,  0.2309],\n",
       "         [-0.3405,  0.4461, -0.4713, -0.1252],\n",
       "         [-0.1957, -0.3429, -0.0185,  0.1861],\n",
       "         [ 0.3518,  0.0163, -0.3596, -0.1465],\n",
       "         [-0.3743, -0.4979,  0.1775,  0.3364],\n",
       "         [ 0.1655, -0.0222, -0.4395, -0.2107],\n",
       "         [ 0.1134, -0.0555, -0.1366, -0.1780]], requires_grad=True),\n",
       " Parameter containing:\n",
       " tensor([-0.2142,  0.0298,  0.2065,  0.3655, -0.1984,  0.1095, -0.3167,  0.2731,\n",
       "         -0.3846, -0.1501, -0.0633, -0.3715, -0.3085,  0.2084,  0.2250,  0.0886],\n",
       "        requires_grad=True),\n",
       " Parameter containing:\n",
       " tensor([-0.1862, -0.0554,  0.2861, -0.3198, -0.2713, -0.2643,  0.0170,  0.0556,\n",
       "         -0.0769,  0.0232,  0.4227,  0.0443, -0.3180, -0.2540,  0.3442, -0.1422],\n",
       "        requires_grad=True),\n",
       " Parameter containing:\n",
       " tensor([[ 0.2248, -0.2600,  0.0199,  0.2014,  0.2913,  0.1998, -0.2774,  0.1368],\n",
       "         [ 0.2097,  0.0654, -0.1443,  0.0905,  0.2760, -0.2866, -0.1945,  0.0736]],\n",
       "        requires_grad=True),\n",
       " Parameter containing:\n",
       " tensor([-0.2953, -0.3156], requires_grad=True)]"
      ]
     },
     "execution_count": 15,
     "metadata": {},
     "output_type": "execute_result"
    }
   ],
   "source": [
    "list(lstms.parameters())"
   ]
  },
  {
   "cell_type": "code",
   "execution_count": 16,
   "metadata": {},
   "outputs": [
    {
     "data": {
      "text/plain": [
       "LSTMs(\n",
       "  (LSTM1): LSTM(5, 4, batch_first=True)\n",
       "  (LSTM2): LSTM(5, 4, batch_first=True)\n",
       "  (fc): Linear(in_features=8, out_features=2, bias=True)\n",
       ")"
      ]
     },
     "execution_count": 16,
     "metadata": {},
     "output_type": "execute_result"
    }
   ],
   "source": [
    "lstms"
   ]
  },
  {
   "cell_type": "code",
   "execution_count": null,
   "metadata": {},
   "outputs": [],
   "source": []
  },
  {
   "cell_type": "code",
   "execution_count": 16,
   "metadata": {},
   "outputs": [],
   "source": [
    "input1, input2 = torch.rand(batch_size, 4,embed_size), torch.rand(batch_size, 6,embed_size), "
   ]
  },
  {
   "cell_type": "code",
   "execution_count": 17,
   "metadata": {},
   "outputs": [
    {
     "data": {
      "text/plain": [
       "torch.Size([3, 4, 5])"
      ]
     },
     "execution_count": 17,
     "metadata": {},
     "output_type": "execute_result"
    }
   ],
   "source": [
    "input1.size()"
   ]
  },
  {
   "cell_type": "code",
   "execution_count": 18,
   "metadata": {},
   "outputs": [
    {
     "data": {
      "text/plain": [
       "torch.Size([5, 4])"
      ]
     },
     "execution_count": 18,
     "metadata": {},
     "output_type": "execute_result"
    }
   ],
   "source": [
    "torch.rand(1, 5, 4).squeeze().size()"
   ]
  },
  {
   "cell_type": "code",
   "execution_count": 19,
   "metadata": {},
   "outputs": [
    {
     "data": {
      "text/plain": [
       "torch.Size([1, 5, 8])"
      ]
     },
     "execution_count": 19,
     "metadata": {},
     "output_type": "execute_result"
    }
   ],
   "source": [
    "torch.cat((torch.rand(1, 5, 4), torch.rand(1, 5, 4)), dim=2).size()"
   ]
  },
  {
   "cell_type": "code",
   "execution_count": 20,
   "metadata": {},
   "outputs": [
    {
     "data": {
      "text/plain": [
       "tensor([[[ 0.1740, -0.0025],\n",
       "         [ 0.1416, -0.0052],\n",
       "         [ 0.1387,  0.0149]]], grad_fn=<AddBackward0>)"
      ]
     },
     "execution_count": 20,
     "metadata": {},
     "output_type": "execute_result"
    }
   ],
   "source": [
    "lstms.forward((input1, input2))"
   ]
  },
  {
   "cell_type": "code",
   "execution_count": null,
   "metadata": {},
   "outputs": [],
   "source": []
  },
  {
   "cell_type": "code",
   "execution_count": 20,
   "metadata": {},
   "outputs": [
    {
     "data": {
      "text/plain": [
       "tensor([[[0.7938, 0.4892, 0.7927, 0.8659],\n",
       "         [0.1551, 0.5599, 0.7852, 0.1369]],\n",
       "\n",
       "        [[0.6560, 0.7676, 0.8514, 0.7365],\n",
       "         [0.0679, 0.5084, 0.5835, 0.4982]]])"
      ]
     },
     "execution_count": 20,
     "metadata": {},
     "output_type": "execute_result"
    }
   ],
   "source": [
    "torch.rand(2, 2, 4)"
   ]
  },
  {
   "cell_type": "code",
   "execution_count": 5,
   "metadata": {},
   "outputs": [],
   "source": [
    "a = torch.rand(4)"
   ]
  },
  {
   "cell_type": "code",
   "execution_count": 6,
   "metadata": {},
   "outputs": [],
   "source": [
    "b = torch.zeros(4)"
   ]
  },
  {
   "cell_type": "code",
   "execution_count": 7,
   "metadata": {},
   "outputs": [
    {
     "data": {
      "text/plain": [
       "tensor([0.7015, 0.1622, 0.0209, 0.0317])"
      ]
     },
     "execution_count": 7,
     "metadata": {},
     "output_type": "execute_result"
    }
   ],
   "source": [
    "a"
   ]
  },
  {
   "cell_type": "code",
   "execution_count": 8,
   "metadata": {},
   "outputs": [
    {
     "data": {
      "text/plain": [
       "tensor([0., 0., 0., 0.])"
      ]
     },
     "execution_count": 8,
     "metadata": {},
     "output_type": "execute_result"
    }
   ],
   "source": [
    "b"
   ]
  },
  {
   "cell_type": "code",
   "execution_count": 10,
   "metadata": {},
   "outputs": [
    {
     "data": {
      "text/plain": [
       "tensor([0.7015, 0.1622, 0.0209, 0.0317, 0.0000, 0.0000, 0.0000, 0.0000])"
      ]
     },
     "execution_count": 10,
     "metadata": {},
     "output_type": "execute_result"
    }
   ],
   "source": [
    "torch.cat((a, b))"
   ]
  },
  {
   "cell_type": "code",
   "execution_count": 14,
   "metadata": {},
   "outputs": [
    {
     "data": {
      "text/plain": [
       "True"
      ]
     },
     "execution_count": 14,
     "metadata": {},
     "output_type": "execute_result"
    }
   ],
   "source": [
    "b.requires_grad"
   ]
  },
  {
   "cell_type": "code",
   "execution_count": 15,
   "metadata": {},
   "outputs": [
    {
     "data": {
      "text/plain": [
       "tensor([0.7015, 0.1622, 0.0209, 0.0317])"
      ]
     },
     "execution_count": 15,
     "metadata": {},
     "output_type": "execute_result"
    }
   ],
   "source": [
    "a"
   ]
  },
  {
   "cell_type": "code",
   "execution_count": null,
   "metadata": {},
   "outputs": [],
   "source": []
  },
  {
   "cell_type": "code",
   "execution_count": null,
   "metadata": {},
   "outputs": [],
   "source": []
  },
  {
   "cell_type": "code",
   "execution_count": 17,
   "metadata": {},
   "outputs": [
    {
     "ename": "NameError",
     "evalue": "name 'train_data' is not defined",
     "output_type": "error",
     "traceback": [
      "\u001b[0;31m---------------------------------------------------------------------------\u001b[0m",
      "\u001b[0;31mNameError\u001b[0m                                 Traceback (most recent call last)",
      "\u001b[0;32m<ipython-input-17-e07976519b7b>\u001b[0m in \u001b[0;36m<module>\u001b[0;34m\u001b[0m\n\u001b[1;32m      1\u001b[0m lstms_model = LSTMs(\n\u001b[0;32m----> 2\u001b[0;31m         \u001b[0memb_dim\u001b[0m\u001b[0;34m=\u001b[0m\u001b[0mtrain_data\u001b[0m\u001b[0;34m.\u001b[0m\u001b[0membedding_size\u001b[0m\u001b[0;34m(\u001b[0m\u001b[0;34m)\u001b[0m\u001b[0;34m,\u001b[0m\u001b[0;34m\u001b[0m\u001b[0m\n\u001b[0m\u001b[1;32m      3\u001b[0m         \u001b[0mhidden_dim\u001b[0m\u001b[0;34m=\u001b[0m\u001b[0;36m250\u001b[0m\u001b[0;34m,\u001b[0m\u001b[0;34m\u001b[0m\u001b[0m\n\u001b[1;32m      4\u001b[0m         \u001b[0mnum_layers\u001b[0m\u001b[0;34m=\u001b[0m\u001b[0;36m1\u001b[0m\u001b[0;34m,\u001b[0m\u001b[0;34m\u001b[0m\u001b[0m\n\u001b[1;32m      5\u001b[0m         \u001b[0mbatch_size\u001b[0m\u001b[0;34m=\u001b[0m\u001b[0;36m16\u001b[0m\u001b[0;34m\u001b[0m\u001b[0m\n",
      "\u001b[0;31mNameError\u001b[0m: name 'train_data' is not defined"
     ]
    }
   ],
   "source": [
    "lstms_model = LSTMs(\n",
    "        emb_dim=train_data.embedding_size(),\n",
    "        hidden_dim=250,\n",
    "        num_layers=1,\n",
    "        batch_size=16\n",
    "    )"
   ]
  },
  {
   "cell_type": "code",
   "execution_count": null,
   "metadata": {},
   "outputs": [],
   "source": []
  },
  {
   "cell_type": "code",
   "execution_count": null,
   "metadata": {},
   "outputs": [],
   "source": []
  }
 ],
 "metadata": {
  "kernelspec": {
   "display_name": "Python 3",
   "language": "python",
   "name": "python3"
  },
  "language_info": {
   "codemirror_mode": {
    "name": "ipython",
    "version": 3
   },
   "file_extension": ".py",
   "mimetype": "text/x-python",
   "name": "python",
   "nbconvert_exporter": "python",
   "pygments_lexer": "ipython3",
   "version": "3.7.2"
  }
 },
 "nbformat": 4,
 "nbformat_minor": 2
}
