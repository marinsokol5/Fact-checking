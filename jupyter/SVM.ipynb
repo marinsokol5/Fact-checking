{
 "cells": [
  {
   "cell_type": "code",
   "execution_count": 1,
   "metadata": {},
   "outputs": [],
   "source": [
    "import os\n",
    "os.chdir(\"..\")"
   ]
  },
  {
   "cell_type": "code",
   "execution_count": 2,
   "metadata": {},
   "outputs": [
    {
     "name": "stdout",
     "output_type": "stream",
     "text": [
      "Better speed can be achieved with apex installed from https://www.github.com/nvidia/apex.\n"
     ]
    }
   ],
   "source": [
    "from dataset.google_dataset import *"
   ]
  },
  {
   "cell_type": "code",
   "execution_count": null,
   "metadata": {},
   "outputs": [],
   "source": []
  },
  {
   "cell_type": "code",
   "execution_count": 3,
   "metadata": {},
   "outputs": [],
   "source": [
    "train = GoogleDatasetBertPickle(GoogleDatasetBertPickle.BERT_PICKLED_TRAIN)"
   ]
  },
  {
   "cell_type": "code",
   "execution_count": 4,
   "metadata": {},
   "outputs": [
    {
     "data": {
      "text/plain": [
       "7000"
      ]
     },
     "execution_count": 4,
     "metadata": {},
     "output_type": "execute_result"
    }
   ],
   "source": [
    "len(train)"
   ]
  },
  {
   "cell_type": "code",
   "execution_count": 5,
   "metadata": {},
   "outputs": [],
   "source": [
    "train_features, train_labels = train.for_sklearn()"
   ]
  },
  {
   "cell_type": "code",
   "execution_count": null,
   "metadata": {},
   "outputs": [],
   "source": []
  },
  {
   "cell_type": "code",
   "execution_count": 6,
   "metadata": {},
   "outputs": [],
   "source": [
    "validation = GoogleDatasetBertPickle(GoogleDatasetBertPickle.BERT_PICKLED_VALIDATION)"
   ]
  },
  {
   "cell_type": "code",
   "execution_count": 7,
   "metadata": {},
   "outputs": [
    {
     "data": {
      "text/plain": [
       "1500"
      ]
     },
     "execution_count": 7,
     "metadata": {},
     "output_type": "execute_result"
    }
   ],
   "source": [
    "len(validation)"
   ]
  },
  {
   "cell_type": "code",
   "execution_count": 8,
   "metadata": {},
   "outputs": [],
   "source": [
    "validation_features, validation_labels = validation.for_sklearn()"
   ]
  },
  {
   "cell_type": "code",
   "execution_count": null,
   "metadata": {},
   "outputs": [],
   "source": []
  },
  {
   "cell_type": "code",
   "execution_count": 9,
   "metadata": {},
   "outputs": [],
   "source": [
    "from collections import Counter"
   ]
  },
  {
   "cell_type": "code",
   "execution_count": 10,
   "metadata": {},
   "outputs": [
    {
     "data": {
      "text/plain": [
       "Counter({1: 1890, 0: 5110})"
      ]
     },
     "execution_count": 10,
     "metadata": {},
     "output_type": "execute_result"
    }
   ],
   "source": [
    "Counter(train_labels)"
   ]
  },
  {
   "cell_type": "code",
   "execution_count": null,
   "metadata": {},
   "outputs": [],
   "source": []
  },
  {
   "cell_type": "code",
   "execution_count": 11,
   "metadata": {},
   "outputs": [],
   "source": [
    "from sklearn.svm import SVC"
   ]
  },
  {
   "cell_type": "code",
   "execution_count": 12,
   "metadata": {},
   "outputs": [],
   "source": [
    "from sklearn.metrics import accuracy_score, balanced_accuracy_score"
   ]
  },
  {
   "cell_type": "code",
   "execution_count": 13,
   "metadata": {},
   "outputs": [
    {
     "name": "stdout",
     "output_type": "stream",
     "text": [
      "C:0.1, kernel:linear => accuracy:0.782, balanced_accuracy:0.782\n"
     ]
    },
    {
     "name": "stderr",
     "output_type": "stream",
     "text": [
      "/home/marin/anaconda3/lib/python3.7/site-packages/sklearn/svm/base.py:196: FutureWarning: The default value of gamma will change from 'auto' to 'scale' in version 0.22 to account better for unscaled features. Set gamma explicitly to 'auto' or 'scale' to avoid this warning.\n",
      "  \"avoid this warning.\", FutureWarning)\n"
     ]
    },
    {
     "name": "stdout",
     "output_type": "stream",
     "text": [
      "C:0.1, kernel:poly => accuracy:0.73, balanced_accuracy:0.73\n"
     ]
    },
    {
     "name": "stderr",
     "output_type": "stream",
     "text": [
      "/home/marin/anaconda3/lib/python3.7/site-packages/sklearn/svm/base.py:196: FutureWarning: The default value of gamma will change from 'auto' to 'scale' in version 0.22 to account better for unscaled features. Set gamma explicitly to 'auto' or 'scale' to avoid this warning.\n",
      "  \"avoid this warning.\", FutureWarning)\n"
     ]
    },
    {
     "name": "stdout",
     "output_type": "stream",
     "text": [
      "C:0.1, kernel:rbf => accuracy:0.73, balanced_accuracy:0.73\n",
      "C:1, kernel:linear => accuracy:0.7793333333333333, balanced_accuracy:0.7793333333333333\n"
     ]
    },
    {
     "name": "stderr",
     "output_type": "stream",
     "text": [
      "/home/marin/anaconda3/lib/python3.7/site-packages/sklearn/svm/base.py:196: FutureWarning: The default value of gamma will change from 'auto' to 'scale' in version 0.22 to account better for unscaled features. Set gamma explicitly to 'auto' or 'scale' to avoid this warning.\n",
      "  \"avoid this warning.\", FutureWarning)\n"
     ]
    },
    {
     "name": "stdout",
     "output_type": "stream",
     "text": [
      "C:1, kernel:poly => accuracy:0.73, balanced_accuracy:0.73\n"
     ]
    },
    {
     "name": "stderr",
     "output_type": "stream",
     "text": [
      "/home/marin/anaconda3/lib/python3.7/site-packages/sklearn/svm/base.py:196: FutureWarning: The default value of gamma will change from 'auto' to 'scale' in version 0.22 to account better for unscaled features. Set gamma explicitly to 'auto' or 'scale' to avoid this warning.\n",
      "  \"avoid this warning.\", FutureWarning)\n"
     ]
    },
    {
     "name": "stdout",
     "output_type": "stream",
     "text": [
      "C:1, kernel:rbf => accuracy:0.73, balanced_accuracy:0.73\n",
      "C:10, kernel:linear => accuracy:0.764, balanced_accuracy:0.764\n"
     ]
    },
    {
     "name": "stderr",
     "output_type": "stream",
     "text": [
      "/home/marin/anaconda3/lib/python3.7/site-packages/sklearn/svm/base.py:196: FutureWarning: The default value of gamma will change from 'auto' to 'scale' in version 0.22 to account better for unscaled features. Set gamma explicitly to 'auto' or 'scale' to avoid this warning.\n",
      "  \"avoid this warning.\", FutureWarning)\n"
     ]
    },
    {
     "name": "stdout",
     "output_type": "stream",
     "text": [
      "C:10, kernel:poly => accuracy:0.73, balanced_accuracy:0.73\n"
     ]
    },
    {
     "name": "stderr",
     "output_type": "stream",
     "text": [
      "/home/marin/anaconda3/lib/python3.7/site-packages/sklearn/svm/base.py:196: FutureWarning: The default value of gamma will change from 'auto' to 'scale' in version 0.22 to account better for unscaled features. Set gamma explicitly to 'auto' or 'scale' to avoid this warning.\n",
      "  \"avoid this warning.\", FutureWarning)\n"
     ]
    },
    {
     "name": "stdout",
     "output_type": "stream",
     "text": [
      "C:10, kernel:rbf => accuracy:0.7793333333333333, balanced_accuracy:0.7793333333333333\n"
     ]
    }
   ],
   "source": [
    "for C in [0.1, 1, 10]:\n",
    "    for kernel in [\"linear\", \"poly\", \"rbf\"]:\n",
    "        model = SVC(C=C, kernel=kernel).fit(train_features, train_labels)\n",
    "        validation_predictions = model.predict(validation_features)\n",
    "        accuracy = accuracy_score(validation_labels, validation_predictions)\n",
    "        balanced_accuracy = balanced_accuracy(validation_labels, validation_predictions)\n",
    "        print(f\"C:{C}, kernel:{kernel} => accuracy:{accuracy}, balanced_accuracy:{balanced_accuracy}\")\n",
    "        print(Counter(validation_predictions))"
   ]
  },
  {
   "cell_type": "code",
   "execution_count": 27,
   "metadata": {},
   "outputs": [
    {
     "name": "stdout",
     "output_type": "stream",
     "text": [
      "C:0.1, kernel:linear => accuracy:0.7266666666666667, balanced_accuracy:0.7233214950109927\n",
      "Counter({0: 915, 1: 585})\n"
     ]
    },
    {
     "name": "stderr",
     "output_type": "stream",
     "text": [
      "/home/marin/anaconda3/lib/python3.7/site-packages/sklearn/svm/base.py:196: FutureWarning: The default value of gamma will change from 'auto' to 'scale' in version 0.22 to account better for unscaled features. Set gamma explicitly to 'auto' or 'scale' to avoid this warning.\n",
      "  \"avoid this warning.\", FutureWarning)\n"
     ]
    },
    {
     "name": "stdout",
     "output_type": "stream",
     "text": [
      "C:0.1, kernel:poly => accuracy:0.27, balanced_accuracy:0.5\n",
      "Counter({1: 1500})\n"
     ]
    },
    {
     "name": "stderr",
     "output_type": "stream",
     "text": [
      "/home/marin/anaconda3/lib/python3.7/site-packages/sklearn/svm/base.py:196: FutureWarning: The default value of gamma will change from 'auto' to 'scale' in version 0.22 to account better for unscaled features. Set gamma explicitly to 'auto' or 'scale' to avoid this warning.\n",
      "  \"avoid this warning.\", FutureWarning)\n"
     ]
    },
    {
     "name": "stdout",
     "output_type": "stream",
     "text": [
      "C:0.1, kernel:rbf => accuracy:0.6106666666666667, balanced_accuracy:0.6259766615931\n",
      "Counter({0: 787, 1: 713})\n",
      "C:1, kernel:linear => accuracy:0.724, balanced_accuracy:0.7137155420260444\n",
      "Counter({0: 931, 1: 569})\n"
     ]
    },
    {
     "name": "stderr",
     "output_type": "stream",
     "text": [
      "/home/marin/anaconda3/lib/python3.7/site-packages/sklearn/svm/base.py:196: FutureWarning: The default value of gamma will change from 'auto' to 'scale' in version 0.22 to account better for unscaled features. Set gamma explicitly to 'auto' or 'scale' to avoid this warning.\n",
      "  \"avoid this warning.\", FutureWarning)\n"
     ]
    },
    {
     "name": "stdout",
     "output_type": "stream",
     "text": [
      "C:1, kernel:poly => accuracy:0.6813333333333333, balanced_accuracy:0.6020294266869609\n",
      "Counter({0: 1079, 1: 421})\n"
     ]
    },
    {
     "name": "stderr",
     "output_type": "stream",
     "text": [
      "/home/marin/anaconda3/lib/python3.7/site-packages/sklearn/svm/base.py:196: FutureWarning: The default value of gamma will change from 'auto' to 'scale' in version 0.22 to account better for unscaled features. Set gamma explicitly to 'auto' or 'scale' to avoid this warning.\n",
      "  \"avoid this warning.\", FutureWarning)\n"
     ]
    },
    {
     "name": "stdout",
     "output_type": "stream",
     "text": [
      "C:1, kernel:rbf => accuracy:0.6826666666666666, balanced_accuracy:0.6916286149162862\n",
      "Counter({0: 853, 1: 647})\n",
      "C:10, kernel:linear => accuracy:0.7166666666666667, balanced_accuracy:0.7079147640791477\n",
      "Counter({0: 922, 1: 578})\n"
     ]
    },
    {
     "name": "stderr",
     "output_type": "stream",
     "text": [
      "/home/marin/anaconda3/lib/python3.7/site-packages/sklearn/svm/base.py:196: FutureWarning: The default value of gamma will change from 'auto' to 'scale' in version 0.22 to account better for unscaled features. Set gamma explicitly to 'auto' or 'scale' to avoid this warning.\n",
      "  \"avoid this warning.\", FutureWarning)\n"
     ]
    },
    {
     "name": "stdout",
     "output_type": "stream",
     "text": [
      "C:10, kernel:poly => accuracy:0.682, balanced_accuracy:0.6538305428716387\n",
      "Counter({0: 948, 1: 552})\n"
     ]
    },
    {
     "name": "stderr",
     "output_type": "stream",
     "text": [
      "/home/marin/anaconda3/lib/python3.7/site-packages/sklearn/svm/base.py:196: FutureWarning: The default value of gamma will change from 'auto' to 'scale' in version 0.22 to account better for unscaled features. Set gamma explicitly to 'auto' or 'scale' to avoid this warning.\n",
      "  \"avoid this warning.\", FutureWarning)\n"
     ]
    },
    {
     "name": "stdout",
     "output_type": "stream",
     "text": [
      "C:10, kernel:rbf => accuracy:0.73, balanced_accuracy:0.7294943345171656\n",
      "Counter({0: 910, 1: 590})\n"
     ]
    }
   ],
   "source": [
    "for C in [0.1, 1, 10]:\n",
    "    for kernel in [\"linear\", \"poly\", \"rbf\"]:\n",
    "        model = SVC(C=C, kernel=kernel, class_weight=\"balanced\").fit(train_features, train_labels)\n",
    "        validation_predictions = model.predict(validation_features)\n",
    "        accuracy = accuracy_score(validation_labels, validation_predictions)\n",
    "        balanced_accuracy = balanced_accuracy_score(validation_labels, validation_predictions)\n",
    "        print(f\"C:{C}, kernel:{kernel} => accuracy:{accuracy}, balanced_accuracy:{balanced_accuracy}\")\n",
    "        print(Counter(validation_predictions))"
   ]
  },
  {
   "cell_type": "code",
   "execution_count": 15,
   "metadata": {},
   "outputs": [
    {
     "name": "stdout",
     "output_type": "stream",
     "text": [
      "C:0.1, gamma:0.1 => accuracy:0.73, balanced_accuracy:0.73\n",
      "Counter({0: 1500})\n",
      "C:0.1, gamma:1 => accuracy:0.73, balanced_accuracy:0.73\n",
      "Counter({0: 1500})\n",
      "C:0.1, gamma:10 => accuracy:0.73, balanced_accuracy:0.73\n",
      "Counter({0: 1500})\n",
      "C:1, gamma:0.1 => accuracy:0.772, balanced_accuracy:0.772\n",
      "Counter({0: 1327, 1: 173})\n",
      "C:1, gamma:1 => accuracy:0.73, balanced_accuracy:0.73\n",
      "Counter({0: 1498, 1: 2})\n",
      "C:1, gamma:10 => accuracy:0.73, balanced_accuracy:0.73\n",
      "Counter({0: 1500})\n",
      "C:10, gamma:0.1 => accuracy:0.7566666666666667, balanced_accuracy:0.7566666666666667\n",
      "Counter({0: 1224, 1: 276})\n",
      "C:10, gamma:1 => accuracy:0.7306666666666667, balanced_accuracy:0.7306666666666667\n",
      "Counter({0: 1495, 1: 5})\n",
      "C:10, gamma:10 => accuracy:0.73, balanced_accuracy:0.73\n",
      "Counter({0: 1500})\n"
     ]
    }
   ],
   "source": [
    "for C in [0.1, 1, 10]:\n",
    "    for gamma in [0.1, 1, 10]:\n",
    "        model = SVC(C=C, kernel=\"rbf\", gamma=gamma).fit(train_features, train_labels)\n",
    "        validation_predictions = model.predict(validation_features)\n",
    "        accuracy = accuracy_score(validation_labels, validation_predictions)\n",
    "        balanced_accuracy = balanced_accuracy_score(validation_labels, validation_predictions)\n",
    "        print(f\"C:{C}, gamma:{gamma} => accuracy:{accuracy}, balanced_accuracy:{balanced_accuracy}\")\n",
    "        print(Counter(validation_predictions))"
   ]
  },
  {
   "cell_type": "code",
   "execution_count": 30,
   "metadata": {},
   "outputs": [
    {
     "name": "stdout",
     "output_type": "stream",
     "text": [
      "C:0.1, gamma:0.1 => accuracy:0.712, balanced_accuracy:0.6432606122103839\n",
      "Counter({0: 1073, 1: 427})\n",
      "C:0.1, gamma:1 => accuracy:0.27, balanced_accuracy:0.5\n",
      "Counter({1: 1500})\n",
      "C:0.1, gamma:10 => accuracy:0.27, balanced_accuracy:0.5\n",
      "Counter({1: 1500})\n",
      "C:1, gamma:0.1 => accuracy:0.7366666666666667, balanced_accuracy:0.6593776424826654\n",
      "Counter({0: 1112, 1: 388})\n",
      "C:1, gamma:1 => accuracy:0.7306666666666667, balanced_accuracy:0.5027904616945713\n",
      "Counter({0: 1495, 1: 5})\n",
      "C:1, gamma:10 => accuracy:0.73, balanced_accuracy:0.5\n",
      "Counter({0: 1500})\n",
      "C:10, gamma:0.1 => accuracy:0.7566666666666667, balanced_accuracy:0.6411804498562489\n",
      "Counter({0: 1224, 1: 276})\n",
      "C:10, gamma:1 => accuracy:0.7306666666666667, balanced_accuracy:0.5027904616945713\n",
      "Counter({0: 1495, 1: 5})\n",
      "C:10, gamma:10 => accuracy:0.73, balanced_accuracy:0.5\n",
      "Counter({0: 1500})\n"
     ]
    }
   ],
   "source": [
    "for C in [0.1, 1, 10]:\n",
    "    for gamma in [0.1, 1, 10]:\n",
    "        model = SVC(C=C, kernel=\"rbf\", gamma=gamma, class_weight=\"balanced\").fit(train_features, train_labels)\n",
    "        validation_predictions = model.predict(validation_features)\n",
    "        accuracy = accuracy_score(validation_labels, validation_predictions)\n",
    "        balanced_accuracy = balanced_accuracy_score(validation_labels, validation_predictions)\n",
    "        print(f\"C:{C}, gamma:{gamma} => accuracy:{accuracy}, balanced_accuracy:{balanced_accuracy}\")\n",
    "        print(Counter(validation_predictions))"
   ]
  },
  {
   "cell_type": "code",
   "execution_count": 16,
   "metadata": {},
   "outputs": [
    {
     "data": {
      "text/plain": [
       "Counter({1: 405, 0: 1095})"
      ]
     },
     "execution_count": 16,
     "metadata": {},
     "output_type": "execute_result"
    }
   ],
   "source": [
    "Counter(validation_labels)"
   ]
  },
  {
   "cell_type": "code",
   "execution_count": 18,
   "metadata": {},
   "outputs": [
    {
     "name": "stdout",
     "output_type": "stream",
     "text": [
      "C:1, gamma:1e-05 => accuracy:0.73, balanced_accuracy:0.5\n",
      "Counter({0: 1500})\n",
      "C:1, gamma:0.0001 => accuracy:0.73, balanced_accuracy:0.5\n",
      "Counter({0: 1500})\n",
      "C:1, gamma:0.001 => accuracy:0.73, balanced_accuracy:0.5\n",
      "Counter({0: 1500})\n",
      "C:1, gamma:0.01 => accuracy:0.776, balanced_accuracy:0.6054118044985625\n",
      "Counter({0: 1379, 1: 121})\n",
      "C:1, gamma:0.1 => accuracy:0.772, balanced_accuracy:0.6205648570945375\n",
      "Counter({0: 1327, 1: 173})\n",
      "C:5, gamma:1e-05 => accuracy:0.73, balanced_accuracy:0.5\n",
      "Counter({0: 1500})\n",
      "C:5, gamma:0.0001 => accuracy:0.73, balanced_accuracy:0.5\n",
      "Counter({0: 1500})\n",
      "C:5, gamma:0.001 => accuracy:0.7386666666666667, balanced_accuracy:0.5183832234060545\n",
      "Counter({0: 1481, 1: 19})\n",
      "C:5, gamma:0.01 => accuracy:0.7886666666666666, balanced_accuracy:0.6646541518687638\n",
      "Counter({0: 1268, 1: 232})\n",
      "C:5, gamma:0.1 => accuracy:0.7573333333333333, balanced_accuracy:0.6424150177574834\n",
      "Counter({0: 1223, 1: 277})\n",
      "C:10, gamma:1e-05 => accuracy:0.73, balanced_accuracy:0.5\n",
      "Counter({0: 1500})\n",
      "C:10, gamma:0.0001 => accuracy:0.73, balanced_accuracy:0.5\n",
      "Counter({0: 1500})\n",
      "C:10, gamma:0.001 => accuracy:0.776, balanced_accuracy:0.610857432775241\n",
      "Counter({0: 1365, 1: 135})\n",
      "C:10, gamma:0.01 => accuracy:0.7813333333333333, balanced_accuracy:0.6744123118552343\n",
      "Counter({0: 1219, 1: 281})\n",
      "C:10, gamma:0.1 => accuracy:0.7566666666666667, balanced_accuracy:0.6411804498562489\n",
      "Counter({0: 1224, 1: 276})\n",
      "C:50, gamma:1e-05 => accuracy:0.73, balanced_accuracy:0.5\n",
      "Counter({0: 1500})\n",
      "C:50, gamma:0.0001 => accuracy:0.7393333333333333, balanced_accuracy:0.519617791307289\n",
      "Counter({0: 1480, 1: 20})\n",
      "C:50, gamma:0.001 => accuracy:0.7826666666666666, balanced_accuracy:0.6535430407576527\n",
      "Counter({0: 1277, 1: 223})\n",
      "C:50, gamma:0.01 => accuracy:0.7673333333333333, balanced_accuracy:0.6951631997294099\n",
      "Counter({0: 1120, 1: 380})\n",
      "C:50, gamma:0.1 => accuracy:0.7573333333333333, balanced_accuracy:0.6416370708608151\n",
      "Counter({0: 1225, 1: 275})\n",
      "C:100, gamma:1e-05 => accuracy:0.73, balanced_accuracy:0.5\n",
      "Counter({0: 1500})\n",
      "C:100, gamma:0.0001 => accuracy:0.774, balanced_accuracy:0.6071537290715373\n",
      "Counter({0: 1368, 1: 132})\n",
      "C:100, gamma:0.001 => accuracy:0.7913333333333333, balanced_accuracy:0.6727042110603755\n",
      "Counter({0: 1256, 1: 244})\n",
      "C:100, gamma:0.01 => accuracy:0.7646666666666667, balanced_accuracy:0.7011161846778285\n",
      "Counter({0: 1096, 1: 404})\n",
      "C:100, gamma:0.1 => accuracy:0.7573333333333333, balanced_accuracy:0.6416370708608151\n",
      "Counter({0: 1225, 1: 275})\n",
      "C:1000, gamma:1e-05 => accuracy:0.774, balanced_accuracy:0.6071537290715373\n",
      "Counter({0: 1368, 1: 132})\n",
      "C:1000, gamma:0.0001 => accuracy:0.7853333333333333, balanced_accuracy:0.6639269406392694\n",
      "Counter({0: 1259, 1: 241})\n",
      "C:1000, gamma:0.001 => accuracy:0.7806666666666666, balanced_accuracy:0.6957382039573821\n",
      "Counter({0: 1162, 1: 338})\n",
      "C:1000, gamma:0.01 => accuracy:0.7513333333333333, balanced_accuracy:0.6896499238964993\n",
      "Counter({0: 1082, 1: 418})\n",
      "C:1000, gamma:0.1 => accuracy:0.7573333333333333, balanced_accuracy:0.6416370708608151\n",
      "Counter({0: 1225, 1: 275})\n"
     ]
    }
   ],
   "source": [
    "for C in [1, 5, 10, 50, 100, 1000]:\n",
    "    for gamma in [1e-5, 1e-4, 1e-3, 1e-2, 1e-1]:\n",
    "        model = SVC(C=C, kernel=\"rbf\", gamma=gamma).fit(train_features, train_labels)\n",
    "        validation_predictions = model.predict(validation_features)\n",
    "        accuracy = accuracy_score(validation_labels, validation_predictions)\n",
    "        balanced_accuracy = balanced_accuracy_score(validation_labels, validation_predictions)\n",
    "        print(f\"C:{C}, gamma:{gamma} => accuracy:{accuracy}, balanced_accuracy:{balanced_accuracy}\")\n",
    "        print(Counter(validation_predictions))"
   ]
  },
  {
   "cell_type": "code",
   "execution_count": 19,
   "metadata": {},
   "outputs": [
    {
     "name": "stdout",
     "output_type": "stream",
     "text": [
      "C:0.01, gamma:0.1 => accuracy:0.7393333333333333, balanced_accuracy:0.519617791307289\n",
      "Counter({0: 1480, 1: 20})\n",
      "C:0.1, gamma:0.1 => accuracy:0.782, balanced_accuracy:0.649974632166413\n",
      "Counter({0: 1284, 1: 216})\n",
      "C:0.5, gamma:0.1 => accuracy:0.7793333333333333, balanced_accuracy:0.6668188736681887\n",
      "Counter({0: 1232, 1: 268})\n",
      "C:1, gamma:0.1 => accuracy:0.7793333333333333, balanced_accuracy:0.6745983426348723\n",
      "Counter({0: 1212, 1: 288})\n",
      "C:5, gamma:0.1 => accuracy:0.7706666666666667, balanced_accuracy:0.6764417385421951\n",
      "Counter({0: 1179, 1: 321})\n"
     ]
    }
   ],
   "source": [
    "for C in [0.01, 0.1, 0.5, 1, 5]:\n",
    "    model = SVC(C=C, kernel=\"linear\").fit(train_features, train_labels)\n",
    "    validation_predictions = model.predict(validation_features)\n",
    "    accuracy = accuracy_score(validation_labels, validation_predictions)\n",
    "    balanced_accuracy = balanced_accuracy_score(validation_labels, validation_predictions)\n",
    "    print(f\"C:{C}, gamma:{gamma} => accuracy:{accuracy}, balanced_accuracy:{balanced_accuracy}\")\n",
    "    print(Counter(validation_predictions))"
   ]
  },
  {
   "cell_type": "code",
   "execution_count": 20,
   "metadata": {},
   "outputs": [
    {
     "name": "stdout",
     "output_type": "stream",
     "text": [
      "C:6, gamma:0.1 => accuracy:0.7653333333333333, balanced_accuracy:0.6720108236089971\n",
      "Counter({0: 1173, 1: 327})\n",
      "C:8, gamma:0.1 => accuracy:0.766, balanced_accuracy:0.671689497716895\n",
      "Counter({0: 1176, 1: 324})\n",
      "C:10, gamma:0.1 => accuracy:0.764, balanced_accuracy:0.6703196347031963\n",
      "Counter({0: 1173, 1: 327})\n",
      "C:15, gamma:0.1 => accuracy:0.7646666666666667, balanced_accuracy:0.6715542026044309\n",
      "Counter({0: 1172, 1: 328})\n",
      "C:20, gamma:0.1 => accuracy:0.7673333333333333, balanced_accuracy:0.6741586335193641\n",
      "Counter({0: 1174, 1: 326})\n"
     ]
    }
   ],
   "source": [
    "for C in [6, 8, 10, 15, 20]:\n",
    "    model = SVC(C=C, kernel=\"linear\").fit(train_features, train_labels)\n",
    "    validation_predictions = model.predict(validation_features)\n",
    "    accuracy = accuracy_score(validation_labels, validation_predictions)\n",
    "    balanced_accuracy = balanced_accuracy_score(validation_labels, validation_predictions)\n",
    "    print(f\"C:{C}, gamma:{gamma} => accuracy:{accuracy}, balanced_accuracy:{balanced_accuracy}\")\n",
    "    print(Counter(validation_predictions))"
   ]
  },
  {
   "cell_type": "code",
   "execution_count": 21,
   "metadata": {},
   "outputs": [
    {
     "name": "stderr",
     "output_type": "stream",
     "text": [
      "/home/marin/anaconda3/lib/python3.7/site-packages/sklearn/svm/base.py:196: FutureWarning: The default value of gamma will change from 'auto' to 'scale' in version 0.22 to account better for unscaled features. Set gamma explicitly to 'auto' or 'scale' to avoid this warning.\n",
      "  \"avoid this warning.\", FutureWarning)\n"
     ]
    }
   ],
   "source": [
    "model = SVC(class_weight=\"balanced\").fit(train_features, train_labels)"
   ]
  },
  {
   "cell_type": "code",
   "execution_count": 22,
   "metadata": {},
   "outputs": [],
   "source": [
    "predictions = model.predict(validation_features)"
   ]
  },
  {
   "cell_type": "code",
   "execution_count": 23,
   "metadata": {},
   "outputs": [
    {
     "data": {
      "text/plain": [
       "Counter({1: 647, 0: 853})"
      ]
     },
     "execution_count": 23,
     "metadata": {},
     "output_type": "execute_result"
    }
   ],
   "source": [
    "Counter(predictions)"
   ]
  },
  {
   "cell_type": "code",
   "execution_count": 24,
   "metadata": {},
   "outputs": [
    {
     "data": {
      "text/plain": [
       "Counter({1: 405, 0: 1095})"
      ]
     },
     "execution_count": 24,
     "metadata": {},
     "output_type": "execute_result"
    }
   ],
   "source": [
    "Counter(validation_labels)"
   ]
  },
  {
   "cell_type": "code",
   "execution_count": 25,
   "metadata": {},
   "outputs": [
    {
     "data": {
      "text/plain": [
       "0.6826666666666666"
      ]
     },
     "execution_count": 25,
     "metadata": {},
     "output_type": "execute_result"
    }
   ],
   "source": [
    "accuracy_score(validation_labels, predictions)"
   ]
  },
  {
   "cell_type": "code",
   "execution_count": 26,
   "metadata": {},
   "outputs": [
    {
     "data": {
      "text/plain": [
       "0.6916286149162862"
      ]
     },
     "execution_count": 26,
     "metadata": {},
     "output_type": "execute_result"
    }
   ],
   "source": [
    "balanced_accuracy_score(validation_labels, predictions)"
   ]
  }
 ],
 "metadata": {
  "kernelspec": {
   "display_name": "Python 3",
   "language": "python",
   "name": "python3"
  },
  "language_info": {
   "codemirror_mode": {
    "name": "ipython",
    "version": 3
   },
   "file_extension": ".py",
   "mimetype": "text/x-python",
   "name": "python",
   "nbconvert_exporter": "python",
   "pygments_lexer": "ipython3",
   "version": "3.7.2"
  }
 },
 "nbformat": 4,
 "nbformat_minor": 2
}
