{
 "cells": [
  {
   "cell_type": "code",
   "execution_count": 1,
   "metadata": {},
   "outputs": [],
   "source": [
    "import os\n",
    "os.chdir(\"..\")"
   ]
  },
  {
   "cell_type": "code",
   "execution_count": 2,
   "metadata": {},
   "outputs": [
    {
     "name": "stdout",
     "output_type": "stream",
     "text": [
      "Better speed can be achieved with apex installed from https://www.github.com/nvidia/apex.\n"
     ]
    }
   ],
   "source": [
    "from dataset.google_dataset import *"
   ]
  },
  {
   "cell_type": "code",
   "execution_count": 10,
   "metadata": {},
   "outputs": [],
   "source": [
    "raw_dataset = GoogleDatasetRaw.from_pickle(GoogleDataset.TRAIN_DATA)"
   ]
  },
  {
   "cell_type": "code",
   "execution_count": 4,
   "metadata": {},
   "outputs": [],
   "source": [
    "bert_dataset = GoogleDatasetBert.from_pickle(GoogleDataset.TRAIN_DATA)"
   ]
  },
  {
   "cell_type": "code",
   "execution_count": 5,
   "metadata": {},
   "outputs": [],
   "source": [
    "claim = raw_dataset[0][0][0]"
   ]
  },
  {
   "cell_type": "code",
   "execution_count": 6,
   "metadata": {
    "scrolled": true
   },
   "outputs": [
    {
     "data": {
      "text/plain": [
       "(('The Thénardiers are fictional characters',\n",
       "  'Thénardiers The Thénardiers, commonly known as Monsieur Thénardier (/təˈnɑːrdi.eɪ/; French pronunciation: \\u200b[tenaʁdje]) and Madame Thénardier, are fictional characters, the secondary antagonists in Victor Hugo\\'s 1862 novel Les Misérables and in many adaptations of the novel into other media. Gavroche  Les Miserables: CHARACTER ANALYSIS / DETAILED  Monsieur Thénardier | Les Misérables Wiki | FANDOM powered by  Thénardiers  Éponine Éponine Thénardier also referred to as the \"Jondrette girl\", is a fictional character in the 1862 novel Les Misérables by Victor Hugo. The character is introduced Monsieur Thénardier | Les Misérables Wiki | FANDOM powered by Wikia Monsieur Thénardier is the male secondary antagonist from the novel Les His last appearance is when he and Azelma(in the musical and 2012 movie he and Burmester – Original Broadway cast; Graeme Campbell – Original Canadian Les Miserables Romance Art · Fiction: Marius and Cosette · Real Life: Bourgeois Courtship of family through the characters in his novel, Les Miserables, the Thenardiers. Les Miserables: CHARACTER ANALYSIS / DETAILED CHARACTER LES MISERABLES BY VICTOR HUGO: FREE LITERARY ANALYSIS / SUMMARY Although a pivotal character, Cosette is almost static and flat. Eponine is the legitimate daughter of the Thenardiers while Cosette was SparkNotes: Les Misérables: Character List The Les Misérables characters covered include: Jean Valjean, Cosette, Javert, Fantine, Marius Pontmercy, M. Myriel, M. Thénardier, Mme. Thénardier, Eponine Les Miserables Character Descriptions key to his character is his great humanity and compassion. Jean Valjean is a She is the ward of the Thenardiers forced into child labor and sings. \"Castle On A Thénardiers Fictional characters from Les Misérables. characters from Les Misérables. Thenardiers; The Thénardiers; Monsieur Thénardier and Madame Thénardier. edit What does thenardiers mean The Thénardiers, commonly known as Monsieur Thénardier (; ) and Madame Thénardier, are fictional characters, the secondary antagonists in Victor Hugo\\'s Eponine Thénardier fictional character from Les Misérables by Victor Hugo - type 4w3 Sx/Sp.'),\n",
       " 'SUPPORTS')"
      ]
     },
     "execution_count": 6,
     "metadata": {},
     "output_type": "execute_result"
    }
   ],
   "source": [
    "raw_dataset[1]"
   ]
  },
  {
   "cell_type": "code",
   "execution_count": 14,
   "metadata": {},
   "outputs": [
    {
     "data": {
      "text/plain": [
       "(tensor([  101,  1996,  2059,  4232, 10136,  2024,  7214,  3494,   102,  2059,\n",
       "          4232, 10136,  1996,  2059,  4232, 10136,  1010,  4141,  2124,  2004,\n",
       "         21380,  2059,  4232,  3771,  1006,  1013,  1056, 29681, 29715,  2078,\n",
       "         29677, 23432, 17080,  1012,  1041, 29685,  1013,  1025,  2413, 15498,\n",
       "          1024,  1031,  2702,  2050, 29694,  2094,  6460,  1033,  1007,  1998,\n",
       "         10602,  2059,  4232,  3771,  1010,  2024,  7214,  3494,  1010,  1996,\n",
       "          3905, 17379,  2015,  1999,  5125,  9395,  1005,  1055,  6889,  3117,\n",
       "          4649, 13736,  2015,  1998,  1999,  2116, 17241,  1997,  1996,  3117,\n",
       "          2046,  2060,  2865,  1012, 11721, 19716, 23555,  4649, 13736,  2015,\n",
       "          1024,  2839,  4106,  1013,  6851, 21380,  2059,  4232,  3771,  1064,\n",
       "          4649, 13736,  2015, 15536,  3211,  1064,  5470,  9527,  6113,  2011,\n",
       "          2059,  4232, 10136,  4958, 10698,  2638,  4958, 10698,  2638,  2059,\n",
       "          4232,  3771,  2036,  3615,  2000,  2004,  1996,  1000,  6285, 16200,\n",
       "          4674,  2611,  1000,  1010,  2003,  1037,  7214,  2839,  1999,  1996,\n",
       "          6889,  3117,  4649, 13736,  2015,  2011,  5125,  9395,  1012,  1996,\n",
       "          2839,  2003,  3107, 21380,  2059,  4232,  3771,  1064,  4649, 13736,\n",
       "          2015, 15536,  3211,  1064,  5470,  9527,  6113,  2011, 15536, 21128,\n",
       "         21380,  2059,  4232,  3771,  2003,  1996,  3287,  3905, 17379,  2013,\n",
       "          1996,  3117,  4649,  2010,  2197,  3311,  2003,  2043,  2002,  1998,\n",
       "         17207,  2884,  2863,  1006,  1999,  1996,  3315,  1998,  2262,  3185,\n",
       "          2002,  1998, 20934, 10867, 20367,  1516,  2434,  5934,  3459,  1025,\n",
       "         21840,  6063,  1516,  2434,  3010,  4649, 13736,  2015,  7472,  2396,\n",
       "          1087,  4349,  1024, 20032,  1998,  2522, 21678,  2063,  1087,  2613,\n",
       "          2166,  1024, 22846, 28592,  1997,  2155,  2083,  1996,  3494,  1999,\n",
       "          2010,  3117,  1010,  4649, 13736,  2015,  1010,  1996,  2059,  4232,\n",
       "         10136,  1012,  4649, 13736,  2015,  1024,  2839,  4106,  1013,  6851,\n",
       "          2839,  4649, 13736,  2015,  2011,  5125,  9395,  1024,  2489,  4706,\n",
       "          4106,  1013, 12654,  2348,  1037, 20369,  2839,  1010,  2522, 21678,\n",
       "          2063,  2003,  2471, 10763,  1998,  4257,  1012,  4958, 10698,  2638,\n",
       "          2003,  1996, 11476,  2684,  1997,  1996,  2059,  4232, 10136,  2096,\n",
       "          2522, 21678,  2063,  2001, 12125, 20564,  1024,  4649, 13736,  2015,\n",
       "          1024,  2839,  2862,  1996,  4649, 13736,  2015,  3494,  3139,  2421,\n",
       "          1024,  3744, 11748, 27687,  1010,  2522, 21678,  2063,  1010, 14855,\n",
       "         16874,  1010,  5470, 10196,  1010, 20032, 21179,  5017,  5666,  1010,\n",
       "          1049,  1012,  2026,  7373,  2140,  1010,  1049,  1012,  2059,  4232,\n",
       "          3771,  1010,  3461,  2063,  1012,  2059,  4232,  3771,  1010,  4958,\n",
       "         10698,  2638,  4649, 13736,  2015,  2839, 13271,  3145,  2000,  2010,\n",
       "          2839,  2003,  2010,  2307,  8438,  1998, 15398,  1012,  3744, 11748,\n",
       "         27687,  2003,  1037,  2016,  2003,  1996,  4829,  1997,  1996,  2059,\n",
       "          4232, 10136,  3140,  2046,  2775,  4450,  1998, 10955,  1012,  1000,\n",
       "          3317,  2006,  1037,  2059,  4232, 10136,  7214,  3494,  2013,  4649,\n",
       "         13736,  2015,  1012,  3494,  2013,  4649, 13736,  2015,  1012,  2059,\n",
       "          4232, 10136,  1025,  1996,  2059,  4232, 10136,  1025, 21380,  2059,\n",
       "          4232,  3771,  1998, 10602,  2059,  4232,  3771,  1012, 10086,  2054,\n",
       "          2515,  2059,  4232, 10136,  2812,  1996,  2059,  4232, 10136,  1010,\n",
       "          4141,  2124,  2004, 21380,  2059,  4232,  3771,  1006,  1025,  1007,\n",
       "          1998, 10602,  2059,  4232,  3771,  1010,  2024,  7214,  3494,  1010,\n",
       "          1996,  3905, 17379,  2015,  1999,  5125,  9395,  1005,  1055,  4958,\n",
       "         10698,  2638,  2059,  4232,  3771,  7214,  2839,  2013,  4649, 13736,\n",
       "          2015,  2011,  5125,  9395,  1011,  2828,  1018,  2860,  2509,  1055,\n",
       "          2595,  1013, 11867,  1012,   102,     0,     0,     0,     0,     0,\n",
       "             0,     0]),\n",
       " tensor([1, 1, 1, 1, 1, 1, 1, 1, 1, 1, 1, 1, 1, 1, 1, 1, 1, 1, 1, 1, 1, 1, 1, 1,\n",
       "         1, 1, 1, 1, 1, 1, 1, 1, 1, 1, 1, 1, 1, 1, 1, 1, 1, 1, 1, 1, 1, 1, 1, 1,\n",
       "         1, 1, 1, 1, 1, 1, 1, 1, 1, 1, 1, 1, 1, 1, 1, 1, 1, 1, 1, 1, 1, 1, 1, 1,\n",
       "         1, 1, 1, 1, 1, 1, 1, 1, 1, 1, 1, 1, 1, 1, 1, 1, 1, 1, 1, 1, 1, 1, 1, 1,\n",
       "         1, 1, 1, 1, 1, 1, 1, 1, 1, 1, 1, 1, 1, 1, 1, 1, 1, 1, 1, 1, 1, 1, 1, 1,\n",
       "         1, 1, 1, 1, 1, 1, 1, 1, 1, 1, 1, 1, 1, 1, 1, 1, 1, 1, 1, 1, 1, 1, 1, 1,\n",
       "         1, 1, 1, 1, 1, 1, 1, 1, 1, 1, 1, 1, 1, 1, 1, 1, 1, 1, 1, 1, 1, 1, 1, 1,\n",
       "         1, 1, 1, 1, 1, 1, 1, 1, 1, 1, 1, 1, 1, 1, 1, 1, 1, 1, 1, 1, 1, 1, 1, 1,\n",
       "         1, 1, 1, 1, 1, 1, 1, 1, 1, 1, 1, 1, 1, 1, 1, 1, 1, 1, 1, 1, 1, 1, 1, 1,\n",
       "         1, 1, 1, 1, 1, 1, 1, 1, 1, 1, 1, 1, 1, 1, 1, 1, 1, 1, 1, 1, 1, 1, 1, 1,\n",
       "         1, 1, 1, 1, 1, 1, 1, 1, 1, 1, 1, 1, 1, 1, 1, 1, 1, 1, 1, 1, 1, 1, 1, 1,\n",
       "         1, 1, 1, 1, 1, 1, 1, 1, 1, 1, 1, 1, 1, 1, 1, 1, 1, 1, 1, 1, 1, 1, 1, 1,\n",
       "         1, 1, 1, 1, 1, 1, 1, 1, 1, 1, 1, 1, 1, 1, 1, 1, 1, 1, 1, 1, 1, 1, 1, 1,\n",
       "         1, 1, 1, 1, 1, 1, 1, 1, 1, 1, 1, 1, 1, 1, 1, 1, 1, 1, 1, 1, 1, 1, 1, 1,\n",
       "         1, 1, 1, 1, 1, 1, 1, 1, 1, 1, 1, 1, 1, 1, 1, 1, 1, 1, 1, 1, 1, 1, 1, 1,\n",
       "         1, 1, 1, 1, 1, 1, 1, 1, 1, 1, 1, 1, 1, 1, 1, 1, 1, 1, 1, 1, 1, 1, 1, 1,\n",
       "         1, 1, 1, 1, 1, 1, 1, 1, 1, 1, 1, 1, 1, 1, 1, 1, 1, 1, 1, 1, 1, 1, 1, 1,\n",
       "         1, 1, 1, 1, 1, 1, 1, 1, 1, 1, 1, 1, 1, 1, 1, 1, 1, 1, 1, 1, 1, 1, 1, 1,\n",
       "         1, 1, 1, 1, 1, 1, 1, 1, 1, 1, 1, 1, 1, 1, 1, 1, 1, 1, 1, 1, 1, 1, 1, 1,\n",
       "         1, 1, 1, 1, 1, 1, 1, 1, 1, 1, 1, 1, 1, 1, 1, 1, 1, 1, 1, 1, 1, 1, 1, 1,\n",
       "         1, 1, 1, 1, 1, 1, 1, 1, 1, 1, 1, 1, 1, 1, 1, 1, 1, 1, 1, 1, 1, 1, 1, 1,\n",
       "         1, 0, 0, 0, 0, 0, 0, 0]),\n",
       " tensor([0, 0, 0, 0, 0, 0, 0, 0, 0, 1, 1, 1, 1, 1, 1, 1, 1, 1, 1, 1, 1, 1, 1, 1,\n",
       "         1, 1, 1, 1, 1, 1, 1, 1, 1, 1, 1, 1, 1, 1, 1, 1, 1, 1, 1, 1, 1, 1, 1, 1,\n",
       "         1, 1, 1, 1, 1, 1, 1, 1, 1, 1, 1, 1, 1, 1, 1, 1, 1, 1, 1, 1, 1, 1, 1, 1,\n",
       "         1, 1, 1, 1, 1, 1, 1, 1, 1, 1, 1, 1, 1, 1, 1, 1, 1, 1, 1, 1, 1, 1, 1, 1,\n",
       "         1, 1, 1, 1, 1, 1, 1, 1, 1, 1, 1, 1, 1, 1, 1, 1, 1, 1, 1, 1, 1, 1, 1, 1,\n",
       "         1, 1, 1, 1, 1, 1, 1, 1, 1, 1, 1, 1, 1, 1, 1, 1, 1, 1, 1, 1, 1, 1, 1, 1,\n",
       "         1, 1, 1, 1, 1, 1, 1, 1, 1, 1, 1, 1, 1, 1, 1, 1, 1, 1, 1, 1, 1, 1, 1, 1,\n",
       "         1, 1, 1, 1, 1, 1, 1, 1, 1, 1, 1, 1, 1, 1, 1, 1, 1, 1, 1, 1, 1, 1, 1, 1,\n",
       "         1, 1, 1, 1, 1, 1, 1, 1, 1, 1, 1, 1, 1, 1, 1, 1, 1, 1, 1, 1, 1, 1, 1, 1,\n",
       "         1, 1, 1, 1, 1, 1, 1, 1, 1, 1, 1, 1, 1, 1, 1, 1, 1, 1, 1, 1, 1, 1, 1, 1,\n",
       "         1, 1, 1, 1, 1, 1, 1, 1, 1, 1, 1, 1, 1, 1, 1, 1, 1, 1, 1, 1, 1, 1, 1, 1,\n",
       "         1, 1, 1, 1, 1, 1, 1, 1, 1, 1, 1, 1, 1, 1, 1, 1, 1, 1, 1, 1, 1, 1, 1, 1,\n",
       "         1, 1, 1, 1, 1, 1, 1, 1, 1, 1, 1, 1, 1, 1, 1, 1, 1, 1, 1, 1, 1, 1, 1, 1,\n",
       "         1, 1, 1, 1, 1, 1, 1, 1, 1, 1, 1, 1, 1, 1, 1, 1, 1, 1, 1, 1, 1, 1, 1, 1,\n",
       "         1, 1, 1, 1, 1, 1, 1, 1, 1, 1, 1, 1, 1, 1, 1, 1, 1, 1, 1, 1, 1, 1, 1, 1,\n",
       "         1, 1, 1, 1, 1, 1, 1, 1, 1, 1, 1, 1, 1, 1, 1, 1, 1, 1, 1, 1, 1, 1, 1, 1,\n",
       "         1, 1, 1, 1, 1, 1, 1, 1, 1, 1, 1, 1, 1, 1, 1, 1, 1, 1, 1, 1, 1, 1, 1, 1,\n",
       "         1, 1, 1, 1, 1, 1, 1, 1, 1, 1, 1, 1, 1, 1, 1, 1, 1, 1, 1, 1, 1, 1, 1, 1,\n",
       "         1, 1, 1, 1, 1, 1, 1, 1, 1, 1, 1, 1, 1, 1, 1, 1, 1, 1, 1, 1, 1, 1, 1, 1,\n",
       "         1, 1, 1, 1, 1, 1, 1, 1, 1, 1, 1, 1, 1, 1, 1, 1, 1, 1, 1, 1, 1, 1, 1, 1,\n",
       "         1, 1, 1, 1, 1, 1, 1, 1, 1, 1, 1, 1, 1, 1, 1, 1, 1, 1, 1, 1, 1, 1, 1, 1,\n",
       "         1, 0, 0, 0, 0, 0, 0, 0]),\n",
       " tensor(0))"
      ]
     },
     "execution_count": 14,
     "metadata": {},
     "output_type": "execute_result"
    }
   ],
   "source": [
    "bert_dataset[1]"
   ]
  },
  {
   "cell_type": "code",
   "execution_count": 7,
   "metadata": {},
   "outputs": [
    {
     "data": {
      "text/plain": [
       "\"[CLS] carol lei ##fer is a five - time emmy nominee [SEP] carol lei ##fer carol lei ##fer is an american comedian , writer , producer and actress whose career as a stand - up night with david letterman over twenty - five times as well as numerous other shows she won four emmy awards for her work on the series . carol lei ##fer ' s booking agent and speaking fee contact our speakers bureau for carol lei ##fer ' s booking fee , appearance cost , three - time emmy nominee ; writer , comedian and best selling author night with david letterman over twenty - five times as well as numerous other shows carol lei ##fer ' s wedding ms . lei ##fer , now 59 and a four - time emmy nominee for her writing on “ se ##in ##feld , ” “ the larry sanders show ” and the academy awards ceremonies , had always identified as heterosexual . carol lei ##fer | penguin random house carol lei ##fer is an accomplished stand - up comedian and an emmy - nominated writer and his visit led to her making twenty - five guest appearances on late night with david letterman . carol has also been seen on the tonight show , real time with bill ma ##her , late night with conan o ' brien , and the op ##rah win ##frey show . comedy legend carol lei ##fer on writing ' se ##in ##feld ' , life on ' devi ##ous carol lei ##fer is a multiple emmy nominee ( se ##in ##feld , modern family , s ##nl , the of seven academy awards telecast ##s , five of her own comedy specials , steve levi ##tan and chris lloyd at emmy time , when i was nominated with se ##in ##feld ' s carol lei ##fer to write book giving career advice | hollywood comedian carol lei ##fer to write humorous career advice book ( exclusive ) lei ##fer is a four - time emmy nominee for her work on such shows as carol lei ##fer ( @ carol ##lei ##fer ) | twitter the latest t ##wee ##ts from carol lei ##fer ( @ carol ##lei ##fer ) . tv writer the 4 - time emmy nominee is currently a writer / consulting producer for hbo ' s curb your … book carol lei ##fer for speaking , events and appearances | ap ##b an award - winning writer and producer , best - selling author and stand - up comedian , carol lei ##fer hum ##bly describes herself as simply “ someone who loves keynote speaker : carol lei ##fer • presented by speak ##in ##c • power up comedian & award - winning writer . four - time emmy nominee carol lei ##fer , best known for her work on carol lei ##fer carol lei ##fer is an accomplished stand - up comedian and an emmy - nominated writer and his visit led to her making twenty - five guest [SEP]\""
      ]
     },
     "execution_count": 7,
     "metadata": {},
     "output_type": "execute_result"
    }
   ],
   "source": [
    "bert_dataset.get_one_as_text(0)"
   ]
  },
  {
   "cell_type": "code",
   "execution_count": null,
   "metadata": {},
   "outputs": [],
   "source": []
  },
  {
   "cell_type": "code",
   "execution_count": null,
   "metadata": {},
   "outputs": [],
   "source": []
  },
  {
   "cell_type": "code",
   "execution_count": 4,
   "metadata": {},
   "outputs": [],
   "source": [
    "glove_dataset = GoogleDatasetGlove.from_pickle(pickle_path=GoogleDataset.TRAIN_DATA, glove_path=GoogleDatasetGlove.GLOVE_6B_200)"
   ]
  },
  {
   "cell_type": "code",
   "execution_count": 8,
   "metadata": {},
   "outputs": [],
   "source": [
    "claim = raw_dataset[0]"
   ]
  },
  {
   "cell_type": "code",
   "execution_count": 9,
   "metadata": {},
   "outputs": [
    {
     "data": {
      "text/plain": [
       "(('Carol Leifer is a five-time Emmy nominee',\n",
       "  \"Carol Leifer Carol Leifer is an American comedian, writer, producer and actress whose career as a stand-up Night with David Letterman over twenty-five times as well as numerous other shows She won four Emmy Awards for her work on the series. Carol Leifer's Booking Agent and Speaking Fee Contact our Speakers Bureau for Carol Leifer's booking fee, appearance cost, Three-Time Emmy Nominee; Writer, Comedian and Best Selling Author Night With David Letterman over twenty-five times as well as numerous other shows Carol Leifer's Wedding Ms. Leifer, now 59 and a four-time Emmy nominee for her writing on “Seinfeld,” “The Larry Sanders Show” and the Academy Awards ceremonies, had always identified as heterosexual. Carol Leifer | Penguin Random House Carol Leifer is an accomplished stand-up comedian and an Emmy-nominated writer and His visit led to her making twenty-five guest appearances on Late Night with David Letterman. Carol has also been seen on The Tonight Show, Real Time with Bill Maher, Late Night with Conan O'Brien, and The Oprah Winfrey Show. Comedy Legend Carol Leifer on Writing 'Seinfeld', Life on 'Devious Carol Leifer is a multiple Emmy nominee (Seinfeld, Modern Family, SNL, The of seven Academy Awards telecasts, five of her own comedy specials, Steve Levitan and Chris Lloyd at Emmy time, when I was nominated with Seinfeld's Carol Leifer to Write Book Giving Career Advice | Hollywood Comedian Carol Leifer to Write Humorous Career Advice Book (Exclusive) Leifer is a four-time Emmy nominee for her work on such shows as Carol Leifer (@carolleifer) | Twitter The latest Tweets from Carol Leifer (@carolleifer). TV Writer The 4-time Emmy nominee is currently a Writer/Consulting Producer for HBO's Curb Your… Book Carol Leifer for Speaking, Events and Appearances | APB An award-winning writer and producer, best-selling author and stand-up comedian, Carol Leifer humbly describes herself as simply “someone who loves Keynote Speaker: Carol Leifer • Presented by SpeakInc • Power UP Comedian & Award-Winning Writer. Four-time Emmy nominee Carol Leifer, best known for her work on Carol Leifer Carol Leifer is an accomplished stand-up comedian and an Emmy-nominated writer and His visit led to her making twenty-five guest appearances on Late Night with David Letterman. Carol has also been seen on The Tonight Show, Real Time with Bill Maher, Late Night with Conan O'Brien, and The Oprah Winfrey Show.\"),\n",
       " 'REFUTES')"
      ]
     },
     "execution_count": 9,
     "metadata": {},
     "output_type": "execute_result"
    }
   ],
   "source": [
    "raw_dataset[0]"
   ]
  },
  {
   "cell_type": "code",
   "execution_count": 11,
   "metadata": {},
   "outputs": [
    {
     "data": {
      "text/plain": [
       "200"
      ]
     },
     "execution_count": 11,
     "metadata": {},
     "output_type": "execute_result"
    }
   ],
   "source": [
    "glove_dataset.glove_matrix.shape[1]"
   ]
  },
  {
   "cell_type": "code",
   "execution_count": 5,
   "metadata": {},
   "outputs": [],
   "source": [
    "a = glove_dataset[0]"
   ]
  },
  {
   "cell_type": "code",
   "execution_count": 6,
   "metadata": {},
   "outputs": [
    {
     "data": {
      "text/plain": [
       "(tensor([[-0.0774, -0.1478, -0.6425,  ..., -0.1453,  0.3236, -0.4337],\n",
       "         [ 0.1887, -0.3080, -0.0235,  ..., -0.4027,  0.3573, -0.4317],\n",
       "         [ 0.3293,  0.2553,  0.2675,  ...,  0.0746,  0.0120, -0.2195],\n",
       "         ...,\n",
       "         [ 0.5078,  0.1393, -0.3436,  ..., -0.6712, -0.0371, -0.2595],\n",
       "         [-0.1433,  0.7839, -0.1323,  ...,  0.6048,  0.0591, -0.2723],\n",
       "         [ 0.3363,  0.7933, -0.1632,  ..., -1.0691,  0.5908,  0.3029]]),\n",
       " tensor([[-0.0774, -0.1478, -0.6425,  ..., -0.1453,  0.3236, -0.4337],\n",
       "         [ 0.1887, -0.3080, -0.0235,  ..., -0.4027,  0.3573, -0.4317],\n",
       "         [-0.0774, -0.1478, -0.6425,  ..., -0.1453,  0.3236, -0.4337],\n",
       "         ...,\n",
       "         [-0.3948,  0.2455, -0.4544,  ..., -0.1800,  0.3347, -0.0478],\n",
       "         [ 0.0070,  0.1277, -0.5676,  ...,  0.3366, -0.4043,  0.3239],\n",
       "         [ 0.1229,  0.5804, -0.0696,  ..., -0.0392, -0.1624, -0.0967]]),\n",
       " 1)"
      ]
     },
     "execution_count": 6,
     "metadata": {},
     "output_type": "execute_result"
    }
   ],
   "source": [
    "a"
   ]
  },
  {
   "cell_type": "code",
   "execution_count": 18,
   "metadata": {},
   "outputs": [
    {
     "data": {
      "text/plain": [
       "torch.Size([7, 200])"
      ]
     },
     "execution_count": 18,
     "metadata": {},
     "output_type": "execute_result"
    }
   ],
   "source": [
    "a[0].size()"
   ]
  },
  {
   "cell_type": "code",
   "execution_count": 19,
   "metadata": {},
   "outputs": [
    {
     "data": {
      "text/plain": [
       "torch.Size([431, 200])"
      ]
     },
     "execution_count": 19,
     "metadata": {},
     "output_type": "execute_result"
    }
   ],
   "source": [
    "a[1].size()"
   ]
  },
  {
   "cell_type": "code",
   "execution_count": 21,
   "metadata": {},
   "outputs": [
    {
     "data": {
      "text/plain": [
       "1"
      ]
     },
     "execution_count": 21,
     "metadata": {},
     "output_type": "execute_result"
    }
   ],
   "source": [
    "a[2]"
   ]
  },
  {
   "cell_type": "code",
   "execution_count": 13,
   "metadata": {},
   "outputs": [
    {
     "data": {
      "text/plain": [
       "tensor([[-0.0774, -0.1478, -0.6425,  ..., -0.1453,  0.3236, -0.4337],\n",
       "        [ 0.1887, -0.3080, -0.0235,  ..., -0.4027,  0.3573, -0.4317],\n",
       "        [ 0.3293,  0.2553,  0.2675,  ...,  0.0746,  0.0120, -0.2195],\n",
       "        ...,\n",
       "        [ 0.5078,  0.1393, -0.3436,  ..., -0.6712, -0.0371, -0.2595],\n",
       "        [-0.1433,  0.7839, -0.1323,  ...,  0.6048,  0.0591, -0.2723],\n",
       "        [ 0.3363,  0.7933, -0.1632,  ..., -1.0691,  0.5908,  0.3029]])"
      ]
     },
     "execution_count": 13,
     "metadata": {},
     "output_type": "execute_result"
    }
   ],
   "source": [
    "glove_dataset[0][0]"
   ]
  },
  {
   "cell_type": "code",
   "execution_count": 13,
   "metadata": {},
   "outputs": [
    {
     "data": {
      "text/plain": [
       "torch.Size([7, 200])"
      ]
     },
     "execution_count": 13,
     "metadata": {},
     "output_type": "execute_result"
    }
   ],
   "source": [
    "glove_dataset[0][0].size()"
   ]
  },
  {
   "cell_type": "code",
   "execution_count": 9,
   "metadata": {},
   "outputs": [
    {
     "data": {
      "text/plain": [
       "torch.Size([431, 200])"
      ]
     },
     "execution_count": 9,
     "metadata": {},
     "output_type": "execute_result"
    }
   ],
   "source": [
    "glove_dataset[0][1].size()"
   ]
  },
  {
   "cell_type": "code",
   "execution_count": 5,
   "metadata": {},
   "outputs": [],
   "source": [
    "import torch"
   ]
  },
  {
   "cell_type": "code",
   "execution_count": 6,
   "metadata": {},
   "outputs": [
    {
     "data": {
      "text/plain": [
       "False"
      ]
     },
     "execution_count": 6,
     "metadata": {},
     "output_type": "execute_result"
    }
   ],
   "source": [
    "torch.cuda.is_available()"
   ]
  },
  {
   "cell_type": "code",
   "execution_count": null,
   "metadata": {},
   "outputs": [],
   "source": []
  },
  {
   "cell_type": "code",
   "execution_count": null,
   "metadata": {},
   "outputs": [],
   "source": []
  },
  {
   "cell_type": "code",
   "execution_count": 10,
   "metadata": {},
   "outputs": [],
   "source": [
    "from util.general_util import pickle_save"
   ]
  },
  {
   "cell_type": "code",
   "execution_count": 18,
   "metadata": {},
   "outputs": [],
   "source": [
    "pickle_path = GoogleDatasetGlovePickle.GLOVE_PICKLED_TRAIN"
   ]
  },
  {
   "cell_type": "code",
   "execution_count": null,
   "metadata": {},
   "outputs": [],
   "source": []
  },
  {
   "cell_type": "code",
   "execution_count": 17,
   "metadata": {},
   "outputs": [],
   "source": [
    "from tqdm import tqdm"
   ]
  },
  {
   "cell_type": "code",
   "execution_count": 19,
   "metadata": {},
   "outputs": [
    {
     "name": "stderr",
     "output_type": "stream",
     "text": [
      "  1%|          | 77/7000 [03:25<5:43:13,  2.97s/it]"
     ]
    },
    {
     "ename": "KeyboardInterrupt",
     "evalue": "",
     "output_type": "error",
     "traceback": [
      "\u001b[0;31m---------------------------------------------------------------------------\u001b[0m",
      "\u001b[0;31mKeyboardInterrupt\u001b[0m                         Traceback (most recent call last)",
      "\u001b[0;32m<ipython-input-19-2640da5784da>\u001b[0m in \u001b[0;36m<module>\u001b[0;34m()\u001b[0m\n\u001b[1;32m      1\u001b[0m \u001b[0mglove_pickled\u001b[0m \u001b[0;34m=\u001b[0m \u001b[0;34m[\u001b[0m\u001b[0;34m]\u001b[0m\u001b[0;34m\u001b[0m\u001b[0;34m\u001b[0m\u001b[0m\n\u001b[0;32m----> 2\u001b[0;31m \u001b[0;32mfor\u001b[0m \u001b[0mglove_output\u001b[0m \u001b[0;32min\u001b[0m \u001b[0mtqdm\u001b[0m\u001b[0;34m(\u001b[0m\u001b[0mglove_dataset\u001b[0m\u001b[0;34m)\u001b[0m\u001b[0;34m:\u001b[0m\u001b[0;34m\u001b[0m\u001b[0;34m\u001b[0m\u001b[0m\n\u001b[0m\u001b[1;32m      3\u001b[0m     \u001b[0mglove_pickled\u001b[0m\u001b[0;34m.\u001b[0m\u001b[0mappend\u001b[0m\u001b[0;34m(\u001b[0m\u001b[0mglove_output\u001b[0m\u001b[0;34m)\u001b[0m\u001b[0;34m\u001b[0m\u001b[0;34m\u001b[0m\u001b[0m\n\u001b[1;32m      4\u001b[0m \u001b[0mpickle_save\u001b[0m\u001b[0;34m(\u001b[0m\u001b[0mglove_pickled\u001b[0m\u001b[0;34m,\u001b[0m \u001b[0mpickle_path\u001b[0m\u001b[0;34m)\u001b[0m\u001b[0;34m\u001b[0m\u001b[0;34m\u001b[0m\u001b[0m\n",
      "\u001b[0;32m~/anaconda3/lib/python3.7/site-packages/tqdm/_tqdm.py\u001b[0m in \u001b[0;36m__iter__\u001b[0;34m(self)\u001b[0m\n\u001b[1;32m    935\u001b[0m \"\"\", fp_write=getattr(self.fp, 'write', sys.stderr.write))\n\u001b[1;32m    936\u001b[0m \u001b[0;34m\u001b[0m\u001b[0m\n\u001b[0;32m--> 937\u001b[0;31m             \u001b[0;32mfor\u001b[0m \u001b[0mobj\u001b[0m \u001b[0;32min\u001b[0m \u001b[0miterable\u001b[0m\u001b[0;34m:\u001b[0m\u001b[0;34m\u001b[0m\u001b[0;34m\u001b[0m\u001b[0m\n\u001b[0m\u001b[1;32m    938\u001b[0m                 \u001b[0;32myield\u001b[0m \u001b[0mobj\u001b[0m\u001b[0;34m\u001b[0m\u001b[0;34m\u001b[0m\u001b[0m\n\u001b[1;32m    939\u001b[0m                 \u001b[0;31m# Update and possibly print the progressbar.\u001b[0m\u001b[0;34m\u001b[0m\u001b[0;34m\u001b[0m\u001b[0;34m\u001b[0m\u001b[0m\n",
      "\u001b[0;32m~/Documents/fer/apt/projekt/dataset/google_dataset.py\u001b[0m in \u001b[0;36m__getitem__\u001b[0;34m(self, index)\u001b[0m\n\u001b[1;32m    168\u001b[0m \u001b[0;34m\u001b[0m\u001b[0m\n\u001b[1;32m    169\u001b[0m         \u001b[0mclaim_embedded\u001b[0m \u001b[0;34m=\u001b[0m \u001b[0mself\u001b[0m\u001b[0;34m.\u001b[0m\u001b[0mglove_tokens\u001b[0m\u001b[0;34m(\u001b[0m\u001b[0mclaim_tokenized\u001b[0m\u001b[0;34m)\u001b[0m\u001b[0;34m\u001b[0m\u001b[0;34m\u001b[0m\u001b[0m\n\u001b[0;32m--> 170\u001b[0;31m         \u001b[0mgoogle_result_embedded\u001b[0m \u001b[0;34m=\u001b[0m \u001b[0mself\u001b[0m\u001b[0;34m.\u001b[0m\u001b[0mglove_tokens\u001b[0m\u001b[0;34m(\u001b[0m\u001b[0mgoogle_result_tokenized\u001b[0m\u001b[0;34m)\u001b[0m\u001b[0;34m\u001b[0m\u001b[0;34m\u001b[0m\u001b[0m\n\u001b[0m\u001b[1;32m    171\u001b[0m \u001b[0;34m\u001b[0m\u001b[0m\n\u001b[1;32m    172\u001b[0m         \u001b[0mlabel_id\u001b[0m \u001b[0;34m=\u001b[0m \u001b[0mGoogleDataset\u001b[0m\u001b[0;34m.\u001b[0m\u001b[0mLABEL_MAP\u001b[0m\u001b[0;34m[\u001b[0m\u001b[0mself\u001b[0m\u001b[0;34m.\u001b[0m\u001b[0mlabels\u001b[0m\u001b[0;34m[\u001b[0m\u001b[0mindex\u001b[0m\u001b[0;34m]\u001b[0m\u001b[0;34m]\u001b[0m\u001b[0;34m\u001b[0m\u001b[0;34m\u001b[0m\u001b[0m\n",
      "\u001b[0;32m~/Documents/fer/apt/projekt/dataset/google_dataset.py\u001b[0m in \u001b[0;36mglove_tokens\u001b[0;34m(self, tokens)\u001b[0m\n\u001b[1;32m    155\u001b[0m \u001b[0;34m\u001b[0m\u001b[0m\n\u001b[1;32m    156\u001b[0m     \u001b[0;32mdef\u001b[0m \u001b[0mglove_tokens\u001b[0m\u001b[0;34m(\u001b[0m\u001b[0mself\u001b[0m\u001b[0;34m,\u001b[0m \u001b[0mtokens\u001b[0m\u001b[0;34m:\u001b[0m \u001b[0mList\u001b[0m\u001b[0;34m[\u001b[0m\u001b[0mstr\u001b[0m\u001b[0;34m]\u001b[0m\u001b[0;34m)\u001b[0m\u001b[0;34m:\u001b[0m\u001b[0;34m\u001b[0m\u001b[0;34m\u001b[0m\u001b[0m\n\u001b[0;32m--> 157\u001b[0;31m         \u001b[0;32mreturn\u001b[0m \u001b[0mnp\u001b[0m\u001b[0;34m.\u001b[0m\u001b[0marray\u001b[0m\u001b[0;34m(\u001b[0m\u001b[0;34m[\u001b[0m\u001b[0mself\u001b[0m\u001b[0;34m.\u001b[0m\u001b[0mglove\u001b[0m\u001b[0;34m(\u001b[0m\u001b[0mt\u001b[0m\u001b[0;34m)\u001b[0m \u001b[0;32mfor\u001b[0m \u001b[0mt\u001b[0m \u001b[0;32min\u001b[0m \u001b[0mtokens\u001b[0m \u001b[0;32mif\u001b[0m \u001b[0mself\u001b[0m\u001b[0;34m.\u001b[0m\u001b[0mglove_contains_word\u001b[0m\u001b[0;34m(\u001b[0m\u001b[0mt\u001b[0m\u001b[0;34m)\u001b[0m\u001b[0;34m]\u001b[0m\u001b[0;34m)\u001b[0m\u001b[0;34m\u001b[0m\u001b[0;34m\u001b[0m\u001b[0m\n\u001b[0m\u001b[1;32m    158\u001b[0m \u001b[0;34m\u001b[0m\u001b[0m\n\u001b[1;32m    159\u001b[0m     \u001b[0;32mdef\u001b[0m \u001b[0membedding_size\u001b[0m\u001b[0;34m(\u001b[0m\u001b[0mself\u001b[0m\u001b[0;34m)\u001b[0m\u001b[0;34m:\u001b[0m\u001b[0;34m\u001b[0m\u001b[0;34m\u001b[0m\u001b[0m\n",
      "\u001b[0;32m~/Documents/fer/apt/projekt/dataset/google_dataset.py\u001b[0m in \u001b[0;36m<listcomp>\u001b[0;34m(.0)\u001b[0m\n\u001b[1;32m    155\u001b[0m \u001b[0;34m\u001b[0m\u001b[0m\n\u001b[1;32m    156\u001b[0m     \u001b[0;32mdef\u001b[0m \u001b[0mglove_tokens\u001b[0m\u001b[0;34m(\u001b[0m\u001b[0mself\u001b[0m\u001b[0;34m,\u001b[0m \u001b[0mtokens\u001b[0m\u001b[0;34m:\u001b[0m \u001b[0mList\u001b[0m\u001b[0;34m[\u001b[0m\u001b[0mstr\u001b[0m\u001b[0;34m]\u001b[0m\u001b[0;34m)\u001b[0m\u001b[0;34m:\u001b[0m\u001b[0;34m\u001b[0m\u001b[0;34m\u001b[0m\u001b[0m\n\u001b[0;32m--> 157\u001b[0;31m         \u001b[0;32mreturn\u001b[0m \u001b[0mnp\u001b[0m\u001b[0;34m.\u001b[0m\u001b[0marray\u001b[0m\u001b[0;34m(\u001b[0m\u001b[0;34m[\u001b[0m\u001b[0mself\u001b[0m\u001b[0;34m.\u001b[0m\u001b[0mglove\u001b[0m\u001b[0;34m(\u001b[0m\u001b[0mt\u001b[0m\u001b[0;34m)\u001b[0m \u001b[0;32mfor\u001b[0m \u001b[0mt\u001b[0m \u001b[0;32min\u001b[0m \u001b[0mtokens\u001b[0m \u001b[0;32mif\u001b[0m \u001b[0mself\u001b[0m\u001b[0;34m.\u001b[0m\u001b[0mglove_contains_word\u001b[0m\u001b[0;34m(\u001b[0m\u001b[0mt\u001b[0m\u001b[0;34m)\u001b[0m\u001b[0;34m]\u001b[0m\u001b[0;34m)\u001b[0m\u001b[0;34m\u001b[0m\u001b[0;34m\u001b[0m\u001b[0m\n\u001b[0m\u001b[1;32m    158\u001b[0m \u001b[0;34m\u001b[0m\u001b[0m\n\u001b[1;32m    159\u001b[0m     \u001b[0;32mdef\u001b[0m \u001b[0membedding_size\u001b[0m\u001b[0;34m(\u001b[0m\u001b[0mself\u001b[0m\u001b[0;34m)\u001b[0m\u001b[0;34m:\u001b[0m\u001b[0;34m\u001b[0m\u001b[0;34m\u001b[0m\u001b[0m\n",
      "\u001b[0;32m~/Documents/fer/apt/projekt/dataset/google_dataset.py\u001b[0m in \u001b[0;36mglove\u001b[0;34m(self, word)\u001b[0m\n\u001b[1;32m    149\u001b[0m         \u001b[0;32mif\u001b[0m \u001b[0;32mnot\u001b[0m \u001b[0mself\u001b[0m\u001b[0;34m.\u001b[0m\u001b[0mglove_contains_word\u001b[0m\u001b[0;34m(\u001b[0m\u001b[0mword\u001b[0m\u001b[0;34m)\u001b[0m\u001b[0;34m:\u001b[0m\u001b[0;34m\u001b[0m\u001b[0;34m\u001b[0m\u001b[0m\n\u001b[1;32m    150\u001b[0m             \u001b[0;32mreturn\u001b[0m \u001b[0;32mNone\u001b[0m\u001b[0;34m\u001b[0m\u001b[0;34m\u001b[0m\u001b[0m\n\u001b[0;32m--> 151\u001b[0;31m         \u001b[0;32mreturn\u001b[0m \u001b[0mself\u001b[0m\u001b[0;34m.\u001b[0m\u001b[0mglove_matrix\u001b[0m\u001b[0;34m.\u001b[0m\u001b[0mloc\u001b[0m\u001b[0;34m[\u001b[0m\u001b[0mword\u001b[0m\u001b[0;34m]\u001b[0m\u001b[0;34m.\u001b[0m\u001b[0mvalues\u001b[0m\u001b[0;34m\u001b[0m\u001b[0;34m\u001b[0m\u001b[0m\n\u001b[0m\u001b[1;32m    152\u001b[0m \u001b[0;34m\u001b[0m\u001b[0m\n\u001b[1;32m    153\u001b[0m     \u001b[0;32mdef\u001b[0m \u001b[0mglove_contains_word\u001b[0m\u001b[0;34m(\u001b[0m\u001b[0mself\u001b[0m\u001b[0;34m,\u001b[0m \u001b[0mword\u001b[0m\u001b[0;34m:\u001b[0m \u001b[0mstr\u001b[0m\u001b[0;34m)\u001b[0m\u001b[0;34m:\u001b[0m\u001b[0;34m\u001b[0m\u001b[0;34m\u001b[0m\u001b[0m\n",
      "\u001b[0;32m~/anaconda3/lib/python3.7/site-packages/pandas/core/indexing.py\u001b[0m in \u001b[0;36m__getitem__\u001b[0;34m(self, key)\u001b[0m\n\u001b[1;32m   1476\u001b[0m \u001b[0;34m\u001b[0m\u001b[0m\n\u001b[1;32m   1477\u001b[0m             \u001b[0mmaybe_callable\u001b[0m \u001b[0;34m=\u001b[0m \u001b[0mcom\u001b[0m\u001b[0;34m.\u001b[0m\u001b[0m_apply_if_callable\u001b[0m\u001b[0;34m(\u001b[0m\u001b[0mkey\u001b[0m\u001b[0;34m,\u001b[0m \u001b[0mself\u001b[0m\u001b[0;34m.\u001b[0m\u001b[0mobj\u001b[0m\u001b[0;34m)\u001b[0m\u001b[0;34m\u001b[0m\u001b[0;34m\u001b[0m\u001b[0m\n\u001b[0;32m-> 1478\u001b[0;31m             \u001b[0;32mreturn\u001b[0m \u001b[0mself\u001b[0m\u001b[0;34m.\u001b[0m\u001b[0m_getitem_axis\u001b[0m\u001b[0;34m(\u001b[0m\u001b[0mmaybe_callable\u001b[0m\u001b[0;34m,\u001b[0m \u001b[0maxis\u001b[0m\u001b[0;34m=\u001b[0m\u001b[0maxis\u001b[0m\u001b[0;34m)\u001b[0m\u001b[0;34m\u001b[0m\u001b[0;34m\u001b[0m\u001b[0m\n\u001b[0m\u001b[1;32m   1479\u001b[0m \u001b[0;34m\u001b[0m\u001b[0m\n\u001b[1;32m   1480\u001b[0m     \u001b[0;32mdef\u001b[0m \u001b[0m_is_scalar_access\u001b[0m\u001b[0;34m(\u001b[0m\u001b[0mself\u001b[0m\u001b[0;34m,\u001b[0m \u001b[0mkey\u001b[0m\u001b[0;34m)\u001b[0m\u001b[0;34m:\u001b[0m\u001b[0;34m\u001b[0m\u001b[0;34m\u001b[0m\u001b[0m\n",
      "\u001b[0;32m~/anaconda3/lib/python3.7/site-packages/pandas/core/indexing.py\u001b[0m in \u001b[0;36m_getitem_axis\u001b[0;34m(self, key, axis)\u001b[0m\n\u001b[1;32m   1910\u001b[0m         \u001b[0;31m# fall thru to straight lookup\u001b[0m\u001b[0;34m\u001b[0m\u001b[0;34m\u001b[0m\u001b[0;34m\u001b[0m\u001b[0m\n\u001b[1;32m   1911\u001b[0m         \u001b[0mself\u001b[0m\u001b[0;34m.\u001b[0m\u001b[0m_validate_key\u001b[0m\u001b[0;34m(\u001b[0m\u001b[0mkey\u001b[0m\u001b[0;34m,\u001b[0m \u001b[0maxis\u001b[0m\u001b[0;34m)\u001b[0m\u001b[0;34m\u001b[0m\u001b[0;34m\u001b[0m\u001b[0m\n\u001b[0;32m-> 1912\u001b[0;31m         \u001b[0;32mreturn\u001b[0m \u001b[0mself\u001b[0m\u001b[0;34m.\u001b[0m\u001b[0m_get_label\u001b[0m\u001b[0;34m(\u001b[0m\u001b[0mkey\u001b[0m\u001b[0;34m,\u001b[0m \u001b[0maxis\u001b[0m\u001b[0;34m=\u001b[0m\u001b[0maxis\u001b[0m\u001b[0;34m)\u001b[0m\u001b[0;34m\u001b[0m\u001b[0;34m\u001b[0m\u001b[0m\n\u001b[0m\u001b[1;32m   1913\u001b[0m \u001b[0;34m\u001b[0m\u001b[0m\n\u001b[1;32m   1914\u001b[0m \u001b[0;34m\u001b[0m\u001b[0m\n",
      "\u001b[0;32m~/anaconda3/lib/python3.7/site-packages/pandas/core/indexing.py\u001b[0m in \u001b[0;36m_get_label\u001b[0;34m(self, label, axis)\u001b[0m\n\u001b[1;32m    138\u001b[0m             \u001b[0;32mraise\u001b[0m \u001b[0mIndexingError\u001b[0m\u001b[0;34m(\u001b[0m\u001b[0;34m'no slices here, handle elsewhere'\u001b[0m\u001b[0;34m)\u001b[0m\u001b[0;34m\u001b[0m\u001b[0;34m\u001b[0m\u001b[0m\n\u001b[1;32m    139\u001b[0m \u001b[0;34m\u001b[0m\u001b[0m\n\u001b[0;32m--> 140\u001b[0;31m         \u001b[0;32mreturn\u001b[0m \u001b[0mself\u001b[0m\u001b[0;34m.\u001b[0m\u001b[0mobj\u001b[0m\u001b[0;34m.\u001b[0m\u001b[0m_xs\u001b[0m\u001b[0;34m(\u001b[0m\u001b[0mlabel\u001b[0m\u001b[0;34m,\u001b[0m \u001b[0maxis\u001b[0m\u001b[0;34m=\u001b[0m\u001b[0maxis\u001b[0m\u001b[0;34m)\u001b[0m\u001b[0;34m\u001b[0m\u001b[0;34m\u001b[0m\u001b[0m\n\u001b[0m\u001b[1;32m    141\u001b[0m \u001b[0;34m\u001b[0m\u001b[0m\n\u001b[1;32m    142\u001b[0m     \u001b[0;32mdef\u001b[0m \u001b[0m_get_loc\u001b[0m\u001b[0;34m(\u001b[0m\u001b[0mself\u001b[0m\u001b[0;34m,\u001b[0m \u001b[0mkey\u001b[0m\u001b[0;34m,\u001b[0m \u001b[0maxis\u001b[0m\u001b[0;34m=\u001b[0m\u001b[0;32mNone\u001b[0m\u001b[0;34m)\u001b[0m\u001b[0;34m:\u001b[0m\u001b[0;34m\u001b[0m\u001b[0;34m\u001b[0m\u001b[0m\n",
      "\u001b[0;32m~/anaconda3/lib/python3.7/site-packages/pandas/core/generic.py\u001b[0m in \u001b[0;36mxs\u001b[0;34m(self, key, axis, level, drop_level)\u001b[0m\n\u001b[1;32m   2985\u001b[0m                                                       drop_level=drop_level)\n\u001b[1;32m   2986\u001b[0m         \u001b[0;32melse\u001b[0m\u001b[0;34m:\u001b[0m\u001b[0;34m\u001b[0m\u001b[0;34m\u001b[0m\u001b[0m\n\u001b[0;32m-> 2987\u001b[0;31m             \u001b[0mloc\u001b[0m \u001b[0;34m=\u001b[0m \u001b[0mself\u001b[0m\u001b[0;34m.\u001b[0m\u001b[0mindex\u001b[0m\u001b[0;34m.\u001b[0m\u001b[0mget_loc\u001b[0m\u001b[0;34m(\u001b[0m\u001b[0mkey\u001b[0m\u001b[0;34m)\u001b[0m\u001b[0;34m\u001b[0m\u001b[0;34m\u001b[0m\u001b[0m\n\u001b[0m\u001b[1;32m   2988\u001b[0m \u001b[0;34m\u001b[0m\u001b[0m\n\u001b[1;32m   2989\u001b[0m             \u001b[0;32mif\u001b[0m \u001b[0misinstance\u001b[0m\u001b[0;34m(\u001b[0m\u001b[0mloc\u001b[0m\u001b[0;34m,\u001b[0m \u001b[0mnp\u001b[0m\u001b[0;34m.\u001b[0m\u001b[0mndarray\u001b[0m\u001b[0;34m)\u001b[0m\u001b[0;34m:\u001b[0m\u001b[0;34m\u001b[0m\u001b[0;34m\u001b[0m\u001b[0m\n",
      "\u001b[0;32m~/anaconda3/lib/python3.7/site-packages/pandas/core/indexes/base.py\u001b[0m in \u001b[0;36mget_loc\u001b[0;34m(self, key, method, tolerance)\u001b[0m\n\u001b[1;32m   3076\u001b[0m                                  'backfill or nearest lookups')\n\u001b[1;32m   3077\u001b[0m             \u001b[0;32mtry\u001b[0m\u001b[0;34m:\u001b[0m\u001b[0;34m\u001b[0m\u001b[0;34m\u001b[0m\u001b[0m\n\u001b[0;32m-> 3078\u001b[0;31m                 \u001b[0;32mreturn\u001b[0m \u001b[0mself\u001b[0m\u001b[0;34m.\u001b[0m\u001b[0m_engine\u001b[0m\u001b[0;34m.\u001b[0m\u001b[0mget_loc\u001b[0m\u001b[0;34m(\u001b[0m\u001b[0mkey\u001b[0m\u001b[0;34m)\u001b[0m\u001b[0;34m\u001b[0m\u001b[0;34m\u001b[0m\u001b[0m\n\u001b[0m\u001b[1;32m   3079\u001b[0m             \u001b[0;32mexcept\u001b[0m \u001b[0mKeyError\u001b[0m\u001b[0;34m:\u001b[0m\u001b[0;34m\u001b[0m\u001b[0;34m\u001b[0m\u001b[0m\n\u001b[1;32m   3080\u001b[0m                 \u001b[0;32mreturn\u001b[0m \u001b[0mself\u001b[0m\u001b[0;34m.\u001b[0m\u001b[0m_engine\u001b[0m\u001b[0;34m.\u001b[0m\u001b[0mget_loc\u001b[0m\u001b[0;34m(\u001b[0m\u001b[0mself\u001b[0m\u001b[0;34m.\u001b[0m\u001b[0m_maybe_cast_indexer\u001b[0m\u001b[0;34m(\u001b[0m\u001b[0mkey\u001b[0m\u001b[0;34m)\u001b[0m\u001b[0;34m)\u001b[0m\u001b[0;34m\u001b[0m\u001b[0;34m\u001b[0m\u001b[0m\n",
      "\u001b[0;31mKeyboardInterrupt\u001b[0m: "
     ]
    }
   ],
   "source": [
    "glove_pickled = []\n",
    "for glove_output in tqdm(glove_dataset):\n",
    "    glove_pickled.append(glove_output)\n",
    "pickle_save(glove_pickled, pickle_path)"
   ]
  },
  {
   "cell_type": "code",
   "execution_count": 3,
   "metadata": {},
   "outputs": [],
   "source": [
    "dataset = GoogleDatasetGlovePickle(GoogleDatasetGlovePickle.GLOVE_PICKLED_TEST)"
   ]
  },
  {
   "cell_type": "code",
   "execution_count": 4,
   "metadata": {},
   "outputs": [
    {
     "data": {
      "text/plain": [
       "1500"
      ]
     },
     "execution_count": 4,
     "metadata": {},
     "output_type": "execute_result"
    }
   ],
   "source": [
    "len(dataset)"
   ]
  },
  {
   "cell_type": "code",
   "execution_count": 8,
   "metadata": {},
   "outputs": [
    {
     "data": {
      "text/plain": [
       "200"
      ]
     },
     "execution_count": 8,
     "metadata": {},
     "output_type": "execute_result"
    }
   ],
   "source": [
    "dataset[0][0].size()[1]"
   ]
  },
  {
   "cell_type": "code",
   "execution_count": 15,
   "metadata": {},
   "outputs": [
    {
     "data": {
      "text/plain": [
       "torch.Size([4, 200])"
      ]
     },
     "execution_count": 15,
     "metadata": {},
     "output_type": "execute_result"
    }
   ],
   "source": [
    "dataset[5][0].size()"
   ]
  },
  {
   "cell_type": "code",
   "execution_count": 12,
   "metadata": {},
   "outputs": [],
   "source": [
    "raw_dataset = GoogleDatasetRaw.from_pickle(GoogleDataset.TEST_DATA)"
   ]
  },
  {
   "cell_type": "code",
   "execution_count": 13,
   "metadata": {},
   "outputs": [
    {
     "data": {
      "text/plain": [
       "(('Michael Giacchino composed scores',\n",
       "  'Michael Giacchino He also composed the score for Alias, which was based on the television series of the same name. In 2008 Giacchino wrote music for Turning Point: Fall of Liberty. In 2007, he returned to the Medal of Honor franchise as he composed the music for Medal of Honor: Airborne. Michael Giacchino Michael Giacchino is an American composer of music for films, television and video games. Giacchino composed the scores to the television series Lost, Alias Michael Giacchino\\'s 7 best film scores American film composer Michael Giacchino has scored movies as varied as Mission: Impossible and Inside Out. And Michael Giacchino’s soundtrack fits perfectly – the music recalls classic spy thrillers and superhero movies with sexy brass and toe-tapping percussion. To put it simply Biography » Michael Giacchino Composer Michael Giacchino (pronounced “Juh-key-no”) has credits that feature the first score to be composed Exploring the Variety and Beauty of Michael Giacchino Pixar Scores Composer Michael Giacchino Has Become Pixar\\'s Secret Weapon the release of Incredibles 2, Giacchino has now composed the score for Michael Giacchino  Up (film score)  Michael Giacchino | Wookieepedia | FANDOM powered by Wikia Michael Giacchino (born October 10, 1967) is an Oscar-winning film composer who composed the score for the film Rogue One: A Star Wars Story. He replaced Michael Giacchino | FringeWiki | FANDOM powered by Wikia Michael Giacchino Gender Male Role Score composer Birthplace Riverside, New Jersey, USA Michael Giacchino (pronounced \"jyah-KEE-noh Star Bulletin: Coco: The Top 10 Scores From Michael Giacchino There have been plenty of great animated films composed by Michael Giacchino, but the score to Up is probably the best. Like Lost this is full of Michael Giacchino interview: the art of scoring movies | Den of Geek War For The Planet Of The Apes, Spider-Man: Homecoming, Star Wars and more, as we chat to composer Michael Giacchino... Michael Giacchino scores Ahead of his 50th Birthday celebrations, film score composer Michael Giacchino talks to Aedín Gormley on Movies and Musicals on RTÉ lyric'),\n",
       " 'SUPPORTS')"
      ]
     },
     "execution_count": 13,
     "metadata": {},
     "output_type": "execute_result"
    }
   ],
   "source": [
    "raw_dataset[5]"
   ]
  }
 ],
 "metadata": {
  "kernelspec": {
   "display_name": "Python 3",
   "language": "python",
   "name": "python3"
  },
  "language_info": {
   "codemirror_mode": {
    "name": "ipython",
    "version": 3
   },
   "file_extension": ".py",
   "mimetype": "text/x-python",
   "name": "python",
   "nbconvert_exporter": "python",
   "pygments_lexer": "ipython3",
   "version": "3.7.2"
  }
 },
 "nbformat": 4,
 "nbformat_minor": 2
}
