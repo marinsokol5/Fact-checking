{
 "cells": [
  {
   "cell_type": "code",
   "execution_count": 1,
   "metadata": {},
   "outputs": [],
   "source": [
    "import os\n",
    "os.chdir(\"..\")"
   ]
  },
  {
   "cell_type": "code",
   "execution_count": 2,
   "metadata": {},
   "outputs": [],
   "source": [
    "from util.google_search_util import google_the_claim"
   ]
  },
  {
   "cell_type": "code",
   "execution_count": 3,
   "metadata": {},
   "outputs": [],
   "source": [
    "from selenium import webdriver"
   ]
  },
  {
   "cell_type": "code",
   "execution_count": 4,
   "metadata": {},
   "outputs": [],
   "source": [
    "import requests\n",
    "from bs4 import BeautifulSoup"
   ]
  },
  {
   "cell_type": "code",
   "execution_count": 5,
   "metadata": {},
   "outputs": [],
   "source": [
    "claim = \"Brad Pitt was married to Angelina Jolie\""
   ]
  },
  {
   "cell_type": "code",
   "execution_count": 6,
   "metadata": {},
   "outputs": [],
   "source": [
    "claim = \"Arnold acted in Conan\""
   ]
  },
  {
   "cell_type": "code",
   "execution_count": 14,
   "metadata": {},
   "outputs": [],
   "source": [
    "claim = \"Black Mirror started airing in 2011.\""
   ]
  },
  {
   "cell_type": "code",
   "execution_count": 5,
   "metadata": {},
   "outputs": [],
   "source": [
    "claim = \"The United States has over 300 million people.\""
   ]
  },
  {
   "cell_type": "code",
   "execution_count": 6,
   "metadata": {},
   "outputs": [],
   "source": [
    "google_query = \"+\".join(claim.split(\" \"))\n",
    "page_url = f\"https://www.google.com/search?q={google_query}\""
   ]
  },
  {
   "cell_type": "code",
   "execution_count": 7,
   "metadata": {},
   "outputs": [
    {
     "data": {
      "text/plain": [
       "'https://www.google.com/search?q=The+United+States+has+over+300+million+people.'"
      ]
     },
     "execution_count": 7,
     "metadata": {},
     "output_type": "execute_result"
    }
   ],
   "source": [
    "page_url"
   ]
  },
  {
   "cell_type": "code",
   "execution_count": 17,
   "metadata": {
    "collapsed": true
   },
   "outputs": [
    {
     "ename": "HTTPError",
     "evalue": "429 Client Error: Too Many Requests for url: https://www.google.com/sorry/index?continue=https://www.google.com/search%3Fq%3DBlack%2BMirror%2Bstarted%2Bairing%2Bin%2B2011.&q=EgStLDApGLTcr-cFIhkA8aeDS_ZS5GiKcpotO9EwlMWMzZEDueXMMgFy",
     "output_type": "error",
     "traceback": [
      "\u001b[0;31m--------------------------------------------------------------------------\u001b[0m",
      "\u001b[0;31mHTTPError\u001b[0m                                Traceback (most recent call last)",
      "\u001b[0;32m<ipython-input-17-770564d7dd93>\u001b[0m in \u001b[0;36m<module>\u001b[0;34m()\u001b[0m\n\u001b[1;32m      1\u001b[0m \u001b[0mpage\u001b[0m \u001b[0;34m=\u001b[0m \u001b[0mrequests\u001b[0m\u001b[0;34m.\u001b[0m\u001b[0mget\u001b[0m\u001b[0;34m(\u001b[0m\u001b[0mpage_url\u001b[0m\u001b[0;34m)\u001b[0m\u001b[0;34m\u001b[0m\u001b[0;34m\u001b[0m\u001b[0m\n\u001b[0;32m----> 2\u001b[0;31m \u001b[0mpage\u001b[0m\u001b[0;34m.\u001b[0m\u001b[0mraise_for_status\u001b[0m\u001b[0;34m(\u001b[0m\u001b[0;34m)\u001b[0m\u001b[0;34m\u001b[0m\u001b[0;34m\u001b[0m\u001b[0m\n\u001b[0m\u001b[1;32m      3\u001b[0m \u001b[0msoup\u001b[0m \u001b[0;34m=\u001b[0m \u001b[0mBeautifulSoup\u001b[0m\u001b[0;34m(\u001b[0m\u001b[0mpage\u001b[0m\u001b[0;34m.\u001b[0m\u001b[0mcontent\u001b[0m\u001b[0;34m,\u001b[0m \u001b[0;34m\"html.parser\"\u001b[0m\u001b[0;34m)\u001b[0m\u001b[0;34m\u001b[0m\u001b[0;34m\u001b[0m\u001b[0m\n",
      "\u001b[0;32m~/anaconda3/lib/python3.7/site-packages/requests/models.py\u001b[0m in \u001b[0;36mraise_for_status\u001b[0;34m(self)\u001b[0m\n\u001b[1;32m    937\u001b[0m \u001b[0;34m\u001b[0m\u001b[0m\n\u001b[1;32m    938\u001b[0m         \u001b[0;32mif\u001b[0m \u001b[0mhttp_error_msg\u001b[0m\u001b[0;34m:\u001b[0m\u001b[0;34m\u001b[0m\u001b[0;34m\u001b[0m\u001b[0m\n\u001b[0;32m--> 939\u001b[0;31m             \u001b[0;32mraise\u001b[0m \u001b[0mHTTPError\u001b[0m\u001b[0;34m(\u001b[0m\u001b[0mhttp_error_msg\u001b[0m\u001b[0;34m,\u001b[0m \u001b[0mresponse\u001b[0m\u001b[0;34m=\u001b[0m\u001b[0mself\u001b[0m\u001b[0;34m)\u001b[0m\u001b[0;34m\u001b[0m\u001b[0;34m\u001b[0m\u001b[0m\n\u001b[0m\u001b[1;32m    940\u001b[0m \u001b[0;34m\u001b[0m\u001b[0m\n\u001b[1;32m    941\u001b[0m     \u001b[0;32mdef\u001b[0m \u001b[0mclose\u001b[0m\u001b[0;34m(\u001b[0m\u001b[0mself\u001b[0m\u001b[0;34m)\u001b[0m\u001b[0;34m:\u001b[0m\u001b[0;34m\u001b[0m\u001b[0;34m\u001b[0m\u001b[0m\n",
      "\u001b[0;31mHTTPError\u001b[0m: 429 Client Error: Too Many Requests for url: https://www.google.com/sorry/index?continue=https://www.google.com/search%3Fq%3DBlack%2BMirror%2Bstarted%2Bairing%2Bin%2B2011.&q=EgStLDApGLTcr-cFIhkA8aeDS_ZS5GiKcpotO9EwlMWMzZEDueXMMgFy"
     ]
    }
   ],
   "source": [
    "page = requests.get(page_url)\n",
    "page.raise_for_status()\n",
    "soup = BeautifulSoup(page.content, \"html.parser\")"
   ]
  },
  {
   "cell_type": "code",
   "execution_count": 8,
   "metadata": {},
   "outputs": [],
   "source": [
    "from selenium.webdriver import ChromeOptions"
   ]
  },
  {
   "cell_type": "code",
   "execution_count": 9,
   "metadata": {},
   "outputs": [],
   "source": [
    "options = ChromeOptions()"
   ]
  },
  {
   "cell_type": "code",
   "execution_count": 10,
   "metadata": {},
   "outputs": [],
   "source": [
    "options.add_argument(\"--headless\")"
   ]
  },
  {
   "cell_type": "code",
   "execution_count": 11,
   "metadata": {},
   "outputs": [],
   "source": [
    "browser = webdriver.Chrome(executable_path='./chromedriver', options = options)"
   ]
  },
  {
   "cell_type": "code",
   "execution_count": 20,
   "metadata": {},
   "outputs": [],
   "source": [
    "browser = webdriver.Chrome(executable_path='./chromedriver')"
   ]
  },
  {
   "cell_type": "code",
   "execution_count": 12,
   "metadata": {},
   "outputs": [],
   "source": [
    "browser.get(page_url)\n",
    "soup = BeautifulSoup(browser.page_source, 'html.parser')"
   ]
  },
  {
   "cell_type": "code",
   "execution_count": 13,
   "metadata": {},
   "outputs": [],
   "source": [
    "rcs = soup.find_all(\"div\", class_=\"rc\")"
   ]
  },
  {
   "cell_type": "code",
   "execution_count": 14,
   "metadata": {},
   "outputs": [],
   "source": [
    "titles = [rc.find(\"div\", class_=\"r\").find(\"h3\", class_=\"LC20lb\").text.replace(u'\\xa0', u' ') for rc in rcs]"
   ]
  },
  {
   "cell_type": "code",
   "execution_count": 15,
   "metadata": {},
   "outputs": [
    {
     "data": {
      "text/plain": [
       "['The United States at 300 Million – Population Reference Bureau',\n",
       " 'What Is the Population of the United States? - ThoughtCo',\n",
       " 'United States Population 2019 (Demographics, Maps, Graphs)',\n",
       " 'This Is How Fast the U.S. Population Is Growing | Fortune',\n",
       " \"Does the United States really have 5 percent of the world's ...\",\n",
       " 'U.S. population now 300 million and growing - CNN.com',\n",
       " 'Population Clock - Census Bureau',\n",
       " 'America at 300 Million - Brookings Institution',\n",
       " 'United States - Worldometers',\n",
       " '300 Million and Counting | History | Smithsonian',\n",
       " 'Demography of the United States - Wikipedia',\n",
       " 'Which is higher: The number of people, or the number of guns, in ...',\n",
       " 'US City Populations 2019 - World Population Review']"
      ]
     },
     "execution_count": 15,
     "metadata": {},
     "output_type": "execute_result"
    }
   ],
   "source": [
    "titles"
   ]
  },
  {
   "cell_type": "code",
   "execution_count": 30,
   "metadata": {},
   "outputs": [
    {
     "data": {
      "text/plain": [
       "<div class=\"rc\"><div class=\"r\"><a href=\"https://en.m.wikipedia.org/wiki/The_National_Anthem_(Black_Mirror)\" ping=\"/url?sa=t&amp;source=web&amp;rct=j&amp;url=https://en.m.wikipedia.org/wiki/The_National_Anthem_(Black_Mirror)&amp;ved=2ahUKEwib6o7d8LviAhVO1lkKHcj-C8IQFjAEegQIDxAN\"><h3 class=\"LC20lb\">The National Anthem (Black Mirror) - Wikipedia</h3><br/><div class=\"TbwUpd\"><cite class=\"iUh30\">https://en.m.wikipedia.org/wiki/The_National_Anthem_(Black_Mirror)</cite></div></a></div><div class=\"s\"><div></div></div></div>"
      ]
     },
     "execution_count": 30,
     "metadata": {},
     "output_type": "execute_result"
    }
   ],
   "source": [
    "rcs[1]"
   ]
  },
  {
   "cell_type": "code",
   "execution_count": 17,
   "metadata": {},
   "outputs": [
    {
     "data": {
      "text/plain": [
       "['Sep 1, 2006 - Each 100 million has been added more quickly than the last. It took the United States more than 100 years to reach its first 100 million in 1915.',\n",
       " 'Jan 20, 2019 - The current U.S. population is more than 300 million people as of early 2018 and expected to be near 420 million by the year 2060.',\n",
       " '',\n",
       " '',\n",
       " '',\n",
       " 'Oct 17, 2006 - The United States became a nation of 300 million people Tuesday morning, ... joined China and India with populations greater than 300 million.',\n",
       " 'U.S. Population. The U.S. population clock is based on a series of short-term projections for the resident population of the United States. This includes people\\xa0...',\n",
       " 'Oct 8, 2006 - Today the United States is 50% larger in population and development footprint ... versus about 5% when the country had 200 million people.',\n",
       " 'The current population of the United States of America is 328,862,603 as of ... The population density in the United States is 36 per Km2 (93 people per mi2).',\n",
       " \"The United States' population is growing at the rate of almost 1 percent per year, .... any more comfortable with America's healthier, younger 300 million by now?\",\n",
       " 'The United States is the third most populous country in the world with an estimated population ... It is estimated to have reached the 200 million mark in 1967, and the 300 million mark on October 17, 2006. Population growth is fastest among\\xa0...',\n",
       " '',\n",
       " 'The United States, which is home to a population of over 300 million people, has many large cities with populations in excess of a million. The largest city in the\\xa0...']"
      ]
     },
     "execution_count": 17,
     "metadata": {},
     "output_type": "execute_result"
    }
   ],
   "source": [
    "[rc.find(\"div\", class_=\"s\").find(\"span\", class_=\"st\").text if rc.find(\"div\", class_=\"s\") and rc.find(\"div\", class_=\"s\").find(\"span\", class_=\"st\") else \"\"  for rc in rcs]"
   ]
  },
  {
   "cell_type": "code",
   "execution_count": 24,
   "metadata": {},
   "outputs": [
    {
     "ename": "AttributeError",
     "evalue": "'NoneType' object has no attribute 'text'",
     "output_type": "error",
     "traceback": [
      "\u001b[0;31m--------------------------------------------------------------------------\u001b[0m",
      "\u001b[0;31mAttributeError\u001b[0m                           Traceback (most recent call last)",
      "\u001b[0;32m<ipython-input-24-75d03beebf8f>\u001b[0m in \u001b[0;36m<module>\u001b[0;34m()\u001b[0m\n\u001b[0;32m----> 1\u001b[0;31m \u001b[0msummaries\u001b[0m \u001b[0;34m=\u001b[0m \u001b[0;34m[\u001b[0m\u001b[0mrc\u001b[0m\u001b[0;34m.\u001b[0m\u001b[0mfind\u001b[0m\u001b[0;34m(\u001b[0m\u001b[0;34m\"div\"\u001b[0m\u001b[0;34m,\u001b[0m \u001b[0mclass_\u001b[0m\u001b[0;34m=\u001b[0m\u001b[0;34m\"s\"\u001b[0m\u001b[0;34m)\u001b[0m\u001b[0;34m.\u001b[0m\u001b[0mfind\u001b[0m\u001b[0;34m(\u001b[0m\u001b[0;34m\"span\"\u001b[0m\u001b[0;34m,\u001b[0m \u001b[0mclass_\u001b[0m\u001b[0;34m=\u001b[0m\u001b[0;34m\"st\"\u001b[0m\u001b[0;34m)\u001b[0m\u001b[0;34m.\u001b[0m\u001b[0mtext\u001b[0m\u001b[0;34m.\u001b[0m\u001b[0mreplace\u001b[0m\u001b[0;34m(\u001b[0m\u001b[0;34mu'\\xa0'\u001b[0m\u001b[0;34m,\u001b[0m \u001b[0;34mu' '\u001b[0m\u001b[0;34m)\u001b[0m \u001b[0;32mfor\u001b[0m \u001b[0mrc\u001b[0m \u001b[0;32min\u001b[0m \u001b[0mrcs\u001b[0m\u001b[0;34m]\u001b[0m\u001b[0;34m\u001b[0m\u001b[0;34m\u001b[0m\u001b[0m\n\u001b[0m",
      "\u001b[0;32m<ipython-input-24-75d03beebf8f>\u001b[0m in \u001b[0;36m<listcomp>\u001b[0;34m(.0)\u001b[0m\n\u001b[0;32m----> 1\u001b[0;31m \u001b[0msummaries\u001b[0m \u001b[0;34m=\u001b[0m \u001b[0;34m[\u001b[0m\u001b[0mrc\u001b[0m\u001b[0;34m.\u001b[0m\u001b[0mfind\u001b[0m\u001b[0;34m(\u001b[0m\u001b[0;34m\"div\"\u001b[0m\u001b[0;34m,\u001b[0m \u001b[0mclass_\u001b[0m\u001b[0;34m=\u001b[0m\u001b[0;34m\"s\"\u001b[0m\u001b[0;34m)\u001b[0m\u001b[0;34m.\u001b[0m\u001b[0mfind\u001b[0m\u001b[0;34m(\u001b[0m\u001b[0;34m\"span\"\u001b[0m\u001b[0;34m,\u001b[0m \u001b[0mclass_\u001b[0m\u001b[0;34m=\u001b[0m\u001b[0;34m\"st\"\u001b[0m\u001b[0;34m)\u001b[0m\u001b[0;34m.\u001b[0m\u001b[0mtext\u001b[0m\u001b[0;34m.\u001b[0m\u001b[0mreplace\u001b[0m\u001b[0;34m(\u001b[0m\u001b[0;34mu'\\xa0'\u001b[0m\u001b[0;34m,\u001b[0m \u001b[0;34mu' '\u001b[0m\u001b[0;34m)\u001b[0m \u001b[0;32mfor\u001b[0m \u001b[0mrc\u001b[0m \u001b[0;32min\u001b[0m \u001b[0mrcs\u001b[0m\u001b[0;34m]\u001b[0m\u001b[0;34m\u001b[0m\u001b[0;34m\u001b[0m\u001b[0m\n\u001b[0m",
      "\u001b[0;31mAttributeError\u001b[0m: 'NoneType' object has no attribute 'text'"
     ]
    }
   ],
   "source": [
    "summaries = [rc.find(\"div\", class_=\"s\").find(\"span\", class_=\"st\").text.replace(u'\\xa0', u' ') for rc in rcs]"
   ]
  },
  {
   "cell_type": "code",
   "execution_count": 25,
   "metadata": {},
   "outputs": [
    {
     "data": {
      "text/plain": [
       "['Black Mirror - Wikipedia',\n",
       " 'The National Anthem (Black Mirror) - Wikipedia',\n",
       " \"Black Mirror's nightmarish social media episode is now a board ...\",\n",
       " 'List of Black Mirror episodes - Wikipedia',\n",
       " 'Nosedive (Black Mirror) - Wikipedia',\n",
       " 'Black Mirror (TV Series 2011– ) - IMDb',\n",
       " 'Black Mirror | Netflix Official Site',\n",
       " 'Black Mirror | Black Mirror Wiki | FANDOM powered by Wikia',\n",
       " \"It's official: Netflix is picking up Black Mirror's third season - The Verge\",\n",
       " 'Netflix will be releasing new episodes of Black Mirror on October 21st ...',\n",
       " 'Black Mirror mini-episodes arrive on YouTube starting May 26 ...',\n",
       " 'With “Black Mirror,” Our Dystopia Gets the Television Show It Deserves ...']"
      ]
     },
     "execution_count": 25,
     "metadata": {},
     "output_type": "execute_result"
    }
   ],
   "source": [
    "titles"
   ]
  },
  {
   "cell_type": "code",
   "execution_count": 49,
   "metadata": {},
   "outputs": [],
   "source": [
    "titles_no_page = [t.split(\" - \", 1)[0] for t in titles]"
   ]
  },
  {
   "cell_type": "code",
   "execution_count": 50,
   "metadata": {},
   "outputs": [
    {
     "data": {
      "text/plain": [
       "['Conan the Barbarian (1982 film)',\n",
       " 'Conan the Barbarian (1982)',\n",
       " \"Arnold Schwarzenegger Is Still Trying to Get 'Legend of Conan' Made ...\",\n",
       " \"Arnold Schwarzenegger Still Wants to Do Another 'Conan the ...\",\n",
       " 'Conan (Arnold Schwarzenegger) | Conan Wiki | FANDOM powered by ...',\n",
       " \"'Conan the Barbarian' at 35: Arnold Schwarzenegger's Path to Fame ...\",\n",
       " \"Arnold Schwarzenegger Explains Legend of Conan's Development ...\",\n",
       " 'Arnold Schwarzenegger Still Wants to Make a King Conan Movie']"
      ]
     },
     "execution_count": 50,
     "metadata": {},
     "output_type": "execute_result"
    }
   ],
   "source": [
    "titles_no_page"
   ]
  },
  {
   "cell_type": "code",
   "execution_count": 82,
   "metadata": {},
   "outputs": [],
   "source": [
    "titles_no_page_no_dots = [t[:-4] if t.endswith(\"...\") else t for t in titles_no_page]"
   ]
  },
  {
   "cell_type": "code",
   "execution_count": 83,
   "metadata": {},
   "outputs": [
    {
     "data": {
      "text/plain": [
       "['Conan the Barbarian (1982 film)',\n",
       " 'Conan the Barbarian (1982)',\n",
       " \"Arnold Schwarzenegger Is Still Trying to Get 'Legend of Conan' Made\",\n",
       " \"Arnold Schwarzenegger Still Wants to Do Another 'Conan the\",\n",
       " 'Conan (Arnold Schwarzenegger) | Conan Wiki | FANDOM powered by',\n",
       " \"'Conan the Barbarian' at 35: Arnold Schwarzenegger's Path to Fame\",\n",
       " \"Arnold Schwarzenegger Explains Legend of Conan's Development\",\n",
       " 'Arnold Schwarzenegger Still Wants to Make a King Conan Movie']"
      ]
     },
     "execution_count": 83,
     "metadata": {},
     "output_type": "execute_result"
    }
   ],
   "source": [
    "titles_no_page_no_dots"
   ]
  },
  {
   "cell_type": "code",
   "execution_count": 59,
   "metadata": {},
   "outputs": [
    {
     "data": {
      "text/plain": [
       "['Conan the Barbarian is a 1982 American fantasy adventure film directed and co-written by .... Her sacrifice for Conan and her brief return from death act out the heroic code, illustrating that self-sacrificing heroism brings \"undying fame\". Valeria\\'s ...',\n",
       " 'Directed by John Milius. With Arnold Schwarzenegger, James Earl Jones, Max von Sydow, Sandahl Bergman. A young boy, Conan, becomes a slave after his ...',\n",
       " \"15. velj 2019. - The Conan actor has shown significant interest in reprising his most iconic roles since he returned to acting following his tenure as California's ...\",\n",
       " \"8. ožu 2019. - Following the reboot which starred Jason Momoa, Warner Bros announced ... Arnold Still Wants to Make Another 'Conan the Barbarian' Movie ...\",\n",
       " 'Summer envisioned a series of Conan films, much like the James Bond franchise. ... The character of Conan was played by Arnold Schwarzenegger and was his ...',\n",
       " \"13. svi 2017. - 'Conan the Barbarian' at 35: How Darth Vader Helped Arnold ... Schwarzenegger even served as the Governor of California from 2003 to 2011.\",\n",
       " '8. ožu 2019. - After years of teasing fans about The Legend of Conan, Arnold ... Conan has appeared in a number of TV shows, comics, and games over the ...',\n",
       " \"4. ožu 2019. - Schwarzenegger starred as Conan in 1982's Conan the Barbarian and 1984's Conan the Destroyer, and he's still eager to reprise his role as ...\"]"
      ]
     },
     "execution_count": 59,
     "metadata": {},
     "output_type": "execute_result"
    }
   ],
   "source": [
    "summaries"
   ]
  },
  {
   "cell_type": "code",
   "execution_count": 62,
   "metadata": {},
   "outputs": [],
   "source": [
    "summaries_no_date = [s.split(\" - \", 1)[-1] for s in summaries]"
   ]
  },
  {
   "cell_type": "code",
   "execution_count": 63,
   "metadata": {},
   "outputs": [
    {
     "data": {
      "text/plain": [
       "['Conan the Barbarian is a 1982 American fantasy adventure film directed and co-written by .... Her sacrifice for Conan and her brief return from death act out the heroic code, illustrating that self-sacrificing heroism brings \"undying fame\". Valeria\\'s ...',\n",
       " 'Directed by John Milius. With Arnold Schwarzenegger, James Earl Jones, Max von Sydow, Sandahl Bergman. A young boy, Conan, becomes a slave after his ...',\n",
       " \"The Conan actor has shown significant interest in reprising his most iconic roles since he returned to acting following his tenure as California's ...\",\n",
       " \"Following the reboot which starred Jason Momoa, Warner Bros announced ... Arnold Still Wants to Make Another 'Conan the Barbarian' Movie ...\",\n",
       " 'Summer envisioned a series of Conan films, much like the James Bond franchise. ... The character of Conan was played by Arnold Schwarzenegger and was his ...',\n",
       " \"'Conan the Barbarian' at 35: How Darth Vader Helped Arnold ... Schwarzenegger even served as the Governor of California from 2003 to 2011.\",\n",
       " 'After years of teasing fans about The Legend of Conan, Arnold ... Conan has appeared in a number of TV shows, comics, and games over the ...',\n",
       " \"Schwarzenegger starred as Conan in 1982's Conan the Barbarian and 1984's Conan the Destroyer, and he's still eager to reprise his role as ...\"]"
      ]
     },
     "execution_count": 63,
     "metadata": {},
     "output_type": "execute_result"
    }
   ],
   "source": [
    "summaries_no_date"
   ]
  },
  {
   "cell_type": "code",
   "execution_count": 79,
   "metadata": {},
   "outputs": [],
   "source": [
    "summaries_no_date_no_dots = [s.replace(\" ... \", \", \").replace(\" ...\", \"\") for s in summaries_no_date]"
   ]
  },
  {
   "cell_type": "code",
   "execution_count": 80,
   "metadata": {},
   "outputs": [
    {
     "data": {
      "text/plain": [
       "['Conan the Barbarian is a 1982 American fantasy adventure film directed and co-written by. Her sacrifice for Conan and her brief return from death act out the heroic code, illustrating that self-sacrificing heroism brings \"undying fame\". Valeria\\'s',\n",
       " 'Directed by John Milius. With Arnold Schwarzenegger, James Earl Jones, Max von Sydow, Sandahl Bergman. A young boy, Conan, becomes a slave after his',\n",
       " \"The Conan actor has shown significant interest in reprising his most iconic roles since he returned to acting following his tenure as California's\",\n",
       " \"Following the reboot which starred Jason Momoa, Warner Bros announced, Arnold Still Wants to Make Another 'Conan the Barbarian' Movie\",\n",
       " 'Summer envisioned a series of Conan films, much like the James Bond franchise., The character of Conan was played by Arnold Schwarzenegger and was his',\n",
       " \"'Conan the Barbarian' at 35: How Darth Vader Helped Arnold, Schwarzenegger even served as the Governor of California from 2003 to 2011.\",\n",
       " 'After years of teasing fans about The Legend of Conan, Arnold, Conan has appeared in a number of TV shows, comics, and games over the',\n",
       " \"Schwarzenegger starred as Conan in 1982's Conan the Barbarian and 1984's Conan the Destroyer, and he's still eager to reprise his role as\"]"
      ]
     },
     "execution_count": 80,
     "metadata": {},
     "output_type": "execute_result"
    }
   ],
   "source": [
    "summaries_no_date_no_dots"
   ]
  },
  {
   "cell_type": "code",
   "execution_count": 89,
   "metadata": {},
   "outputs": [],
   "source": [
    "result = [f\"{t} {s}\"  for t, s in zip(titles_no_page_no_dots, summaries_no_date_no_dots)]"
   ]
  },
  {
   "cell_type": "code",
   "execution_count": 94,
   "metadata": {},
   "outputs": [],
   "source": [
    "final_result = \" \".join(result)"
   ]
  },
  {
   "cell_type": "code",
   "execution_count": null,
   "metadata": {},
   "outputs": [],
   "source": []
  },
  {
   "cell_type": "code",
   "execution_count": null,
   "metadata": {},
   "outputs": [],
   "source": []
  },
  {
   "cell_type": "code",
   "execution_count": 2,
   "metadata": {},
   "outputs": [],
   "source": [
    "from util.google_search_util import google_the_claim_text_results"
   ]
  },
  {
   "cell_type": "code",
   "execution_count": 4,
   "metadata": {},
   "outputs": [
    {
     "data": {
      "text/plain": [
       "\"Biotechnology Ružičić, Stanko; Mileusnić, Marta; Posavec, Kristijan; Nakić, Zoran; Durn,, Beer-Ljubić, Blanka; Matijatko, Vesna; Palić, Dušan; Klobučar, Goran; Babić,... Non-dioxin-like PCBs in ten different fish species from the Danube river in Serbia.... Production characteristics and health status of calves fed diff erent amounts of njuz | najawa | koncert || ... || kontakt | search Eat shit.... Zagreb · [najawa] Trenchtown festival @ Etno kamp Palić (SR), 30.04. Possible cause of unnatural mass death of wild birds in a pond in Aage Kristian Olsen Alstrup.. selective alimentation eliminating living Microcystis in pseudo-feces to avoid microcystin producers (Vanderploeg et al., 2001). Colorz » Where is your De Coubertin now? palić. Palacze w tym samym stopniu decydują, iż chcą stanowić nałogowcami, w jakim opój decyduje się, że chce utrzymywać się.. 64 • Kristian • 5 novembre 2013 alle 15:20. Do You... Hmm it appears like your blog ate my first comment (it was super... Because I do, but that doesn't negate all the shit. Genetic and dietary effects on chicken heterophil function and immune significantly increased for Leghorns fed the corticosterone diet but not in birds.. Like degranulation, the initiation and strength of oxidative burst.. Buchanan, J.T., A.J. Simpson, R.K. Aziz, G.Y. Liu, S.A. Kristian, M. Kotb, J. Feramisco,, Chuammitri, P., J. Ostojić; C.B. Andreasen, S.B. Redmond, S.J. Lamont, and D. Palić. An Alternative View on the Destruction of the Former Yugoslavia in the 103 Др Кристијан Костамања EastJournal.net – Торино (Италија)... The disappearance and 'martyrdom' of the Franciscan priest Luigi Palić drew a lot of... like the USA and the Soviet Union, the right-wing émigré groups scat- tered Nina Pančić | Facebook Kristijan D. Larson, It begins blank, and every day is like another brush stroke., You are not obligated to sit there and smile and swallow every bit of shit everyone heaps on you., It could mean not eating for three or four days., du Monde, Ljiljana Jagodic psiholog lifecoach, Caffe Plaža Bar Palic, Jay Shetty, Thalia café, festivalske novine 23rd EUROPEAN FILM FESTIVAL, PALIĆ 2016. 19.07.2016. No4, What kind of films do You like to watch? Ones that bring... lity where hens eating shit is a one-sided image.. ili Hansa Kristijana Andersena, koje bi da su UN SALUDO ESPECIAL VACACIONES DEL JEFE | Croata Noticias I love Slaven's beard, hope he keeps always now. Ante, I advise you to grow out facial hair, it's awesome!! Anyway I will wait till Christmas to aarhus university denmark: Topics by Science.gov Holm-Nielsen, Lauritz B.; Thorn, Kristian; Olesen, Jeppe Dorup; Huey, Tina.. Like the other countries in the Nordic region, Denmark has a long tradition of... to scavenging wildlife, and humans who might eat lead-contaminated wild... and sieving failed to detect eggs of Spirocerca sp. in feces collected from the colon.\""
      ]
     },
     "execution_count": 4,
     "metadata": {},
     "output_type": "execute_result"
    }
   ],
   "source": [
    "google_the_claim_text_results(\"Kristijan Palic likes to eat shit.\")"
   ]
  },
  {
   "cell_type": "code",
   "execution_count": null,
   "metadata": {},
   "outputs": [],
   "source": []
  },
  {
   "cell_type": "code",
   "execution_count": null,
   "metadata": {},
   "outputs": [],
   "source": []
  },
  {
   "cell_type": "code",
   "execution_count": null,
   "metadata": {},
   "outputs": [],
   "source": [
    "\"BNeawe vvjwJb AP7Wnd\""
   ]
  },
  {
   "cell_type": "code",
   "execution_count": 16,
   "metadata": {},
   "outputs": [
    {
     "data": {
      "text/plain": [
       "[]"
      ]
     },
     "execution_count": 16,
     "metadata": {},
     "output_type": "execute_result"
    }
   ],
   "source": [
    "[t for t in soup.find_all(\"div\", class_=\"BNeawe vvjwJb AP7Wnd\")]"
   ]
  },
  {
   "cell_type": "code",
   "execution_count": 12,
   "metadata": {},
   "outputs": [
    {
     "data": {
      "text/plain": [
       "['Conan Cimmerijanac jest izmišljeni lik koji se često dovodi u vezu sa podžanrom low fantasy, odnosno mač i čarobnjaštvo, koji je također poznat pod nazivom herojska fantastika. Smatra se najpoznatijim fiktivnim barbarom i uopće jednom od... Wikipedia',\n",
       " ' Conan the Barbarian 1982 A barbarian warrior sets off to avenge his parents and his tribe ...Trajanje: 3:21\\nObjavljeno: 7. lip 2017.',\n",
       " ' Production · Music · Reception\\n\\nMusic by: Basil Poledouris\\nBudget: $16 million\\nProduced by: Buzz Feitshans; Raffaella De Laurentiis\\nRelease date: March 16, 1982 (Spain); May 14, 1982 (North America)',\n",
       " 'Ocjena  6,9/10  (128.002) Directed by John Milius. With Arnold Schwarzenegger, James Earl Jones, Max von Sydow, Sandahl Bergman. A young boy, Conan, becomes a slave after his ...',\n",
       " 'Ocjena  6,9/10  (128.002) ',\n",
       " \" The Conan actor has shown significant interest in reprising his most iconic roles since he returned to acting following his tenure as California's ...\",\n",
       " \" Following the reboot which starred Jason Momoa, Warner Bros announced ... Arnold Still Wants to Make Another 'Conan the Barbarian' Movie ...\",\n",
       " \" 'Conan the Barbarian' at 35: How Darth Vader Helped Arnold ... Schwarzenegger even served as the Governor of California from 2003 to 2011.\",\n",
       " 'Summer envisioned a series of Conan films, much like the James Bond franchise . ... The character of Conan was played by Arnold Schwarzenegger and was his ...',\n",
       " ' After years of teasing fans about The Legend of Conan, Arnold ... Conan has appeared in a number of TV shows, comics, and games over the ...',\n",
       " \" Schwarzenegger starred as Conan in 1982's Conan the Barbarian and 1984's Conan the Destroyer, and he's still eager to reprise his role as ...\"]"
      ]
     },
     "execution_count": 12,
     "metadata": {},
     "output_type": "execute_result"
    }
   ],
   "source": [
    "[t.text.split(\"·\", 1)[-1].replace(u'\\xa0', u' ') for t in soup.find_all(\"div\", class_=\"BNeawe s3v9rd AP7Wnd\") if t.div]"
   ]
  },
  {
   "cell_type": "code",
   "execution_count": null,
   "metadata": {},
   "outputs": [],
   "source": []
  },
  {
   "cell_type": "code",
   "execution_count": null,
   "metadata": {},
   "outputs": [],
   "source": []
  },
  {
   "cell_type": "code",
   "execution_count": 21,
   "metadata": {},
   "outputs": [
    {
     "name": "stdout",
     "output_type": "stream",
     "text": [
      "https://search.yahoo.com/search?p=Shes+the+boss&b=0\n",
      "Found url: https://en.wikipedia.org/wiki/She%27s_the_Boss\n",
      "Found url: https://video.search.yahoo.com/search/video?p=Shes+the+boss\n",
      "Found url: https://www.youtube.com/watch?v=Fa2fGMsBOr0\n",
      "Found url: https://www.rollingstone.com/music/music-album-reviews/shes-the-boss-94031/#!\n",
      "Found url: https://images.search.yahoo.com/search/images?p=Shes+the+boss\n",
      "Found url: https://shes-the-boss.net/\n",
      "Found url: https://www.imdb.com/title/tt6381432/\n",
      "Found url: https://www.amazon.com/Shes-Boss-MICK-JAGGER/dp/B000002IXG\n",
      "Found url: https://www.wattpad.com/424559669-she%27s-the-boss-5\n",
      "Found url: https://www.wattpad.com/423479455-she%27s-the-boss-2\n",
      "Found url: https://www.allmusic.com/album/shes-the-boss-mw0000190458\n",
      "Found url: https://www.cbs.com/shows/frasier/video/t59emfV7rPi1G47_S3W0HXt0uQLp7neX/frasier-she-s-the-boss/\n"
     ]
    },
    {
     "data": {
      "text/plain": [
       "[\"She's_the_Boss\"]"
      ]
     },
     "execution_count": 21,
     "metadata": {},
     "output_type": "execute_result"
    }
   ],
   "source": [
    "google_the_claim(\"Shes the boss\", verbose=True, starting_from_page=0, search_engine=\"yahoo\")"
   ]
  },
  {
   "cell_type": "code",
   "execution_count": 3,
   "metadata": {},
   "outputs": [
    {
     "name": "stdout",
     "output_type": "stream",
     "text": [
      "https://www.google.com/search?q=Shes+the+boss&start=0\n",
      "Found url: https://en.wikipedia.org/wiki/She%2527s_the_Boss\n",
      "Found url: https://www.youtube.com/watch%3Fv%3DFa2fGMsBOr0\n",
      "Found url: https://www.youtube.com/watch%3Fv%3DfrQLxn0uOD8\n",
      "Found url: https://www.discogs.com/Mick-Jagger-Shes-The-Boss/master/97173\n",
      "Found url: https://www.rollingstone.com/music/music-album-reviews/shes-the-boss-94031/\n",
      "Found url: https://www.azlyrics.com/lyrics/mickjagger/shestheboss.html\n",
      "Found url: https://www.amazon.com/Shes-Boss-MICK-JAGGER/dp/B000002IXG\n",
      "Found url: https://www.allmusic.com/album/shes-the-boss-mw0000190458\n",
      "Found url: https://genius.com/Mick-jagger-shes-the-boss-lyrics\n",
      "Found url: https://open.spotify.com/album/4AXZg2u76JOqk2gV1iKH3x\n"
     ]
    },
    {
     "data": {
      "text/plain": [
       "[\"She's_the_Boss\"]"
      ]
     },
     "execution_count": 3,
     "metadata": {},
     "output_type": "execute_result"
    }
   ],
   "source": [
    "google_the_claim(\"Shes the boss\", verbose=True, starting_from_page=0)"
   ]
  },
  {
   "cell_type": "code",
   "execution_count": 4,
   "metadata": {},
   "outputs": [
    {
     "name": "stdout",
     "output_type": "stream",
     "text": [
      "https://www.google.com/search?q=Shes+the+boss&start=10\n",
      "Found url: https://www.karmavinil.com/jagger-mick-shes-the-boss-49401/\n",
      "Found url: https://www.eventbrite.com/e/shes-the-bosstm-events-march-presents-show-me-the-money-tickets-57041608988\n",
      "Found url: https://lmarienaillacquer.com/products/sample-product/shes-the-boss/\n",
      "Found url: https://www.nytimes.com/1985/01/28/arts/jagger-finishes-first-solo-album-she-s-the-boss.html\n",
      "Found url: https://pantherecords.com/index.php/product/mick-jagger-shes-the-boss-sealed/\n",
      "Found url: https://www.imdb.com/title/tt1485781/\n"
     ]
    },
    {
     "data": {
      "text/plain": [
       "[]"
      ]
     },
     "execution_count": 4,
     "metadata": {},
     "output_type": "execute_result"
    }
   ],
   "source": [
    "google_the_claim(\"Shes the boss\", verbose=True, starting_from_page=1)"
   ]
  },
  {
   "cell_type": "code",
   "execution_count": 5,
   "metadata": {},
   "outputs": [
    {
     "name": "stdout",
     "output_type": "stream",
     "text": [
      "https://www.google.com/search?q=Shes+the+boss&start=20\n",
      "Found url: https://www.amazon.co.uk/Shes-Boss-Mick-Jagger/dp/B000002IXG\n",
      "Found url: https://www.facebook.com/pages/category/House-Painting/Shes-the-Boss-Painting-777138135724315/\n",
      "Found url: https://www.quicket.co.za/events/67368-shes-the-boss/\n",
      "Found url: https://www.goodreads.com/book/show/16198045-she-s-the-boss\n",
      "Found url: https://www.stitcher.com/podcast/shes-the-boss-podcast/shes-a-boss-podcast\n",
      "Found url: https://www.nytimes.com/1985/01/28/arts/jagger-finishes-first-solo-album-she-s-the-boss.html\n",
      "Found url: https://www.racingpost.com/profile/horse/864554/shes-the-boss\n",
      "Found url: https://quickbooks.intuit.com/blog/thought-leadership/shes-the-boss-mistakes-learned-from-working-with-my-husband/\n",
      "Found url: https://yamileburich.bandcamp.com/album/shes-the-boss-2\n",
      "Found url: https://lareviewofbooks.org/article/shes-the-boss/\n"
     ]
    },
    {
     "data": {
      "text/plain": [
       "[]"
      ]
     },
     "execution_count": 5,
     "metadata": {},
     "output_type": "execute_result"
    }
   ],
   "source": [
    "google_the_claim(\"Shes the boss\", verbose=True, starting_from_page=2)"
   ]
  },
  {
   "cell_type": "code",
   "execution_count": 6,
   "metadata": {},
   "outputs": [
    {
     "name": "stdout",
     "output_type": "stream",
     "text": [
      "https://www.google.com/search?q=Shes+the+boss&start=0\n",
      "Found url: https://en.wikipedia.org/wiki/She%2527s_the_Boss\n",
      "Found url: https://www.youtube.com/watch%3Fv%3DFa2fGMsBOr0\n",
      "Found url: https://www.youtube.com/watch%3Fv%3DfrQLxn0uOD8\n",
      "Found url: https://www.youtube.com/watch%3Fv%3DKqoXN0cLRs0\n",
      "Found url: https://www.discogs.com/Mick-Jagger-Shes-The-Boss/master/97173\n",
      "Found url: https://www.discogs.com/Mick-Jagger-Shes-The-Boss/release/765807\n",
      "Found url: https://www.rollingstone.com/music/music-album-reviews/shes-the-boss-94031/\n",
      "Found url: https://www.azlyrics.com/lyrics/mickjagger/shestheboss.html\n",
      "Found url: https://www.amazon.com/Shes-Boss-MICK-JAGGER/dp/B000002IXG\n",
      "Found url: https://www.allmusic.com/album/shes-the-boss-mw0000190458\n",
      "https://www.google.com/search?q=Shes+the+boss&start=10\n",
      "Found url: https://genius.com/Mick-jagger-shes-the-boss-lyrics\n",
      "Found url: https://www.imdb.com/title/tt6381432/\n",
      "Found url: https://open.spotify.com/album/4AXZg2u76JOqk2gV1iKH3x\n",
      "Found url: https://www.legit.ng/1235696-regina-daniels-shows-a-private-jet-s-a-boss-making.html\n",
      "Found url: https://lmarienaillacquer.com/products/sample-product/shes-the-boss/\n",
      "Found url: https://www.eventbrite.com/e/shes-the-bosstm-events-january-presents-career-mentoring-tickets-55423905393\n",
      "https://www.google.com/search?q=Shes+the+boss&start=20\n",
      "Found url: https://www.amazon.co.uk/Shes-Boss-Mick-Jagger/dp/B000002IXG\n",
      "Found url: https://www.facebook.com/pages/category/House-Painting/Shes-the-Boss-Painting-777138135724315/\n",
      "Found url: https://www.quicket.co.za/events/67368-shes-the-boss/\n",
      "Found url: https://www.goodreads.com/book/show/16198045-she-s-the-boss\n",
      "Found url: https://www.stitcher.com/podcast/shes-the-boss-podcast/shes-a-boss-podcast\n",
      "Found url: https://www.nytimes.com/1985/01/28/arts/jagger-finishes-first-solo-album-she-s-the-boss.html\n",
      "Found url: https://www.racingpost.com/profile/horse/864554/shes-the-boss\n",
      "Found url: https://quickbooks.intuit.com/blog/thought-leadership/shes-the-boss-mistakes-learned-from-working-with-my-husband/\n",
      "Found url: https://yamileburich.bandcamp.com/album/shes-the-boss-2\n",
      "Found url: https://lareviewofbooks.org/article/shes-the-boss/\n"
     ]
    },
    {
     "data": {
      "text/plain": [
       "[\"She's_the_Boss\"]"
      ]
     },
     "execution_count": 6,
     "metadata": {},
     "output_type": "execute_result"
    }
   ],
   "source": [
    "google_the_claim(\"Shes the boss\", verbose=True, pages_to_check=3)"
   ]
  },
  {
   "cell_type": "code",
   "execution_count": null,
   "metadata": {},
   "outputs": [],
   "source": []
  },
  {
   "cell_type": "code",
   "execution_count": 5,
   "metadata": {},
   "outputs": [
    {
     "data": {
      "text/plain": [
       "['Conan_the_Barbarian_(1982_film)',\n",
       " 'Arnold_Schwarzenegger_filmography',\n",
       " 'Conan_the_Barbarian_(2011_film)',\n",
       " 'Sven-Ole_Thorsen',\n",
       " 'Conan_the_Destroyer',\n",
       " 'Arnold_Schwarzenegger',\n",
       " 'Conan_the_Barbarian',\n",
       " 'Conan_the_Adventurer_(1997_TV_series)',\n",
       " 'Sandahl_Bergman']"
      ]
     },
     "execution_count": 5,
     "metadata": {},
     "output_type": "execute_result"
    }
   ],
   "source": [
    "google_the_claim(\"Arnold acted in Conan\", limit_to_wiki=True)"
   ]
  },
  {
   "cell_type": "code",
   "execution_count": 4,
   "metadata": {},
   "outputs": [
    {
     "data": {
      "text/plain": [
       "['Conan_the_Barbarian_(1982_film)',\n",
       " 'Arnold_Schwarzenegger_filmography',\n",
       " 'Conan_the_Barbarian_(2011_film)',\n",
       " 'Red_Sonja_(1985_film)',\n",
       " 'Sherlock_(TV_series)',\n",
       " 'Grace_Jones',\n",
       " 'The_Terminator',\n",
       " 'Talk:Conan_the_Barbarian_(1982_film)',\n",
       " 'Twins_(1988_film)',\n",
       " 'List_of_comedians']"
      ]
     },
     "execution_count": 4,
     "metadata": {},
     "output_type": "execute_result"
    }
   ],
   "source": [
    "google_the_claim(\"Arnold acted in Conan\", limit_to_wiki=True, search_engine=\"yahoo\")"
   ]
  },
  {
   "cell_type": "code",
   "execution_count": 5,
   "metadata": {},
   "outputs": [
    {
     "data": {
      "text/plain": [
       "['Super_Bowl_VI', 'Louis_Armstrong']"
      ]
     },
     "execution_count": 5,
     "metadata": {},
     "output_type": "execute_result"
    }
   ],
   "source": [
    "google_the_claim(\"Luis Armstrong won the superbowl.\")"
   ]
  },
  {
   "cell_type": "code",
   "execution_count": 7,
   "metadata": {},
   "outputs": [
    {
     "name": "stdout",
     "output_type": "stream",
     "text": [
      "https://search.yahoo.com/search?p=Luis+Armstrong+won+the+superbowl.&start=0\n",
      "Found url: https://www.youtube.com/watch?v=wyLjbMBpGDA\n",
      "Found url: https://www.cbsnews.com/news/super-bowl-ad-winners-and-losers/\n",
      "Found url: https://www.si.com/nfl/2018/01/21/what-teams-have-never-won-super-bowl\n",
      "Found url: https://www.aol.com/article/news/2018/01/30/13-nfl-teams-that-have-never-won-a-super-bowl/23347992/\n",
      "Found url: https://www.sbnation.com/2018/2/5/16974748/how-many-nfl-teams-without-super-bowl-win\n",
      "Found url: https://www.forbes.com/sites/robsalkowitz/2017/02/05/whos-winning-commercial-bowl-keep-score-here-during-the-big-game/\n",
      "Found url: https://www.cbssports.com/nfl/news/after-eagles-win-these-are-the-only-12-teams-to-have-never-won-a-super-bowl/\n",
      "Found url: https://www.cbsnews.com/news/philadelphia-eagles-win-super-bowl-lii-nick-foles-mvp-2018/\n",
      "Found url: https://www.aol.com/article/sports/2017/02/03/the-13-nfl-teams-that-have-never-won-a-super-bowl/21706689/\n",
      "Found url: https://www.cbssports.com/nfl/news/super-bowl-2018-players-who-have-won-the-most-championships-in-their-sports/\n"
     ]
    },
    {
     "data": {
      "text/plain": [
       "[]"
      ]
     },
     "execution_count": 7,
     "metadata": {},
     "output_type": "execute_result"
    }
   ],
   "source": [
    "google_the_claim(\"Luis Armstrong won the superbowl.\", search_engine=\"yahoo\", verbose=True)"
   ]
  },
  {
   "cell_type": "code",
   "execution_count": null,
   "metadata": {},
   "outputs": [],
   "source": []
  },
  {
   "cell_type": "code",
   "execution_count": 5,
   "metadata": {},
   "outputs": [
    {
     "name": "stdout",
     "output_type": "stream",
     "text": [
      "https://search.yahoo.com/search?p=Luis+Armstrong+won+the+superbowl.+site%3Aen.wikipedia.org&b=11\n",
      "Found url: https://en.wikipedia.org/wiki/Marcus_Allen\n",
      "Found url: https://en.wikipedia.org/wiki/Desmond_Howard\n",
      "Found url: https://en.wikipedia.org/wiki/List_of_The_Ring_world_champions\n",
      "Found url: https://en.wikipedia.org/wiki/Carson_Wentz\n",
      "Found url: https://en.wikipedia.org/wiki/William_Perry_(American_football)\n",
      "Found url: https://en.wikipedia.org/wiki/Eddie_George\n",
      "Found url: https://en.wikipedia.org/wiki/List_of_Olympic_medalists_in_athletics_(men)\n",
      "Found url: https://en.wikipedia.org/wiki/Colorado_Rapids\n",
      "Found url: https://en.wikipedia.org/wiki/Reggie_White\n",
      "Found url: https://en.wikipedia.org/wiki/List_of_current_NFC_team_rosters\n"
     ]
    },
    {
     "data": {
      "text/plain": [
       "['Marcus_Allen',\n",
       " 'Desmond_Howard',\n",
       " 'List_of_The_Ring_world_champions',\n",
       " 'Carson_Wentz',\n",
       " 'William_Perry_(American_football)',\n",
       " 'Eddie_George',\n",
       " 'List_of_Olympic_medalists_in_athletics_(men)',\n",
       " 'Colorado_Rapids',\n",
       " 'Reggie_White',\n",
       " 'List_of_current_NFC_team_rosters']"
      ]
     },
     "execution_count": 5,
     "metadata": {},
     "output_type": "execute_result"
    }
   ],
   "source": [
    "google_the_claim(\"Luis Armstrong won the superbowl.\", search_engine=\"yahoo\", limit_to_wiki=True, starting_from_page=1, verbose=True)"
   ]
  },
  {
   "cell_type": "code",
   "execution_count": 6,
   "metadata": {},
   "outputs": [
    {
     "data": {
      "text/plain": [
       "['Super_Bowl_VI',\n",
       " 'Louis_Armstrong',\n",
       " 'Tom_Brady',\n",
       " '2011_New_York_Giants_season',\n",
       " 'Super_Bowl_XXXVII',\n",
       " 'Joe_Montana',\n",
       " 'Drew_Brees',\n",
       " 'Deion_Sanders',\n",
       " 'Miami_Dolphins']"
      ]
     },
     "execution_count": 6,
     "metadata": {},
     "output_type": "execute_result"
    }
   ],
   "source": [
    "google_the_claim(\"Luis Armstrong won the superbowl.\", limit_to_wiki=True)"
   ]
  },
  {
   "cell_type": "code",
   "execution_count": 7,
   "metadata": {},
   "outputs": [
    {
     "data": {
      "text/plain": [
       "['Lionel_Messi']"
      ]
     },
     "execution_count": 7,
     "metadata": {},
     "output_type": "execute_result"
    }
   ],
   "source": [
    "google_the_claim(\"Leo messi won an oscar\")"
   ]
  },
  {
   "cell_type": "code",
   "execution_count": 8,
   "metadata": {},
   "outputs": [
    {
     "name": "stdout",
     "output_type": "stream",
     "text": [
      "Found url: https://en.wikipedia.org/wiki/List_of_Japanese_submissions_for_the_Academy_Award_for_Best_Foreign_Language_Film\n",
      "Found url: https://en.wikipedia.org/wiki/C%25C3%25A9sar_Award_for_Best_Actress\n",
      "Found url: https://en.wikipedia.org/wiki/Roman_Polanski\n",
      "Found url: https://www.imdb.com/title/tt0338751/\n",
      "Found url: https://www.imdb.com/name/nm1046789/\n",
      "Found url: https://www.imdb.com/title/tt0295545/\n",
      "Found url: https://www.nature.com/srep/about/editorial-board\n",
      "Found url: https://www.realert.com/article_list.pl\n",
      "Found url: https://bayareacabaret.org/pr_past.html\n"
     ]
    },
    {
     "data": {
      "text/plain": [
       "['List_of_Japanese_submissions_for_the_Academy_Award_for_Best_Foreign_Language_Film',\n",
       " 'César_Award_for_Best_Actress',\n",
       " 'Roman_Polanski']"
      ]
     },
     "execution_count": 8,
     "metadata": {},
     "output_type": "execute_result"
    }
   ],
   "source": [
    "google_the_claim(\"Marin Sokol won an oscar\", verbose=True)"
   ]
  },
  {
   "cell_type": "code",
   "execution_count": 9,
   "metadata": {},
   "outputs": [
    {
     "data": {
      "text/plain": [
       "['Roman_Polanski',\n",
       " '1972_NBA_All-Star_Game',\n",
       " 'List_of_Olympic_medalists_in_volleyball',\n",
       " 'Italian_training_ship_Corsaro_II',\n",
       " 'USS_Slater',\n",
       " 'HMS_Cavalier_(R73)',\n",
       " 'List_of_Juilliard_School_people',\n",
       " 'Elena_Risteska',\n",
       " 'USS_McAnn']"
      ]
     },
     "execution_count": 9,
     "metadata": {},
     "output_type": "execute_result"
    }
   ],
   "source": [
    "google_the_claim(\"Marin Sokol won an oscar\", limit_to_wiki=True)"
   ]
  },
  {
   "cell_type": "code",
   "execution_count": 10,
   "metadata": {},
   "outputs": [
    {
     "data": {
      "text/plain": [
       "['Liberté,_égalité,_fraternité']"
      ]
     },
     "execution_count": 10,
     "metadata": {},
     "output_type": "execute_result"
    }
   ],
   "source": [
    "google_the_claim(\"Égalité\")"
   ]
  },
  {
   "cell_type": "code",
   "execution_count": 11,
   "metadata": {},
   "outputs": [
    {
     "data": {
      "text/plain": [
       "['Über']"
      ]
     },
     "execution_count": 11,
     "metadata": {},
     "output_type": "execute_result"
    }
   ],
   "source": [
    "google_the_claim(\"Über\")"
   ]
  },
  {
   "cell_type": "code",
   "execution_count": 12,
   "metadata": {},
   "outputs": [
    {
     "data": {
      "text/plain": [
       "['Rosendals_Trädgård']"
      ]
     },
     "execution_count": 12,
     "metadata": {},
     "output_type": "execute_result"
    }
   ],
   "source": [
    "google_the_claim(\"Rosendals Trädgård was great\")"
   ]
  },
  {
   "cell_type": "code",
   "execution_count": 13,
   "metadata": {},
   "outputs": [
    {
     "data": {
      "text/plain": [
       "['Marin_Držić', 'Marin_Držić']"
      ]
     },
     "execution_count": 13,
     "metadata": {},
     "output_type": "execute_result"
    }
   ],
   "source": [
    "google_the_claim(\"Marin držić\")"
   ]
  },
  {
   "cell_type": "code",
   "execution_count": 14,
   "metadata": {},
   "outputs": [
    {
     "data": {
      "text/plain": [
       "['Game_of_Thrones']"
      ]
     },
     "execution_count": 14,
     "metadata": {},
     "output_type": "execute_result"
    }
   ],
   "source": [
    "google_the_claim(\"game of thrones\")"
   ]
  },
  {
   "cell_type": "code",
   "execution_count": 15,
   "metadata": {},
   "outputs": [
    {
     "data": {
      "text/plain": [
       "['Game_of_Thrones']"
      ]
     },
     "execution_count": 15,
     "metadata": {},
     "output_type": "execute_result"
    }
   ],
   "source": [
    "google_the_claim(\"igra prijestolja\")"
   ]
  },
  {
   "cell_type": "code",
   "execution_count": null,
   "metadata": {},
   "outputs": [],
   "source": []
  }
 ],
 "metadata": {
  "kernelspec": {
   "display_name": "Python 3",
   "language": "python",
   "name": "python3"
  },
  "language_info": {
   "codemirror_mode": {
    "name": "ipython",
    "version": 3
   },
   "file_extension": ".py",
   "mimetype": "text/x-python",
   "name": "python",
   "nbconvert_exporter": "python",
   "pygments_lexer": "ipython3",
   "version": "3.7.2"
  }
 },
 "nbformat": 4,
 "nbformat_minor": 2
}
