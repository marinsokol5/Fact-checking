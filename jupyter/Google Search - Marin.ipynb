{
 "cells": [
  {
   "cell_type": "code",
   "execution_count": 1,
   "metadata": {},
   "outputs": [],
   "source": [
    "import os\n",
    "os.chdir(\"..\")"
   ]
  },
  {
   "cell_type": "code",
   "execution_count": 2,
   "metadata": {},
   "outputs": [],
   "source": [
    "from bs4 import BeautifulSoup\n",
    "import requests\n",
    "import re\n",
    "import codecs\n",
    "from util.google_search_util import google_the_claim"
   ]
  },
  {
   "cell_type": "code",
   "execution_count": 3,
   "metadata": {},
   "outputs": [],
   "source": [
    "claim = \"Arnold acted in Conan\""
   ]
  },
  {
   "cell_type": "code",
   "execution_count": 4,
   "metadata": {},
   "outputs": [],
   "source": [
    "pages_to_check = 10"
   ]
  },
  {
   "cell_type": "code",
   "execution_count": 5,
   "metadata": {},
   "outputs": [],
   "source": [
    "google_query = \"+\".join(claim.split(\" \"))"
   ]
  },
  {
   "cell_type": "code",
   "execution_count": 6,
   "metadata": {},
   "outputs": [
    {
     "data": {
      "text/plain": [
       "'Arnold+acted+in+Conan'"
      ]
     },
     "execution_count": 6,
     "metadata": {},
     "output_type": "execute_result"
    }
   ],
   "source": [
    "google_query"
   ]
  },
  {
   "cell_type": "code",
   "execution_count": 22,
   "metadata": {},
   "outputs": [],
   "source": [
    "pages_to_check=1"
   ]
  },
  {
   "cell_type": "code",
   "execution_count": 51,
   "metadata": {},
   "outputs": [
    {
     "name": "stdout",
     "output_type": "stream",
     "text": [
      "https://hr.wikipedia.org/wiki/Marin_Dr%25C5%25BEi%25C4%2587\n",
      "https://en.wikipedia.org/wiki/Marin_Dr%C5%BEi%C4%87\n",
      "https://bs.wikipedia.org/wiki/Marin_Dr%25C5%25BEi%25C4%2587\n",
      "https://www.lektire.hr/autor/marin-drzic/\n",
      "https://nova-akropola.com/lijepe-umjetnosti/knjizevnost/marin-drzic/\n",
      "https://leksikon.muzej-marindrzic.eu/zivotopis/\n",
      "https://www.dubrovniksungardens.com/marin-drzic-buntovnik-s-razlogom\n",
      "https://povijest.hr/nadanasnjidan/zasto-je-marin-drzic-pokopan-u-veneciji-1567/\n"
     ]
    }
   ],
   "source": [
    "wikipedia_titles = set()\n",
    "google_query = \"+\".join(claim.split(\" \"))\n",
    "for i in range(pages_to_check):\n",
    "    start = i * 10\n",
    "    \n",
    "    page = requests.get(f\"https://www.google.com/search\", params={\"q\": google_query, \"start\": start})\n",
    "    soup = BeautifulSoup(page.content, \"html.parser\")\n",
    "    \n",
    "    for div in soup.find_all(\"div\", class_=\"g\"):\n",
    "        if div.find(\"h3\") is None:\n",
    "            continue\n",
    "        link = div.find(\"h3\").a.get(\"href\")\n",
    "        match = re.search(\"https://[^&]+\", link)\n",
    "        if match is not None:\n",
    "            url = match.group()\n",
    "            print(url)\n",
    "            if re.search(\"[en|hr].wikipedia\", url):\n",
    "                title = url.split(\"/\")[-1]\n",
    "                while True:\n",
    "                    match = re.search(\"(%25|%)[a-fA-f0-9]{2}(%25|%)[a-fA-F0-9]{2}\", title)\n",
    "                    if match is None:\n",
    "                        if re.search(\"hr.wikipedia\", url):\n",
    "                            url_0 = \"/\".join(url.split(\"/\")[:-1])\n",
    "                            url_tmp = f\"{url_0}/{title}\"\n",
    "                            page_tmp = requests.get(url_tmp)\n",
    "                            soup_tmp = BeautifulSoup(page_tmp.content, \"html.parser\")\n",
    "                            \n",
    "                            engl_link = [a.get(\"href\") for a in soup_tmp.find_all(\"a\", class_=\"interlanguage-link-target\") if a.get(\"lang\") == \"en\"][0]\n",
    "                            match = re.search(\"https://[^&]+\", engl_link)\n",
    "                            url = match.group()\n",
    "                            print(url)\n",
    "                            title = url.split(\"/\")[-1]\n",
    "                        else:    \n",
    "                            wikipedia_titles.add(title)\n",
    "                            break\n",
    "                    else:\n",
    "                        corrupted = match.group()\n",
    "                        if re.search(\"%25[a-fA-f0-9]{2}%25[a-fA-F0-9]{2}\", corrupted):\n",
    "                            hex_charachter = corrupted.replace(\"%25\", \"\").lower()\n",
    "                        else:\n",
    "                            hex_charachter = corrupted.replace(\"%\", \"\").lower()\n",
    "                        utf_decoded = codecs.decode(hex_charachter, \"hex\").decode('utf-8')\n",
    "                        title = title.replace(corrupted, utf_decoded)"
   ]
  },
  {
   "cell_type": "code",
   "execution_count": 52,
   "metadata": {},
   "outputs": [
    {
     "data": {
      "text/plain": [
       "{'Marin_Držić'}"
      ]
     },
     "execution_count": 52,
     "metadata": {},
     "output_type": "execute_result"
    }
   ],
   "source": [
    "wikipedia_titles"
   ]
  },
  {
   "cell_type": "code",
   "execution_count": null,
   "metadata": {},
   "outputs": [],
   "source": []
  },
  {
   "cell_type": "code",
   "execution_count": null,
   "metadata": {},
   "outputs": [],
   "source": []
  },
  {
   "cell_type": "code",
   "execution_count": 3,
   "metadata": {},
   "outputs": [
    {
     "data": {
      "text/plain": [
       "{'Conan_the_Barbarian_(1982_film)'}"
      ]
     },
     "execution_count": 3,
     "metadata": {},
     "output_type": "execute_result"
    }
   ],
   "source": [
    "google_the_claim(\"Arnold acted in Conan\")"
   ]
  },
  {
   "cell_type": "code",
   "execution_count": 4,
   "metadata": {},
   "outputs": [
    {
     "data": {
      "text/plain": [
       "{'Super_Bowl_VI'}"
      ]
     },
     "execution_count": 4,
     "metadata": {},
     "output_type": "execute_result"
    }
   ],
   "source": [
    "google_the_claim(\"Luis Armstrong won the superbowl.\")"
   ]
  },
  {
   "cell_type": "code",
   "execution_count": 5,
   "metadata": {},
   "outputs": [
    {
     "data": {
      "text/plain": [
       "{'Lionel_Messi'}"
      ]
     },
     "execution_count": 5,
     "metadata": {},
     "output_type": "execute_result"
    }
   ],
   "source": [
    "google_the_claim(\"Leo messi won an oscar\")"
   ]
  },
  {
   "cell_type": "code",
   "execution_count": 6,
   "metadata": {},
   "outputs": [
    {
     "data": {
      "text/plain": [
       "{'César_Award_for_Best_Actress',\n",
       " 'List_of_Japanese_submissions_for_the_Academy_Award_for_Best_Foreign_Language_Film'}"
      ]
     },
     "execution_count": 6,
     "metadata": {},
     "output_type": "execute_result"
    }
   ],
   "source": [
    "google_the_claim(\"Marin Sokol won an oscar\")"
   ]
  },
  {
   "cell_type": "code",
   "execution_count": 7,
   "metadata": {},
   "outputs": [
    {
     "data": {
      "text/plain": [
       "{'Liberté,_égalité,_fraternité'}"
      ]
     },
     "execution_count": 7,
     "metadata": {},
     "output_type": "execute_result"
    }
   ],
   "source": [
    "google_the_claim(\"Égalité\")"
   ]
  },
  {
   "cell_type": "code",
   "execution_count": 8,
   "metadata": {},
   "outputs": [
    {
     "data": {
      "text/plain": [
       "{'Über'}"
      ]
     },
     "execution_count": 8,
     "metadata": {},
     "output_type": "execute_result"
    }
   ],
   "source": [
    "google_the_claim(\"Über\")"
   ]
  },
  {
   "cell_type": "code",
   "execution_count": 9,
   "metadata": {},
   "outputs": [
    {
     "data": {
      "text/plain": [
       "{'Rosendals_Trädgård'}"
      ]
     },
     "execution_count": 9,
     "metadata": {},
     "output_type": "execute_result"
    }
   ],
   "source": [
    "google_the_claim(\"Rosendals Trädgård was great\")"
   ]
  },
  {
   "cell_type": "code",
   "execution_count": 10,
   "metadata": {},
   "outputs": [
    {
     "data": {
      "text/plain": [
       "{'Marin_Držić'}"
      ]
     },
     "execution_count": 10,
     "metadata": {},
     "output_type": "execute_result"
    }
   ],
   "source": [
    "google_the_claim(\"Marin držić\")"
   ]
  },
  {
   "cell_type": "code",
   "execution_count": 11,
   "metadata": {},
   "outputs": [
    {
     "data": {
      "text/plain": [
       "{'Game_of_Thrones'}"
      ]
     },
     "execution_count": 11,
     "metadata": {},
     "output_type": "execute_result"
    }
   ],
   "source": [
    "google_the_claim(\"game of thrones\")"
   ]
  },
  {
   "cell_type": "code",
   "execution_count": 12,
   "metadata": {},
   "outputs": [
    {
     "data": {
      "text/plain": [
       "{'Game_of_Thrones'}"
      ]
     },
     "execution_count": 12,
     "metadata": {},
     "output_type": "execute_result"
    }
   ],
   "source": [
    "google_the_claim(\"igra prijestolja\")"
   ]
  },
  {
   "cell_type": "code",
   "execution_count": null,
   "metadata": {},
   "outputs": [],
   "source": []
  }
 ],
 "metadata": {
  "kernelspec": {
   "display_name": "Python 3",
   "language": "python",
   "name": "python3"
  },
  "language_info": {
   "codemirror_mode": {
    "name": "ipython",
    "version": 3
   },
   "file_extension": ".py",
   "mimetype": "text/x-python",
   "name": "python",
   "nbconvert_exporter": "python",
   "pygments_lexer": "ipython3",
   "version": "3.7.2"
  }
 },
 "nbformat": 4,
 "nbformat_minor": 2
}
