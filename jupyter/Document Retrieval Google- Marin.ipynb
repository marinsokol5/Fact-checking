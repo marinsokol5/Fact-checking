{
 "cells": [
  {
   "cell_type": "code",
   "execution_count": 1,
   "metadata": {},
   "outputs": [],
   "source": [
    "import os\n",
    "os.chdir(\"..\")"
   ]
  },
  {
   "cell_type": "code",
   "execution_count": 2,
   "metadata": {},
   "outputs": [],
   "source": [
    "import json\n",
    "from collections import Counter\n",
    "import spacy\n",
    "from spacy import displacy\n",
    "from collections import Counter\n",
    "import en_core_web_sm\n",
    "nlp = en_core_web_sm.load()\n",
    "import string\n",
    "from os import listdir\n",
    "from tqdm import tqdm\n",
    "import nltk\n",
    "from nltk.corpus import stopwords as get_stopwords\n",
    "from nltk.tokenize import word_tokenize\n",
    "from classes.constants import *\n",
    "from classes.claim import Claim\n",
    "from util.claim_util import *\n",
    "from util.undefined_util import *\n",
    "from util.evaluate_util import *\n",
    "from util.wiki_util import *\n",
    "from typing import List\n",
    "from random import sample\n",
    "import random\n",
    "from util.google_search_util import google_the_claim\n",
    "import time"
   ]
  },
  {
   "cell_type": "code",
   "execution_count": 3,
   "metadata": {},
   "outputs": [],
   "source": [
    "train = load_claims_train()"
   ]
  },
  {
   "cell_type": "code",
   "execution_count": 4,
   "metadata": {},
   "outputs": [],
   "source": [
    "train_no_nei = [t for t in train if t.label != Claim.NEI]"
   ]
  },
  {
   "cell_type": "code",
   "execution_count": 5,
   "metadata": {},
   "outputs": [],
   "source": [
    "t = train_no_nei[0]"
   ]
  },
  {
   "cell_type": "code",
   "execution_count": 6,
   "metadata": {},
   "outputs": [],
   "source": [
    "random.seed(42)"
   ]
  },
  {
   "cell_type": "code",
   "execution_count": 7,
   "metadata": {},
   "outputs": [],
   "source": [
    "train_subset = sample(train_no_nei, 100)"
   ]
  },
  {
   "cell_type": "code",
   "execution_count": 8,
   "metadata": {},
   "outputs": [
    {
     "data": {
      "text/plain": [
       "Counter({'SUPPORTS': 74, 'REFUTES': 26})"
      ]
     },
     "execution_count": 8,
     "metadata": {},
     "output_type": "execute_result"
    }
   ],
   "source": [
    "    Counter([t.label for t in train_subset])"
   ]
  },
  {
   "cell_type": "code",
   "execution_count": null,
   "metadata": {},
   "outputs": [],
   "source": []
  },
  {
   "cell_type": "code",
   "execution_count": 9,
   "metadata": {},
   "outputs": [],
   "source": [
    "c = train[0]"
   ]
  },
  {
   "cell_type": "code",
   "execution_count": 10,
   "metadata": {},
   "outputs": [
    {
     "data": {
      "text/plain": [
       "SUPPORTS: Nikolaj Coster-Waldau worked with the Fox Broadcasting Company."
      ]
     },
     "execution_count": 10,
     "metadata": {},
     "output_type": "execute_result"
    }
   ],
   "source": [
    "c"
   ]
  },
  {
   "cell_type": "code",
   "execution_count": 11,
   "metadata": {},
   "outputs": [],
   "source": [
    "claim = c.claim"
   ]
  },
  {
   "cell_type": "code",
   "execution_count": 12,
   "metadata": {},
   "outputs": [
    {
     "data": {
      "text/plain": [
       "['Nikolaj_Coster-Waldau']"
      ]
     },
     "execution_count": 12,
     "metadata": {},
     "output_type": "execute_result"
    }
   ],
   "source": [
    "google_the_claim(claim, pages_to_check=1)"
   ]
  },
  {
   "cell_type": "code",
   "execution_count": 13,
   "metadata": {},
   "outputs": [],
   "source": [
    "results = []"
   ]
  },
  {
   "cell_type": "code",
   "execution_count": 14,
   "metadata": {},
   "outputs": [
    {
     "data": {
      "text/plain": [
       "0"
      ]
     },
     "execution_count": 14,
     "metadata": {},
     "output_type": "execute_result"
    }
   ],
   "source": [
    "len(results)"
   ]
  },
  {
   "cell_type": "code",
   "execution_count": 15,
   "metadata": {},
   "outputs": [
    {
     "data": {
      "text/plain": [
       "[]"
      ]
     },
     "execution_count": 15,
     "metadata": {},
     "output_type": "execute_result"
    }
   ],
   "source": [
    "results"
   ]
  },
  {
   "cell_type": "code",
   "execution_count": null,
   "metadata": {},
   "outputs": [],
   "source": []
  },
  {
   "cell_type": "code",
   "execution_count": 19,
   "metadata": {
    "collapsed": true
   },
   "outputs": [
    {
     "data": {
      "text/plain": [
       "[SUPPORTS: Black Mirror started airing in 2011.,\n",
       " SUPPORTS: Lee Majors's birth month is April.,\n",
       " REFUTES: Nelson Mandela was Chinese.,\n",
       " REFUTES: The United States Congress has 2 billion voting members.,\n",
       " SUPPORTS: Linda McCartney was diagnosed with breast cancer in 1995.,\n",
       " SUPPORTS: Judy Greer works as an actor.,\n",
       " SUPPORTS: Burundi was formerly a European colony ruled by Germans.,\n",
       " SUPPORTS: Jane Eyre is a book.,\n",
       " REFUTES: John Bradley-West refused to be in the TV series Game of Thrones.,\n",
       " SUPPORTS: Gray wolves will eat garbage.,\n",
       " REFUTES: Lauren Bacall was alive at the age of 90.,\n",
       " REFUTES: The Hobbit is a type of fire hydrant.,\n",
       " REFUTES: Allen Iverson was really tall.,\n",
       " SUPPORTS: Citadelle Laferrière is in Nord, Haiti.,\n",
       " SUPPORTS: Sa Talaiassa is located within the Balearic Islands of Spain.,\n",
       " REFUTES: Tupac Shakur was born on September 14th, 1898.,\n",
       " SUPPORTS: All About Eve won an award for Best Picture.,\n",
       " REFUTES: Atomic Blonde is based on a 2017 graphic novel.,\n",
       " SUPPORTS: The RMS Titanic left Southampton in England.,\n",
       " SUPPORTS: Margot Kidder is a person who acts.,\n",
       " REFUTES: Vanilla Sky stars only actors and actresses with no middle names.,\n",
       " REFUTES: Harry Potter was written by an Englishman.,\n",
       " SUPPORTS: Watchmen is a movie.,\n",
       " SUPPORTS: R. Madhavan set up Tricolour Films.,\n",
       " SUPPORTS: Kurt Angle is a professional wrestling champion.,\n",
       " SUPPORTS: Homeland was developed by Alex Gansa.,\n",
       " REFUTES: George H. W. Bush was president from 1889 to 1993.,\n",
       " SUPPORTS: The Night Of is an American miniseries.,\n",
       " SUPPORTS: Seven Days in May was directed by a person.,\n",
       " SUPPORTS: An American actor starred in The Host.,\n",
       " SUPPORTS: Richard Curtis worked with Sir Lenny Henry.,\n",
       " SUPPORTS: Colm Feore is a stage actor.,\n",
       " REFUTES: Steve Mouzakis has yet to star in any Australian films.,\n",
       " SUPPORTS: Bruce Springsteen received an award.,\n",
       " SUPPORTS: Coquette Productions produced Dirt.,\n",
       " REFUTES: Dragon is unrelated to \"draco.\",\n",
       " REFUTES: Chandni was created in 2001.,\n",
       " SUPPORTS: Red Hot Chili Peppers' original line-up included guitar player Hillel Slovak.,\n",
       " SUPPORTS: Judy Greer is a model.,\n",
       " SUPPORTS: The Hunger Games is set in a society.,\n",
       " SUPPORTS: Renaissance art involved an artist.,\n",
       " SUPPORTS: Miley Cyrus is an actress.,\n",
       " SUPPORTS: Peru has gone through stability.,\n",
       " SUPPORTS: Molly Bernard has one middle name.,\n",
       " REFUTES: Mr. Nobody was directed by a kitten.,\n",
       " SUPPORTS: Oh Yeon-seo was born.,\n",
       " SUPPORTS: John Malkovich stars in Red.,\n",
       " SUPPORTS: Stars Are Blind was co-written by Fernando Garibay.,\n",
       " SUPPORTS: The Taj Mahal does not have a crenellated wall.,\n",
       " REFUTES: Attack the Block was only written by Stephen King.,\n",
       " SUPPORTS: Good Will Hunting is a drama.,\n",
       " SUPPORTS: Kris Kristofferson collaborated with songwriters from Nashville.,\n",
       " REFUTES: Arrow was primarily filmed in New Zealand.,\n",
       " SUPPORTS: Coldplay won a Grammy Award.,\n",
       " SUPPORTS: Nick Nolte was in the cast of at least one movie.,\n",
       " REFUTES: Black Sabbath was only a jazz band.,\n",
       " REFUTES: Lisa Marie Presley is a musician.,\n",
       " SUPPORTS: Love & Friendship is a film.,\n",
       " REFUTES: Andy Kaufman failed to be an American.,\n",
       " SUPPORTS: The Narrows stars Monica Keena.,\n",
       " SUPPORTS: Marlon Brando was included in a list.,\n",
       " SUPPORTS: X-Men: Days of Future Past is a film based on Marvel Comics.,\n",
       " SUPPORTS: 1965 was the year Shania Twain was born.,\n",
       " SUPPORTS: John G. Avildsen directed The Formula (1980 film).,\n",
       " SUPPORTS: Sweden provides tertiary education and universal healthcare for its citizens.,\n",
       " SUPPORTS: Shailene Woodley was born in 1991 and she acts.,\n",
       " SUPPORTS: Adolf Hitler aimed to eliminate groups of people.,\n",
       " SUPPORTS: Boston was founded by a religious group.,\n",
       " SUPPORTS: The USS Constitution was a ship.,\n",
       " SUPPORTS: Braveheart won an Academy Award for Best Picture.,\n",
       " SUPPORTS: The Beatles were from England.,\n",
       " REFUTES: The Outcasts was released on April 14, 1993.,\n",
       " REFUTES: Dhool featured Vikram as an extra.,\n",
       " REFUTES: Nelson Mandela introduced rollbacks of healthcare services.,\n",
       " SUPPORTS: Darth Vader was predicted to bring balance to the Force.,\n",
       " SUPPORTS: Malala Yousafzai advocates for women's rights.,\n",
       " SUPPORTS: Aaron Carter was born on December 7.,\n",
       " SUPPORTS: Justin Bieber received an award in the year 2010.,\n",
       " SUPPORTS: United Kingdom has the world's fifth-largest economy by nominal GDP.,\n",
       " REFUTES: Passengers grossed $303 million when it was released in 2010.,\n",
       " REFUTES: Grace Jones moved away from a new wave style.,\n",
       " SUPPORTS: Ultimate Spider-Man lasted four seasons.,\n",
       " SUPPORTS: Emilio Estevez has worked with Richard Dreyfuss.,\n",
       " SUPPORTS: Guyana is considered to be in the Caribbean Region.,\n",
       " SUPPORTS: Friendship has been studied in academic fields such as social psychology.,\n",
       " SUPPORTS: Planet of the Apes (1968 film) was filmed.,\n",
       " SUPPORTS: Top Gun's fighting sequences were praised.,\n",
       " SUPPORTS: Hippocrates was a physician.,\n",
       " SUPPORTS: A member of Got a Girl is a producer.,\n",
       " SUPPORTS: The Crazies (2010 film) was reviewed by critics.,\n",
       " REFUTES: Sharon Tate was never an actress.,\n",
       " SUPPORTS: Jim Parsons has received a Golden Globe Award for Best Actor in a Television Series Musical or Comedy.,\n",
       " SUPPORTS: John Williams was the Boston Pops' principal conductor for 13 years.,\n",
       " SUPPORTS: RuPaul is a presenter on Skin Wars.,\n",
       " SUPPORTS: Solange Knowles writes music.,\n",
       " SUPPORTS: Red Hot Chili Peppers originally had a different name.,\n",
       " SUPPORTS: Renaissance art involved Michelozzo.,\n",
       " SUPPORTS: Deadpool is the eighth installment in a series.,\n",
       " SUPPORTS: James Franco stars in Your Highness.,\n",
       " SUPPORTS: The spouse of Michelle Obama is the 44th President of America.]"
      ]
     },
     "execution_count": 19,
     "metadata": {},
     "output_type": "execute_result"
    }
   ],
   "source": [
    "train_subset"
   ]
  },
  {
   "cell_type": "code",
   "execution_count": 18,
   "metadata": {},
   "outputs": [
    {
     "data": {
      "text/plain": [
       "[({'Black_Mirror', 'List_of_Black_Mirror_episodes'},\n",
       "  set(),\n",
       "  set(),\n",
       "  set(),\n",
       "  set()),\n",
       " ({'Lee_Majors'}, set(), set(), set(), set()),\n",
       " (set(), set(), {'China–South_Africa_relations'}, set(), set()),\n",
       " ({'51st_United_States_Congress', 'United_States_Congress'},\n",
       "  set(),\n",
       "  set(),\n",
       "  set(),\n",
       "  set()),\n",
       " ({'Linda_McCartney'}, set(), set(), set(), set()),\n",
       " ({'Judy_Greer'}, set(), set(), set(), set()),\n",
       " ({'Burundi', 'History_of_Burundi'}, set(), set(), set(), set()),\n",
       " ({'Jane_Eyre'}, set(), set(), set(), set()),\n",
       " (set(), set(), set(), set(), set()),\n",
       " (set(), {'Wolf'}, set(), set(), set()),\n",
       " ({'Lauren_Bacall'}, set(), set(), set(), set()),\n",
       " ({'Fire_hydrant'}, set(), set(), set(), set()),\n",
       " (set(), {'Allen_Iverson'}, set(), set(), set()),\n",
       " ({'Citadelle_La_Ferrière', 'Citadelle_Laferrière'},\n",
       "  set(),\n",
       "  set(),\n",
       "  set(),\n",
       "  set()),\n",
       " ({'Balearic_Islands',\n",
       "   'Sa_Talaiassa',\n",
       "   'Sant_Josep_de_sa_Talaia_(municipality)'},\n",
       "  set(),\n",
       "  set(),\n",
       "  set(),\n",
       "  set()),\n",
       " ({'Tupac_Shakur'}, set(), set(), set(), set()),\n",
       " ({'All_About_Eve'}, set(), set(), set(), set()),\n",
       " ({'Atomic_Blonde'}, set(), set(), set(), set()),\n",
       " ({'RMS_Titanic'}, set(), set(), set(), set()),\n",
       " ({'Margot_Kidder', 'Margot_Kidder_filmography'}, set(), set(), set(), set()),\n",
       " ({'Cameron_Diaz', 'Knight_and_Day'}, set(), set(), set(), set()),\n",
       " ({'Harry_Potter_influences_and_analogues'}, set(), set(), set(), set()),\n",
       " ({'Watchmen_(film)'}, set(), set(), set(), set()),\n",
       " ({'R._Madhavan'}, set(), set(), set(), set()),\n",
       " ({'Kurt_Angle'}, set(), set(), set(), set()),\n",
       " ({'Alex_Gansa'}, set(), set(), set(), set()),\n",
       " ({'Electoral_history_of_George_H._W._Bush',\n",
       "   'George_H._W._Bush',\n",
       "   'List_of_Presidents_of_the_United_States'},\n",
       "  set(),\n",
       "  set(),\n",
       "  set(),\n",
       "  set()),\n",
       " ({'The_Night_Of'}, set(), set(), set(), set()),\n",
       " ({'Seven_Days_in_May'}, set(), set(), set(), set()),\n",
       " ({'Greg_Kinnear', 'James_Lipton'}, set(), set(), set(), set()),\n",
       " ({'Lenny_Henry', 'Richard_Curtis'}, set(), set(), set(), set()),\n",
       " ({'Colm_Feore'}, set(), set(), set(), set()),\n",
       " ({'Steve_Mouzakis'}, set(), set(), set(), set()),\n",
       " ({'Bruce_Springsteen'}, set(), set(), set(), set()),\n",
       " ({'Coquette_Productions'}, set(), set(), set(), set()),\n",
       " ({\"Dragon's_blood\"}, set(), set(), set(), set()),\n",
       " ({'Chandni', 'Chandni_Bar'}, set(), set(), set(), set()),\n",
       " ({'Hillel_Slovak',\n",
       "   'List_of_Red_Hot_Chili_Peppers_band_members',\n",
       "   'Red_Hot_Chili_Peppers'},\n",
       "  {'Red_Hot_Chili_Peppers'},\n",
       "  set(),\n",
       "  set(),\n",
       "  set()),\n",
       " ({'Judy_Greer'}, set(), set(), set(), set()),\n",
       " ({'Fictional_world_of_The_Hunger_Games'}, set(), set(), set(), set()),\n",
       " ({'List_of_Renaissance_artists', 'Renaissance_art'},\n",
       "  set(),\n",
       "  set(),\n",
       "  set(),\n",
       "  set()),\n",
       " ({'Miley_Cyrus'}, set(), set(), set(), set()),\n",
       " (set(), set(), {'Peru'}, set(), set()),\n",
       " ({'Molly_Bernard'}, set(), set(), set(), set()),\n",
       " ({'Mr._Nobody_(film)'}, set(), set(), set(), set()),\n",
       " ({'Oh_Yeon-seo'}, set(), set(), set(), set()),\n",
       " ({'Red_(2010_film)'}, set(), set(), set(), set()),\n",
       " ({'Category:Songs_written_by_Fernando_Garibay', 'Stars_Are_Blind'},\n",
       "  set(),\n",
       "  set(),\n",
       "  set(),\n",
       "  set()),\n",
       " ({'Taj_Mahal'}, set(), set(), set(), set()),\n",
       " ({'Attack_the_Block'}, set(), set(), set(), set()),\n",
       " ({'Good_Will_Hunting'}, set(), set(), set(), set()),\n",
       " ({'Kris_Kristofferson'}, set(), set(), set(), set()),\n",
       " ({'Arrow_(TV_series)'}, set(), set(), set(), set()),\n",
       " ({'List_of_awards_and_nominations_received_by_Coldplay'},\n",
       "  set(),\n",
       "  set(),\n",
       "  set(),\n",
       "  set()),\n",
       " ({'A_Walk_in_the_Woods_(film)', 'Q&A_(film)'}, set(), set(), set(), set()),\n",
       " ({'Black_Sabbath', 'Never_Say_Die!'}, set(), set(), set(), set()),\n",
       " ({'Lisa_Marie_Presley'}, set(), set(), set(), set()),\n",
       " ({'Love'}, set(), set(), set(), set()),\n",
       " ({'Andy_Kaufman'}, set(), set(), set(), set()),\n",
       " ({'Monica_Keena'}, set(), set(), set(), set()),\n",
       " ({'Marlon_Brando'}, set(), set(), set(), set()),\n",
       " ({'List_of_films_based_on_Marvel_Comics'}, set(), set(), set(), set()),\n",
       " ({'Shania_Twain'}, set(), set(), set(), set()),\n",
       " ({'John_G._Avildsen', 'The_Formula_(1980_film)'}, set(), set(), set(), set()),\n",
       " ({'Health_care_in_Sweden'}, set(), set(), set(), set()),\n",
       " ({'Shailene_Woodley'}, set(), set(), set(), set()),\n",
       " ({'Adolf_Hitler'}, set(), set(), set(), set()),\n",
       " ({'History_of_Boston'}, set(), set(), set(), set()),\n",
       " ({'USS_Constitution'}, set(), set(), set(), set()),\n",
       " ({'68th_Academy_Awards',\n",
       "   'List_of_awards_and_nominations_received_by_Mel_Gibson'},\n",
       "  set(),\n",
       "  set(),\n",
       "  set(),\n",
       "  set()),\n",
       " ({'The_Beatles'}, set(), set(), set(), set()),\n",
       " ({'Outkast', 'Victoria_Justice'}, set(), set(), set(), set()),\n",
       " ({'Dhool'}, set(), set(), set(), set()),\n",
       " (set(), set(), set(), set(), set()),\n",
       " ({'Darth_Vader'}, set(), set(), set(), set()),\n",
       " (set(), {'Malala_Yousafzai'}, set(), set(), set()),\n",
       " ({'Aaron_Carter'}, set(), set(), set(), set()),\n",
       " ({'List_of_awards_and_nominations_received_by_Justin_Bieber'},\n",
       "  set(),\n",
       "  set(),\n",
       "  set(),\n",
       "  set()),\n",
       " ({'Economy_of_the_United_Kingdom', 'List_of_countries_by_GDP_(nominal)'},\n",
       "  set(),\n",
       "  set(),\n",
       "  set(),\n",
       "  set()),\n",
       " ({'Passengers_(2016_film)'}, set(), set(), set(), set()),\n",
       " ({'Grace_Jones'}, set(), set(), set(), set()),\n",
       " ({'List_of_Ultimate_Spider-Man_episodes'}, set(), set(), set(), set()),\n",
       " ({'Stakeout_(1987_film)'}, set(), set(), set(), set())]"
      ]
     },
     "execution_count": 18,
     "metadata": {},
     "output_type": "execute_result"
    }
   ],
   "source": [
    "results"
   ]
  },
  {
   "cell_type": "code",
   "execution_count": 17,
   "metadata": {},
   "outputs": [
    {
     "name": "stdout",
     "output_type": "stream",
     "text": [
      "429 Client Error: Too Many Requests for url: https://www.google.com/sorry/index?continue=https://www.google.com/search%3Fq%3DSeven%2BDays%2Bin%2BMay%2Bwas%2Bdirected%2Bby%2Ba%2Bperson.%26start%3D0&q=EgSwPi09GO_WoeYFIhkA8aeDS4rUVdcIcB6yM-SLjgF4KKwi4hNOMgFy\n",
      "429 Client Error: Too Many Requests for url: https://www.google.com/sorry/index?continue=https://www.google.com/search%3Fq%3DSeven%2BDays%2Bin%2BMay%2Bwas%2Bdirected%2Bby%2Ba%2Bperson.%26start%3D0&q=EgSwPi09GIDzoeYFIhkA8aeDS5XQ_UdJZxZKAIYt8kj-FpCwynw6MgFy\n",
      "0 Seven Days in May was directed by a person. {'Seven_Days_in_May'}\n",
      "1 An American actor starred in The Host. {'Greg_Kinnear', 'James_Lipton'}\n",
      "2 Richard Curtis worked with Sir Lenny Henry. {'Lenny_Henry', 'Richard_Curtis'}\n",
      "3 Colm Feore is a stage actor. {'Colm_Feore'}\n",
      "4 Steve Mouzakis has yet to star in any Australian films. {'Steve_Mouzakis'}\n",
      "5 Bruce Springsteen received an award. {'Bruce_Springsteen'}\n",
      "6 Coquette Productions produced Dirt. {'Coquette_Productions'}\n",
      "7 Dragon is unrelated to \"draco.\" {\"Dragon's_blood\"}\n",
      "8 Chandni was created in 2001. {'Chandni_Bar', 'Chandni'}\n",
      "9 Red Hot Chili Peppers' original line-up included guitar player Hillel Slovak. {'Red_Hot_Chili_Peppers', 'List_of_Red_Hot_Chili_Peppers_band_members', 'Hillel_Slovak'}\n",
      "10 Judy Greer is a model. {'Judy_Greer'}\n",
      "11 The Hunger Games is set in a society. {'Fictional_world_of_The_Hunger_Games'}\n",
      "12 Renaissance art involved an artist. {'List_of_Renaissance_artists', 'Renaissance_art'}\n",
      "13 Miley Cyrus is an actress. {'Miley_Cyrus'}\n",
      "14 Peru has gone through stability. set()\n",
      "15 Molly Bernard has one middle name. {'Molly_Bernard'}\n",
      "16 Mr. Nobody was directed by a kitten. {'Mr._Nobody_(film)'}\n",
      "17 Oh Yeon-seo was born. {'Oh_Yeon-seo'}\n",
      "18 John Malkovich stars in Red. {'Red_(2010_film)'}\n",
      "19 Stars Are Blind was co-written by Fernando Garibay. {'Stars_Are_Blind', 'Category:Songs_written_by_Fernando_Garibay'}\n",
      "20 The Taj Mahal does not have a crenellated wall. {'Taj_Mahal'}\n",
      "21 Attack the Block was only written by Stephen King. {'Attack_the_Block'}\n",
      "22 Good Will Hunting is a drama. {'Good_Will_Hunting'}\n",
      "23 Kris Kristofferson collaborated with songwriters from Nashville. {'Kris_Kristofferson'}\n",
      "24 Arrow was primarily filmed in New Zealand. {'Arrow_(TV_series)'}\n",
      "25 Coldplay won a Grammy Award. {'List_of_awards_and_nominations_received_by_Coldplay'}\n",
      "26 Nick Nolte was in the cast of at least one movie. {'A_Walk_in_the_Woods_(film)', 'Q&A_(film)'}\n",
      "27 Black Sabbath was only a jazz band. {'Black_Sabbath', 'Never_Say_Die!'}\n",
      "429 Client Error: Too Many Requests for url: https://www.google.com/sorry/index?continue=https://www.google.com/search%3Fq%3DLisa%2BMarie%2BPresley%2Bis%2Ba%2Bmusician.%26start%3D20&q=EgSwPi09GL-RouYFIhkA8aeDS0KzJ9PrZekJVHKw2WyMd5TRYvhQMgFy\n",
      "429 Client Error: Too Many Requests for url: https://www.google.com/sorry/index?continue=https://www.google.com/search%3Fq%3DLisa%2BMarie%2BPresley%2Bis%2Ba%2Bmusician.%26start%3D0&q=EgSwPi09GNGtouYFIhkA8aeDS2SRlBYTsdKhjkqZpoUEhmIccRDAMgFy\n",
      "429 Client Error: Too Many Requests for url: https://www.google.com/sorry/index?continue=https://www.google.com/search%3Fq%3DLisa%2BMarie%2BPresley%2Bis%2Ba%2Bmusician.%26start%3D0&q=EgSwPi09GOPJouYFIhkA8aeDS3mtK7zZXvJ-62onJ8WQ6OUr8DMfMgFy\n",
      "28 Lisa Marie Presley is a musician. {'Lisa_Marie_Presley'}\n",
      "29 Love & Friendship is a film. {'Love'}\n",
      "30 Andy Kaufman failed to be an American. {'Andy_Kaufman'}\n",
      "31 The Narrows stars Monica Keena. {'Monica_Keena'}\n",
      "32 Marlon Brando was included in a list. {'Marlon_Brando'}\n",
      "33 X-Men: Days of Future Past is a film based on Marvel Comics. {'List_of_films_based_on_Marvel_Comics'}\n",
      "34 1965 was the year Shania Twain was born. {'Shania_Twain'}\n",
      "35 John G. Avildsen directed The Formula (1980 film). {'John_G._Avildsen', 'The_Formula_(1980_film)'}\n",
      "36 Sweden provides tertiary education and universal healthcare for its citizens. {'Health_care_in_Sweden'}\n",
      "37 Shailene Woodley was born in 1991 and she acts. {'Shailene_Woodley'}\n",
      "38 Adolf Hitler aimed to eliminate groups of people. {'Adolf_Hitler'}\n",
      "39 Boston was founded by a religious group. {'History_of_Boston'}\n",
      "40 The USS Constitution was a ship. {'USS_Constitution'}\n",
      "41 Braveheart won an Academy Award for Best Picture. {'68th_Academy_Awards', 'List_of_awards_and_nominations_received_by_Mel_Gibson'}\n",
      "42 The Beatles were from England. {'The_Beatles'}\n",
      "43 The Outcasts was released on April 14, 1993. {'Victoria_Justice', 'Outkast'}\n",
      "44 Dhool featured Vikram as an extra. {'Dhool'}\n",
      "45 Nelson Mandela introduced rollbacks of healthcare services. set()\n",
      "46 Darth Vader was predicted to bring balance to the Force. {'Darth_Vader'}\n",
      "47 Malala Yousafzai advocates for women's rights. set()\n",
      "48 Aaron Carter was born on December 7. {'Aaron_Carter'}\n",
      "49 Justin Bieber received an award in the year 2010. {'List_of_awards_and_nominations_received_by_Justin_Bieber'}\n",
      "50 United Kingdom has the world's fifth-largest economy by nominal GDP. {'Economy_of_the_United_Kingdom', 'List_of_countries_by_GDP_(nominal)'}\n",
      "51 Passengers grossed $303 million when it was released in 2010. {'Passengers_(2016_film)'}\n",
      "52 Grace Jones moved away from a new wave style. {'Grace_Jones'}\n",
      "53 Ultimate Spider-Man lasted four seasons. {'List_of_Ultimate_Spider-Man_episodes'}\n",
      "54 Emilio Estevez has worked with Richard Dreyfuss. {'Stakeout_(1987_film)'}\n",
      "429 Client Error: Too Many Requests for url: https://www.google.com/sorry/index?continue=https://www.google.com/search%3Fq%3DGuyana%2Bis%2Bconsidered%2Bto%2Bbe%2Bin%2Bthe%2BCaribbean%2BRegion.%26start%3D40&q=EgSwPi09GP_oouYFIhkA8aeDS49oXUf4cMOUJltI2QFu3GK_VBWIMgFy\n",
      "429 Client Error: Too Many Requests for url: https://www.google.com/sorry/index?continue=https://www.google.com/search%3Fq%3DGuyana%2Bis%2Bconsidered%2Bto%2Bbe%2Bin%2Bthe%2BCaribbean%2BRegion.%26start%3D0&q=EgSwPi09GJGFo-YFIhkA8aeDSzqaNeIj_OFZQqz-VTx-DsZSZIyeMgFy\n"
     ]
    },
    {
     "ename": "KeyboardInterrupt",
     "evalue": "",
     "output_type": "error",
     "traceback": [
      "\u001b[0;31m---------------------------------------------------------------------------\u001b[0m",
      "\u001b[0;31mHTTPError\u001b[0m                                 Traceback (most recent call last)",
      "\u001b[0;32m<ipython-input-17-2785c5ef189a>\u001b[0m in \u001b[0;36m<module>\u001b[0;34m()\u001b[0m\n\u001b[1;32m      3\u001b[0m         \u001b[0;32mtry\u001b[0m\u001b[0;34m:\u001b[0m\u001b[0;34m\u001b[0m\u001b[0;34m\u001b[0m\u001b[0m\n\u001b[0;32m----> 4\u001b[0;31m             \u001b[0mfirst_page_docs\u001b[0m \u001b[0;34m=\u001b[0m \u001b[0mgoogle_the_claim\u001b[0m\u001b[0;34m(\u001b[0m\u001b[0mt\u001b[0m\u001b[0;34m.\u001b[0m\u001b[0mclaim\u001b[0m\u001b[0;34m,\u001b[0m \u001b[0mstarting_from_page\u001b[0m\u001b[0;34m=\u001b[0m\u001b[0;36m0\u001b[0m\u001b[0;34m)\u001b[0m\u001b[0;34m\u001b[0m\u001b[0;34m\u001b[0m\u001b[0m\n\u001b[0m\u001b[1;32m      5\u001b[0m             \u001b[0mtime\u001b[0m\u001b[0;34m.\u001b[0m\u001b[0msleep\u001b[0m\u001b[0;34m(\u001b[0m\u001b[0;36m1\u001b[0m\u001b[0;34m)\u001b[0m\u001b[0;34m\u001b[0m\u001b[0;34m\u001b[0m\u001b[0m\n",
      "\u001b[0;32m~/Documents/fer/apt/projekt/util/google_search_util.py\u001b[0m in \u001b[0;36mgoogle_the_claim\u001b[0;34m(claim, pages_to_check, verbose, limit_to_wiki, starting_from_page)\u001b[0m\n\u001b[1;32m     73\u001b[0m         \u001b[0;31m# return wikipedia_titles\u001b[0m\u001b[0;34m\u001b[0m\u001b[0;34m\u001b[0m\u001b[0;34m\u001b[0m\u001b[0m\n\u001b[0;32m---> 74\u001b[0;31m         \u001b[0;32mraise\u001b[0m \u001b[0me\u001b[0m\u001b[0;34m\u001b[0m\u001b[0;34m\u001b[0m\u001b[0m\n\u001b[0m\u001b[1;32m     75\u001b[0m \u001b[0;34m\u001b[0m\u001b[0m\n",
      "\u001b[0;32m~/Documents/fer/apt/projekt/util/google_search_util.py\u001b[0m in \u001b[0;36mgoogle_the_claim\u001b[0;34m(claim, pages_to_check, verbose, limit_to_wiki, starting_from_page)\u001b[0m\n\u001b[1;32m     24\u001b[0m             \u001b[0mpage\u001b[0m \u001b[0;34m=\u001b[0m \u001b[0mrequests\u001b[0m\u001b[0;34m.\u001b[0m\u001b[0mget\u001b[0m\u001b[0;34m(\u001b[0m\u001b[0mpage_url\u001b[0m\u001b[0;34m)\u001b[0m\u001b[0;34m\u001b[0m\u001b[0;34m\u001b[0m\u001b[0m\n\u001b[0;32m---> 25\u001b[0;31m             \u001b[0mpage\u001b[0m\u001b[0;34m.\u001b[0m\u001b[0mraise_for_status\u001b[0m\u001b[0;34m(\u001b[0m\u001b[0;34m)\u001b[0m\u001b[0;34m\u001b[0m\u001b[0;34m\u001b[0m\u001b[0m\n\u001b[0m\u001b[1;32m     26\u001b[0m             \u001b[0msoup\u001b[0m \u001b[0;34m=\u001b[0m \u001b[0mBeautifulSoup\u001b[0m\u001b[0;34m(\u001b[0m\u001b[0mpage\u001b[0m\u001b[0;34m.\u001b[0m\u001b[0mcontent\u001b[0m\u001b[0;34m,\u001b[0m \u001b[0;34m\"html.parser\"\u001b[0m\u001b[0;34m)\u001b[0m\u001b[0;34m\u001b[0m\u001b[0;34m\u001b[0m\u001b[0m\n",
      "\u001b[0;32m~/anaconda3/lib/python3.7/site-packages/requests/models.py\u001b[0m in \u001b[0;36mraise_for_status\u001b[0;34m(self)\u001b[0m\n\u001b[1;32m    938\u001b[0m         \u001b[0;32mif\u001b[0m \u001b[0mhttp_error_msg\u001b[0m\u001b[0;34m:\u001b[0m\u001b[0;34m\u001b[0m\u001b[0;34m\u001b[0m\u001b[0m\n\u001b[0;32m--> 939\u001b[0;31m             \u001b[0;32mraise\u001b[0m \u001b[0mHTTPError\u001b[0m\u001b[0;34m(\u001b[0m\u001b[0mhttp_error_msg\u001b[0m\u001b[0;34m,\u001b[0m \u001b[0mresponse\u001b[0m\u001b[0;34m=\u001b[0m\u001b[0mself\u001b[0m\u001b[0;34m)\u001b[0m\u001b[0;34m\u001b[0m\u001b[0;34m\u001b[0m\u001b[0m\n\u001b[0m\u001b[1;32m    940\u001b[0m \u001b[0;34m\u001b[0m\u001b[0m\n",
      "\u001b[0;31mHTTPError\u001b[0m: 429 Client Error: Too Many Requests for url: https://www.google.com/sorry/index?continue=https://www.google.com/search%3Fq%3DGuyana%2Bis%2Bconsidered%2Bto%2Bbe%2Bin%2Bthe%2BCaribbean%2BRegion.%26start%3D0&q=EgSwPi09GJGFo-YFIhkA8aeDSzqaNeIj_OFZQqz-VTx-DsZSZIyeMgFy",
      "\nDuring handling of the above exception, another exception occurred:\n",
      "\u001b[0;31mKeyboardInterrupt\u001b[0m                         Traceback (most recent call last)",
      "\u001b[0;32m<ipython-input-17-2785c5ef189a>\u001b[0m in \u001b[0;36m<module>\u001b[0;34m()\u001b[0m\n\u001b[1;32m     14\u001b[0m         \u001b[0;32mexcept\u001b[0m \u001b[0mException\u001b[0m \u001b[0;32mas\u001b[0m \u001b[0me\u001b[0m\u001b[0;34m:\u001b[0m\u001b[0;34m\u001b[0m\u001b[0;34m\u001b[0m\u001b[0m\n\u001b[1;32m     15\u001b[0m             \u001b[0mprint\u001b[0m\u001b[0;34m(\u001b[0m\u001b[0me\u001b[0m\u001b[0;34m)\u001b[0m\u001b[0;34m\u001b[0m\u001b[0;34m\u001b[0m\u001b[0m\n\u001b[0;32m---> 16\u001b[0;31m             \u001b[0mtime\u001b[0m\u001b[0;34m.\u001b[0m\u001b[0msleep\u001b[0m\u001b[0;34m(\u001b[0m\u001b[0;36m60\u001b[0m \u001b[0;34m*\u001b[0m \u001b[0;36m60\u001b[0m\u001b[0;34m)\u001b[0m\u001b[0;34m\u001b[0m\u001b[0;34m\u001b[0m\u001b[0m\n\u001b[0m\u001b[1;32m     17\u001b[0m             \u001b[0;32mcontinue\u001b[0m\u001b[0;34m\u001b[0m\u001b[0;34m\u001b[0m\u001b[0m\n\u001b[1;32m     18\u001b[0m \u001b[0;34m\u001b[0m\u001b[0m\n",
      "\u001b[0;31mKeyboardInterrupt\u001b[0m: "
     ]
    }
   ],
   "source": [
    "for i, t in enumerate(train_subset[len(results):]):\n",
    "    while True:\n",
    "        try:\n",
    "            first_page_docs = google_the_claim(t.claim, starting_from_page=0)\n",
    "            time.sleep(1)\n",
    "            second_page_docs = google_the_claim(t.claim, starting_from_page=1)\n",
    "            time.sleep(1)\n",
    "            third_page_docs = google_the_claim(t.claim, starting_from_page=2)\n",
    "            time.sleep(1)\n",
    "            fourth_page_docs = google_the_claim(t.claim, starting_from_page=3)\n",
    "            time.sleep(1)\n",
    "            fifth_page_docs = google_the_claim(t.claim, starting_from_page=4)\n",
    "            time.sleep(1)\n",
    "        except Exception as e:\n",
    "            print(e)\n",
    "            time.sleep(60 * 60)\n",
    "            continue\n",
    "    \n",
    "        results.append((set(first_page_docs), set(second_page_docs), set(third_page_docs), set(fourth_page_docs), set(fifth_page_docs)))\n",
    "        print(i, t.claim, set(first_page_docs))\n",
    "        break"
   ]
  },
  {
   "cell_type": "code",
   "execution_count": 16,
   "metadata": {},
   "outputs": [],
   "source": [
    "def evaluate_documents_sample(train_subset: List[Claim]):\n",
    "    documents : List[set] = []\n",
    "    #for claim in tqdm(train_subset):\n",
    "    for i, claim in enumerate(train_subset):\n",
    "        documents_found = retrieve_documents(claim.claim, wiki_titles)\n",
    "        print(i, claim.claim, claim.evidence_document_sets(). documents_found)\n",
    "        documents.append(documents_found)\n",
    "    return evaluate_documents_retrieval_full([c.evidence_document_sets() for c in train_subset], documents)"
   ]
  },
  {
   "cell_type": "code",
   "execution_count": null,
   "metadata": {},
   "outputs": [],
   "source": []
  },
  {
   "cell_type": "code",
   "execution_count": 18,
   "metadata": {},
   "outputs": [],
   "source": [
    "def retrieve_documents(claim: str, wiki_titles: List[str]) -> set:\n",
    "    top_4 = google_the_claim(claim, limit_to_wiki=True)[:4]\n",
    "    return set(top_4)"
   ]
  },
  {
   "cell_type": "code",
   "execution_count": 17,
   "metadata": {},
   "outputs": [],
   "source": [
    "def retrieve_documents(claim: str, wiki_titles: List[str]) -> set:\n",
    "    print(claim)\n",
    "    top_4 = google_the_claim(claim, verbose=True)\n",
    "    return set(top_4)"
   ]
  },
  {
   "cell_type": "code",
   "execution_count": 18,
   "metadata": {},
   "outputs": [
    {
     "name": "stdout",
     "output_type": "stream",
     "text": [
      "Nikolaj Coster-Waldau worked with the Fox Broadcasting Company.\n"
     ]
    },
    {
     "data": {
      "text/plain": [
       "set()"
      ]
     },
     "execution_count": 18,
     "metadata": {},
     "output_type": "execute_result"
    }
   ],
   "source": [
    "retrieve_documents(claim, wiki_titles)"
   ]
  },
  {
   "cell_type": "code",
   "execution_count": 21,
   "metadata": {},
   "outputs": [
    {
     "name": "stderr",
     "output_type": "stream",
     "text": [
      "100%|██████████| 100/100 [02:19<00:00,  1.46s/it]\n"
     ]
    },
    {
     "data": {
      "text/plain": [
       "{'average_precision': 0.0,\n",
       " 'average_recall': 0.0,\n",
       " 'average_f1_score': 0.0,\n",
       " 'average_f2_score': 0.0,\n",
       " 'oracle_accuracy': 0.0}"
      ]
     },
     "execution_count": 21,
     "metadata": {},
     "output_type": "execute_result"
    }
   ],
   "source": [
    "evaluate_documents_sample(train_subset, wiki_titles)"
   ]
  },
  {
   "cell_type": "code",
   "execution_count": 19,
   "metadata": {},
   "outputs": [
    {
     "name": "stderr",
     "output_type": "stream",
     "text": [
      "100%|██████████| 100/100 [02:26<00:00,  1.28s/it]\n"
     ]
    },
    {
     "data": {
      "text/plain": [
       "{'average_precision': 0.235,\n",
       " 'average_recall': 0.7515,\n",
       " 'average_f1_score': 0.3405158730158726,\n",
       " 'average_f2_score': 0.497013888888889,\n",
       " 'oracle_accuracy': 0.76}"
      ]
     },
     "execution_count": 19,
     "metadata": {},
     "output_type": "execute_result"
    }
   ],
   "source": [
    "evaluate_documents_sample(train_subset, wiki_titles)"
   ]
  }
 ],
 "metadata": {
  "kernelspec": {
   "display_name": "Python 3",
   "language": "python",
   "name": "python3"
  },
  "language_info": {
   "codemirror_mode": {
    "name": "ipython",
    "version": 3
   },
   "file_extension": ".py",
   "mimetype": "text/x-python",
   "name": "python",
   "nbconvert_exporter": "python",
   "pygments_lexer": "ipython3",
   "version": "3.7.2"
  }
 },
 "nbformat": 4,
 "nbformat_minor": 2
}
