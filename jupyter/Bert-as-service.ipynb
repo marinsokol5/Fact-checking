{
 "cells": [
  {
   "cell_type": "code",
   "execution_count": 2,
   "metadata": {},
   "outputs": [],
   "source": [
    "from bert_serving.client import BertClient"
   ]
  },
  {
   "cell_type": "code",
   "execution_count": 20,
   "metadata": {},
   "outputs": [],
   "source": [
    "bc = BertClient()"
   ]
  },
  {
   "cell_type": "code",
   "execution_count": 21,
   "metadata": {},
   "outputs": [],
   "source": [
    "encoded = bc.encode(['First do it', 'then do it right', 'then do it better'])"
   ]
  },
  {
   "cell_type": "code",
   "execution_count": 22,
   "metadata": {},
   "outputs": [
    {
     "data": {
      "text/plain": [
       "3"
      ]
     },
     "execution_count": 22,
     "metadata": {},
     "output_type": "execute_result"
    }
   ],
   "source": [
    "len(encoded)"
   ]
  },
  {
   "cell_type": "code",
   "execution_count": 6,
   "metadata": {},
   "outputs": [
    {
     "data": {
      "text/plain": [
       "numpy.ndarray"
      ]
     },
     "execution_count": 6,
     "metadata": {},
     "output_type": "execute_result"
    }
   ],
   "source": [
    "type(encoded[0])"
   ]
  },
  {
   "cell_type": "code",
   "execution_count": 23,
   "metadata": {},
   "outputs": [
    {
     "data": {
      "text/plain": [
       "(768,)"
      ]
     },
     "execution_count": 23,
     "metadata": {},
     "output_type": "execute_result"
    }
   ],
   "source": [
    "encoded[0].shape"
   ]
  },
  {
   "cell_type": "code",
   "execution_count": null,
   "metadata": {},
   "outputs": [],
   "source": []
  },
  {
   "cell_type": "code",
   "execution_count": 8,
   "metadata": {},
   "outputs": [],
   "source": [
    "import os\n",
    "os.chdir(\"..\")"
   ]
  },
  {
   "cell_type": "code",
   "execution_count": 9,
   "metadata": {},
   "outputs": [
    {
     "name": "stdout",
     "output_type": "stream",
     "text": [
      "Better speed can be achieved with apex installed from https://www.github.com/nvidia/apex.\n"
     ]
    }
   ],
   "source": [
    "from dataset.google_dataset import *"
   ]
  },
  {
   "cell_type": "code",
   "execution_count": 10,
   "metadata": {},
   "outputs": [],
   "source": [
    "dataset_raw = GoogleDatasetRaw.from_pickle(GoogleDataset.TRAIN_DATA)"
   ]
  },
  {
   "cell_type": "code",
   "execution_count": 11,
   "metadata": {},
   "outputs": [
    {
     "data": {
      "text/plain": [
       "(('Carol Leifer is a five-time Emmy nominee',\n",
       "  \"Carol Leifer Carol Leifer is an American comedian, writer, producer and actress whose career as a stand-up Night with David Letterman over twenty-five times as well as numerous other shows She won four Emmy Awards for her work on the series. Carol Leifer's Booking Agent and Speaking Fee Contact our Speakers Bureau for Carol Leifer's booking fee, appearance cost, Three-Time Emmy Nominee; Writer, Comedian and Best Selling Author Night With David Letterman over twenty-five times as well as numerous other shows Carol Leifer's Wedding Ms. Leifer, now 59 and a four-time Emmy nominee for her writing on “Seinfeld,” “The Larry Sanders Show” and the Academy Awards ceremonies, had always identified as heterosexual. Carol Leifer | Penguin Random House Carol Leifer is an accomplished stand-up comedian and an Emmy-nominated writer and His visit led to her making twenty-five guest appearances on Late Night with David Letterman. Carol has also been seen on The Tonight Show, Real Time with Bill Maher, Late Night with Conan O'Brien, and The Oprah Winfrey Show. Comedy Legend Carol Leifer on Writing 'Seinfeld', Life on 'Devious Carol Leifer is a multiple Emmy nominee (Seinfeld, Modern Family, SNL, The of seven Academy Awards telecasts, five of her own comedy specials, Steve Levitan and Chris Lloyd at Emmy time, when I was nominated with Seinfeld's Carol Leifer to Write Book Giving Career Advice | Hollywood Comedian Carol Leifer to Write Humorous Career Advice Book (Exclusive) Leifer is a four-time Emmy nominee for her work on such shows as Carol Leifer (@carolleifer) | Twitter The latest Tweets from Carol Leifer (@carolleifer). TV Writer The 4-time Emmy nominee is currently a Writer/Consulting Producer for HBO's Curb Your… Book Carol Leifer for Speaking, Events and Appearances | APB An award-winning writer and producer, best-selling author and stand-up comedian, Carol Leifer humbly describes herself as simply “someone who loves Keynote Speaker: Carol Leifer • Presented by SpeakInc • Power UP Comedian & Award-Winning Writer. Four-time Emmy nominee Carol Leifer, best known for her work on Carol Leifer Carol Leifer is an accomplished stand-up comedian and an Emmy-nominated writer and His visit led to her making twenty-five guest appearances on Late Night with David Letterman. Carol has also been seen on The Tonight Show, Real Time with Bill Maher, Late Night with Conan O'Brien, and The Oprah Winfrey Show.\"),\n",
       " 'REFUTES')"
      ]
     },
     "execution_count": 11,
     "metadata": {},
     "output_type": "execute_result"
    }
   ],
   "source": [
    "dataset_raw[0]"
   ]
  },
  {
   "cell_type": "code",
   "execution_count": 18,
   "metadata": {},
   "outputs": [],
   "source": [
    "bert_client_encodings = []\n",
    "labels = []\n",
    "for i in range(5):\n",
    "    text, label = dataset_raw[i]\n",
    "    claim, google_result = text\n",
    "    bert_client_encodings.append(f\"{claim} ||| {google_result}\")\n",
    "    labels.append(label)"
   ]
  },
  {
   "cell_type": "code",
   "execution_count": 19,
   "metadata": {},
   "outputs": [
    {
     "data": {
      "text/plain": [
       "['REFUTES', 'SUPPORTS', 'SUPPORTS', 'SUPPORTS', 'SUPPORTS']"
      ]
     },
     "execution_count": 19,
     "metadata": {},
     "output_type": "execute_result"
    }
   ],
   "source": [
    "labels"
   ]
  },
  {
   "cell_type": "code",
   "execution_count": 15,
   "metadata": {},
   "outputs": [
    {
     "data": {
      "text/plain": [
       "\"Carol Leifer is a five-time Emmy nominee ||| Carol Leifer Carol Leifer is an American comedian, writer, producer and actress whose career as a stand-up Night with David Letterman over twenty-five times as well as numerous other shows She won four Emmy Awards for her work on the series. Carol Leifer's Booking Agent and Speaking Fee Contact our Speakers Bureau for Carol Leifer's booking fee, appearance cost, Three-Time Emmy Nominee; Writer, Comedian and Best Selling Author Night With David Letterman over twenty-five times as well as numerous other shows Carol Leifer's Wedding Ms. Leifer, now 59 and a four-time Emmy nominee for her writing on “Seinfeld,” “The Larry Sanders Show” and the Academy Awards ceremonies, had always identified as heterosexual. Carol Leifer | Penguin Random House Carol Leifer is an accomplished stand-up comedian and an Emmy-nominated writer and His visit led to her making twenty-five guest appearances on Late Night with David Letterman. Carol has also been seen on The Tonight Show, Real Time with Bill Maher, Late Night with Conan O'Brien, and The Oprah Winfrey Show. Comedy Legend Carol Leifer on Writing 'Seinfeld', Life on 'Devious Carol Leifer is a multiple Emmy nominee (Seinfeld, Modern Family, SNL, The of seven Academy Awards telecasts, five of her own comedy specials, Steve Levitan and Chris Lloyd at Emmy time, when I was nominated with Seinfeld's Carol Leifer to Write Book Giving Career Advice | Hollywood Comedian Carol Leifer to Write Humorous Career Advice Book (Exclusive) Leifer is a four-time Emmy nominee for her work on such shows as Carol Leifer (@carolleifer) | Twitter The latest Tweets from Carol Leifer (@carolleifer). TV Writer The 4-time Emmy nominee is currently a Writer/Consulting Producer for HBO's Curb Your… Book Carol Leifer for Speaking, Events and Appearances | APB An award-winning writer and producer, best-selling author and stand-up comedian, Carol Leifer humbly describes herself as simply “someone who loves Keynote Speaker: Carol Leifer • Presented by SpeakInc • Power UP Comedian & Award-Winning Writer. Four-time Emmy nominee Carol Leifer, best known for her work on Carol Leifer Carol Leifer is an accomplished stand-up comedian and an Emmy-nominated writer and His visit led to her making twenty-five guest appearances on Late Night with David Letterman. Carol has also been seen on The Tonight Show, Real Time with Bill Maher, Late Night with Conan O'Brien, and The Oprah Winfrey Show.\""
      ]
     },
     "execution_count": 15,
     "metadata": {},
     "output_type": "execute_result"
    }
   ],
   "source": [
    "bert_client_encodings[0]"
   ]
  },
  {
   "cell_type": "code",
   "execution_count": 24,
   "metadata": {},
   "outputs": [],
   "source": [
    "result = bc.encode(bert_client_encodings)"
   ]
  },
  {
   "cell_type": "code",
   "execution_count": 25,
   "metadata": {},
   "outputs": [
    {
     "data": {
      "text/plain": [
       "array([[-0.2615256 , -0.3131684 ,  0.4494063 , ..., -0.12924169,\n",
       "         0.31164002, -0.42884088],\n",
       "       [-0.47041586, -0.02418428,  0.194649  , ..., -0.17388204,\n",
       "         0.33585063, -0.11835431],\n",
       "       [-0.39208403, -0.15058659,  0.14779   , ..., -0.72313434,\n",
       "         0.15817136,  0.22045122],\n",
       "       [-0.17541185, -0.27356532,  0.430177  , ..., -0.23349306,\n",
       "         0.16794705, -0.21925175],\n",
       "       [-0.379759  , -0.37453458,  0.55184084, ..., -0.10616463,\n",
       "         0.24911743, -0.45611987]], dtype=float32)"
      ]
     },
     "execution_count": 25,
     "metadata": {},
     "output_type": "execute_result"
    }
   ],
   "source": [
    "result"
   ]
  },
  {
   "cell_type": "code",
   "execution_count": 27,
   "metadata": {},
   "outputs": [
    {
     "data": {
      "text/plain": [
       "(768,)"
      ]
     },
     "execution_count": 27,
     "metadata": {},
     "output_type": "execute_result"
    }
   ],
   "source": [
    "result[0].shape"
   ]
  },
  {
   "cell_type": "code",
   "execution_count": 30,
   "metadata": {},
   "outputs": [],
   "source": [
    "end = list(zip(result, labels))"
   ]
  },
  {
   "cell_type": "code",
   "execution_count": 35,
   "metadata": {},
   "outputs": [
    {
     "data": {
      "text/plain": [
       "'REFUTES'"
      ]
     },
     "execution_count": 35,
     "metadata": {},
     "output_type": "execute_result"
    }
   ],
   "source": [
    "end[0][1]"
   ]
  },
  {
   "cell_type": "code",
   "execution_count": 36,
   "metadata": {},
   "outputs": [],
   "source": [
    "data = GoogleDatasetBertPickle(GoogleDatasetBertPickle.BERT_PICKLED_TEST)"
   ]
  },
  {
   "cell_type": "code",
   "execution_count": 37,
   "metadata": {},
   "outputs": [
    {
     "data": {
      "text/plain": [
       "1500"
      ]
     },
     "execution_count": 37,
     "metadata": {},
     "output_type": "execute_result"
    }
   ],
   "source": [
    "len(data)"
   ]
  },
  {
   "cell_type": "code",
   "execution_count": 39,
   "metadata": {},
   "outputs": [
    {
     "data": {
      "text/plain": [
       "(768,)"
      ]
     },
     "execution_count": 39,
     "metadata": {},
     "output_type": "execute_result"
    }
   ],
   "source": [
    "data[1400][0].shape"
   ]
  },
  {
   "cell_type": "code",
   "execution_count": 41,
   "metadata": {},
   "outputs": [
    {
     "data": {
      "text/plain": [
       "'SUPPORTS'"
      ]
     },
     "execution_count": 41,
     "metadata": {},
     "output_type": "execute_result"
    }
   ],
   "source": [
    "data[1400][1]"
   ]
  }
 ],
 "metadata": {
  "kernelspec": {
   "display_name": "Python 3",
   "language": "python",
   "name": "python3"
  },
  "language_info": {
   "codemirror_mode": {
    "name": "ipython",
    "version": 3
   },
   "file_extension": ".py",
   "mimetype": "text/x-python",
   "name": "python",
   "nbconvert_exporter": "python",
   "pygments_lexer": "ipython3",
   "version": "3.7.1"
  }
 },
 "nbformat": 4,
 "nbformat_minor": 2
}
